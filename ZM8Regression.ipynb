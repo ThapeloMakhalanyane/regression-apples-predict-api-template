{
 "cells": [
  {
   "cell_type": "markdown",
   "metadata": {},
   "source": [
    "# INTRODUCTION "
   ]
  },
  {
   "cell_type": "markdown",
   "metadata": {},
   "source": [
    "On this project we created a regresssion algorithm that predicts how much kilogram of Golden Delicious Aplles will cost,\n",
    "Challenged by [**EXPLORE Data Science Academy**](https://explore-datascience.net/). The data used here is from Durban Fresh Produce Market but can be obtained [here](https://www.kaggle.com/c/edsa-apple-prices-challenge/data).\n",
    "\n",
    "In this notebook we predicted the Target numeric variable which is Avarage Price using the predictors (Stock on hand, High Price, Low Price, Total Qty Sold, etc). below is the work flow\n",
    "1. Exploratory data analysis, Data cleaning and formatting\n",
    "2. Feature engineering and variable selection\n",
    "3. Build the model using selected features\n",
    "4. Evaluate the best model on testing set"
   ]
  },
  {
   "cell_type": "markdown",
   "metadata": {},
   "source": [
    "___________________________________________________________________________________________________________________________"
   ]
  },
  {
   "cell_type": "markdown",
   "metadata": {},
   "source": [
    "Firstly we imported the needed libraries and data."
   ]
  },
  {
   "cell_type": "markdown",
   "metadata": {},
   "source": [
    "## 1. Importing Libraries"
   ]
  },
  {
   "cell_type": "code",
   "execution_count": 1,
   "metadata": {},
   "outputs": [],
   "source": [
    "import numpy as np\n",
    "import pandas as pd\n",
    "from datetime import datetime\n",
    "from scipy import stats\n",
    "\n",
    "# Visualisations\n",
    "#import missingno\n",
    "import seaborn as sns\n",
    "import matplotlib.pyplot as plt\n",
    "%matplotlib inline\n",
    "\n",
    "# Preprocessing\n",
    "from sklearn.preprocessing import LabelEncoder, StandardScaler\n",
    "\n",
    "# Regression models\n",
    "from sklearn.linear_model import LinearRegression, Ridge\n",
    "from sklearn.linear_model import Lasso\n",
    "from sklearn.tree import DecisionTreeRegressor\n",
    "from sklearn.ensemble import RandomForestRegressor\n",
    "from sklearn.svm import SVR\n",
    "from sklearn.ensemble import VotingRegressor\n",
    "from sklearn.ensemble import AdaBoostRegressor\n",
    "from catboost import CatBoostRegressor, FeaturesData, Pool\n",
    "\n",
    "# Model slection\n",
    "from sklearn.model_selection import train_test_split\n",
    "\n",
    "# Metrics\n",
    "from sklearn.metrics import r2_score\n",
    "from sklearn.metrics import mean_squared_error\n",
    "\n",
    "\n",
    "# Other\n",
    "from scipy import stats\n",
    "import math\n",
    "import pickle"
   ]
  },
  {
   "cell_type": "markdown",
   "metadata": {},
   "source": [
    "Data was downloaded from the given link above"
   ]
  },
  {
   "cell_type": "code",
   "execution_count": 2,
   "metadata": {},
   "outputs": [],
   "source": [
    "#Import Data\n",
    "train_df = pd.read_csv('df-train_set.csv')\n",
    "test_df = pd.read_csv('df-test_set.csv')\n",
    "\n",
    "test_ID = test_df['Index']\n",
    "test_df = test_df.drop('Index', axis=1)"
   ]
  },
  {
   "cell_type": "markdown",
   "metadata": {},
   "source": [
    "# Exploratory Data Analysis (EDA)"
   ]
  },
  {
   "cell_type": "markdown",
   "metadata": {},
   "source": [
    "We will only use dataset that falls under APPLE GOLDEN DELICIOUS Commodities"
   ]
  },
  {
   "cell_type": "code",
   "execution_count": 3,
   "metadata": {},
   "outputs": [],
   "source": [
    "train_df = train_df[(train_df['Commodities'] == 'APPLE GOLDEN DELICIOUS')] #create new df focusing on 'APPLE GOLDEN DELICIOUS"
   ]
  },
  {
   "cell_type": "code",
   "execution_count": 4,
   "metadata": {},
   "outputs": [
    {
     "data": {
      "text/html": [
       "<div>\n",
       "<style scoped>\n",
       "    .dataframe tbody tr th:only-of-type {\n",
       "        vertical-align: middle;\n",
       "    }\n",
       "\n",
       "    .dataframe tbody tr th {\n",
       "        vertical-align: top;\n",
       "    }\n",
       "\n",
       "    .dataframe thead th {\n",
       "        text-align: right;\n",
       "    }\n",
       "</style>\n",
       "<table border=\"1\" class=\"dataframe\">\n",
       "  <thead>\n",
       "    <tr style=\"text-align: right;\">\n",
       "      <th></th>\n",
       "      <th>Province</th>\n",
       "      <th>Container</th>\n",
       "      <th>Size_Grade</th>\n",
       "      <th>Weight_Kg</th>\n",
       "      <th>Commodities</th>\n",
       "      <th>Date</th>\n",
       "      <th>Low_Price</th>\n",
       "      <th>High_Price</th>\n",
       "      <th>Sales_Total</th>\n",
       "      <th>Total_Qty_Sold</th>\n",
       "      <th>Total_Kg_Sold</th>\n",
       "      <th>Stock_On_Hand</th>\n",
       "      <th>avg_price_per_kg</th>\n",
       "    </tr>\n",
       "  </thead>\n",
       "  <tbody>\n",
       "    <tr>\n",
       "      <td>1</td>\n",
       "      <td>CAPE</td>\n",
       "      <td>M4183</td>\n",
       "      <td>1L</td>\n",
       "      <td>18.3</td>\n",
       "      <td>APPLE GOLDEN DELICIOUS</td>\n",
       "      <td>2020-09-09</td>\n",
       "      <td>150.0</td>\n",
       "      <td>170.0</td>\n",
       "      <td>51710.0</td>\n",
       "      <td>332</td>\n",
       "      <td>6075.6</td>\n",
       "      <td>822</td>\n",
       "      <td>8.51</td>\n",
       "    </tr>\n",
       "    <tr>\n",
       "      <td>7</td>\n",
       "      <td>CAPE</td>\n",
       "      <td>JG110</td>\n",
       "      <td>2M</td>\n",
       "      <td>11.0</td>\n",
       "      <td>APPLE GOLDEN DELICIOUS</td>\n",
       "      <td>2020-04-14</td>\n",
       "      <td>50.0</td>\n",
       "      <td>50.0</td>\n",
       "      <td>16000.0</td>\n",
       "      <td>320</td>\n",
       "      <td>3520.0</td>\n",
       "      <td>0</td>\n",
       "      <td>4.55</td>\n",
       "    </tr>\n",
       "    <tr>\n",
       "      <td>24</td>\n",
       "      <td>W.CAPE-BERGRIVER ETC</td>\n",
       "      <td>JE090</td>\n",
       "      <td>2S</td>\n",
       "      <td>9.0</td>\n",
       "      <td>APPLE GOLDEN DELICIOUS</td>\n",
       "      <td>2020-04-16</td>\n",
       "      <td>55.0</td>\n",
       "      <td>55.0</td>\n",
       "      <td>990.0</td>\n",
       "      <td>18</td>\n",
       "      <td>162.0</td>\n",
       "      <td>1506</td>\n",
       "      <td>6.11</td>\n",
       "    </tr>\n",
       "    <tr>\n",
       "      <td>40</td>\n",
       "      <td>CAPE</td>\n",
       "      <td>M4183</td>\n",
       "      <td>1S</td>\n",
       "      <td>18.3</td>\n",
       "      <td>APPLE GOLDEN DELICIOUS</td>\n",
       "      <td>2020-05-04</td>\n",
       "      <td>80.0</td>\n",
       "      <td>120.0</td>\n",
       "      <td>32020.0</td>\n",
       "      <td>388</td>\n",
       "      <td>7100.4</td>\n",
       "      <td>443</td>\n",
       "      <td>4.51</td>\n",
       "    </tr>\n",
       "    <tr>\n",
       "      <td>69</td>\n",
       "      <td>EASTERN CAPE</td>\n",
       "      <td>IA400</td>\n",
       "      <td>1S</td>\n",
       "      <td>400.0</td>\n",
       "      <td>APPLE GOLDEN DELICIOUS</td>\n",
       "      <td>2020-09-28</td>\n",
       "      <td>1800.0</td>\n",
       "      <td>1800.0</td>\n",
       "      <td>1800.0</td>\n",
       "      <td>1</td>\n",
       "      <td>400.0</td>\n",
       "      <td>2</td>\n",
       "      <td>4.50</td>\n",
       "    </tr>\n",
       "  </tbody>\n",
       "</table>\n",
       "</div>"
      ],
      "text/plain": [
       "                Province Container Size_Grade  Weight_Kg  \\\n",
       "1                   CAPE     M4183         1L       18.3   \n",
       "7                   CAPE     JG110         2M       11.0   \n",
       "24  W.CAPE-BERGRIVER ETC     JE090         2S        9.0   \n",
       "40                  CAPE     M4183         1S       18.3   \n",
       "69          EASTERN CAPE     IA400         1S      400.0   \n",
       "\n",
       "               Commodities        Date  Low_Price  High_Price  Sales_Total  \\\n",
       "1   APPLE GOLDEN DELICIOUS  2020-09-09      150.0       170.0      51710.0   \n",
       "7   APPLE GOLDEN DELICIOUS  2020-04-14       50.0        50.0      16000.0   \n",
       "24  APPLE GOLDEN DELICIOUS  2020-04-16       55.0        55.0        990.0   \n",
       "40  APPLE GOLDEN DELICIOUS  2020-05-04       80.0       120.0      32020.0   \n",
       "69  APPLE GOLDEN DELICIOUS  2020-09-28     1800.0      1800.0       1800.0   \n",
       "\n",
       "    Total_Qty_Sold  Total_Kg_Sold  Stock_On_Hand  avg_price_per_kg  \n",
       "1              332         6075.6            822              8.51  \n",
       "7              320         3520.0              0              4.55  \n",
       "24              18          162.0           1506              6.11  \n",
       "40             388         7100.4            443              4.51  \n",
       "69               1          400.0              2              4.50  "
      ]
     },
     "execution_count": 4,
     "metadata": {},
     "output_type": "execute_result"
    }
   ],
   "source": [
    "train_df.head()"
   ]
  },
  {
   "cell_type": "code",
   "execution_count": 5,
   "metadata": {},
   "outputs": [
    {
     "data": {
      "text/html": [
       "<div>\n",
       "<style scoped>\n",
       "    .dataframe tbody tr th:only-of-type {\n",
       "        vertical-align: middle;\n",
       "    }\n",
       "\n",
       "    .dataframe tbody tr th {\n",
       "        vertical-align: top;\n",
       "    }\n",
       "\n",
       "    .dataframe thead th {\n",
       "        text-align: right;\n",
       "    }\n",
       "</style>\n",
       "<table border=\"1\" class=\"dataframe\">\n",
       "  <thead>\n",
       "    <tr style=\"text-align: right;\">\n",
       "      <th></th>\n",
       "      <th>Province</th>\n",
       "      <th>Container</th>\n",
       "      <th>Size_Grade</th>\n",
       "      <th>Weight_Kg</th>\n",
       "      <th>Commodities</th>\n",
       "      <th>Date</th>\n",
       "      <th>Low_Price</th>\n",
       "      <th>High_Price</th>\n",
       "      <th>Sales_Total</th>\n",
       "      <th>Total_Qty_Sold</th>\n",
       "      <th>Total_Kg_Sold</th>\n",
       "      <th>Stock_On_Hand</th>\n",
       "    </tr>\n",
       "  </thead>\n",
       "  <tbody>\n",
       "    <tr>\n",
       "      <td>0</td>\n",
       "      <td>W.CAPE-BERGRIVER ETC</td>\n",
       "      <td>EC120</td>\n",
       "      <td>1M</td>\n",
       "      <td>12.0</td>\n",
       "      <td>APPLE GOLDEN DELICIOUS</td>\n",
       "      <td>2020-07-09</td>\n",
       "      <td>128.0</td>\n",
       "      <td>136.0</td>\n",
       "      <td>5008.0</td>\n",
       "      <td>38</td>\n",
       "      <td>456.0</td>\n",
       "      <td>0</td>\n",
       "    </tr>\n",
       "    <tr>\n",
       "      <td>1</td>\n",
       "      <td>W.CAPE-BERGRIVER ETC</td>\n",
       "      <td>M4183</td>\n",
       "      <td>1X</td>\n",
       "      <td>18.3</td>\n",
       "      <td>APPLE GOLDEN DELICIOUS</td>\n",
       "      <td>2020-01-20</td>\n",
       "      <td>220.0</td>\n",
       "      <td>220.0</td>\n",
       "      <td>1760.0</td>\n",
       "      <td>8</td>\n",
       "      <td>146.4</td>\n",
       "      <td>2</td>\n",
       "    </tr>\n",
       "    <tr>\n",
       "      <td>2</td>\n",
       "      <td>W.CAPE-BERGRIVER ETC</td>\n",
       "      <td>EC120</td>\n",
       "      <td>1S</td>\n",
       "      <td>12.0</td>\n",
       "      <td>APPLE GOLDEN DELICIOUS</td>\n",
       "      <td>2020-08-19</td>\n",
       "      <td>120.0</td>\n",
       "      <td>120.0</td>\n",
       "      <td>720.0</td>\n",
       "      <td>6</td>\n",
       "      <td>72.0</td>\n",
       "      <td>45</td>\n",
       "    </tr>\n",
       "    <tr>\n",
       "      <td>3</td>\n",
       "      <td>W.CAPE-BERGRIVER ETC</td>\n",
       "      <td>M4183</td>\n",
       "      <td>1M</td>\n",
       "      <td>18.3</td>\n",
       "      <td>APPLE GOLDEN DELICIOUS</td>\n",
       "      <td>2020-05-06</td>\n",
       "      <td>160.0</td>\n",
       "      <td>160.0</td>\n",
       "      <td>160.0</td>\n",
       "      <td>1</td>\n",
       "      <td>18.3</td>\n",
       "      <td>8</td>\n",
       "    </tr>\n",
       "    <tr>\n",
       "      <td>4</td>\n",
       "      <td>W.CAPE-BERGRIVER ETC</td>\n",
       "      <td>M4183</td>\n",
       "      <td>1L</td>\n",
       "      <td>18.3</td>\n",
       "      <td>APPLE GOLDEN DELICIOUS</td>\n",
       "      <td>2020-05-04</td>\n",
       "      <td>140.0</td>\n",
       "      <td>160.0</td>\n",
       "      <td>14140.0</td>\n",
       "      <td>100</td>\n",
       "      <td>1830.0</td>\n",
       "      <td>19</td>\n",
       "    </tr>\n",
       "  </tbody>\n",
       "</table>\n",
       "</div>"
      ],
      "text/plain": [
       "               Province Container Size_Grade  Weight_Kg  \\\n",
       "0  W.CAPE-BERGRIVER ETC     EC120         1M       12.0   \n",
       "1  W.CAPE-BERGRIVER ETC     M4183         1X       18.3   \n",
       "2  W.CAPE-BERGRIVER ETC     EC120         1S       12.0   \n",
       "3  W.CAPE-BERGRIVER ETC     M4183         1M       18.3   \n",
       "4  W.CAPE-BERGRIVER ETC     M4183         1L       18.3   \n",
       "\n",
       "              Commodities        Date  Low_Price  High_Price  Sales_Total  \\\n",
       "0  APPLE GOLDEN DELICIOUS  2020-07-09      128.0       136.0       5008.0   \n",
       "1  APPLE GOLDEN DELICIOUS  2020-01-20      220.0       220.0       1760.0   \n",
       "2  APPLE GOLDEN DELICIOUS  2020-08-19      120.0       120.0        720.0   \n",
       "3  APPLE GOLDEN DELICIOUS  2020-05-06      160.0       160.0        160.0   \n",
       "4  APPLE GOLDEN DELICIOUS  2020-05-04      140.0       160.0      14140.0   \n",
       "\n",
       "   Total_Qty_Sold  Total_Kg_Sold  Stock_On_Hand  \n",
       "0              38          456.0              0  \n",
       "1               8          146.4              2  \n",
       "2               6           72.0             45  \n",
       "3               1           18.3              8  \n",
       "4             100         1830.0             19  "
      ]
     },
     "execution_count": 5,
     "metadata": {},
     "output_type": "execute_result"
    }
   ],
   "source": [
    "test_df.head() #Check the test set"
   ]
  },
  {
   "cell_type": "code",
   "execution_count": 6,
   "metadata": {},
   "outputs": [
    {
     "name": "stdout",
     "output_type": "stream",
     "text": [
      "We have 1952 training rows and 13 trianing columns.\n"
     ]
    }
   ],
   "source": [
    "print('We have {} training rows and {} trianing columns.'.format(train_df.shape[0], train_df.shape[1]))"
   ]
  },
  {
   "cell_type": "markdown",
   "metadata": {},
   "source": [
    "From the above dataframe we can't tell which columns has null values, so we will use the Pandas library (info) to help check how many null values, the datatype and the columns name for those dataframe"
   ]
  },
  {
   "cell_type": "code",
   "execution_count": 7,
   "metadata": {},
   "outputs": [
    {
     "name": "stdout",
     "output_type": "stream",
     "text": [
      "<class 'pandas.core.frame.DataFrame'>\n",
      "Int64Index: 1952 entries, 1 to 64310\n",
      "Data columns (total 13 columns):\n",
      "Province            1952 non-null object\n",
      "Container           1952 non-null object\n",
      "Size_Grade          1952 non-null object\n",
      "Weight_Kg           1952 non-null float64\n",
      "Commodities         1952 non-null object\n",
      "Date                1952 non-null object\n",
      "Low_Price           1952 non-null float64\n",
      "High_Price          1952 non-null float64\n",
      "Sales_Total         1952 non-null float64\n",
      "Total_Qty_Sold      1952 non-null int64\n",
      "Total_Kg_Sold       1952 non-null float64\n",
      "Stock_On_Hand       1952 non-null int64\n",
      "avg_price_per_kg    1952 non-null float64\n",
      "dtypes: float64(6), int64(2), object(5)\n",
      "memory usage: 213.5+ KB\n"
     ]
    }
   ],
   "source": [
    "train_df.info()"
   ]
  },
  {
   "cell_type": "markdown",
   "metadata": {},
   "source": [
    "We will check the shape of our data"
   ]
  },
  {
   "cell_type": "code",
   "execution_count": 8,
   "metadata": {},
   "outputs": [
    {
     "data": {
      "text/plain": [
       "((1952, 13), (685, 12))"
      ]
     },
     "execution_count": 8,
     "metadata": {},
     "output_type": "execute_result"
    }
   ],
   "source": [
    "train_df.shape, test_df.shape"
   ]
  },
  {
   "cell_type": "markdown",
   "metadata": {},
   "source": [
    "Table for summary statistics for our data (Mean, min, Max, Std, count, etc)"
   ]
  },
  {
   "cell_type": "code",
   "execution_count": 9,
   "metadata": {},
   "outputs": [
    {
     "data": {
      "text/html": [
       "<div>\n",
       "<style scoped>\n",
       "    .dataframe tbody tr th:only-of-type {\n",
       "        vertical-align: middle;\n",
       "    }\n",
       "\n",
       "    .dataframe tbody tr th {\n",
       "        vertical-align: top;\n",
       "    }\n",
       "\n",
       "    .dataframe thead th {\n",
       "        text-align: right;\n",
       "    }\n",
       "</style>\n",
       "<table border=\"1\" class=\"dataframe\">\n",
       "  <thead>\n",
       "    <tr style=\"text-align: right;\">\n",
       "      <th></th>\n",
       "      <th>count</th>\n",
       "      <th>mean</th>\n",
       "      <th>std</th>\n",
       "      <th>min</th>\n",
       "      <th>25%</th>\n",
       "      <th>50%</th>\n",
       "      <th>75%</th>\n",
       "      <th>max</th>\n",
       "    </tr>\n",
       "  </thead>\n",
       "  <tbody>\n",
       "    <tr>\n",
       "      <td>Weight_Kg</td>\n",
       "      <td>1952.0</td>\n",
       "      <td>40.460912</td>\n",
       "      <td>99.655169</td>\n",
       "      <td>3.00</td>\n",
       "      <td>9.00</td>\n",
       "      <td>12.00</td>\n",
       "      <td>18.300</td>\n",
       "      <td>400.00</td>\n",
       "    </tr>\n",
       "    <tr>\n",
       "      <td>Low_Price</td>\n",
       "      <td>1952.0</td>\n",
       "      <td>174.307377</td>\n",
       "      <td>373.553578</td>\n",
       "      <td>2.00</td>\n",
       "      <td>50.00</td>\n",
       "      <td>80.00</td>\n",
       "      <td>127.250</td>\n",
       "      <td>2300.00</td>\n",
       "    </tr>\n",
       "    <tr>\n",
       "      <td>High_Price</td>\n",
       "      <td>1952.0</td>\n",
       "      <td>215.648053</td>\n",
       "      <td>433.546159</td>\n",
       "      <td>5.00</td>\n",
       "      <td>60.00</td>\n",
       "      <td>108.00</td>\n",
       "      <td>160.000</td>\n",
       "      <td>3300.00</td>\n",
       "    </tr>\n",
       "    <tr>\n",
       "      <td>Sales_Total</td>\n",
       "      <td>1952.0</td>\n",
       "      <td>20053.533811</td>\n",
       "      <td>39005.069445</td>\n",
       "      <td>5.00</td>\n",
       "      <td>1325.00</td>\n",
       "      <td>5495.00</td>\n",
       "      <td>21082.500</td>\n",
       "      <td>369464.00</td>\n",
       "    </tr>\n",
       "    <tr>\n",
       "      <td>Total_Qty_Sold</td>\n",
       "      <td>1952.0</td>\n",
       "      <td>174.510758</td>\n",
       "      <td>308.810797</td>\n",
       "      <td>1.00</td>\n",
       "      <td>12.00</td>\n",
       "      <td>64.00</td>\n",
       "      <td>200.000</td>\n",
       "      <td>4237.00</td>\n",
       "    </tr>\n",
       "    <tr>\n",
       "      <td>Total_Kg_Sold</td>\n",
       "      <td>1952.0</td>\n",
       "      <td>2960.176332</td>\n",
       "      <td>6097.416527</td>\n",
       "      <td>3.00</td>\n",
       "      <td>219.60</td>\n",
       "      <td>853.50</td>\n",
       "      <td>3093.525</td>\n",
       "      <td>74000.00</td>\n",
       "    </tr>\n",
       "    <tr>\n",
       "      <td>Stock_On_Hand</td>\n",
       "      <td>1952.0</td>\n",
       "      <td>408.393955</td>\n",
       "      <td>724.450582</td>\n",
       "      <td>0.00</td>\n",
       "      <td>9.00</td>\n",
       "      <td>126.50</td>\n",
       "      <td>468.000</td>\n",
       "      <td>6400.00</td>\n",
       "    </tr>\n",
       "    <tr>\n",
       "      <td>avg_price_per_kg</td>\n",
       "      <td>1952.0</td>\n",
       "      <td>6.778893</td>\n",
       "      <td>2.248744</td>\n",
       "      <td>0.25</td>\n",
       "      <td>5.46</td>\n",
       "      <td>6.67</td>\n",
       "      <td>8.280</td>\n",
       "      <td>21.24</td>\n",
       "    </tr>\n",
       "  </tbody>\n",
       "</table>\n",
       "</div>"
      ],
      "text/plain": [
       "                   count          mean           std   min      25%      50%  \\\n",
       "Weight_Kg         1952.0     40.460912     99.655169  3.00     9.00    12.00   \n",
       "Low_Price         1952.0    174.307377    373.553578  2.00    50.00    80.00   \n",
       "High_Price        1952.0    215.648053    433.546159  5.00    60.00   108.00   \n",
       "Sales_Total       1952.0  20053.533811  39005.069445  5.00  1325.00  5495.00   \n",
       "Total_Qty_Sold    1952.0    174.510758    308.810797  1.00    12.00    64.00   \n",
       "Total_Kg_Sold     1952.0   2960.176332   6097.416527  3.00   219.60   853.50   \n",
       "Stock_On_Hand     1952.0    408.393955    724.450582  0.00     9.00   126.50   \n",
       "avg_price_per_kg  1952.0      6.778893      2.248744  0.25     5.46     6.67   \n",
       "\n",
       "                        75%        max  \n",
       "Weight_Kg            18.300     400.00  \n",
       "Low_Price           127.250    2300.00  \n",
       "High_Price          160.000    3300.00  \n",
       "Sales_Total       21082.500  369464.00  \n",
       "Total_Qty_Sold      200.000    4237.00  \n",
       "Total_Kg_Sold      3093.525   74000.00  \n",
       "Stock_On_Hand       468.000    6400.00  \n",
       "avg_price_per_kg      8.280      21.24  "
      ]
     },
     "execution_count": 9,
     "metadata": {},
     "output_type": "execute_result"
    }
   ],
   "source": [
    "# Exploring the spread of numeric variables within the dataset\n",
    "train_df.describe().T"
   ]
  },
  {
   "cell_type": "markdown",
   "metadata": {},
   "source": [
    "## 1 Future Selection "
   ]
  },
  {
   "cell_type": "markdown",
   "metadata": {},
   "source": [
    "Feature selection will help us choose the most relevant variable, in this project we have used Correlection to help use select features that are highly correleted to the target variable(have a relationship with the target), help with removing variables looking at their relationship with the target.\n",
    "But before we do that we check the distribution of our target variable."
   ]
  },
  {
   "cell_type": "markdown",
   "metadata": {},
   "source": [
    "We will look at the distribution of our target variable which is the Avarage Price Per KG"
   ]
  },
  {
   "cell_type": "code",
   "execution_count": 10,
   "metadata": {},
   "outputs": [
    {
     "data": {
      "text/plain": [
       "<matplotlib.axes._subplots.AxesSubplot at 0x18b9c293448>"
      ]
     },
     "execution_count": 10,
     "metadata": {},
     "output_type": "execute_result"
    },
    {
     "data": {
      "image/png": "[encoded data removed]",
      "text/plain": [
       "<Figure size 432x288 with 1 Axes>"
      ]
     },
     "metadata": {
      "needs_background": "light"
     },
     "output_type": "display_data"
    }
   ],
   "source": [
    "# target variable distribution\n",
    "sns.distplot(train_df['avg_price_per_kg'],kde=True)"
   ]
  },
  {
   "cell_type": "markdown",
   "metadata": {},
   "source": [
    "Our target variable is symmetrical distributed "
   ]
  },
  {
   "cell_type": "markdown",
   "metadata": {},
   "source": [
    "_______________________________________________________________________________________________________________"
   ]
  },
  {
   "cell_type": "code",
   "execution_count": 11,
   "metadata": {},
   "outputs": [
    {
     "data": {
      "text/plain": [
       "Weight_Kg           3.328254\n",
       "Low_Price           4.222672\n",
       "High_Price          3.828819\n",
       "Sales_Total         4.250317\n",
       "Total_Qty_Sold      4.445169\n",
       "Total_Kg_Sold       5.529586\n",
       "Stock_On_Hand       3.391815\n",
       "avg_price_per_kg    0.082452\n",
       "dtype: float64"
      ]
     },
     "execution_count": 11,
     "metadata": {},
     "output_type": "execute_result"
    }
   ],
   "source": [
    "# Looking at the skewnwss or symmetry of our dataest\n",
    "train_df.skew()"
   ]
  },
  {
   "cell_type": "markdown",
   "metadata": {},
   "source": [
    "Secondly we will check for outliers"
   ]
  },
  {
   "cell_type": "code",
   "execution_count": 12,
   "metadata": {},
   "outputs": [
    {
     "data": {
      "text/plain": [
       "Weight_Kg            9.109698\n",
       "Low_Price           17.073369\n",
       "High_Price          13.630768\n",
       "Sales_Total         24.200524\n",
       "Total_Qty_Sold      32.338123\n",
       "Total_Kg_Sold       45.153801\n",
       "Stock_On_Hand       14.671224\n",
       "avg_price_per_kg     1.042921\n",
       "dtype: float64"
      ]
     },
     "execution_count": 12,
     "metadata": {},
     "output_type": "execute_result"
    }
   ],
   "source": [
    "# Checking for outliers in our dataset.\n",
    "train_df.kurtosis() #method for checking outliers"
   ]
  },
  {
   "cell_type": "markdown",
   "metadata": {},
   "source": [
    "The Kurtosis method help us determine the outliers, any value higher than 3 is an outlier, all our above numeric independent variables have large number of outliers"
   ]
  },
  {
   "cell_type": "markdown",
   "metadata": {},
   "source": [
    "________________________________________________________________________________________________________________________"
   ]
  },
  {
   "cell_type": "markdown",
   "metadata": {},
   "source": [
    "### Outliers Treatment"
   ]
  },
  {
   "cell_type": "markdown",
   "metadata": {},
   "source": [
    "Firstly we checked for outliers in our numeric training dataset., we used graphs to help us detect outliers, then we used the z-score method to remove outliers.\n",
    "The outliers influence the shapeor the slope of the line, the treatment of outliers is very important and ahould be done.\n"
   ]
  },
  {
   "cell_type": "markdown",
   "metadata": {},
   "source": [
    "We used Histogram to check for outliers"
   ]
  },
  {
   "cell_type": "code",
   "execution_count": 13,
   "metadata": {},
   "outputs": [
    {
     "data": {
      "image/png": "[encoded data removed]",
      "text/plain": [
       "<Figure size 720x720 with 9 Axes>"
      ]
     },
     "metadata": {
      "needs_background": "light"
     },
     "output_type": "display_data"
    }
   ],
   "source": [
    "df = ['Weight_Kg', 'Low_Price', 'High_Price', 'Sales_Total', 'Total_Qty_Sold', 'Total_Kg_Sold', 'Stock_On_Hand'] #list of numeric variables\n",
    "train_df[df].hist(figsize=(10,10), color = 'navy'); #assign the list to the dataframe and plot a histogram with 10,10 figure size"
   ]
  },
  {
   "cell_type": "markdown",
   "metadata": {},
   "source": [
    "From the above graphs you can see that all our plotted figures has outliers, beside the plots, we also saw with Kurtosis method above that we have too much outliers in our numeric dataset."
   ]
  },
  {
   "cell_type": "markdown",
   "metadata": {},
   "source": [
    "--------------------------------------------------------------------"
   ]
  },
  {
   "cell_type": "markdown",
   "metadata": {},
   "source": [
    "Here we will use the Z-score method to remove outliers from our dataset."
   ]
  },
  {
   "cell_type": "code",
   "execution_count": 14,
   "metadata": {},
   "outputs": [],
   "source": [
    "#calculate z\n",
    "threshold = 3 #used the threshold of 3\n",
    "lowPrice_z = np.abs(stats.zscore(train_df.Low_Price))\n",
    "lowPrice_abs_z_scores = np.abs(lowPrice_z)\n",
    "df1 = train_df[lowPrice_abs_z_scores < threshold]\n",
    "\n",
    "highPrice_z = np.abs(stats.zscore(df1.High_Price))\n",
    "highPrice_abs_z_scores = np.abs(highPrice_z)                                \n",
    "df2 = df1[highPrice_abs_z_scores < threshold]\n",
    "\n",
    "weight_z = np.abs(stats.zscore(df2.Weight_Kg))\n",
    "weight_abs_z_scores = np.abs(weight_z) \n",
    "df3 = df2[weight_abs_z_scores < threshold]\n",
    "\n",
    "salesTotal_z = np.abs(stats.zscore(df3.Sales_Total))\n",
    "salesTotal_abs_z_scores = np.abs(salesTotal_z) \n",
    "df4 = df3[salesTotal_abs_z_scores < threshold]\n",
    "\n",
    "totalQtySold_z = np.abs(stats.zscore(df4.Total_Qty_Sold))\n",
    "totalQtySold_abs_z_scores = np.abs(totalQtySold_z) \n",
    "df5 = df4[totalQtySold_abs_z_scores < threshold]\n",
    "\n",
    "totalKgSold_z = np.abs(stats.zscore(df5.Total_Kg_Sold))\n",
    "totalKgSold_abs_z_scores = np.abs(totalKgSold_z)\n",
    "df6 = df5[totalKgSold_abs_z_scores < threshold]\n",
    "\n",
    "stockOnHand_z = np.abs(stats.zscore(df6.Stock_On_Hand))\n",
    "stockOnHand_abs_z_scores = np.abs(stockOnHand_z)\n",
    "df7 = df6[stockOnHand_abs_z_scores < threshold]\n",
    "\n",
    "avgPricePerKg_z = np.abs(stats.zscore(df7.avg_price_per_kg))\n",
    "avgPricePerKg_abs_z_scores = np.abs(avgPricePerKg_z)\n",
    "trainData_df = df7[avgPricePerKg_abs_z_scores < threshold]"
   ]
  },
  {
   "cell_type": "markdown",
   "metadata": {},
   "source": [
    "After the Z_score method"
   ]
  },
  {
   "cell_type": "code",
   "execution_count": 15,
   "metadata": {},
   "outputs": [
    {
     "data": {
      "image/png": "[encoded data removed]",
      "text/plain": [
       "<Figure size 720x720 with 9 Axes>"
      ]
     },
     "metadata": {
      "needs_background": "light"
     },
     "output_type": "display_data"
    }
   ],
   "source": [
    "df = ['Weight_Kg', 'Low_Price', 'High_Price', 'Sales_Total', 'Total_Qty_Sold', 'Total_Kg_Sold', 'Stock_On_Hand'] #list of numeric variables\n",
    "trainData_df[df].hist(figsize=(10,10), color = 'navy'); #assign the list to the dataframe and plot a histogram with 10,10 figure size"
   ]
  },
  {
   "cell_type": "markdown",
   "metadata": {},
   "source": [
    "____________________________________________________________________________________________________________________________"
   ]
  },
  {
   "cell_type": "markdown",
   "metadata": {},
   "source": [
    "Now that we have removed outliers we used scatter plots to check for obvious relationships with the target variable, we check for linearity between the predictor variable and the target variable. The scatter plot that shows no linear relationship betwen the predictor variable and the target variable will be of no use as the model will be unappropiate."
   ]
  },
  {
   "cell_type": "code",
   "execution_count": 16,
   "metadata": {},
   "outputs": [
    {
     "data": {
      "image/png": "[encoded data removed]",
      "text/plain": [
       "<Figure size 1008x432 with 12 Axes>"
      ]
     },
     "metadata": {
      "needs_background": "light"
     },
     "output_type": "display_data"
    }
   ],
   "source": [
    "fig, ax = plt.subplots(2,6, figsize=(14,6),)#plot fig\n",
    "fig.subplots_adjust(hspace = 0.5, wspace=.2) #plot weight and height space\n",
    "ax = ax.ravel()\n",
    "\n",
    "for i, column in enumerate(trainData_df.columns): #looping over the columns of traindata_df dataset\n",
    "    ax[i-1].set_title(\"{} vs. Avg Price/kg\".format(column),fontsize=8) #set title\n",
    "    ax[i-1].scatter(x=trainData_df[column],y=trainData_df['avg_price_per_kg'],color='navy',edgecolor='k') #plot type & variables\n",
    "\n",
    "fig.tight_layout(pad=3)"
   ]
  },
  {
   "cell_type": "markdown",
   "metadata": {},
   "source": [
    "From the above scatter plot figures, we can conclude that Commodities has no relationship with the target variable, so we will remove it from our dataset. But atleast half of our plots shows a bit of relationship that we will explore further."
   ]
  },
  {
   "cell_type": "code",
   "execution_count": 17,
   "metadata": {},
   "outputs": [
    {
     "data": {
      "text/plain": [
       "((1643, 13), (685, 12))"
      ]
     },
     "execution_count": 17,
     "metadata": {},
     "output_type": "execute_result"
    }
   ],
   "source": [
    "trainData_df.shape, test_df.shape"
   ]
  },
  {
   "cell_type": "markdown",
   "metadata": {},
   "source": [
    "## 2 Dummy Variables"
   ]
  },
  {
   "cell_type": "markdown",
   "metadata": {},
   "source": [
    "### Preprocessing"
   ]
  },
  {
   "cell_type": "markdown",
   "metadata": {},
   "source": [
    "we don't want Date column in the dummy "
   ]
  },
  {
   "cell_type": "code",
   "execution_count": 18,
   "metadata": {},
   "outputs": [
    {
     "data": {
      "text/html": [
       "<div>\n",
       "<style scoped>\n",
       "    .dataframe tbody tr th:only-of-type {\n",
       "        vertical-align: middle;\n",
       "    }\n",
       "\n",
       "    .dataframe tbody tr th {\n",
       "        vertical-align: top;\n",
       "    }\n",
       "\n",
       "    .dataframe thead th {\n",
       "        text-align: right;\n",
       "    }\n",
       "</style>\n",
       "<table border=\"1\" class=\"dataframe\">\n",
       "  <thead>\n",
       "    <tr style=\"text-align: right;\">\n",
       "      <th></th>\n",
       "      <th>Province</th>\n",
       "      <th>Container</th>\n",
       "      <th>Size_Grade</th>\n",
       "      <th>Weight_Kg</th>\n",
       "      <th>Commodities</th>\n",
       "      <th>Low_Price</th>\n",
       "      <th>High_Price</th>\n",
       "      <th>Sales_Total</th>\n",
       "      <th>Total_Qty_Sold</th>\n",
       "      <th>Total_Kg_Sold</th>\n",
       "      <th>Stock_On_Hand</th>\n",
       "      <th>avg_price_per_kg</th>\n",
       "    </tr>\n",
       "  </thead>\n",
       "  <tbody>\n",
       "    <tr>\n",
       "      <td>1</td>\n",
       "      <td>CAPE</td>\n",
       "      <td>M4183</td>\n",
       "      <td>1L</td>\n",
       "      <td>18.3</td>\n",
       "      <td>APPLE GOLDEN DELICIOUS</td>\n",
       "      <td>150.0</td>\n",
       "      <td>170.0</td>\n",
       "      <td>51710.0</td>\n",
       "      <td>332</td>\n",
       "      <td>6075.6</td>\n",
       "      <td>822</td>\n",
       "      <td>8.51</td>\n",
       "    </tr>\n",
       "    <tr>\n",
       "      <td>7</td>\n",
       "      <td>CAPE</td>\n",
       "      <td>JG110</td>\n",
       "      <td>2M</td>\n",
       "      <td>11.0</td>\n",
       "      <td>APPLE GOLDEN DELICIOUS</td>\n",
       "      <td>50.0</td>\n",
       "      <td>50.0</td>\n",
       "      <td>16000.0</td>\n",
       "      <td>320</td>\n",
       "      <td>3520.0</td>\n",
       "      <td>0</td>\n",
       "      <td>4.55</td>\n",
       "    </tr>\n",
       "    <tr>\n",
       "      <td>24</td>\n",
       "      <td>W.CAPE-BERGRIVER ETC</td>\n",
       "      <td>JE090</td>\n",
       "      <td>2S</td>\n",
       "      <td>9.0</td>\n",
       "      <td>APPLE GOLDEN DELICIOUS</td>\n",
       "      <td>55.0</td>\n",
       "      <td>55.0</td>\n",
       "      <td>990.0</td>\n",
       "      <td>18</td>\n",
       "      <td>162.0</td>\n",
       "      <td>1506</td>\n",
       "      <td>6.11</td>\n",
       "    </tr>\n",
       "    <tr>\n",
       "      <td>40</td>\n",
       "      <td>CAPE</td>\n",
       "      <td>M4183</td>\n",
       "      <td>1S</td>\n",
       "      <td>18.3</td>\n",
       "      <td>APPLE GOLDEN DELICIOUS</td>\n",
       "      <td>80.0</td>\n",
       "      <td>120.0</td>\n",
       "      <td>32020.0</td>\n",
       "      <td>388</td>\n",
       "      <td>7100.4</td>\n",
       "      <td>443</td>\n",
       "      <td>4.51</td>\n",
       "    </tr>\n",
       "    <tr>\n",
       "      <td>80</td>\n",
       "      <td>CAPE</td>\n",
       "      <td>JE090</td>\n",
       "      <td>2S</td>\n",
       "      <td>9.0</td>\n",
       "      <td>APPLE GOLDEN DELICIOUS</td>\n",
       "      <td>55.0</td>\n",
       "      <td>55.0</td>\n",
       "      <td>4840.0</td>\n",
       "      <td>88</td>\n",
       "      <td>792.0</td>\n",
       "      <td>181</td>\n",
       "      <td>6.11</td>\n",
       "    </tr>\n",
       "  </tbody>\n",
       "</table>\n",
       "</div>"
      ],
      "text/plain": [
       "                Province Container Size_Grade  Weight_Kg  \\\n",
       "1                   CAPE     M4183         1L       18.3   \n",
       "7                   CAPE     JG110         2M       11.0   \n",
       "24  W.CAPE-BERGRIVER ETC     JE090         2S        9.0   \n",
       "40                  CAPE     M4183         1S       18.3   \n",
       "80                  CAPE     JE090         2S        9.0   \n",
       "\n",
       "               Commodities  Low_Price  High_Price  Sales_Total  \\\n",
       "1   APPLE GOLDEN DELICIOUS      150.0       170.0      51710.0   \n",
       "7   APPLE GOLDEN DELICIOUS       50.0        50.0      16000.0   \n",
       "24  APPLE GOLDEN DELICIOUS       55.0        55.0        990.0   \n",
       "40  APPLE GOLDEN DELICIOUS       80.0       120.0      32020.0   \n",
       "80  APPLE GOLDEN DELICIOUS       55.0        55.0       4840.0   \n",
       "\n",
       "    Total_Qty_Sold  Total_Kg_Sold  Stock_On_Hand  avg_price_per_kg  \n",
       "1              332         6075.6            822              8.51  \n",
       "7              320         3520.0              0              4.55  \n",
       "24              18          162.0           1506              6.11  \n",
       "40             388         7100.4            443              4.51  \n",
       "80              88          792.0            181              6.11  "
      ]
     },
     "execution_count": 18,
     "metadata": {},
     "output_type": "execute_result"
    }
   ],
   "source": [
    "trainData_df_d =trainData_df.drop(['Date'], axis = 1)\n",
    "trainData_df_d.head()"
   ]
  },
  {
   "cell_type": "code",
   "execution_count": 20,
   "metadata": {},
   "outputs": [
    {
     "data": {
      "text/html": [
       "<div>\n",
       "<style scoped>\n",
       "    .dataframe tbody tr th:only-of-type {\n",
       "        vertical-align: middle;\n",
       "    }\n",
       "\n",
       "    .dataframe tbody tr th {\n",
       "        vertical-align: top;\n",
       "    }\n",
       "\n",
       "    .dataframe thead th {\n",
       "        text-align: right;\n",
       "    }\n",
       "</style>\n",
       "<table border=\"1\" class=\"dataframe\">\n",
       "  <thead>\n",
       "    <tr style=\"text-align: right;\">\n",
       "      <th></th>\n",
       "      <th>Province</th>\n",
       "      <th>Container</th>\n",
       "      <th>Size_Grade</th>\n",
       "      <th>Weight_Kg</th>\n",
       "      <th>Commodities</th>\n",
       "      <th>Low_Price</th>\n",
       "      <th>High_Price</th>\n",
       "      <th>Sales_Total</th>\n",
       "      <th>Total_Qty_Sold</th>\n",
       "      <th>Total_Kg_Sold</th>\n",
       "      <th>Stock_On_Hand</th>\n",
       "    </tr>\n",
       "  </thead>\n",
       "  <tbody>\n",
       "    <tr>\n",
       "      <td>0</td>\n",
       "      <td>W.CAPE-BERGRIVER ETC</td>\n",
       "      <td>EC120</td>\n",
       "      <td>1M</td>\n",
       "      <td>12.0</td>\n",
       "      <td>APPLE GOLDEN DELICIOUS</td>\n",
       "      <td>128.0</td>\n",
       "      <td>136.0</td>\n",
       "      <td>5008.0</td>\n",
       "      <td>38</td>\n",
       "      <td>456.0</td>\n",
       "      <td>0</td>\n",
       "    </tr>\n",
       "    <tr>\n",
       "      <td>1</td>\n",
       "      <td>W.CAPE-BERGRIVER ETC</td>\n",
       "      <td>M4183</td>\n",
       "      <td>1X</td>\n",
       "      <td>18.3</td>\n",
       "      <td>APPLE GOLDEN DELICIOUS</td>\n",
       "      <td>220.0</td>\n",
       "      <td>220.0</td>\n",
       "      <td>1760.0</td>\n",
       "      <td>8</td>\n",
       "      <td>146.4</td>\n",
       "      <td>2</td>\n",
       "    </tr>\n",
       "    <tr>\n",
       "      <td>2</td>\n",
       "      <td>W.CAPE-BERGRIVER ETC</td>\n",
       "      <td>EC120</td>\n",
       "      <td>1S</td>\n",
       "      <td>12.0</td>\n",
       "      <td>APPLE GOLDEN DELICIOUS</td>\n",
       "      <td>120.0</td>\n",
       "      <td>120.0</td>\n",
       "      <td>720.0</td>\n",
       "      <td>6</td>\n",
       "      <td>72.0</td>\n",
       "      <td>45</td>\n",
       "    </tr>\n",
       "    <tr>\n",
       "      <td>3</td>\n",
       "      <td>W.CAPE-BERGRIVER ETC</td>\n",
       "      <td>M4183</td>\n",
       "      <td>1M</td>\n",
       "      <td>18.3</td>\n",
       "      <td>APPLE GOLDEN DELICIOUS</td>\n",
       "      <td>160.0</td>\n",
       "      <td>160.0</td>\n",
       "      <td>160.0</td>\n",
       "      <td>1</td>\n",
       "      <td>18.3</td>\n",
       "      <td>8</td>\n",
       "    </tr>\n",
       "    <tr>\n",
       "      <td>4</td>\n",
       "      <td>W.CAPE-BERGRIVER ETC</td>\n",
       "      <td>M4183</td>\n",
       "      <td>1L</td>\n",
       "      <td>18.3</td>\n",
       "      <td>APPLE GOLDEN DELICIOUS</td>\n",
       "      <td>140.0</td>\n",
       "      <td>160.0</td>\n",
       "      <td>14140.0</td>\n",
       "      <td>100</td>\n",
       "      <td>1830.0</td>\n",
       "      <td>19</td>\n",
       "    </tr>\n",
       "  </tbody>\n",
       "</table>\n",
       "</div>"
      ],
      "text/plain": [
       "               Province Container Size_Grade  Weight_Kg  \\\n",
       "0  W.CAPE-BERGRIVER ETC     EC120         1M       12.0   \n",
       "1  W.CAPE-BERGRIVER ETC     M4183         1X       18.3   \n",
       "2  W.CAPE-BERGRIVER ETC     EC120         1S       12.0   \n",
       "3  W.CAPE-BERGRIVER ETC     M4183         1M       18.3   \n",
       "4  W.CAPE-BERGRIVER ETC     M4183         1L       18.3   \n",
       "\n",
       "              Commodities  Low_Price  High_Price  Sales_Total  Total_Qty_Sold  \\\n",
       "0  APPLE GOLDEN DELICIOUS      128.0       136.0       5008.0              38   \n",
       "1  APPLE GOLDEN DELICIOUS      220.0       220.0       1760.0               8   \n",
       "2  APPLE GOLDEN DELICIOUS      120.0       120.0        720.0               6   \n",
       "3  APPLE GOLDEN DELICIOUS      160.0       160.0        160.0               1   \n",
       "4  APPLE GOLDEN DELICIOUS      140.0       160.0      14140.0             100   \n",
       "\n",
       "   Total_Kg_Sold  Stock_On_Hand  \n",
       "0          456.0              0  \n",
       "1          146.4              2  \n",
       "2           72.0             45  \n",
       "3           18.3              8  \n",
       "4         1830.0             19  "
      ]
     },
     "execution_count": 20,
     "metadata": {},
     "output_type": "execute_result"
    }
   ],
   "source": [
    "test_df = test_df.drop(['Date'], axis = 1)\n",
    "test_df.head()"
   ]
  },
  {
   "cell_type": "code",
   "execution_count": 19,
   "metadata": {},
   "outputs": [
    {
     "data": {
      "text/html": [
       "<div>\n",
       "<style scoped>\n",
       "    .dataframe tbody tr th:only-of-type {\n",
       "        vertical-align: middle;\n",
       "    }\n",
       "\n",
       "    .dataframe tbody tr th {\n",
       "        vertical-align: top;\n",
       "    }\n",
       "\n",
       "    .dataframe thead th {\n",
       "        text-align: right;\n",
       "    }\n",
       "</style>\n",
       "<table border=\"1\" class=\"dataframe\">\n",
       "  <thead>\n",
       "    <tr style=\"text-align: right;\">\n",
       "      <th></th>\n",
       "      <th>Weight_Kg</th>\n",
       "      <th>Low_Price</th>\n",
       "      <th>High_Price</th>\n",
       "      <th>Sales_Total</th>\n",
       "      <th>Total_Qty_Sold</th>\n",
       "      <th>Total_Kg_Sold</th>\n",
       "      <th>Stock_On_Hand</th>\n",
       "      <th>avg_price_per_kg</th>\n",
       "      <th>Province_CAPE</th>\n",
       "      <th>Province_EASTERN_CAPE</th>\n",
       "      <th>...</th>\n",
       "      <th>Size_Grade_1L</th>\n",
       "      <th>Size_Grade_1M</th>\n",
       "      <th>Size_Grade_1S</th>\n",
       "      <th>Size_Grade_1U</th>\n",
       "      <th>Size_Grade_1X</th>\n",
       "      <th>Size_Grade_2L</th>\n",
       "      <th>Size_Grade_2M</th>\n",
       "      <th>Size_Grade_2S</th>\n",
       "      <th>Size_Grade_2U</th>\n",
       "      <th>Size_Grade_2X</th>\n",
       "    </tr>\n",
       "  </thead>\n",
       "  <tbody>\n",
       "    <tr>\n",
       "      <td>1</td>\n",
       "      <td>18.3</td>\n",
       "      <td>150.0</td>\n",
       "      <td>170.0</td>\n",
       "      <td>51710.0</td>\n",
       "      <td>332</td>\n",
       "      <td>6075.6</td>\n",
       "      <td>822</td>\n",
       "      <td>8.51</td>\n",
       "      <td>1</td>\n",
       "      <td>0</td>\n",
       "      <td>...</td>\n",
       "      <td>1</td>\n",
       "      <td>0</td>\n",
       "      <td>0</td>\n",
       "      <td>0</td>\n",
       "      <td>0</td>\n",
       "      <td>0</td>\n",
       "      <td>0</td>\n",
       "      <td>0</td>\n",
       "      <td>0</td>\n",
       "      <td>0</td>\n",
       "    </tr>\n",
       "    <tr>\n",
       "      <td>7</td>\n",
       "      <td>11.0</td>\n",
       "      <td>50.0</td>\n",
       "      <td>50.0</td>\n",
       "      <td>16000.0</td>\n",
       "      <td>320</td>\n",
       "      <td>3520.0</td>\n",
       "      <td>0</td>\n",
       "      <td>4.55</td>\n",
       "      <td>1</td>\n",
       "      <td>0</td>\n",
       "      <td>...</td>\n",
       "      <td>0</td>\n",
       "      <td>0</td>\n",
       "      <td>0</td>\n",
       "      <td>0</td>\n",
       "      <td>0</td>\n",
       "      <td>0</td>\n",
       "      <td>1</td>\n",
       "      <td>0</td>\n",
       "      <td>0</td>\n",
       "      <td>0</td>\n",
       "    </tr>\n",
       "    <tr>\n",
       "      <td>24</td>\n",
       "      <td>9.0</td>\n",
       "      <td>55.0</td>\n",
       "      <td>55.0</td>\n",
       "      <td>990.0</td>\n",
       "      <td>18</td>\n",
       "      <td>162.0</td>\n",
       "      <td>1506</td>\n",
       "      <td>6.11</td>\n",
       "      <td>0</td>\n",
       "      <td>0</td>\n",
       "      <td>...</td>\n",
       "      <td>0</td>\n",
       "      <td>0</td>\n",
       "      <td>0</td>\n",
       "      <td>0</td>\n",
       "      <td>0</td>\n",
       "      <td>0</td>\n",
       "      <td>0</td>\n",
       "      <td>1</td>\n",
       "      <td>0</td>\n",
       "      <td>0</td>\n",
       "    </tr>\n",
       "    <tr>\n",
       "      <td>40</td>\n",
       "      <td>18.3</td>\n",
       "      <td>80.0</td>\n",
       "      <td>120.0</td>\n",
       "      <td>32020.0</td>\n",
       "      <td>388</td>\n",
       "      <td>7100.4</td>\n",
       "      <td>443</td>\n",
       "      <td>4.51</td>\n",
       "      <td>1</td>\n",
       "      <td>0</td>\n",
       "      <td>...</td>\n",
       "      <td>0</td>\n",
       "      <td>0</td>\n",
       "      <td>1</td>\n",
       "      <td>0</td>\n",
       "      <td>0</td>\n",
       "      <td>0</td>\n",
       "      <td>0</td>\n",
       "      <td>0</td>\n",
       "      <td>0</td>\n",
       "      <td>0</td>\n",
       "    </tr>\n",
       "    <tr>\n",
       "      <td>80</td>\n",
       "      <td>9.0</td>\n",
       "      <td>55.0</td>\n",
       "      <td>55.0</td>\n",
       "      <td>4840.0</td>\n",
       "      <td>88</td>\n",
       "      <td>792.0</td>\n",
       "      <td>181</td>\n",
       "      <td>6.11</td>\n",
       "      <td>1</td>\n",
       "      <td>0</td>\n",
       "      <td>...</td>\n",
       "      <td>0</td>\n",
       "      <td>0</td>\n",
       "      <td>0</td>\n",
       "      <td>0</td>\n",
       "      <td>0</td>\n",
       "      <td>0</td>\n",
       "      <td>0</td>\n",
       "      <td>1</td>\n",
       "      <td>0</td>\n",
       "      <td>0</td>\n",
       "    </tr>\n",
       "  </tbody>\n",
       "</table>\n",
       "<p>5 rows × 35 columns</p>\n",
       "</div>"
      ],
      "text/plain": [
       "    Weight_Kg  Low_Price  High_Price  Sales_Total  Total_Qty_Sold  \\\n",
       "1        18.3      150.0       170.0      51710.0             332   \n",
       "7        11.0       50.0        50.0      16000.0             320   \n",
       "24        9.0       55.0        55.0        990.0              18   \n",
       "40       18.3       80.0       120.0      32020.0             388   \n",
       "80        9.0       55.0        55.0       4840.0              88   \n",
       "\n",
       "    Total_Kg_Sold  Stock_On_Hand  avg_price_per_kg  Province_CAPE  \\\n",
       "1          6075.6            822              8.51              1   \n",
       "7          3520.0              0              4.55              1   \n",
       "24          162.0           1506              6.11              0   \n",
       "40         7100.4            443              4.51              1   \n",
       "80          792.0            181              6.11              1   \n",
       "\n",
       "    Province_EASTERN_CAPE  ...  Size_Grade_1L  Size_Grade_1M  Size_Grade_1S  \\\n",
       "1                       0  ...              1              0              0   \n",
       "7                       0  ...              0              0              0   \n",
       "24                      0  ...              0              0              0   \n",
       "40                      0  ...              0              0              1   \n",
       "80                      0  ...              0              0              0   \n",
       "\n",
       "    Size_Grade_1U  Size_Grade_1X  Size_Grade_2L  Size_Grade_2M  Size_Grade_2S  \\\n",
       "1               0              0              0              0              0   \n",
       "7               0              0              0              1              0   \n",
       "24              0              0              0              0              1   \n",
       "40              0              0              0              0              0   \n",
       "80              0              0              0              0              1   \n",
       "\n",
       "    Size_Grade_2U  Size_Grade_2X  \n",
       "1               0              0  \n",
       "7               0              0  \n",
       "24              0              0  \n",
       "40              0              0  \n",
       "80              0              0  \n",
       "\n",
       "[5 rows x 35 columns]"
      ]
     },
     "execution_count": 19,
     "metadata": {},
     "output_type": "execute_result"
    }
   ],
   "source": [
    "#For The TRAIN DATA (Train_df)\n",
    "train_df_d = pd.get_dummies(trainData_df_d) #dummy variable\n",
    "\n",
    "train_df_d.columns = [col.replace(\" \",\"_\") for col in train_df_d.columns] #replacing space with -\n",
    "train_df_d.drop(['Commodities_APPLE_GOLDEN_DELICIOUS'], axis= 1, inplace =True) #removing Commodities\n",
    "\n",
    "train_df_d.head() "
   ]
  },
  {
   "cell_type": "code",
   "execution_count": 21,
   "metadata": {},
   "outputs": [
    {
     "data": {
      "text/html": [
       "<div>\n",
       "<style scoped>\n",
       "    .dataframe tbody tr th:only-of-type {\n",
       "        vertical-align: middle;\n",
       "    }\n",
       "\n",
       "    .dataframe tbody tr th {\n",
       "        vertical-align: top;\n",
       "    }\n",
       "\n",
       "    .dataframe thead th {\n",
       "        text-align: right;\n",
       "    }\n",
       "</style>\n",
       "<table border=\"1\" class=\"dataframe\">\n",
       "  <thead>\n",
       "    <tr style=\"text-align: right;\">\n",
       "      <th></th>\n",
       "      <th>Weight_Kg</th>\n",
       "      <th>Low_Price</th>\n",
       "      <th>High_Price</th>\n",
       "      <th>Sales_Total</th>\n",
       "      <th>Total_Qty_Sold</th>\n",
       "      <th>Total_Kg_Sold</th>\n",
       "      <th>Stock_On_Hand</th>\n",
       "      <th>Province_CAPE</th>\n",
       "      <th>Province_EASTERN_CAPE</th>\n",
       "      <th>Province_NATAL</th>\n",
       "      <th>...</th>\n",
       "      <th>Size_Grade_1L</th>\n",
       "      <th>Size_Grade_1M</th>\n",
       "      <th>Size_Grade_1S</th>\n",
       "      <th>Size_Grade_1U</th>\n",
       "      <th>Size_Grade_1X</th>\n",
       "      <th>Size_Grade_2L</th>\n",
       "      <th>Size_Grade_2M</th>\n",
       "      <th>Size_Grade_2S</th>\n",
       "      <th>Size_Grade_2U</th>\n",
       "      <th>Size_Grade_2X</th>\n",
       "    </tr>\n",
       "  </thead>\n",
       "  <tbody>\n",
       "    <tr>\n",
       "      <td>0</td>\n",
       "      <td>12.0</td>\n",
       "      <td>128.0</td>\n",
       "      <td>136.0</td>\n",
       "      <td>5008.0</td>\n",
       "      <td>38</td>\n",
       "      <td>456.0</td>\n",
       "      <td>0</td>\n",
       "      <td>0</td>\n",
       "      <td>0</td>\n",
       "      <td>0</td>\n",
       "      <td>...</td>\n",
       "      <td>0</td>\n",
       "      <td>1</td>\n",
       "      <td>0</td>\n",
       "      <td>0</td>\n",
       "      <td>0</td>\n",
       "      <td>0</td>\n",
       "      <td>0</td>\n",
       "      <td>0</td>\n",
       "      <td>0</td>\n",
       "      <td>0</td>\n",
       "    </tr>\n",
       "    <tr>\n",
       "      <td>1</td>\n",
       "      <td>18.3</td>\n",
       "      <td>220.0</td>\n",
       "      <td>220.0</td>\n",
       "      <td>1760.0</td>\n",
       "      <td>8</td>\n",
       "      <td>146.4</td>\n",
       "      <td>2</td>\n",
       "      <td>0</td>\n",
       "      <td>0</td>\n",
       "      <td>0</td>\n",
       "      <td>...</td>\n",
       "      <td>0</td>\n",
       "      <td>0</td>\n",
       "      <td>0</td>\n",
       "      <td>0</td>\n",
       "      <td>1</td>\n",
       "      <td>0</td>\n",
       "      <td>0</td>\n",
       "      <td>0</td>\n",
       "      <td>0</td>\n",
       "      <td>0</td>\n",
       "    </tr>\n",
       "    <tr>\n",
       "      <td>2</td>\n",
       "      <td>12.0</td>\n",
       "      <td>120.0</td>\n",
       "      <td>120.0</td>\n",
       "      <td>720.0</td>\n",
       "      <td>6</td>\n",
       "      <td>72.0</td>\n",
       "      <td>45</td>\n",
       "      <td>0</td>\n",
       "      <td>0</td>\n",
       "      <td>0</td>\n",
       "      <td>...</td>\n",
       "      <td>0</td>\n",
       "      <td>0</td>\n",
       "      <td>1</td>\n",
       "      <td>0</td>\n",
       "      <td>0</td>\n",
       "      <td>0</td>\n",
       "      <td>0</td>\n",
       "      <td>0</td>\n",
       "      <td>0</td>\n",
       "      <td>0</td>\n",
       "    </tr>\n",
       "    <tr>\n",
       "      <td>3</td>\n",
       "      <td>18.3</td>\n",
       "      <td>160.0</td>\n",
       "      <td>160.0</td>\n",
       "      <td>160.0</td>\n",
       "      <td>1</td>\n",
       "      <td>18.3</td>\n",
       "      <td>8</td>\n",
       "      <td>0</td>\n",
       "      <td>0</td>\n",
       "      <td>0</td>\n",
       "      <td>...</td>\n",
       "      <td>0</td>\n",
       "      <td>1</td>\n",
       "      <td>0</td>\n",
       "      <td>0</td>\n",
       "      <td>0</td>\n",
       "      <td>0</td>\n",
       "      <td>0</td>\n",
       "      <td>0</td>\n",
       "      <td>0</td>\n",
       "      <td>0</td>\n",
       "    </tr>\n",
       "    <tr>\n",
       "      <td>4</td>\n",
       "      <td>18.3</td>\n",
       "      <td>140.0</td>\n",
       "      <td>160.0</td>\n",
       "      <td>14140.0</td>\n",
       "      <td>100</td>\n",
       "      <td>1830.0</td>\n",
       "      <td>19</td>\n",
       "      <td>0</td>\n",
       "      <td>0</td>\n",
       "      <td>0</td>\n",
       "      <td>...</td>\n",
       "      <td>1</td>\n",
       "      <td>0</td>\n",
       "      <td>0</td>\n",
       "      <td>0</td>\n",
       "      <td>0</td>\n",
       "      <td>0</td>\n",
       "      <td>0</td>\n",
       "      <td>0</td>\n",
       "      <td>0</td>\n",
       "      <td>0</td>\n",
       "    </tr>\n",
       "  </tbody>\n",
       "</table>\n",
       "<p>5 rows × 35 columns</p>\n",
       "</div>"
      ],
      "text/plain": [
       "   Weight_Kg  Low_Price  High_Price  Sales_Total  Total_Qty_Sold  \\\n",
       "0       12.0      128.0       136.0       5008.0              38   \n",
       "1       18.3      220.0       220.0       1760.0               8   \n",
       "2       12.0      120.0       120.0        720.0               6   \n",
       "3       18.3      160.0       160.0        160.0               1   \n",
       "4       18.3      140.0       160.0      14140.0             100   \n",
       "\n",
       "   Total_Kg_Sold  Stock_On_Hand  Province_CAPE  Province_EASTERN_CAPE  \\\n",
       "0          456.0              0              0                      0   \n",
       "1          146.4              2              0                      0   \n",
       "2           72.0             45              0                      0   \n",
       "3           18.3              8              0                      0   \n",
       "4         1830.0             19              0                      0   \n",
       "\n",
       "   Province_NATAL  ...  Size_Grade_1L  Size_Grade_1M  Size_Grade_1S  \\\n",
       "0               0  ...              0              1              0   \n",
       "1               0  ...              0              0              0   \n",
       "2               0  ...              0              0              1   \n",
       "3               0  ...              0              1              0   \n",
       "4               0  ...              1              0              0   \n",
       "\n",
       "   Size_Grade_1U  Size_Grade_1X  Size_Grade_2L  Size_Grade_2M  Size_Grade_2S  \\\n",
       "0              0              0              0              0              0   \n",
       "1              0              1              0              0              0   \n",
       "2              0              0              0              0              0   \n",
       "3              0              0              0              0              0   \n",
       "4              0              0              0              0              0   \n",
       "\n",
       "   Size_Grade_2U  Size_Grade_2X  \n",
       "0              0              0  \n",
       "1              0              0  \n",
       "2              0              0  \n",
       "3              0              0  \n",
       "4              0              0  \n",
       "\n",
       "[5 rows x 35 columns]"
      ]
     },
     "execution_count": 21,
     "metadata": {},
     "output_type": "execute_result"
    }
   ],
   "source": [
    "#For The Test DATA (Test_df)\n",
    "#using the test data\n",
    "test_df = test_df[(test_df['Commodities'] == 'APPLE GOLDEN DELICIOUS')]\n",
    "\n",
    "X_t = pd.get_dummies(test_df)\n",
    "X_t.columns = [col.replace(\" \",\"_\") for col in X_t.columns]\n",
    "X_t.drop(['Commodities_APPLE_GOLDEN_DELICIOUS'], axis= 1, inplace =True)\n",
    "\n",
    "X_t.head()\n",
    "\n"
   ]
  },
  {
   "cell_type": "code",
   "execution_count": 22,
   "metadata": {},
   "outputs": [
    {
     "data": {
      "text/plain": [
       "((1643, 35), (685, 35))"
      ]
     },
     "execution_count": 22,
     "metadata": {},
     "output_type": "execute_result"
    }
   ],
   "source": [
    "train_df_d.shape, X_t.shape"
   ]
  },
  {
   "cell_type": "markdown",
   "metadata": {},
   "source": [
    "# 2.3 Correlation and Variable selection"
   ]
  },
  {
   "cell_type": "markdown",
   "metadata": {},
   "source": [
    "1. Check the independent variables that are highly correleted to the target variable\n",
    "2. Check those that have moderate correlection\n",
    "3. Check the weak correlected independent variables\n",
    "4. Chose variables to remove depending on their relationship with the target variable"
   ]
  },
  {
   "cell_type": "markdown",
   "metadata": {},
   "source": [
    "we will arrange the data so our target variable be the last column on the dataframe"
   ]
  },
  {
   "cell_type": "code",
   "execution_count": 23,
   "metadata": {},
   "outputs": [],
   "source": [
    "#Avarage must be the last column (dependent)\n",
    "#reorder columns\n",
    "column_titles = [col for col in train_df_d.columns if col!= 'avg_price_per_kg'] + ['avg_price_per_kg']\n",
    "train_df_d=train_df_d.reindex(columns=column_titles)"
   ]
  },
  {
   "cell_type": "markdown",
   "metadata": {},
   "source": [
    "The correlection"
   ]
  },
  {
   "cell_type": "code",
   "execution_count": 24,
   "metadata": {},
   "outputs": [
    {
     "data": {
      "text/html": [
       "<div>\n",
       "<style scoped>\n",
       "    .dataframe tbody tr th:only-of-type {\n",
       "        vertical-align: middle;\n",
       "    }\n",
       "\n",
       "    .dataframe tbody tr th {\n",
       "        vertical-align: top;\n",
       "    }\n",
       "\n",
       "    .dataframe thead th {\n",
       "        text-align: right;\n",
       "    }\n",
       "</style>\n",
       "<table border=\"1\" class=\"dataframe\">\n",
       "  <thead>\n",
       "    <tr style=\"text-align: right;\">\n",
       "      <th></th>\n",
       "      <th>Correlation</th>\n",
       "    </tr>\n",
       "  </thead>\n",
       "  <tbody>\n",
       "    <tr>\n",
       "      <td>avg_price_per_kg</td>\n",
       "      <td>1.000000</td>\n",
       "    </tr>\n",
       "    <tr>\n",
       "      <td>Low_Price</td>\n",
       "      <td>0.818317</td>\n",
       "    </tr>\n",
       "    <tr>\n",
       "      <td>High_Price</td>\n",
       "      <td>0.765937</td>\n",
       "    </tr>\n",
       "    <tr>\n",
       "      <td>Weight_Kg</td>\n",
       "      <td>0.492557</td>\n",
       "    </tr>\n",
       "    <tr>\n",
       "      <td>Container_M4183</td>\n",
       "      <td>0.380769</td>\n",
       "    </tr>\n",
       "    <tr>\n",
       "      <td>Size_Grade_1L</td>\n",
       "      <td>0.264383</td>\n",
       "    </tr>\n",
       "    <tr>\n",
       "      <td>Sales_Total</td>\n",
       "      <td>0.262071</td>\n",
       "    </tr>\n",
       "    <tr>\n",
       "      <td>Province_W.CAPE-BERGRIVER_ETC</td>\n",
       "      <td>0.260845</td>\n",
       "    </tr>\n",
       "    <tr>\n",
       "      <td>Size_Grade_1X</td>\n",
       "      <td>0.232966</td>\n",
       "    </tr>\n",
       "    <tr>\n",
       "      <td>Size_Grade_1M</td>\n",
       "      <td>0.197690</td>\n",
       "    </tr>\n",
       "    <tr>\n",
       "      <td>Container_EC120</td>\n",
       "      <td>0.156160</td>\n",
       "    </tr>\n",
       "    <tr>\n",
       "      <td>Container_EF120</td>\n",
       "      <td>0.118751</td>\n",
       "    </tr>\n",
       "    <tr>\n",
       "      <td>Total_Kg_Sold</td>\n",
       "      <td>0.111284</td>\n",
       "    </tr>\n",
       "    <tr>\n",
       "      <td>Province_CAPE</td>\n",
       "      <td>0.103696</td>\n",
       "    </tr>\n",
       "    <tr>\n",
       "      <td>Size_Grade_1S</td>\n",
       "      <td>0.092053</td>\n",
       "    </tr>\n",
       "    <tr>\n",
       "      <td>Stock_On_Hand</td>\n",
       "      <td>0.079481</td>\n",
       "    </tr>\n",
       "    <tr>\n",
       "      <td>Container_EG140</td>\n",
       "      <td>0.024737</td>\n",
       "    </tr>\n",
       "    <tr>\n",
       "      <td>Total_Qty_Sold</td>\n",
       "      <td>0.008170</td>\n",
       "    </tr>\n",
       "    <tr>\n",
       "      <td>Container_M6125</td>\n",
       "      <td>0.003573</td>\n",
       "    </tr>\n",
       "    <tr>\n",
       "      <td>Container_M9125</td>\n",
       "      <td>0.000412</td>\n",
       "    </tr>\n",
       "    <tr>\n",
       "      <td>Province_TRANSVAAL</td>\n",
       "      <td>-0.018012</td>\n",
       "    </tr>\n",
       "    <tr>\n",
       "      <td>Size_Grade_1U</td>\n",
       "      <td>-0.034079</td>\n",
       "    </tr>\n",
       "    <tr>\n",
       "      <td>Province_ORANGE_FREE_STATE</td>\n",
       "      <td>-0.038654</td>\n",
       "    </tr>\n",
       "    <tr>\n",
       "      <td>Province_WEST_COAST</td>\n",
       "      <td>-0.047773</td>\n",
       "    </tr>\n",
       "    <tr>\n",
       "      <td>Size_Grade_2X</td>\n",
       "      <td>-0.068492</td>\n",
       "    </tr>\n",
       "    <tr>\n",
       "      <td>Container_DT063</td>\n",
       "      <td>-0.073255</td>\n",
       "    </tr>\n",
       "    <tr>\n",
       "      <td>Size_Grade_2U</td>\n",
       "      <td>-0.087557</td>\n",
       "    </tr>\n",
       "    <tr>\n",
       "      <td>Size_Grade_2L</td>\n",
       "      <td>-0.123591</td>\n",
       "    </tr>\n",
       "    <tr>\n",
       "      <td>Container_JG110</td>\n",
       "      <td>-0.177276</td>\n",
       "    </tr>\n",
       "    <tr>\n",
       "      <td>Container_AC030</td>\n",
       "      <td>-0.179530</td>\n",
       "    </tr>\n",
       "    <tr>\n",
       "      <td>Size_Grade_2M</td>\n",
       "      <td>-0.187072</td>\n",
       "    </tr>\n",
       "    <tr>\n",
       "      <td>Province_EASTERN_CAPE</td>\n",
       "      <td>-0.229628</td>\n",
       "    </tr>\n",
       "    <tr>\n",
       "      <td>Province_NATAL</td>\n",
       "      <td>-0.337509</td>\n",
       "    </tr>\n",
       "    <tr>\n",
       "      <td>Size_Grade_2S</td>\n",
       "      <td>-0.409072</td>\n",
       "    </tr>\n",
       "    <tr>\n",
       "      <td>Container_JE090</td>\n",
       "      <td>-0.429679</td>\n",
       "    </tr>\n",
       "  </tbody>\n",
       "</table>\n",
       "</div>"
      ],
      "text/plain": [
       "                               Correlation\n",
       "avg_price_per_kg                  1.000000\n",
       "Low_Price                         0.818317\n",
       "High_Price                        0.765937\n",
       "Weight_Kg                         0.492557\n",
       "Container_M4183                   0.380769\n",
       "Size_Grade_1L                     0.264383\n",
       "Sales_Total                       0.262071\n",
       "Province_W.CAPE-BERGRIVER_ETC     0.260845\n",
       "Size_Grade_1X                     0.232966\n",
       "Size_Grade_1M                     0.197690\n",
       "Container_EC120                   0.156160\n",
       "Container_EF120                   0.118751\n",
       "Total_Kg_Sold                     0.111284\n",
       "Province_CAPE                     0.103696\n",
       "Size_Grade_1S                     0.092053\n",
       "Stock_On_Hand                     0.079481\n",
       "Container_EG140                   0.024737\n",
       "Total_Qty_Sold                    0.008170\n",
       "Container_M6125                   0.003573\n",
       "Container_M9125                   0.000412\n",
       "Province_TRANSVAAL               -0.018012\n",
       "Size_Grade_1U                    -0.034079\n",
       "Province_ORANGE_FREE_STATE       -0.038654\n",
       "Province_WEST_COAST              -0.047773\n",
       "Size_Grade_2X                    -0.068492\n",
       "Container_DT063                  -0.073255\n",
       "Size_Grade_2U                    -0.087557\n",
       "Size_Grade_2L                    -0.123591\n",
       "Container_JG110                  -0.177276\n",
       "Container_AC030                  -0.179530\n",
       "Size_Grade_2M                    -0.187072\n",
       "Province_EASTERN_CAPE            -0.229628\n",
       "Province_NATAL                   -0.337509\n",
       "Size_Grade_2S                    -0.409072\n",
       "Container_JE090                  -0.429679"
      ]
     },
     "execution_count": 24,
     "metadata": {},
     "output_type": "execute_result"
    }
   ],
   "source": [
    "# Target correlations with features\n",
    "corrs = pd.DataFrame(train_df_d.corr()['avg_price_per_kg']).rename(columns = {'avg_price_per_kg':'Correlation'})\n",
    "corrs.sort_values(by='Correlation',ascending=False, inplace=True)\n",
    "corrs"
   ]
  },
  {
   "cell_type": "code",
   "execution_count": 25,
   "metadata": {},
   "outputs": [
    {
     "data": {
      "image/png": "[encoded data removed]",
      "text/plain": [
       "<Figure size 648x504 with 2 Axes>"
      ]
     },
     "metadata": {
      "needs_background": "light"
     },
     "output_type": "display_data"
    }
   ],
   "source": [
    "plt.figure(figsize=(9, 7))\n",
    "heatmap = sns.heatmap(trainData_df.corr(), vmin=-1, vmax=1, annot=True)\n",
    "heatmap.set_title('Correlation Heatmap', fontdict={'fontsize':15}, pad=12);"
   ]
  },
  {
   "cell_type": "code",
   "execution_count": 26,
   "metadata": {},
   "outputs": [
    {
     "name": "stdout",
     "output_type": "stream",
     "text": [
      "There is 6 strongly correlated values with Average price per kg:\n",
      "Low_Price        0.818317\n",
      "High_Price       0.765937\n",
      "Weight_Kg        0.492557\n",
      "Sales_Total      0.262071\n",
      "Total_Kg_Sold    0.111284\n",
      "Stock_On_Hand    0.079481\n",
      "Name: avg_price_per_kg, dtype: float64\n"
     ]
    }
   ],
   "source": [
    "df_num_corr = trainData_df.corr()['avg_price_per_kg'][:-1] # -1 because the latest row is Average price per kg\n",
    "golden_features_list = df_num_corr[abs(df_num_corr) > 0.01].sort_values(ascending=False)\n",
    "print(\"There is {} strongly correlated values with Average price per kg:\\n{}\".format(len(golden_features_list), golden_features_list))"
   ]
  },
  {
   "cell_type": "code",
   "execution_count": 27,
   "metadata": {},
   "outputs": [
    {
     "data": {
      "text/plain": [
       "((1643, 35), (685, 35))"
      ]
     },
     "execution_count": 27,
     "metadata": {},
     "output_type": "execute_result"
    }
   ],
   "source": [
    "train_df_d.shape, X_t.shape"
   ]
  },
  {
   "cell_type": "code",
   "execution_count": 28,
   "metadata": {},
   "outputs": [
    {
     "data": {
      "text/plain": [
       "Index(['Weight_Kg', 'Low_Price', 'High_Price', 'Sales_Total', 'Total_Qty_Sold',\n",
       "       'Total_Kg_Sold', 'Stock_On_Hand', 'Province_CAPE',\n",
       "       'Province_EASTERN_CAPE', 'Province_NATAL', 'Province_ORANGE_FREE_STATE',\n",
       "       'Province_TRANSVAAL', 'Province_W.CAPE-BERGRIVER_ETC',\n",
       "       'Province_WEST_COAST', 'Container_AC030', 'Container_DT063',\n",
       "       'Container_EC120', 'Container_EF120', 'Container_EG140',\n",
       "       'Container_JE090', 'Container_JG110', 'Container_M4183',\n",
       "       'Container_M6125', 'Container_M9125', 'Size_Grade_1L', 'Size_Grade_1M',\n",
       "       'Size_Grade_1S', 'Size_Grade_1U', 'Size_Grade_1X', 'Size_Grade_2L',\n",
       "       'Size_Grade_2M', 'Size_Grade_2S', 'Size_Grade_2U', 'Size_Grade_2X',\n",
       "       'avg_price_per_kg'],\n",
       "      dtype='object')"
      ]
     },
     "execution_count": 28,
     "metadata": {},
     "output_type": "execute_result"
    }
   ],
   "source": [
    "train_df_d.columns"
   ]
  },
  {
   "cell_type": "code",
   "execution_count": 29,
   "metadata": {},
   "outputs": [
    {
     "data": {
      "text/plain": [
       "Index(['Weight_Kg', 'Low_Price', 'High_Price', 'Sales_Total', 'Total_Qty_Sold',\n",
       "       'Total_Kg_Sold', 'Stock_On_Hand', 'Province_CAPE',\n",
       "       'Province_EASTERN_CAPE', 'Province_NATAL', 'Province_ORANGE_FREE_STATE',\n",
       "       'Province_TRANSVAAL', 'Province_W.CAPE-BERGRIVER_ETC',\n",
       "       'Province_WEST_COAST', 'Container_AC030', 'Container_DT063',\n",
       "       'Container_EC120', 'Container_EF120', 'Container_EG140',\n",
       "       'Container_IA400', 'Container_JE090', 'Container_JG110',\n",
       "       'Container_M4183', 'Container_M6125', 'Container_M9125',\n",
       "       'Size_Grade_1L', 'Size_Grade_1M', 'Size_Grade_1S', 'Size_Grade_1U',\n",
       "       'Size_Grade_1X', 'Size_Grade_2L', 'Size_Grade_2M', 'Size_Grade_2S',\n",
       "       'Size_Grade_2U', 'Size_Grade_2X'],\n",
       "      dtype='object')"
      ]
     },
     "execution_count": 29,
     "metadata": {},
     "output_type": "execute_result"
    }
   ],
   "source": [
    "X_t.columns"
   ]
  },
  {
   "cell_type": "code",
   "execution_count": 38,
   "metadata": {},
   "outputs": [],
   "source": [
    "X_t = X_t.drop('Container_IA400', axis = 1)"
   ]
  },
  {
   "cell_type": "markdown",
   "metadata": {},
   "source": [
    "### Train & Test Split"
   ]
  },
  {
   "cell_type": "markdown",
   "metadata": {},
   "source": [
    "For Train Data (Train_df thats in df_dummies)"
   ]
  },
  {
   "cell_type": "code",
   "execution_count": 39,
   "metadata": {},
   "outputs": [],
   "source": [
    "#spliting variables into x and y\n",
    "X = train_df_d.drop('avg_price_per_kg', axis = 1)\n",
    "y = train_df_d['avg_price_per_kg']\n"
   ]
  },
  {
   "cell_type": "markdown",
   "metadata": {},
   "source": [
    "For Test Data (Test_df thats in X_t dummies)"
   ]
  },
  {
   "cell_type": "code",
   "execution_count": 40,
   "metadata": {},
   "outputs": [],
   "source": [
    "X_real = X_t"
   ]
  },
  {
   "cell_type": "code",
   "execution_count": 41,
   "metadata": {},
   "outputs": [
    {
     "data": {
      "text/plain": [
       "((685, 34), (1643, 34))"
      ]
     },
     "execution_count": 41,
     "metadata": {},
     "output_type": "execute_result"
    }
   ],
   "source": [
    "X_real.shape, X.shape #checking the data shape"
   ]
  },
  {
   "cell_type": "code",
   "execution_count": 42,
   "metadata": {},
   "outputs": [],
   "source": [
    "#Train/Test Split\n",
    "X_train, X_test, y_train, y_test = train_test_split(X, y, test_size = 0.2)"
   ]
  },
  {
   "cell_type": "markdown",
   "metadata": {},
   "source": [
    "### MODELS"
   ]
  },
  {
   "cell_type": "code",
   "execution_count": 43,
   "metadata": {},
   "outputs": [],
   "source": [
    "#Function for model prediction\n",
    "def model_test(model, X, y):\n",
    "    #Predict\n",
    "    y_pred = model.predict(X)\n",
    "    r2 = r2_score(y, y_pred)\n",
    "    rmse = np.sqrt(mean_squared_error(y_pred, y))\n",
    "    print('R2 Score is : {} | Root Mean Square Error is : {}'\n",
    "          .format(r2,rmse))\n",
    "    \n",
    "    return"
   ]
  },
  {
   "cell_type": "markdown",
   "metadata": {},
   "source": [
    "#### Using The Linear Regression (Train and Test)"
   ]
  },
  {
   "cell_type": "code",
   "execution_count": 44,
   "metadata": {},
   "outputs": [
    {
     "data": {
      "text/plain": [
       "LinearRegression(copy_X=True, fit_intercept=True, n_jobs=-1, normalize=False)"
      ]
     },
     "execution_count": 44,
     "metadata": {},
     "output_type": "execute_result"
    }
   ],
   "source": [
    "#Function for Linear Regression\n",
    "def linearRegression(X, y):\n",
    "    global Linear_model\n",
    "    Linear_model = LinearRegression(n_jobs = -1)\n",
    "    Linear_model.fit(X, y)\n",
    "    return Linear_model\n",
    "#fitting the model\n",
    "linearRegression(X_train, y_train)"
   ]
  },
  {
   "cell_type": "code",
   "execution_count": 45,
   "metadata": {},
   "outputs": [
    {
     "name": "stdout",
     "output_type": "stream",
     "text": [
      "R2 Score is : 0.9045685297672463 | Root Mean Square Error is : 0.6495252368568175\n",
      "R2 Score is : 0.8905750715442841 | Root Mean Square Error is : 0.7075651740160742\n"
     ]
    }
   ],
   "source": [
    "#making predictions\n",
    "model_test(Linear_model, X_train, y_train)\n",
    "model_test(Linear_model, X_test, y_test)"
   ]
  },
  {
   "cell_type": "markdown",
   "metadata": {},
   "source": [
    "Prediction on the test dataset"
   ]
  },
  {
   "cell_type": "code",
   "execution_count": 46,
   "metadata": {},
   "outputs": [
    {
     "data": {
      "text/plain": [
       "array([1.02571452e+01, 1.24989464e+01, 9.54565454e+00, 8.93591237e+00,\n",
       "       8.05821347e+00, 4.38012036e+10, 4.14496756e+00, 7.45941281e+00,\n",
       "       8.17619205e+00, 9.36537719e+00, 5.92268491e+00, 4.38012036e+10,\n",
       "       8.17688775e+00, 4.72372794e+00, 3.80842018e+00, 6.08056307e+00,\n",
       "       8.01564813e+00, 4.98230886e+00, 1.27382643e+01, 6.13075256e+00,\n",
       "       5.53624487e+00, 4.38012036e+10, 6.00364709e+00, 7.05620408e+00,\n",
       "       5.36717510e+00, 6.06485415e+00, 7.68043327e+00, 7.84344029e+00,\n",
       "       7.17022157e+00, 4.44716382e+00, 8.02028489e+00, 5.50254989e+00,\n",
       "       1.00568268e+01, 7.78733945e+00, 4.38012036e+10, 9.99738479e+00,\n",
       "       1.13265955e+01, 1.33003795e+01, 6.11423540e+00, 6.04827070e+00,\n",
       "       8.91232133e+00, 6.19929814e+00, 4.35732341e+00, 5.91146517e+00,\n",
       "       5.55463481e+00, 5.77278137e+00, 4.38012036e+10, 5.86173940e+00,\n",
       "       5.90381122e+00, 4.38012036e+10, 4.38012035e+10, 5.92714477e+00,\n",
       "       6.00868392e+00, 1.50194395e+01, 8.81461835e+00, 5.77499580e+00,\n",
       "       1.10505130e+01, 9.42141819e+00, 7.51520634e+00, 6.52667141e+00,\n",
       "       7.07438874e+00, 1.23591843e+01, 5.82639074e+00, 9.67525649e+00,\n",
       "       5.47168183e+00, 5.89052534e+00, 6.22962379e+00, 4.69075179e+00,\n",
       "       4.38012036e+10, 6.39007306e+00, 4.79560804e+00, 5.48815298e+00,\n",
       "       4.35962605e+00, 7.59775329e+00, 6.48301125e+00, 5.30781960e+00,\n",
       "       5.83739567e+00, 9.48709393e+00, 1.12659969e+01, 6.28664279e+00,\n",
       "       6.67814469e+00, 4.38012036e+10, 6.19208527e+00, 5.54585910e+00,\n",
       "       1.91684222e+00, 3.44453955e+00, 7.39063764e+00, 1.22751539e+01,\n",
       "       3.90111089e+00, 6.57286978e+00, 9.31297946e+00, 9.70655012e+00,\n",
       "       7.43572855e+00, 5.67104888e+00, 5.96000600e+00, 6.51871777e+00,\n",
       "       8.24843621e+00, 8.84743476e+00, 6.29600477e+00, 5.77514625e+00,\n",
       "       1.17308533e+01, 6.39619875e+00, 5.75819874e+00, 7.67827225e+00,\n",
       "       6.36609125e+00, 9.01861978e+00, 8.71247411e+00, 3.56474471e+00,\n",
       "       9.55678511e+00, 4.38012036e+10, 4.73233962e+00, 6.70627475e+00,\n",
       "       5.80908704e+00, 4.81142807e+00, 6.85176516e+00, 9.54420018e+00,\n",
       "       5.56595635e+00, 1.03473384e+01, 4.88222361e+00, 6.13064361e+00,\n",
       "       5.64928913e+00, 4.70029116e+00, 9.33557701e+00, 4.38012036e+10,\n",
       "       9.06677699e+00, 7.70349765e+00, 4.99887180e+00, 9.41005754e+00,\n",
       "       9.97740507e+00, 6.05485535e+00, 7.36601138e+00, 5.90650558e+00,\n",
       "       9.44138908e+00, 8.71860051e+00, 4.38012035e+10, 6.20620131e+00,\n",
       "       7.04771876e+00, 7.02438140e+00, 7.83089542e+00, 5.79724908e+00,\n",
       "       7.80524230e+00, 4.38012036e+10, 8.85701156e+00, 5.44845581e+00,\n",
       "       9.07754540e+00, 6.42664552e+00, 5.81545472e+00, 6.28303885e+00,\n",
       "       5.17305374e+00, 7.01788497e+00, 9.42401552e+00, 7.69666147e+00,\n",
       "       5.81621408e+00, 9.28907228e+00, 7.01933837e+00, 1.11787825e+01,\n",
       "       5.02158117e+00, 5.06575179e+00, 6.09698963e+00, 5.99464488e+00,\n",
       "       8.37408257e+00, 9.16774559e+00, 6.89367509e+00, 8.06416059e+00,\n",
       "       7.55766869e+00, 7.58439231e+00, 6.68548179e+00, 6.86024427e+00,\n",
       "       5.57889318e+00, 7.84563756e+00, 8.84613395e+00, 6.85538411e+00,\n",
       "       5.22348785e+00, 1.13701429e+01, 5.67369533e+00, 4.64890838e+00,\n",
       "       7.02548051e+00, 5.71017885e+00, 6.05354047e+00, 7.01570153e+00,\n",
       "       5.10769653e+00, 4.38012035e+10, 1.12153182e+01, 7.75331521e+00,\n",
       "       6.54356313e+00, 4.38012035e+10, 6.11305666e+00, 1.01838787e+01,\n",
       "       6.97502065e+00, 5.56983757e+00, 5.80726337e+00, 9.08743834e+00,\n",
       "       4.38012036e+10, 3.78371596e+00, 9.42239928e+00, 5.61111641e+00,\n",
       "       8.36356330e+00, 6.48808312e+00, 5.58108711e+00, 9.41010213e+00,\n",
       "       6.54395843e+00, 4.38012036e+10, 8.26451087e+00, 2.23993349e+00,\n",
       "       6.35722303e+00, 4.38012036e+10, 8.49748468e+00, 7.05620408e+00,\n",
       "       7.49497700e+00, 8.52192044e+00, 7.42476296e+00, 1.51069098e+01,\n",
       "       5.84463453e+00, 6.16521168e+00, 9.22121406e+00, 5.90650415e+00,\n",
       "       5.82011437e+00, 5.58206987e+00, 9.16069007e+00, 8.27106023e+00,\n",
       "       5.27998781e+00, 5.26110744e+00, 8.73429489e+00, 1.12730942e+01,\n",
       "       1.19664214e+01, 6.15995002e+00, 5.93797994e+00, 5.33833218e+00,\n",
       "       8.34691453e+00, 5.79988885e+00, 5.40050983e+00, 1.07817469e+01,\n",
       "       7.67339659e+00, 5.39823961e+00, 6.30675077e+00, 5.96725845e+00,\n",
       "       1.06890936e+01, 8.72461700e+00, 4.73276401e+00, 5.87217212e+00,\n",
       "       5.00283623e+00, 5.59188032e+00, 6.65292430e+00, 7.76913166e+00,\n",
       "       1.14309778e+01, 6.71047068e+00, 6.19649458e+00, 7.03028560e+00,\n",
       "       5.57313132e+00, 1.00657985e+01, 7.65174174e+00, 9.69470835e+00,\n",
       "       5.31717253e+00, 5.59770226e+00, 6.45722723e+00, 4.38012036e+10,\n",
       "       7.10407543e+00, 9.26294971e+00, 8.94506192e+00, 8.43151283e+00,\n",
       "       8.89677739e+00, 1.00439107e+01, 6.19478250e+00, 6.08953691e+00,\n",
       "       4.70404625e+00, 7.16716099e+00, 5.09663033e+00, 6.16377378e+00,\n",
       "       2.61296225e+00, 6.44029546e+00, 8.19670248e+00, 6.47947693e+00,\n",
       "       1.16505706e+01, 1.62023425e+00, 8.06425834e+00, 9.77806139e+00,\n",
       "       4.38012036e+10, 6.53040528e+00, 5.11970544e+00, 7.43307805e+00,\n",
       "       5.74079180e+00, 5.29134965e+00, 5.75743866e+00, 4.00375414e+00,\n",
       "       9.57739687e+00, 4.38012036e+10, 6.04390049e+00, 5.52544880e+00,\n",
       "       8.41811872e+00, 8.40511847e+00, 5.48934960e+00, 5.92268968e+00,\n",
       "       5.86548424e+00, 4.38012035e+10, 6.45537472e+00, 7.24933290e+00,\n",
       "       9.38725591e+00, 7.48817253e+00, 7.95080519e+00, 6.83649302e+00,\n",
       "       5.68301034e+00, 5.68104172e+00, 4.65108657e+00, 5.82036304e+00,\n",
       "       8.15153003e+00, 9.09158254e+00, 5.87239289e+00, 3.64797711e+00,\n",
       "       7.40111446e+00, 5.98019981e+00, 6.17557907e+00, 6.02624154e+00,\n",
       "       5.27679420e+00, 8.80220914e+00, 1.00455437e+01, 9.07778788e+00,\n",
       "       5.93950701e+00, 6.21745896e+00, 5.66961527e+00, 6.37374616e+00,\n",
       "       6.18986630e+00, 6.28436828e+00, 4.60732150e+00, 7.98834682e+00,\n",
       "       4.38012036e+10, 4.53558707e+00, 6.85099864e+00, 6.22774243e+00,\n",
       "       1.09858549e+01, 7.76253796e+00, 6.08114004e+00, 5.20649433e+00,\n",
       "       1.00439172e+01, 6.56095862e+00, 7.93826413e+00, 8.01129842e+00,\n",
       "       8.14000177e+00, 5.97812247e+00, 7.35538054e+00, 4.66103530e+00,\n",
       "       6.89483547e+00, 5.71916008e+00, 8.39165235e+00, 6.81288338e+00,\n",
       "       8.92093110e+00, 7.00427437e+00, 8.62005210e+00, 5.49743986e+00,\n",
       "       8.50404763e+00, 8.59367061e+00, 7.63936710e+00, 9.67386699e+00,\n",
       "       7.31791115e+00, 1.05403075e+01, 6.05666137e+00, 6.41609049e+00,\n",
       "       5.79767108e+00, 8.63271523e+00, 8.81849837e+00, 8.77893949e+00,\n",
       "       6.05387759e+00, 6.25847340e+00, 7.44560051e+00, 9.66789770e+00,\n",
       "       5.80885339e+00, 6.11343408e+00, 7.66118455e+00, 8.44385624e+00,\n",
       "       4.15607500e+00, 8.88541126e+00, 4.38012036e+10, 6.05764008e+00,\n",
       "       6.06068301e+00, 9.22584963e+00, 6.24772239e+00, 7.42782855e+00,\n",
       "       4.38012036e+10, 6.15916657e+00, 7.31791115e+00, 6.14406276e+00,\n",
       "       6.96516562e+00, 7.19440675e+00, 5.77079558e+00, 7.35969687e+00,\n",
       "       3.19374180e+00, 7.89364696e+00, 5.22160363e+00, 7.73917747e+00,\n",
       "       4.00609660e+00, 9.67782307e+00, 6.59905863e+00, 6.06431794e+00,\n",
       "       9.54825258e+00, 8.34171176e+00, 4.38012035e+10, 8.39739037e+00,\n",
       "       6.26114273e+00, 6.86733699e+00, 7.32217193e+00, 6.40679240e+00,\n",
       "       6.10311770e+00, 4.31976700e+00, 1.01378229e+01, 5.90849566e+00,\n",
       "       5.62344980e+00, 9.43400693e+00, 5.22453237e+00, 6.85365558e+00,\n",
       "       4.38012036e+10, 9.54088449e+00, 9.72450352e+00, 4.81142807e+00,\n",
       "       6.05333638e+00, 8.54743958e+00, 8.90689254e+00, 5.17512107e+00,\n",
       "       8.90213346e+00, 5.53297830e+00, 9.42316341e+00, 6.01021528e+00,\n",
       "       3.30745673e+00, 5.10946321e+00, 6.71345544e+00, 5.25461316e+00,\n",
       "       6.37694335e+00, 8.35877395e+00, 8.17312837e+00, 7.06420088e+00,\n",
       "       8.35913372e+00, 5.66724324e+00, 9.67092896e+00, 7.54594541e+00,\n",
       "       7.05887771e+00, 1.10149727e+01, 6.37738585e+00, 8.38959789e+00,\n",
       "       4.78345776e+00, 5.89747572e+00, 4.26221991e+00, 6.22309494e+00,\n",
       "       6.26061940e+00, 6.36062837e+00, 9.44407463e+00, 9.24952745e+00,\n",
       "       8.26979780e+00, 1.11594348e+01, 6.77841806e+00, 8.20445108e+00,\n",
       "       7.99819088e+00, 7.30048227e+00, 9.55275345e+00, 6.09076071e+00,\n",
       "       9.37014389e+00, 7.33420515e+00, 6.48109078e+00, 8.01133299e+00,\n",
       "       8.11819506e+00, 8.41621614e+00, 4.18346667e+00, 7.84334779e+00,\n",
       "       4.88676572e+00, 9.67865372e+00, 5.34869266e+00, 5.62652755e+00,\n",
       "       7.76190758e+00, 4.30052924e+00, 5.03690505e+00, 5.71675134e+00,\n",
       "       5.46380568e+00, 8.72852659e+00, 8.47268486e+00, 9.39093494e+00,\n",
       "       6.03365350e+00, 5.19789314e+00, 4.99094772e+00, 9.94531465e+00,\n",
       "       1.01962025e+01, 4.38012036e+10, 6.58193111e+00, 5.72576380e+00,\n",
       "       4.90345335e+00, 7.68050742e+00, 5.42028999e+00, 2.03086710e+00,\n",
       "       8.12943602e+00, 5.92875528e+00, 8.04396057e+00, 4.50198078e+00,\n",
       "       5.58145642e+00, 4.38012036e+10, 5.11040688e+00, 6.59761500e+00,\n",
       "       7.04348230e+00, 7.82254624e+00, 1.08329535e+01, 6.49073148e+00,\n",
       "       4.84742951e+00, 8.17115569e+00, 7.95593333e+00, 9.28276181e+00,\n",
       "       9.19563818e+00, 1.23151021e+01, 8.55169916e+00, 8.76353908e+00,\n",
       "       7.54200816e+00, 9.55580950e+00, 7.65766191e+00, 6.05813169e+00,\n",
       "       8.19125223e+00, 5.41525054e+00, 9.01861978e+00, 6.40543413e+00,\n",
       "       6.12646198e+00, 5.00283623e+00, 7.47771955e+00, 8.72674727e+00,\n",
       "       6.53228831e+00, 5.14763880e+00, 7.49260235e+00, 5.17201495e+00,\n",
       "       8.86568093e+00, 5.39880967e+00, 5.73103189e+00, 6.09869003e+00,\n",
       "       7.14216089e+00, 8.26198840e+00, 7.67339659e+00, 4.38012036e+10,\n",
       "       4.18346667e+00, 9.38600779e+00, 9.99756980e+00, 5.47636604e+00,\n",
       "       8.74063945e+00, 7.06260490e+00, 9.50066161e+00, 9.01861978e+00,\n",
       "       6.92912316e+00, 5.71788144e+00, 5.88847423e+00, 8.32969117e+00,\n",
       "       8.35982180e+00, 4.38012036e+10, 7.51059270e+00, 8.83899140e+00,\n",
       "       7.34871602e+00, 6.08408880e+00, 7.16847372e+00, 6.14082742e+00,\n",
       "       3.75156784e+00, 6.03459883e+00, 5.10069013e+00, 6.09113765e+00,\n",
       "       6.02221155e+00, 4.38012036e+10, 5.64061069e+00, 1.30298448e+00,\n",
       "       9.47908211e+00, 6.75137448e+00, 5.19347739e+00, 5.70664406e+00,\n",
       "       8.87367296e+00, 4.38012036e+10, 5.35251045e+00, 5.34205556e+00,\n",
       "       6.91852593e+00, 3.43226147e+00, 9.00915265e+00, 6.54395843e+00,\n",
       "       8.76956511e+00, 9.05633688e+00, 4.38012036e+10, 5.99191880e+00,\n",
       "       9.04751253e+00, 8.04898477e+00, 5.33131695e+00, 5.31705236e+00,\n",
       "       6.12241626e+00, 4.77266288e+00, 7.49828100e+00, 1.14331613e+01,\n",
       "       5.65726519e+00, 5.30737972e+00, 4.33945251e+00, 6.34663773e+00,\n",
       "       9.17890501e+00, 8.41123462e+00, 6.36984110e+00, 1.26893103e+01,\n",
       "       6.32592607e+00, 5.98837519e+00, 8.15829325e+00, 5.99710083e+00,\n",
       "       6.09393573e+00, 5.96393228e+00, 6.41784334e+00, 6.04658079e+00,\n",
       "       6.23943877e+00, 6.30285549e+00, 6.56401110e+00, 4.46225905e+00,\n",
       "       6.56711292e+00, 6.76562858e+00, 1.11369669e+01, 7.14037347e+00,\n",
       "       7.56988978e+00, 2.55428958e+00, 7.90646100e+00, 4.38012036e+10,\n",
       "       9.41760731e+00, 9.05973911e+00, 8.30317593e+00, 8.60424614e+00,\n",
       "       7.36192250e+00, 5.17647362e+00, 9.90155697e+00, 5.16657972e+00,\n",
       "       6.25853562e+00, 1.25329711e+01, 5.08899975e+00, 7.43121600e+00,\n",
       "       4.17963767e+00, 1.13508973e+01, 8.13998842e+00, 5.34229732e+00,\n",
       "       6.09012294e+00, 4.35732341e+00, 6.03092170e+00, 4.74545908e+00,\n",
       "       7.63700008e+00, 6.68720675e+00, 5.49694586e+00, 6.84790349e+00,\n",
       "       5.73052359e+00, 5.79392600e+00, 6.75088048e+00, 6.10083795e+00,\n",
       "       9.44129276e+00, 5.75476909e+00, 4.51178312e+00, 6.78001237e+00,\n",
       "       6.05880475e+00, 4.38012036e+10, 8.12943602e+00, 5.07806540e+00,\n",
       "       1.15059633e+01, 6.34835219e+00, 6.41778183e+00, 4.81442761e+00,\n",
       "       9.39070058e+00, 8.13059831e+00, 5.84610343e+00, 6.98039651e+00,\n",
       "       4.50859070e+00, 8.90685582e+00, 4.96403074e+00, 7.66118455e+00,\n",
       "       5.06871009e+00, 4.99601698e+00, 4.93111777e+00, 8.91077232e+00,\n",
       "       5.86593151e+00, 6.45086026e+00, 5.97853398e+00, 3.21663046e+00,\n",
       "       1.19301424e+01, 8.44171453e+00, 8.21083879e+00, 4.38012036e+10,\n",
       "       1.33003795e+01, 6.70572186e+00, 9.98008943e+00, 5.65823936e+00,\n",
       "       5.10792732e+00, 6.79277325e+00, 1.36664317e+01, 9.67744875e+00,\n",
       "       3.81981897e+00, 6.05266953e+00, 8.12784553e+00, 2.82869792e+00,\n",
       "       4.27918839e+00, 7.75308585e+00, 6.07789302e+00, 7.37790513e+00,\n",
       "       7.61479735e+00])"
      ]
     },
     "execution_count": 46,
     "metadata": {},
     "output_type": "execute_result"
    }
   ],
   "source": [
    "test_linear = Linear_model.predict(X_real)\n",
    "test_linear"
   ]
  },
  {
   "cell_type": "markdown",
   "metadata": {},
   "source": [
    "_____________________________________________________________________________________________________________________________"
   ]
  },
  {
   "cell_type": "markdown",
   "metadata": {},
   "source": [
    "#### Using The Lasso Regression"
   ]
  },
  {
   "cell_type": "code",
   "execution_count": 47,
   "metadata": {},
   "outputs": [
    {
     "data": {
      "text/plain": [
       "Lasso(alpha=0.01, copy_X=True, fit_intercept=True, max_iter=1000,\n",
       "      normalize=False, positive=False, precompute=False, random_state=42,\n",
       "      selection='cyclic', tol=0.0001, warm_start=False)"
      ]
     },
     "execution_count": 47,
     "metadata": {},
     "output_type": "execute_result"
    }
   ],
   "source": [
    "#fitting the data using Lasso\n",
    "def lasso_Regression(X, y):\n",
    "    global Lasso_model\n",
    "    Lasso_model = Lasso(alpha=0.01, random_state=42)\n",
    "    Lasso_model.fit(X, y)\n",
    "    return Lasso_model\n",
    "\n",
    "lasso_Regression(X_train, y_train)"
   ]
  },
  {
   "cell_type": "code",
   "execution_count": 48,
   "metadata": {},
   "outputs": [
    {
     "name": "stdout",
     "output_type": "stream",
     "text": [
      "R2 Score is : 0.900282998756144 | Root Mean Square Error is : 0.6639491624988234\n",
      "R2 Score is : 0.8883608048734336 | Root Mean Square Error is : 0.7146882823898116\n"
     ]
    }
   ],
   "source": [
    "model_test(Lasso_model, X_train, y_train)\n",
    "model_test(Lasso_model, X_test, y_test)"
   ]
  },
  {
   "cell_type": "markdown",
   "metadata": {},
   "source": [
    "Prediction on test set"
   ]
  },
  {
   "cell_type": "code",
   "execution_count": 49,
   "metadata": {},
   "outputs": [
    {
     "data": {
      "text/plain": [
       "array([ 1.01397333e+01,  1.26047489e+01,  9.38827579e+00,  8.88525797e+00,\n",
       "        8.12803107e+00, -7.22680305e+00,  4.29385055e+00,  7.39894948e+00,\n",
       "        8.22938652e+00,  9.43948674e+00,  5.71528955e+00,  3.34701672e+01,\n",
       "        8.21704421e+00,  5.06931557e+00,  3.98048578e+00,  5.97261458e+00,\n",
       "        7.84195141e+00,  5.34250155e+00,  1.30425905e+01,  5.97614329e+00,\n",
       "        5.59098404e+00, -1.06677671e+00,  5.87842838e+00,  6.96724953e+00,\n",
       "        5.45907954e+00,  6.14687216e+00,  7.83877096e+00,  8.03768468e+00,\n",
       "        7.21857521e+00,  4.53557033e+00,  8.14406584e+00,  5.71747993e+00,\n",
       "        1.01456458e+01,  7.69489685e+00, -4.65873176e+01,  1.00536280e+01,\n",
       "        1.14128189e+01,  1.34341939e+01,  6.23229540e+00,  6.06843653e+00,\n",
       "        8.97404698e+00,  6.26087067e+00,  4.37891476e+00,  5.96709723e+00,\n",
       "        5.52720799e+00,  5.61097482e+00,  7.64292185e+00,  5.65927228e+00,\n",
       "        5.84901007e+00, -4.34927388e+01, -8.68803849e+01,  5.97925751e+00,\n",
       "        6.04296604e+00,  1.51638357e+01,  8.78176756e+00,  5.64258552e+00,\n",
       "        1.09058246e+01,  9.51267471e+00,  7.63270468e+00,  6.33183918e+00,\n",
       "        7.10945559e+00,  1.24976688e+01,  5.96504118e+00,  9.61399137e+00,\n",
       "        5.49443465e+00,  6.00514685e+00,  6.28795678e+00,  4.72602908e+00,\n",
       "        2.59116225e+01,  6.68131388e+00,  4.89441987e+00,  5.31957348e+00,\n",
       "        4.41922949e+00,  7.66235102e+00,  6.36647531e+00,  5.32538786e+00,\n",
       "        5.79585253e+00,  9.56776064e+00,  1.13673624e+01,  6.17254758e+00,\n",
       "        6.69172821e+00,  7.72366476e+00,  6.13743183e+00,  5.52110273e+00,\n",
       "        2.02413703e+00,  3.36822105e+00,  7.30861870e+00,  1.23994697e+01,\n",
       "        4.18691244e+00,  6.48146763e+00,  9.14776166e+00,  9.78389944e+00,\n",
       "        7.45399613e+00,  5.78411800e+00,  6.04103278e+00,  6.41116665e+00,\n",
       "        8.38583210e+00,  8.89851373e+00,  6.45176122e+00,  5.69172022e+00,\n",
       "        1.17605861e+01,  6.19508532e+00,  6.20300276e+00,  7.61777261e+00,\n",
       "        6.26661181e+00,  8.95750551e+00,  8.74159447e+00,  3.62968075e+00,\n",
       "        9.37310224e+00,  4.30817425e+00,  5.08307945e+00,  6.76946002e+00,\n",
       "        5.78451567e+00,  4.84331186e+00,  6.80643703e+00,  9.39166424e+00,\n",
       "        5.61715641e+00,  1.04574237e+01,  4.77930363e+00,  6.08568585e+00,\n",
       "        6.01717262e+00,  4.73031701e+00,  9.19915583e+00, -4.67016647e+00,\n",
       "        9.13993512e+00,  7.59772787e+00,  4.87818469e+00,  9.50936725e+00,\n",
       "        1.00728068e+01,  5.86941462e+00,  7.20793050e+00,  5.75450825e+00,\n",
       "        9.51863163e+00,  8.60093007e+00, -8.77360044e+01,  6.01602053e+00,\n",
       "        6.96164758e+00,  7.16974443e+00,  7.64292847e+00,  5.68115591e+00,\n",
       "        8.00113115e+00,  1.80707130e+01,  8.69784383e+00,  5.50459337e+00,\n",
       "        9.12775327e+00,  6.31924800e+00,  5.87310956e+00,  6.32450206e+00,\n",
       "        5.07197811e+00,  6.93698134e+00,  9.27744649e+00,  7.78140388e+00,\n",
       "        5.85929038e+00,  9.17901289e+00,  6.96511102e+00,  1.13108549e+01,\n",
       "        4.89005862e+00,  5.03968769e+00,  6.14357639e+00,  6.07548122e+00,\n",
       "        8.28616873e+00,  9.03513358e+00,  6.81994574e+00,  8.17396172e+00,\n",
       "        7.40914995e+00,  7.61552202e+00,  6.74978753e+00,  6.78845969e+00,\n",
       "        5.38817176e+00,  7.82264367e+00,  8.87540251e+00,  6.88821311e+00,\n",
       "        5.29022897e+00,  1.12508138e+01,  5.81205958e+00,  4.85303099e+00,\n",
       "        7.04825565e+00,  5.54625644e+00,  6.13984174e+00,  7.13677832e+00,\n",
       "        5.17954858e+00, -1.12786733e+02,  1.13114998e+01,  7.61523127e+00,\n",
       "        6.56467390e+00, -1.12993334e+02,  5.69458722e+00,  1.01457047e+01,\n",
       "        6.91020844e+00,  5.46959554e+00,  5.68635075e+00,  9.15285498e+00,\n",
       "        8.15775364e+00,  3.95783480e+00,  9.27779122e+00,  5.69484372e+00,\n",
       "        8.43469751e+00,  6.71230838e+00,  5.86365843e+00,  9.32483960e+00,\n",
       "        6.60149938e+00, -4.21552038e+01,  8.10993105e+00,  2.35002555e+00,\n",
       "        6.43565247e+00, -1.49165820e+01,  8.38272165e+00,  6.96724953e+00,\n",
       "        7.54248256e+00,  8.44435569e+00,  7.32916305e+00,  1.53425912e+01,\n",
       "        5.89024222e+00,  6.20753229e+00,  9.11983511e+00,  5.69661786e+00,\n",
       "        5.73300385e+00,  5.67073673e+00,  9.25347646e+00,  8.29529362e+00,\n",
       "        5.48943763e+00,  5.32487815e+00,  8.64290544e+00,  1.13840271e+01,\n",
       "        1.20713649e+01,  6.34404611e+00,  5.84415236e+00,  5.52908651e+00,\n",
       "        8.41464052e+00,  5.68520258e+00,  5.44194910e+00,  1.08815145e+01,\n",
       "        7.60995099e+00,  5.56511407e+00,  6.19522843e+00,  5.93258434e+00,\n",
       "        1.08065146e+01,  8.79992718e+00,  4.75432986e+00,  5.74207343e+00,\n",
       "        4.88560010e+00,  5.63237059e+00,  6.49397115e+00,  7.75605378e+00,\n",
       "        1.14058036e+01,  6.79819976e+00,  6.90993434e+00,  7.31952471e+00,\n",
       "        5.61762605e+00,  1.01444961e+01,  7.74607869e+00,  9.77123942e+00,\n",
       "        5.19944212e+00,  5.41109908e+00,  6.33176258e+00, -2.38956746e+01,\n",
       "        7.06630495e+00,  9.43246589e+00,  8.89615050e+00,  8.48448738e+00,\n",
       "        8.98872822e+00,  9.88836602e+00,  6.14195175e+00,  5.98163888e+00,\n",
       "        4.88588358e+00,  7.16697390e+00,  5.20495113e+00,  6.08216109e+00,\n",
       "        2.86330000e+00,  6.34045116e+00,  8.26755481e+00,  6.32642050e+00,\n",
       "        1.17489381e+01,  1.73872513e+00,  8.13853171e+00,  9.65388473e+00,\n",
       "       -3.29170366e-02,  6.32833937e+00,  5.22627866e+00,  7.37151996e+00,\n",
       "        5.55174440e+00,  5.20744949e+00,  6.02833670e+00,  4.06451646e+00,\n",
       "        9.52062441e+00,  1.24026752e+00,  5.96604975e+00,  5.61320136e+00,\n",
       "        8.30986865e+00,  8.52871585e+00,  5.91268255e+00,  5.83321169e+00,\n",
       "        5.96856043e+00, -8.72801444e+01,  6.35268827e+00,  7.06746238e+00,\n",
       "        9.45875988e+00,  7.54168178e+00,  7.81985105e+00,  6.98836082e+00,\n",
       "        5.57921589e+00,  5.81655746e+00,  4.64445243e+00,  5.89098057e+00,\n",
       "        8.14063509e+00,  9.17484228e+00,  5.74035652e+00,  3.60309205e+00,\n",
       "        7.34459816e+00,  6.16200384e+00,  6.04208545e+00,  5.94560836e+00,\n",
       "        5.34552505e+00,  8.69649104e+00,  9.89151994e+00,  8.97346164e+00,\n",
       "        5.86291978e+00,  6.01546164e+00,  5.71332081e+00,  6.31220381e+00,\n",
       "        6.00808344e+00,  6.27552469e+00,  4.66560262e+00,  7.92670210e+00,\n",
       "        8.26540673e+00,  4.49151484e+00,  6.93320433e+00,  6.02073038e+00,\n",
       "        1.10565219e+01,  7.75925190e+00,  5.87147531e+00,  5.21654349e+00,\n",
       "        1.00331863e+01,  6.51125454e+00,  8.07520226e+00,  7.82553205e+00,\n",
       "        8.22869979e+00,  6.11755240e+00,  7.30526533e+00,  5.12448561e+00,\n",
       "        6.77231917e+00,  5.79536087e+00,  8.46868595e+00,  6.87296348e+00,\n",
       "        8.81362498e+00,  6.84703194e+00,  8.61076897e+00,  5.47462434e+00,\n",
       "        8.45375132e+00,  8.50200207e+00,  7.56082335e+00,  9.74407849e+00,\n",
       "        7.44534248e+00,  1.05264216e+01,  6.07245938e+00,  6.33608402e+00,\n",
       "        5.74949098e+00,  8.59751794e+00,  8.87332414e+00,  8.66985182e+00,\n",
       "        6.08375604e+00,  6.17718961e+00,  7.50045458e+00,  9.74861356e+00,\n",
       "        5.84554369e+00,  6.17140344e+00,  7.46873362e+00,  8.24934421e+00,\n",
       "        4.17733172e+00,  9.06404795e+00,  1.81354483e+00,  6.11654764e+00,\n",
       "        5.96031927e+00,  9.29859603e+00,  6.27222049e+00,  7.31376130e+00,\n",
       "        6.01381337e+00,  6.08594217e+00,  7.44534248e+00,  6.29228272e+00,\n",
       "        6.79031028e+00,  7.06901354e+00,  5.81758733e+00,  7.29501921e+00,\n",
       "        3.24162123e+00,  7.87570728e+00,  5.33706192e+00,  7.71351124e+00,\n",
       "        4.03099102e+00,  9.78482394e+00,  6.62371584e+00,  6.14365751e+00,\n",
       "        9.63393229e+00,  8.41255371e+00, -8.80945463e+01,  8.71435285e+00,\n",
       "        6.18401569e+00,  6.69667308e+00,  7.24938910e+00,  6.32259689e+00,\n",
       "        5.93962649e+00,  4.02953528e+00,  1.00463576e+01,  5.99375677e+00,\n",
       "        5.78160130e+00,  9.38944533e+00,  5.28841789e+00,  6.89412814e+00,\n",
       "        1.02689356e+00,  9.37847068e+00,  9.77855821e+00,  4.84331186e+00,\n",
       "        6.10707723e+00,  8.52462223e+00,  9.21614873e+00,  5.20850511e+00,\n",
       "        8.87089333e+00,  5.58305863e+00,  9.29972145e+00,  6.10286712e+00,\n",
       "        3.32108311e+00,  5.06307552e+00,  6.77988323e+00,  5.28235831e+00,\n",
       "        6.19189454e+00,  8.43156022e+00,  8.11198111e+00,  6.97045704e+00,\n",
       "        8.29502909e+00,  5.55326100e+00,  9.56229472e+00,  7.44860848e+00,\n",
       "        7.03755629e+00,  1.09878596e+01,  6.31601220e+00,  8.41604986e+00,\n",
       "        4.93858128e+00,  5.68963554e+00,  4.26263951e+00,  6.02086242e+00,\n",
       "        6.30475430e+00,  6.18795100e+00,  9.31704528e+00,  9.22645231e+00,\n",
       "        8.31954135e+00,  1.11777253e+01,  6.77628681e+00,  8.19560658e+00,\n",
       "        8.12307044e+00,  7.24940539e+00,  9.39410193e+00,  6.33674107e+00,\n",
       "        9.44523006e+00,  7.30098638e+00,  6.39806669e+00,  7.92640010e+00,\n",
       "        8.19013503e+00,  8.48172391e+00,  4.22289820e+00,  7.82033596e+00,\n",
       "        5.25866177e+00,  9.64580131e+00,  5.69947756e+00,  5.79479454e+00,\n",
       "        7.68719804e+00,  4.29935517e+00,  5.00917438e+00,  5.73622336e+00,\n",
       "        5.42345685e+00,  8.63617328e+00,  8.36017214e+00,  9.46284850e+00,\n",
       "        5.87153730e+00,  5.18169238e+00,  5.22791498e+00,  9.77598862e+00,\n",
       "        1.02871617e+01, -1.38790042e+01,  6.44485748e+00,  5.61052296e+00,\n",
       "        5.00598762e+00,  7.61686418e+00,  5.24823042e+00,  2.27708989e+00,\n",
       "        8.19356964e+00,  6.05843693e+00,  8.16740358e+00,  4.35498320e+00,\n",
       "        5.59679642e+00, -1.38789656e+01,  5.33105897e+00,  6.45445984e+00,\n",
       "        7.34076513e+00,  7.75352459e+00,  1.09058469e+01,  6.57681746e+00,\n",
       "        4.90889376e+00,  8.24026525e+00,  8.07990795e+00,  9.21550377e+00,\n",
       "        9.09014033e+00,  1.24030634e+01,  8.40845786e+00,  8.60231743e+00,\n",
       "        7.65983339e+00,  9.40724293e+00,  7.46327553e+00,  6.11680691e+00,\n",
       "        8.04435119e+00,  5.47724626e+00,  8.95750551e+00,  6.68818126e+00,\n",
       "        6.01688433e+00,  4.88560010e+00,  7.62702944e+00,  8.80144145e+00,\n",
       "        6.61106124e+00,  5.42553245e+00,  7.37234151e+00,  5.22039174e+00,\n",
       "        8.72106364e+00,  5.23310078e+00,  5.63097011e+00,  6.16601348e+00,\n",
       "        7.13464257e+00,  8.10398880e+00,  7.60995099e+00, -4.21538899e+01,\n",
       "        4.22289820e+00,  9.22472347e+00,  1.00520394e+01,  5.46728688e+00,\n",
       "        8.78716580e+00,  7.17671580e+00,  9.61156813e+00,  8.95750551e+00,\n",
       "        6.86087183e+00,  5.58033907e+00,  5.90074465e+00,  8.26710853e+00,\n",
       "        8.24947335e+00, -3.37570199e+00,  7.65815695e+00,  8.81756471e+00,\n",
       "        7.20765830e+00,  6.06028545e+00,  7.19827887e+00,  6.24296133e+00,\n",
       "        3.74649967e+00,  5.92362294e+00,  5.07537289e+00,  6.13603158e+00,\n",
       "        5.91995900e+00,  4.03325232e+00,  5.51930390e+00,  1.38285472e+00,\n",
       "        9.35888881e+00,  6.81998873e+00,  5.17413916e+00,  5.69793595e+00,\n",
       "        8.99409430e+00, -7.04151947e+00,  5.44673407e+00,  5.53315205e+00,\n",
       "        6.86370189e+00,  3.41197450e+00,  8.90344974e+00,  6.60149938e+00,\n",
       "        8.61081593e+00,  9.13793272e+00,  1.24026752e+00,  5.88588150e+00,\n",
       "        9.11308945e+00,  7.88520438e+00,  5.39973428e+00,  5.75208293e+00,\n",
       "        6.03719932e+00,  4.65219853e+00,  7.37756967e+00,  1.14081520e+01,\n",
       "        5.56863117e+00,  5.45015162e+00,  4.21527032e+00,  6.28439231e+00,\n",
       "        9.04320479e+00,  8.31833747e+00,  6.27221088e+00,  1.26053341e+01,\n",
       "        6.16797683e+00,  6.32505284e+00,  8.10141184e+00,  5.93230588e+00,\n",
       "        6.00108962e+00,  6.16665078e+00,  6.43259907e+00,  5.97636508e+00,\n",
       "        6.28705836e+00,  6.19279656e+00,  6.73739756e+00,  4.75605243e+00,\n",
       "        6.43553840e+00,  6.64817570e+00,  1.12119652e+01,  7.20250070e+00,\n",
       "        7.44717953e+00,  2.66746655e+00,  8.08267404e+00, -1.50029186e+01,\n",
       "        9.52279587e+00,  9.11473209e+00,  8.16073110e+00,  8.51434436e+00,\n",
       "        7.30620780e+00,  5.17590556e+00,  9.78761663e+00,  5.20173666e+00,\n",
       "        6.31406807e+00,  1.24128497e+01,  5.31684207e+00,  7.54524693e+00,\n",
       "        4.21757524e+00,  1.14695134e+01,  8.39053344e+00,  5.69768813e+00,\n",
       "        6.00109774e+00,  4.37891476e+00,  5.92512226e+00,  4.90308717e+00,\n",
       "        7.45355744e+00,  6.59325069e+00,  5.68960903e+00,  6.65965265e+00,\n",
       "        5.69818911e+00,  5.91839556e+00,  6.66132916e+00,  5.99538826e+00,\n",
       "        9.52953549e+00,  5.68077520e+00,  4.65560717e+00,  6.84850938e+00,\n",
       "        6.24296133e+00,  6.65679496e+00,  8.19356964e+00,  5.13877128e+00,\n",
       "        1.14599760e+01,  6.49522884e+00,  6.33870245e+00,  4.72781476e+00,\n",
       "        9.46700833e+00,  8.05689677e+00,  5.78588266e+00,  6.89060563e+00,\n",
       "        4.45587857e+00,  8.87379358e+00,  5.01584701e+00,  7.46873362e+00,\n",
       "        4.90674034e+00,  5.35823463e+00,  4.95209149e+00,  8.78946560e+00,\n",
       "        5.87033489e+00,  6.32976785e+00,  5.86724357e+00,  2.85447867e+00,\n",
       "        1.19187562e+01,  8.33252150e+00,  8.07030307e+00, -3.24536998e+00,\n",
       "        1.34341939e+01,  6.81070571e+00,  1.00606943e+01,  5.58469404e+00,\n",
       "        5.22257837e+00,  6.67423347e+00,  1.38248782e+01,  9.54818443e+00,\n",
       "        4.51295495e+00,  6.08268768e+00,  8.13104660e+00,  2.83902455e+00,\n",
       "        4.21756293e+00,  7.62722024e+00,  6.01810669e+00,  7.25805094e+00,\n",
       "        7.50786338e+00])"
      ]
     },
     "execution_count": 49,
     "metadata": {},
     "output_type": "execute_result"
    }
   ],
   "source": [
    "test_lasso = Lasso_model.predict(X_real)\n",
    "test_lasso"
   ]
  },
  {
   "cell_type": "markdown",
   "metadata": {},
   "source": [
    "______________________________________________________________________________________________________________________________"
   ]
  },
  {
   "cell_type": "markdown",
   "metadata": {},
   "source": [
    "#### Using Decision Tree"
   ]
  },
  {
   "cell_type": "code",
   "execution_count": 50,
   "metadata": {},
   "outputs": [
    {
     "data": {
      "text/plain": [
       "DecisionTreeRegressor(criterion='mse', max_depth=None, max_features=None,\n",
       "                      max_leaf_nodes=None, min_impurity_decrease=0.0,\n",
       "                      min_impurity_split=None, min_samples_leaf=1,\n",
       "                      min_samples_split=2, min_weight_fraction_leaf=0.0,\n",
       "                      presort=False, random_state=42, splitter='best')"
      ]
     },
     "execution_count": 50,
     "metadata": {},
     "output_type": "execute_result"
    }
   ],
   "source": [
    "def decision_Tree(X,y):\n",
    "    global dec_tree\n",
    "    dec_tree = DecisionTreeRegressor(random_state=42)\n",
    "    dec_tree.fit(X, y)\n",
    "    return dec_tree\n",
    "\n",
    "decision_Tree(X_train, y_train)"
   ]
  },
  {
   "cell_type": "code",
   "execution_count": 51,
   "metadata": {},
   "outputs": [
    {
     "name": "stdout",
     "output_type": "stream",
     "text": [
      "R2 Score is : 1.0 | Root Mean Square Error is : 1.091442167715669e-15\n",
      "R2 Score is : 0.865905801280755 | Root Mean Square Error is : 0.7832732736897103\n"
     ]
    }
   ],
   "source": [
    "model_test(dec_tree, X_train, y_train)\n",
    "model_test(dec_tree, X_test, y_test)"
   ]
  },
  {
   "cell_type": "markdown",
   "metadata": {},
   "source": [
    "Prediction on test set"
   ]
  },
  {
   "cell_type": "code",
   "execution_count": 52,
   "metadata": {},
   "outputs": [
    {
     "data": {
      "text/plain": [
       "array([10.82, 12.02, 10.  ,  8.74,  8.  , 11.12,  3.64,  6.64,  9.2 ,\n",
       "        9.29,  5.45, 12.02,  9.29,  4.44,  4.55,  6.11,  8.33,  4.63,\n",
       "        9.97,  6.19,  5.79, 11.12,  5.03,  7.78,  5.56,  6.91,  7.08,\n",
       "        7.97,  7.86,  7.37,  8.06,  5.57, 10.08,  7.65, 11.12,  9.84,\n",
       "       10.93, 11.96,  6.36,  7.04,  7.72,  8.77,  4.92,  6.24,  5.56,\n",
       "        5.24, 11.96,  5.56,  6.11, 11.12, 12.02,  5.45,  6.23, 11.12,\n",
       "        8.16,  4.76, 12.  ,  8.51,  6.32,  6.  ,  8.83, 11.23,  6.57,\n",
       "        9.32,  6.52,  6.19,  7.14,  6.15, 11.12,  7.1 ,  4.92,  4.56,\n",
       "        2.9 ,  8.  ,  6.94,  4.64,  6.11,  9.27, 10.93,  6.24,  6.23,\n",
       "       11.96,  5.9 ,  5.56,  1.11,  5.83,  7.33, 11.25,  5.32,  6.49,\n",
       "        9.38,  9.39,  8.77,  6.19,  6.  ,  6.33,  8.26,  9.2 ,  6.91,\n",
       "        5.56, 10.93,  6.62,  5.67,  7.65,  7.23,  8.74,  7.08,  2.73,\n",
       "       10.  , 11.12,  4.1 ,  7.65,  6.11,  4.24,  6.68, 10.  ,  5.33,\n",
       "        9.16,  4.44,  6.62,  5.95,  4.17,  9.97, 11.96,  8.31,  7.25,\n",
       "        4.35,  8.44,  9.84,  5.69, 10.08,  5.78,  9.26,  8.18, 12.02,\n",
       "        5.91,  7.78,  7.37,  7.57,  5.47,  7.97, 11.96,  8.86,  4.65,\n",
       "        8.8 ,  6.67,  5.38,  8.32,  5.46,  7.32, 10.  ,  8.84,  4.41,\n",
       "        8.07,  7.1 , 10.93,  4.38,  4.26,  6.  ,  6.  ,  7.98,  9.93,\n",
       "        6.11,  8.9 ,  7.72,  8.95,  7.78,  7.23,  5.  ,  7.61,  9.73,\n",
       "        7.67,  5.  , 12.  ,  6.23,  4.57,  6.23,  5.56,  6.19,  6.81,\n",
       "        5.  ,  8.33,  9.89,  6.9 ,  7.08,  8.33,  4.44,  9.84,  7.72,\n",
       "        4.5 ,  5.56,  8.31, 11.12,  4.54, 10.  ,  6.84,  9.  ,  6.11,\n",
       "        6.  ,  7.61,  7.39, 12.02,  8.83,  1.67,  6.33, 11.12,  8.18,\n",
       "        7.78,  7.6 ,  8.7 ,  7.33, 12.46,  5.38,  6.07,  9.37,  5.56,\n",
       "        5.71,  5.27, 10.16,  7.08,  5.55,  5.02,  8.87, 10.93, 11.25,\n",
       "        7.32,  5.76,  5.45,  9.  ,  5.56,  4.86, 10.73,  7.65,  5.45,\n",
       "        6.67,  6.11,  8.39,  8.74,  4.25,  5.89,  4.44,  5.33,  6.65,\n",
       "        8.  , 10.93,  7.87,  5.67,  7.65,  5.33,  9.16,  7.48,  9.76,\n",
       "        6.3 ,  4.58,  6.67, 11.12,  6.81,  8.44,  8.74,  8.21, 10.67,\n",
       "       10.67,  6.12,  5.67,  5.  ,  7.08,  5.33,  6.33,  4.37,  6.67,\n",
       "        6.32,  6.67, 10.93,  1.67,  7.71,  9.97, 11.12,  6.67,  6.  ,\n",
       "        8.72,  5.02,  6.75,  6.  ,  4.44,  9.29, 11.12,  6.27,  5.45,\n",
       "        8.2 ,  7.48,  6.  ,  5.59,  5.51, 12.02,  6.56,  7.  ,  8.31,\n",
       "        8.32,  6.6 ,  7.08,  5.56,  5.93,  4.44,  7.04,  8.66,  8.88,\n",
       "        5.89,  4.  ,  8.29,  6.36,  6.11,  7.34,  5.03,  8.18, 10.67,\n",
       "        8.74,  6.11,  4.46,  5.04,  7.24,  6.21,  6.67,  4.35,  7.08,\n",
       "       12.02,  3.89,  7.62,  5.95, 10.64,  7.08,  5.26,  5.63,  9.32,\n",
       "        6.66,  8.2 ,  8.  ,  7.39,  6.67,  7.2 ,  4.63,  6.47,  5.64,\n",
       "        9.17,  7.  ,  9.33,  6.81,  9.48,  5.06,  7.92,  8.02,  7.86,\n",
       "        9.6 ,  7.65,  8.69,  6.23,  6.67,  5.78,  9.54,  9.2 ,  8.26,\n",
       "        6.56,  6.57,  6.66,  9.2 ,  5.53,  7.08,  7.63,  7.05,  7.56,\n",
       "        8.3 , 11.12,  6.67,  6.11,  9.26,  7.24,  6.88, 11.12,  7.16,\n",
       "        7.65,  7.08, 10.08,  7.1 ,  7.23,  7.14,  2.5 ,  8.06,  6.  ,\n",
       "        7.08,  3.33,  8.44,  5.51,  6.33,  9.37,  9.  , 11.96,  9.17,\n",
       "        6.67,  7.92,  7.71,  6.62,  5.63,  3.33, 10.  ,  5.98,  7.78,\n",
       "        9.29,  4.58,  7.08, 11.12, 10.  ,  9.39,  4.24,  6.45,  8.2 ,\n",
       "        9.29,  4.68,  8.3 ,  5.33, 10.  ,  6.67,  2.68,  5.57,  8.61,\n",
       "        5.61,  5.61,  9.  ,  6.9 ,  7.78,  8.67,  6.84, 10.05,  7.78,\n",
       "        7.23, 10.93,  7.24,  7.08,  4.55,  5.56,  7.04,  5.93,  5.6 ,\n",
       "        6.  , 10.  ,  9.85,  9.2 ,  9.97,  7.92,  8.2 ,  7.39,  8.9 ,\n",
       "       10.  ,  7.08,  9.65,  7.08,  6.83,  7.87,  8.  ,  8.28,  4.44,\n",
       "        7.19,  5.  ,  8.29,  5.56,  5.61,  9.65,  4.  ,  4.86,  8.61,\n",
       "        5.56,  8.87,  8.47,  8.37,  5.89,  5.22,  5.5 , 10.16,  8.98,\n",
       "       12.02,  6.64,  5.56,  4.57,  7.65,  4.35,  3.28,  8.69,  7.46,\n",
       "        8.37,  3.33,  2.39, 12.02,  5.55,  7.14,  7.78,  7.87, 10.32,\n",
       "        6.45,  4.58,  8.72,  8.2 ,  9.27,  9.97, 11.34,  8.5 ,  9.  ,\n",
       "        8.61, 10.  ,  7.63,  6.67,  7.33,  5.27,  8.74,  7.1 ,  5.91,\n",
       "        4.44,  7.68,  8.74,  7.08,  6.56,  8.09,  4.68,  9.87,  6.3 ,\n",
       "        6.93,  6.79,  7.25,  9.2 ,  7.65, 12.02,  4.44,  9.38,  9.84,\n",
       "        6.67,  8.74,  7.34,  9.32,  8.74,  7.14,  6.36,  6.15,  9.04,\n",
       "        8.44, 11.12,  7.17,  9.48,  7.78,  5.84,  6.21,  6.36,  6.23,\n",
       "        6.56,  6.15,  6.  ,  6.11, 11.12,  5.57,  4.92, 10.  ,  7.67,\n",
       "        4.86,  5.95,  9.17, 11.12,  5.56,  5.64,  6.93,  4.88,  9.14,\n",
       "        7.39,  9.  ,  8.31, 11.12,  5.83,  8.99,  8.  ,  5.17,  6.  ,\n",
       "        6.13,  2.98,  7.5 , 10.93,  5.56,  5.2 ,  3.33,  7.56,  8.23,\n",
       "        8.2 ,  6.11, 12.  ,  6.64,  6.84,  7.08,  7.37,  6.14,  6.36,\n",
       "       10.75,  6.11,  6.47,  6.67,  6.84,  6.21,  6.56,  7.22, 10.32,\n",
       "        9.22,  6.69,  2.22,  7.97, 11.96,  8.47,  9.15,  8.66,  8.02,\n",
       "        7.51,  4.58, 10.67,  5.04,  6.45, 11.34,  5.52,  7.86,  5.45,\n",
       "        9.97,  8.14,  5.56,  6.11,  4.92,  6.11,  4.55,  7.86,  7.39,\n",
       "        6.27,  6.91,  5.63,  5.51,  7.22,  6.27,  8.96,  5.81,  4.44,\n",
       "        8.  ,  6.36, 11.96,  8.69,  4.47, 10.93,  7.78,  6.56,  4.54,\n",
       "        9.29,  8.11,  5.63,  6.11,  5.96,  8.74,  4.47,  7.63,  4.59,\n",
       "        4.63,  6.24,  9.33,  6.11,  6.67,  6.11,  1.59, 10.93,  8.2 ,\n",
       "        7.86, 11.12, 11.96,  7.33,  9.84,  5.56,  5.63,  7.22, 10.89,\n",
       "       10.05,  6.67,  5.44,  7.08,  2.22,  3.33, 10.08,  6.11,  7.25,\n",
       "        7.24])"
      ]
     },
     "execution_count": 52,
     "metadata": {},
     "output_type": "execute_result"
    }
   ],
   "source": [
    "test_decTree = dec_tree.predict(X_real)\n",
    "test_decTree"
   ]
  },
  {
   "cell_type": "markdown",
   "metadata": {},
   "source": [
    "______________________________________________________________________________________________________________________________"
   ]
  },
  {
   "cell_type": "markdown",
   "metadata": {},
   "source": [
    "#### Using Random Forest "
   ]
  },
  {
   "cell_type": "code",
   "execution_count": 65,
   "metadata": {},
   "outputs": [
    {
     "data": {
      "text/plain": [
       "DecisionTreeRegressor(criterion='mse', max_depth=None, max_features=None,\n",
       "                      max_leaf_nodes=None, min_impurity_decrease=0.0,\n",
       "                      min_impurity_split=None, min_samples_leaf=1,\n",
       "                      min_samples_split=2, min_weight_fraction_leaf=0.0,\n",
       "                      presort=False, random_state=42, splitter='best')"
      ]
     },
     "execution_count": 65,
     "metadata": {},
     "output_type": "execute_result"
    }
   ],
   "source": [
    "def random_Forest(X,y):\n",
    "    global rand_forest\n",
    "    rand_forest = RandomForestRegressor(n_estimators=350, max_depth=450, max_features=30, random_state=3)\n",
    "    rand_forest.fit(X, y)\n",
    "    return dec_tree\n",
    "\n",
    "random_Forest(X_train, y_train)"
   ]
  },
  {
   "cell_type": "code",
   "execution_count": 64,
   "metadata": {},
   "outputs": [
    {
     "name": "stdout",
     "output_type": "stream",
     "text": [
      "R2 Score is : 0.9922765642874342 | Root Mean Square Error is : 0.18478022457108023\n",
      "R2 Score is : 0.9182644863789159 | Root Mean Square Error is : 0.6115242890186768\n"
     ]
    }
   ],
   "source": [
    "model_test(rand_forest, X_train, y_train)\n",
    "model_test(rand_forest, X_test, y_test)"
   ]
  },
  {
   "cell_type": "markdown",
   "metadata": {},
   "source": [
    "Prediction on test set"
   ]
  },
  {
   "cell_type": "code",
   "execution_count": 55,
   "metadata": {},
   "outputs": [
    {
     "data": {
      "text/plain": [
       "array([10.79534286, 11.8824    , 10.        ,  8.73634286,  8.33151429,\n",
       "       11.62957143,  3.70785714,  7.12265714,  8.99251429,  9.29502857,\n",
       "        4.8822    , 11.72317143,  8.96091429,  4.52788571,  4.54877143,\n",
       "        6.11017143,  7.86714286,  4.56157143, 10.43317143,  6.025     ,\n",
       "        5.2902    , 11.518     ,  5.51725714,  7.98488571,  5.56      ,\n",
       "        6.44445714,  7.61071429,  7.97425714,  7.34468571,  7.18528571,\n",
       "        7.97537143,  5.57342857,  9.93431429,  7.65062857, 11.47134286,\n",
       "        9.84165714, 10.93085714, 11.64      ,  6.35942857,  6.58734286,\n",
       "        7.74582857,  8.17782857,  5.14514286,  6.30811429,  5.56      ,\n",
       "        5.171     , 11.74785714,  5.5644    ,  6.11014286, 11.45745714,\n",
       "       11.79637143,  6.19562857,  6.3432    , 11.75717143,  8.43974286,\n",
       "        5.80434286, 11.81617143,  8.95177143,  7.48837143,  6.0174    ,\n",
       "        7.94117143, 11.53657143,  6.35114286,  9.2088    ,  6.32497143,\n",
       "        6.1004    ,  6.91994286,  4.8652    , 11.55005714,  7.05948571,\n",
       "        5.49862857,  4.54857143,  3.21774286,  8.00271429,  6.90105714,\n",
       "        4.67782857,  6.11757143,  9.24657143, 10.93462857,  6.31237143,\n",
       "        6.31697143, 11.753     ,  5.94331429,  5.56      ,  1.1718    ,\n",
       "        6.068     ,  7.31608571, 11.4442    ,  4.8408    ,  7.07948571,\n",
       "        9.42088571,  9.53354286,  7.34037143,  5.94914286,  5.99591429,\n",
       "        6.40357143,  8.29768571,  8.8666    ,  6.98571429,  5.56      ,\n",
       "       10.95531429,  6.45611429,  5.99248571,  7.65305714,  7.03717143,\n",
       "        8.71457143,  7.76728571,  2.75568571,  9.99914286, 11.46565714,\n",
       "        3.93731429,  7.58065714,  6.11034286,  4.22448571,  6.8276    ,\n",
       "       10.        ,  5.32997143,  9.17811429,  4.44222857,  6.46122857,\n",
       "        5.9712    ,  4.21425714,  9.90391429, 11.72488571,  8.90157143,\n",
       "        7.26582857,  4.3494    ,  8.89385714,  9.89185714,  5.78834286,\n",
       "        7.70442857,  5.79034286,  9.23548571,  8.30982857, 11.79311429,\n",
       "        6.10845714,  7.92577143,  7.39431429,  7.73225714,  5.31111429,\n",
       "        7.96197143, 11.63228571,  8.94985714,  5.12242857,  8.99328571,\n",
       "        6.67      ,  5.43025714,  8.07162857,  5.51208571,  8.58734286,\n",
       "        9.99914286,  8.10922857,  4.55797143,  8.06902857,  7.09794286,\n",
       "       10.97048571,  5.33908571,  4.66025714,  6.03677143,  5.9996    ,\n",
       "        8.01494286,  9.82654286,  7.01134286,  8.43925714,  7.27322857,\n",
       "        8.38777143,  7.78357143,  7.08848571,  5.03114286,  7.38257143,\n",
       "        8.94797143,  7.39337143,  5.01868571, 11.82431429,  6.084     ,\n",
       "        4.67934286,  6.6188    ,  5.56565714,  6.03128571,  6.93245714,\n",
       "        5.03185714,  6.3066    , 10.00345714,  7.45182857,  7.23425714,\n",
       "        6.297     ,  3.94157143,  9.8394    ,  7.55985714,  5.89734286,\n",
       "        5.56      ,  8.98817143, 11.61848571,  4.54391429,  9.99914286,\n",
       "        6.50291429,  9.02931429,  7.29731429,  6.        ,  8.05691429,\n",
       "        7.52288571, 11.7548    ,  8.27171429,  1.6718    ,  6.33468571,\n",
       "       11.65422857,  8.1286    ,  7.98488571,  7.52925714,  8.47974286,\n",
       "        7.31357143, 11.71388571,  5.43574286,  6.55037143,  9.46245714,\n",
       "        5.56      ,  5.80417143,  5.3204    , 10.61245714,  7.27611429,\n",
       "        5.58442857,  5.04251429,  8.4348    , 10.94414286, 11.41197143,\n",
       "        6.57165714,  5.38397143,  5.45085714,  9.04314286,  5.56      ,\n",
       "        4.82234286, 10.42451429,  7.65368571,  5.43465714,  6.67      ,\n",
       "        6.1092    ,  8.67985714,  8.73788571,  4.06102857,  5.39017143,\n",
       "        4.43994286,  5.29354286,  6.57734286,  8.04634286, 10.93934286,\n",
       "        7.09262857,  5.69734286,  7.6548    ,  5.32574286,  9.24854286,\n",
       "        8.30134286,  9.63145714,  5.19451429,  4.85794286,  6.67      ,\n",
       "       11.52937143,  7.14042857,  8.5472    ,  8.73862857,  8.30417143,\n",
       "       10.68837143, 10.64708571,  6.15682857,  6.0314    ,  5.02151429,\n",
       "        7.14317143,  4.99031429,  6.41868571,  4.89022857,  6.66934286,\n",
       "        8.28402857,  6.67188571, 10.93268571,  1.40657143,  7.89648571,\n",
       "        9.95445714, 11.4972    ,  6.67      ,  6.1216    ,  8.01268571,\n",
       "        5.07428571,  6.99062857,  6.05517143,  4.42337143,  9.30542857,\n",
       "       11.62382857,  5.98605714,  5.4312    ,  8.228     ,  8.17451429,\n",
       "        5.91371429,  5.8016    ,  5.52725714, 11.728     ,  6.67411429,\n",
       "        7.00062857,  8.71697143,  8.35177143,  8.23414286,  6.73154286,\n",
       "        5.56      ,  6.00411429,  4.45882857,  6.33705714,  8.64202857,\n",
       "        8.84834286,  5.31831429,  3.90737143,  8.30034286,  6.3162    ,\n",
       "        6.12454286,  7.36148571,  5.25668571,  8.36528571, 10.63097143,\n",
       "        8.73537143,  6.11122857,  5.5024    ,  5.2944    ,  6.71      ,\n",
       "        6.13505714,  6.6896    ,  4.4464    ,  7.67491429, 11.72497143,\n",
       "        3.86868571,  7.41588571,  5.97322857, 10.47388571,  7.52342857,\n",
       "        5.5874    ,  4.89777143,  9.088     ,  6.2754    ,  8.19382857,\n",
       "        8.16808571,  8.29177143,  6.67      ,  7.55605714,  4.64765714,\n",
       "        6.85177143,  5.41254286,  8.98591429,  7.00582857,  9.37522857,\n",
       "        6.84148571,  9.06422857,  5.07657143,  7.9158    ,  8.28468571,\n",
       "        7.14357143,  9.56491429,  7.65022857,  9.33271429,  6.49014286,\n",
       "        6.66934286,  5.8694    ,  9.06777143,  8.83654286,  8.35931429,\n",
       "        6.6942    ,  6.4278    ,  6.92957143,  9.29037143,  5.77988571,\n",
       "        6.81194286,  7.58885714,  7.78311429,  6.00671429,  8.53428571,\n",
       "       11.64817143,  6.67      ,  6.10977143,  9.14874286,  6.8248    ,\n",
       "        6.91288571, 11.50571429,  6.19057143,  7.65022857,  6.96734286,\n",
       "        6.18594286,  7.12817143,  7.12951429,  7.11257143,  2.69731429,\n",
       "        7.93451429,  6.11637143,  8.13682857,  3.39434286,  8.83202857,\n",
       "        6.60302857,  6.236     ,  9.29442857,  9.04297143, 11.73394286,\n",
       "        8.39145714,  6.67125714,  7.29911429,  7.28111429,  6.58097143,\n",
       "        5.87165714,  3.11582857, 10.087     ,  5.52682857,  5.47222857,\n",
       "        9.29537143,  4.83488571,  7.69625714, 11.62854286, 10.        ,\n",
       "        9.50277143,  4.22448571,  6.08197143,  8.37402857,  9.29474286,\n",
       "        4.6648    ,  8.40554286,  5.33194286, 10.        ,  6.68468571,\n",
       "        3.95157143,  4.8886    ,  8.03934286,  5.14665714,  6.45831429,\n",
       "        9.03765714,  7.6944    ,  7.9862    ,  8.68068571,  6.9004    ,\n",
       "       10.10365714,  7.78657143,  7.22028571, 10.57488571,  6.73637143,\n",
       "        7.75605714,  4.54777143,  5.56      ,  6.20925714,  6.01342857,\n",
       "        8.16731429,  6.01211429, 10.        ,  9.90102857,  9.04162857,\n",
       "       10.26048571,  7.44594286,  8.34014286,  8.13211429,  8.35717143,\n",
       "       10.00002857,  7.10651429,  9.26768571,  8.07708571,  6.21611429,\n",
       "        8.08025714,  8.1772    ,  8.84057143,  4.4402    ,  7.33842857,\n",
       "        5.00697143,  8.67334286,  5.56      ,  6.06554286,  8.54831429,\n",
       "        4.10602857,  4.8382    ,  8.03934286,  5.57088571,  8.42377143,\n",
       "        8.35874286,  8.71474286,  5.784     ,  5.01105714,  5.54728571,\n",
       "       10.09397143,  9.13148571, 11.71385714,  6.48085714,  5.56      ,\n",
       "        4.64777143,  7.65368571,  4.5886    ,  4.03482857,  8.40362857,\n",
       "        6.89445714,  8.27068571,  3.26317143,  3.862     , 11.78831429,\n",
       "        5.6144    ,  6.94154286,  7.26394286,  7.8818    , 10.3352    ,\n",
       "        6.52485714,  4.69511429,  8.36971429,  8.2466    ,  8.88565714,\n",
       "        9.66814286, 11.59985714,  8.72134286,  9.14782857,  8.28294286,\n",
       "       10.        ,  7.50462857,  6.67      ,  7.8672    ,  5.28465714,\n",
       "        8.71457143,  7.06714286,  6.04125714,  4.43994286,  7.71514286,\n",
       "        8.7386    ,  8.43574286,  6.77508571,  7.5962    ,  4.6728    ,\n",
       "        9.37142857,  4.69071429,  6.64437143,  6.70222857,  7.2506    ,\n",
       "        8.7934    ,  7.65368571, 11.76211429,  4.4402    ,  9.44471429,\n",
       "        9.83977143,  5.58351429,  8.7384    ,  7.447     ,  9.15542857,\n",
       "        8.71457143,  7.13502857,  6.02948571,  6.16988571,  8.745     ,\n",
       "        8.32805714, 11.46962857,  7.28445714,  9.23582857,  7.75497143,\n",
       "        6.46045714,  8.34074286,  6.36082857,  4.69971429,  6.74208571,\n",
       "        5.3514    ,  5.99874286,  6.11077143, 11.50428571,  5.35914286,\n",
       "        5.44445714, 10.00108571,  7.56994286,  4.95631429,  5.8634    ,\n",
       "        8.66257143, 11.52937143,  5.56      ,  5.57445714,  6.94228571,\n",
       "        4.58914286,  9.26817143,  7.52288571,  9.09585714,  8.906     ,\n",
       "       11.62382857,  5.94525714,  9.09482857,  8.04517143,  5.18982857,\n",
       "        5.87194286,  6.1702    ,  3.52611429,  7.52902857, 10.94245714,\n",
       "        5.56      ,  5.14768571,  3.19194286,  6.68197143,  8.28845714,\n",
       "        8.20291429,  6.6122    , 11.2072    ,  6.58728571,  6.90022857,\n",
       "        8.44737143,  7.19922857,  6.14085714,  6.37097143,  7.33525714,\n",
       "        6.10882857,  6.60791429,  6.67      ,  6.90022857,  6.03048571,\n",
       "        6.6956    ,  7.25934286, 10.34517143,  8.6612    ,  7.32068571,\n",
       "        2.229     ,  7.98242857, 11.71974286,  8.71802857,  9.0148    ,\n",
       "        8.64251429,  8.27902857,  7.20291429,  4.62302857, 10.61994286,\n",
       "        5.24228571,  6.39065714, 11.14074286,  5.5212    ,  7.66905714,\n",
       "        5.14325714, 10.4238    ,  8.30968571,  5.56      ,  6.10822857,\n",
       "        5.14514286,  6.11034286,  4.54125714,  6.96331429,  6.03728571,\n",
       "        5.90574286,  6.94782857,  5.56802857,  5.54511429,  7.22365714,\n",
       "        6.03105714,  8.96477143,  5.76954286,  4.44885714,  8.12891429,\n",
       "        6.35165714, 11.70554286,  8.40362857,  4.52097143, 10.933     ,\n",
       "        7.31422857,  6.65522857,  4.64868571,  9.29854286,  8.15577143,\n",
       "        5.69911429,  6.99145714,  6.11168571,  8.73351429,  4.58571429,\n",
       "        7.58885714,  5.04785714,  4.56077143,  5.79728571,  9.38302857,\n",
       "        6.10974286,  6.67      ,  6.11097143,  1.50531429, 10.94317143,\n",
       "        8.20917143,  7.67951429, 11.45231429, 11.64      ,  6.92654286,\n",
       "        9.83977143,  5.56731429,  5.15045714,  7.22334286, 10.57494286,\n",
       "       10.14811429,  5.95268571,  6.80817143,  7.54282857,  2.32288571,\n",
       "        3.22154286,  8.91245714,  6.10797143,  7.22045714,  7.19225714])"
      ]
     },
     "execution_count": 55,
     "metadata": {},
     "output_type": "execute_result"
    }
   ],
   "source": [
    "test_randForest= rand_forest.predict(X_real)\n",
    "test_randForest"
   ]
  },
  {
   "cell_type": "markdown",
   "metadata": {},
   "source": [
    "______________________________________________________________________________________________________________________________"
   ]
  },
  {
   "cell_type": "markdown",
   "metadata": {},
   "source": [
    "."
   ]
  },
  {
   "cell_type": "markdown",
   "metadata": {},
   "source": [
    "Using AdaBoost and Catboost to combine models and evaluate results"
   ]
  },
  {
   "cell_type": "code",
   "execution_count": 56,
   "metadata": {},
   "outputs": [
    {
     "name": "stdout",
     "output_type": "stream",
     "text": [
      "0:\tlearn: 1.1860148\ttotal: 141ms\tremaining: 14s\n",
      "1:\tlearn: 0.9105796\ttotal: 145ms\tremaining: 7.09s\n",
      "2:\tlearn: 0.8349876\ttotal: 148ms\tremaining: 4.78s\n",
      "3:\tlearn: 0.7874386\ttotal: 151ms\tremaining: 3.63s\n",
      "4:\tlearn: 0.7345308\ttotal: 154ms\tremaining: 2.93s\n",
      "5:\tlearn: 0.6739817\ttotal: 158ms\tremaining: 2.47s\n",
      "6:\tlearn: 0.6504156\ttotal: 161ms\tremaining: 2.14s\n",
      "7:\tlearn: 0.6344537\ttotal: 164ms\tremaining: 1.89s\n",
      "8:\tlearn: 0.6018014\ttotal: 167ms\tremaining: 1.69s\n",
      "9:\tlearn: 0.5803828\ttotal: 171ms\tremaining: 1.53s\n",
      "10:\tlearn: 0.5558561\ttotal: 174ms\tremaining: 1.41s\n",
      "11:\tlearn: 0.5321767\ttotal: 177ms\tremaining: 1.3s\n",
      "12:\tlearn: 0.5201002\ttotal: 180ms\tremaining: 1.21s\n",
      "13:\tlearn: 0.4816159\ttotal: 183ms\tremaining: 1.13s\n",
      "14:\tlearn: 0.4677567\ttotal: 187ms\tremaining: 1.06s\n",
      "15:\tlearn: 0.4536484\ttotal: 190ms\tremaining: 997ms\n",
      "16:\tlearn: 0.4442803\ttotal: 193ms\tremaining: 942ms\n",
      "17:\tlearn: 0.4292397\ttotal: 196ms\tremaining: 894ms\n",
      "18:\tlearn: 0.4212395\ttotal: 200ms\tremaining: 851ms\n",
      "19:\tlearn: 0.4108086\ttotal: 203ms\tremaining: 812ms\n",
      "20:\tlearn: 0.3932002\ttotal: 206ms\tremaining: 775ms\n",
      "21:\tlearn: 0.3847157\ttotal: 209ms\tremaining: 742ms\n",
      "22:\tlearn: 0.3769304\ttotal: 213ms\tremaining: 712ms\n",
      "23:\tlearn: 0.3690850\ttotal: 216ms\tremaining: 684ms\n",
      "24:\tlearn: 0.3557926\ttotal: 219ms\tremaining: 658ms\n",
      "25:\tlearn: 0.3462975\ttotal: 222ms\tremaining: 633ms\n",
      "26:\tlearn: 0.3394953\ttotal: 226ms\tremaining: 610ms\n",
      "27:\tlearn: 0.3314196\ttotal: 229ms\tremaining: 589ms\n",
      "28:\tlearn: 0.3232501\ttotal: 232ms\tremaining: 569ms\n",
      "29:\tlearn: 0.3158783\ttotal: 235ms\tremaining: 549ms\n",
      "30:\tlearn: 0.3124787\ttotal: 238ms\tremaining: 531ms\n",
      "31:\tlearn: 0.3072337\ttotal: 241ms\tremaining: 513ms\n",
      "32:\tlearn: 0.2995805\ttotal: 245ms\tremaining: 497ms\n",
      "33:\tlearn: 0.2958335\ttotal: 248ms\tremaining: 481ms\n",
      "34:\tlearn: 0.2929467\ttotal: 251ms\tremaining: 466ms\n",
      "35:\tlearn: 0.2902755\ttotal: 254ms\tremaining: 452ms\n",
      "36:\tlearn: 0.2876582\ttotal: 257ms\tremaining: 438ms\n",
      "37:\tlearn: 0.2820258\ttotal: 260ms\tremaining: 425ms\n",
      "38:\tlearn: 0.2779584\ttotal: 263ms\tremaining: 412ms\n",
      "39:\tlearn: 0.2767359\ttotal: 266ms\tremaining: 399ms\n",
      "40:\tlearn: 0.2686704\ttotal: 269ms\tremaining: 387ms\n",
      "41:\tlearn: 0.2632267\ttotal: 272ms\tremaining: 376ms\n",
      "42:\tlearn: 0.2610915\ttotal: 276ms\tremaining: 365ms\n",
      "43:\tlearn: 0.2566586\ttotal: 278ms\tremaining: 354ms\n",
      "44:\tlearn: 0.2544102\ttotal: 281ms\tremaining: 344ms\n",
      "45:\tlearn: 0.2491915\ttotal: 284ms\tremaining: 334ms\n",
      "46:\tlearn: 0.2484123\ttotal: 287ms\tremaining: 324ms\n",
      "47:\tlearn: 0.2427832\ttotal: 290ms\tremaining: 315ms\n",
      "48:\tlearn: 0.2380615\ttotal: 294ms\tremaining: 306ms\n",
      "49:\tlearn: 0.2351750\ttotal: 296ms\tremaining: 296ms\n",
      "50:\tlearn: 0.2319317\ttotal: 301ms\tremaining: 289ms\n",
      "51:\tlearn: 0.2298064\ttotal: 304ms\tremaining: 281ms\n",
      "52:\tlearn: 0.2252674\ttotal: 308ms\tremaining: 273ms\n",
      "53:\tlearn: 0.2202808\ttotal: 312ms\tremaining: 266ms\n",
      "54:\tlearn: 0.2179774\ttotal: 316ms\tremaining: 258ms\n",
      "55:\tlearn: 0.2147961\ttotal: 320ms\tremaining: 251ms\n",
      "56:\tlearn: 0.2117952\ttotal: 323ms\tremaining: 244ms\n",
      "57:\tlearn: 0.2086607\ttotal: 327ms\tremaining: 236ms\n",
      "58:\tlearn: 0.2053472\ttotal: 330ms\tremaining: 229ms\n",
      "59:\tlearn: 0.2026232\ttotal: 333ms\tremaining: 222ms\n",
      "60:\tlearn: 0.1984030\ttotal: 336ms\tremaining: 215ms\n",
      "61:\tlearn: 0.1968214\ttotal: 339ms\tremaining: 208ms\n",
      "62:\tlearn: 0.1927242\ttotal: 342ms\tremaining: 201ms\n",
      "63:\tlearn: 0.1901024\ttotal: 345ms\tremaining: 194ms\n",
      "64:\tlearn: 0.1868417\ttotal: 349ms\tremaining: 188ms\n",
      "65:\tlearn: 0.1835016\ttotal: 353ms\tremaining: 182ms\n",
      "66:\tlearn: 0.1798247\ttotal: 356ms\tremaining: 175ms\n",
      "67:\tlearn: 0.1781188\ttotal: 360ms\tremaining: 170ms\n",
      "68:\tlearn: 0.1758614\ttotal: 366ms\tremaining: 164ms\n",
      "69:\tlearn: 0.1739709\ttotal: 369ms\tremaining: 158ms\n",
      "70:\tlearn: 0.1707623\ttotal: 372ms\tremaining: 152ms\n",
      "71:\tlearn: 0.1684927\ttotal: 375ms\tremaining: 146ms\n",
      "72:\tlearn: 0.1662852\ttotal: 378ms\tremaining: 140ms\n",
      "73:\tlearn: 0.1649333\ttotal: 381ms\tremaining: 134ms\n",
      "74:\tlearn: 0.1621936\ttotal: 384ms\tremaining: 128ms\n",
      "75:\tlearn: 0.1607049\ttotal: 387ms\tremaining: 122ms\n",
      "76:\tlearn: 0.1592802\ttotal: 391ms\tremaining: 117ms\n",
      "77:\tlearn: 0.1587653\ttotal: 394ms\tremaining: 111ms\n",
      "78:\tlearn: 0.1575831\ttotal: 397ms\tremaining: 105ms\n",
      "79:\tlearn: 0.1558847\ttotal: 400ms\tremaining: 100ms\n",
      "80:\tlearn: 0.1550079\ttotal: 403ms\tremaining: 94.5ms\n",
      "81:\tlearn: 0.1531998\ttotal: 406ms\tremaining: 89.1ms\n",
      "82:\tlearn: 0.1513746\ttotal: 409ms\tremaining: 83.8ms\n",
      "83:\tlearn: 0.1503903\ttotal: 412ms\tremaining: 78.6ms\n",
      "84:\tlearn: 0.1493724\ttotal: 415ms\tremaining: 73.3ms\n",
      "85:\tlearn: 0.1470282\ttotal: 418ms\tremaining: 68.1ms\n",
      "86:\tlearn: 0.1447124\ttotal: 422ms\tremaining: 63ms\n",
      "87:\tlearn: 0.1426325\ttotal: 425ms\tremaining: 58ms\n",
      "88:\tlearn: 0.1409071\ttotal: 429ms\tremaining: 53ms\n",
      "89:\tlearn: 0.1389895\ttotal: 432ms\tremaining: 48ms\n",
      "90:\tlearn: 0.1376378\ttotal: 436ms\tremaining: 43.1ms\n",
      "91:\tlearn: 0.1368013\ttotal: 439ms\tremaining: 38.2ms\n",
      "92:\tlearn: 0.1357075\ttotal: 443ms\tremaining: 33.3ms\n",
      "93:\tlearn: 0.1338696\ttotal: 446ms\tremaining: 28.5ms\n",
      "94:\tlearn: 0.1323888\ttotal: 449ms\tremaining: 23.6ms\n",
      "95:\tlearn: 0.1311683\ttotal: 453ms\tremaining: 18.9ms\n",
      "96:\tlearn: 0.1295344\ttotal: 456ms\tremaining: 14.1ms\n",
      "97:\tlearn: 0.1282878\ttotal: 460ms\tremaining: 9.39ms\n",
      "98:\tlearn: 0.1270450\ttotal: 463ms\tremaining: 4.68ms\n",
      "99:\tlearn: 0.1257138\ttotal: 466ms\tremaining: 0us\n",
      "0:\tlearn: 1.5273566\ttotal: 2.79ms\tremaining: 276ms\n",
      "1:\tlearn: 1.3652051\ttotal: 5.57ms\tremaining: 273ms\n",
      "2:\tlearn: 1.0033688\ttotal: 8.59ms\tremaining: 278ms\n",
      "3:\tlearn: 0.8962831\ttotal: 11.6ms\tremaining: 278ms\n",
      "4:\tlearn: 0.8397864\ttotal: 14.5ms\tremaining: 276ms\n",
      "5:\tlearn: 0.8063719\ttotal: 18.8ms\tremaining: 294ms\n",
      "6:\tlearn: 0.7212752\ttotal: 21.8ms\tremaining: 290ms\n",
      "7:\tlearn: 0.6743087\ttotal: 37.4ms\tremaining: 430ms\n",
      "8:\tlearn: 0.6392509\ttotal: 40.5ms\tremaining: 409ms\n",
      "9:\tlearn: 0.5992819\ttotal: 43.8ms\tremaining: 394ms\n",
      "10:\tlearn: 0.5740831\ttotal: 47.3ms\tremaining: 383ms\n",
      "11:\tlearn: 0.5559732\ttotal: 50ms\tremaining: 367ms\n",
      "12:\tlearn: 0.5211772\ttotal: 52.8ms\tremaining: 354ms\n",
      "13:\tlearn: 0.5090464\ttotal: 56.1ms\tremaining: 344ms\n",
      "14:\tlearn: 0.4818259\ttotal: 59.3ms\tremaining: 336ms\n",
      "15:\tlearn: 0.4557499\ttotal: 62.4ms\tremaining: 328ms\n",
      "16:\tlearn: 0.4448073\ttotal: 65.8ms\tremaining: 321ms\n",
      "17:\tlearn: 0.4219119\ttotal: 68.7ms\tremaining: 313ms\n",
      "18:\tlearn: 0.4009963\ttotal: 72ms\tremaining: 307ms\n",
      "19:\tlearn: 0.3944137\ttotal: 75ms\tremaining: 300ms\n",
      "20:\tlearn: 0.3841435\ttotal: 79.4ms\tremaining: 299ms\n",
      "21:\tlearn: 0.3717242\ttotal: 82.4ms\tremaining: 292ms\n",
      "22:\tlearn: 0.3595028\ttotal: 85.4ms\tremaining: 286ms\n",
      "23:\tlearn: 0.3434972\ttotal: 94.9ms\tremaining: 300ms\n",
      "24:\tlearn: 0.3346007\ttotal: 97.7ms\tremaining: 293ms\n",
      "25:\tlearn: 0.3324403\ttotal: 101ms\tremaining: 287ms\n",
      "26:\tlearn: 0.3250328\ttotal: 104ms\tremaining: 282ms\n",
      "27:\tlearn: 0.3159973\ttotal: 108ms\tremaining: 277ms\n",
      "28:\tlearn: 0.2998410\ttotal: 111ms\tremaining: 271ms\n",
      "29:\tlearn: 0.2844751\ttotal: 114ms\tremaining: 265ms\n",
      "30:\tlearn: 0.2736776\ttotal: 117ms\tremaining: 260ms\n",
      "31:\tlearn: 0.2641487\ttotal: 120ms\tremaining: 255ms\n",
      "32:\tlearn: 0.2602237\ttotal: 124ms\tremaining: 252ms\n",
      "33:\tlearn: 0.2535955\ttotal: 128ms\tremaining: 248ms\n",
      "34:\tlearn: 0.2477600\ttotal: 132ms\tremaining: 245ms\n",
      "35:\tlearn: 0.2353374\ttotal: 136ms\tremaining: 241ms\n",
      "36:\tlearn: 0.2238147\ttotal: 141ms\tremaining: 240ms\n",
      "37:\tlearn: 0.2181021\ttotal: 146ms\tremaining: 238ms\n",
      "38:\tlearn: 0.2117739\ttotal: 152ms\tremaining: 237ms\n",
      "39:\tlearn: 0.2063846\ttotal: 155ms\tremaining: 232ms\n",
      "40:\tlearn: 0.2001945\ttotal: 158ms\tremaining: 227ms\n",
      "41:\tlearn: 0.1947427\ttotal: 161ms\tremaining: 223ms\n",
      "42:\tlearn: 0.1872615\ttotal: 164ms\tremaining: 218ms\n",
      "43:\tlearn: 0.1856599\ttotal: 168ms\tremaining: 214ms\n",
      "44:\tlearn: 0.1781587\ttotal: 171ms\tremaining: 209ms\n",
      "45:\tlearn: 0.1719007\ttotal: 175ms\tremaining: 205ms\n",
      "46:\tlearn: 0.1712761\ttotal: 178ms\tremaining: 201ms\n",
      "47:\tlearn: 0.1667094\ttotal: 182ms\tremaining: 197ms\n",
      "48:\tlearn: 0.1662960\ttotal: 185ms\tremaining: 192ms\n",
      "49:\tlearn: 0.1602184\ttotal: 188ms\tremaining: 188ms\n",
      "50:\tlearn: 0.1533760\ttotal: 191ms\tremaining: 184ms\n",
      "51:\tlearn: 0.1481053\ttotal: 194ms\tremaining: 179ms\n",
      "52:\tlearn: 0.1415733\ttotal: 198ms\tremaining: 175ms\n",
      "53:\tlearn: 0.1379821\ttotal: 201ms\tremaining: 171ms\n",
      "54:\tlearn: 0.1320820\ttotal: 204ms\tremaining: 167ms\n",
      "55:\tlearn: 0.1279829\ttotal: 207ms\tremaining: 163ms\n",
      "56:\tlearn: 0.1275452\ttotal: 212ms\tremaining: 160ms\n",
      "57:\tlearn: 0.1241827\ttotal: 215ms\tremaining: 156ms\n",
      "58:\tlearn: 0.1198924\ttotal: 218ms\tremaining: 151ms\n",
      "59:\tlearn: 0.1156366\ttotal: 220ms\tremaining: 147ms\n",
      "60:\tlearn: 0.1120211\ttotal: 222ms\tremaining: 142ms\n",
      "61:\tlearn: 0.1092620\ttotal: 224ms\tremaining: 137ms\n",
      "62:\tlearn: 0.1054009\ttotal: 226ms\tremaining: 133ms\n"
     ]
    },
    {
     "name": "stdout",
     "output_type": "stream",
     "text": [
      "63:\tlearn: 0.1024769\ttotal: 229ms\tremaining: 129ms\n",
      "64:\tlearn: 0.0993055\ttotal: 232ms\tremaining: 125ms\n",
      "65:\tlearn: 0.0974390\ttotal: 234ms\tremaining: 120ms\n",
      "66:\tlearn: 0.0964573\ttotal: 236ms\tremaining: 116ms\n",
      "67:\tlearn: 0.0961844\ttotal: 238ms\tremaining: 112ms\n",
      "68:\tlearn: 0.0930701\ttotal: 240ms\tremaining: 108ms\n",
      "69:\tlearn: 0.0889742\ttotal: 242ms\tremaining: 104ms\n",
      "70:\tlearn: 0.0868492\ttotal: 244ms\tremaining: 99.5ms\n",
      "71:\tlearn: 0.0848067\ttotal: 246ms\tremaining: 95.5ms\n",
      "72:\tlearn: 0.0824883\ttotal: 248ms\tremaining: 91.6ms\n",
      "73:\tlearn: 0.0787982\ttotal: 250ms\tremaining: 87.8ms\n",
      "74:\tlearn: 0.0772318\ttotal: 252ms\tremaining: 84ms\n",
      "75:\tlearn: 0.0737927\ttotal: 254ms\tremaining: 80.2ms\n",
      "76:\tlearn: 0.0708058\ttotal: 256ms\tremaining: 76.5ms\n",
      "77:\tlearn: 0.0692259\ttotal: 258ms\tremaining: 72.8ms\n",
      "78:\tlearn: 0.0661507\ttotal: 260ms\tremaining: 69.1ms\n",
      "79:\tlearn: 0.0659610\ttotal: 262ms\tremaining: 65.5ms\n",
      "80:\tlearn: 0.0633076\ttotal: 264ms\tremaining: 61.9ms\n",
      "81:\tlearn: 0.0618092\ttotal: 267ms\tremaining: 58.5ms\n",
      "82:\tlearn: 0.0600728\ttotal: 269ms\tremaining: 55.2ms\n",
      "83:\tlearn: 0.0586623\ttotal: 272ms\tremaining: 51.8ms\n",
      "84:\tlearn: 0.0572723\ttotal: 276ms\tremaining: 48.6ms\n",
      "85:\tlearn: 0.0558896\ttotal: 278ms\tremaining: 45.2ms\n",
      "86:\tlearn: 0.0540742\ttotal: 282ms\tremaining: 42.1ms\n",
      "87:\tlearn: 0.0517521\ttotal: 285ms\tremaining: 38.9ms\n",
      "88:\tlearn: 0.0513524\ttotal: 288ms\tremaining: 35.5ms\n",
      "89:\tlearn: 0.0494714\ttotal: 290ms\tremaining: 32.2ms\n",
      "90:\tlearn: 0.0488981\ttotal: 293ms\tremaining: 28.9ms\n",
      "91:\tlearn: 0.0469856\ttotal: 295ms\tremaining: 25.6ms\n",
      "92:\tlearn: 0.0460938\ttotal: 297ms\tremaining: 22.4ms\n",
      "93:\tlearn: 0.0457095\ttotal: 300ms\tremaining: 19.1ms\n",
      "94:\tlearn: 0.0440728\ttotal: 303ms\tremaining: 16ms\n",
      "95:\tlearn: 0.0427885\ttotal: 306ms\tremaining: 12.8ms\n",
      "96:\tlearn: 0.0422323\ttotal: 310ms\tremaining: 9.58ms\n",
      "97:\tlearn: 0.0421644\ttotal: 312ms\tremaining: 6.37ms\n",
      "98:\tlearn: 0.0410397\ttotal: 315ms\tremaining: 3.18ms\n",
      "99:\tlearn: 0.0404350\ttotal: 317ms\tremaining: 0us\n",
      "R2 Score is : 0.8306149370355991 | Root Mean Square Error is : 0.8653419891068083\n",
      "R2 Score is : 0.9996426456245597 | Root Mean Square Error is : 0.0404350389073579\n"
     ]
    }
   ],
   "source": [
    "#model \n",
    "model = CatBoostRegressor(iterations=100, learning_rate=1, depth=5)\n",
    "# Fit model\n",
    "model.fit( X_train, y_train)\n",
    "model.fit( X_test, y_test)\n",
    "#predictions\n",
    "model_test(model, X_train, y_train)\n",
    "model_test(model, X_test, y_test)\n"
   ]
  },
  {
   "cell_type": "code",
   "execution_count": 61,
   "metadata": {},
   "outputs": [
    {
     "data": {
      "text/plain": [
       "array([10.56080997, 10.62835285,  9.95621933,  9.53992641,  7.74739558,\n",
       "        8.90975505,  3.62218481,  7.54493356,  9.49699203,  7.96841855,\n",
       "        5.54823258,  9.89972232,  8.36371773,  4.71998952,  4.25993543,\n",
       "        6.75058327,  8.1611876 ,  4.49301435,  9.68550249,  5.52792749,\n",
       "        5.29389461,  9.75730418,  6.07437316,  7.36542686,  5.72800173,\n",
       "        6.47525962, 10.51332274,  7.30594498,  8.02719966,  7.6950331 ,\n",
       "        8.63136064,  5.52156811,  9.19597105,  8.21315118, 10.49931735,\n",
       "        9.47600306, 10.50676268, 10.89992068,  5.60827125,  5.0030299 ,\n",
       "        7.9219819 ,  8.59472207,  5.32264151,  6.00318324,  5.57024557,\n",
       "        5.21970765,  9.38210175,  4.54403327,  6.59837815,  9.01713142,\n",
       "        8.31337449,  6.09166309,  6.78115163, 11.55332627,  8.27888255,\n",
       "        5.823331  , 10.30572876,  9.65283049,  6.10176195,  5.55918218,\n",
       "        8.76682253, 10.33978194,  6.90722597,  9.87361009,  5.67031366,\n",
       "        5.68279534,  6.81443501,  4.78825917,  9.59579529,  6.82823366,\n",
       "        5.40466608,  4.50006133,  2.94302083,  7.43002997,  6.963739  ,\n",
       "        4.88708135,  6.4646391 ,  9.82523349, 11.87426109,  6.58172079,\n",
       "        6.40099668,  9.51764662,  6.11333194,  5.9542021 ,  2.17095264,\n",
       "        8.31912411,  6.01268088,  9.23176536,  4.08033058,  7.34528764,\n",
       "        9.82779806, 10.06828015,  7.14563837,  5.34454715,  6.01783621,\n",
       "        6.31435692,  7.52749434,  9.6899788 ,  6.13820268,  5.66166368,\n",
       "       11.02119942,  5.83727947,  2.33339589,  7.35149054, 10.21469269,\n",
       "        7.8899061 , 10.73575257,  2.63535183,  9.84585723,  9.83120788,\n",
       "        5.26086315,  7.7208463 ,  6.09392924,  4.26976728,  6.12410432,\n",
       "       10.57919521,  5.32795428,  9.11853759,  4.428605  ,  8.29789986,\n",
       "        6.49267325,  4.03191746,  8.73685309,  9.49343238,  9.07658906,\n",
       "        6.71405854,  5.27217237, 10.92810583, 10.70864894,  5.58577367,\n",
       "        8.10801881,  4.94916862,  9.70063833,  8.3556174 ,  7.91000362,\n",
       "        6.4253156 ,  7.61721133,  6.86441382,  8.1511278 ,  5.61176448,\n",
       "        7.35624617,  9.12724355,  8.55225508,  4.69065439,  8.8714148 ,\n",
       "        6.99480087,  6.28701591,  7.8635185 ,  5.70260722,  8.49799028,\n",
       "       10.53590007,  7.41326021,  6.29873736,  8.39230167,  6.6941952 ,\n",
       "       10.93451018,  5.35339798,  4.92112618,  5.70542973,  5.7463142 ,\n",
       "        8.78490581,  9.91706148,  8.23585443,  9.70594352,  7.05505131,\n",
       "        7.97929364,  7.00761767,  7.78570656,  5.86207444,  7.10294062,\n",
       "        8.83447686,  7.24730917,  5.12335836, 11.08247363,  5.33914211,\n",
       "        4.60853287,  9.31231576,  5.69654481,  5.24827382,  7.02824021,\n",
       "        5.42550449,  5.10585867,  8.56452685,  8.35139758,  9.43347328,\n",
       "        4.56770936,  2.92478905, 10.42019842,  7.42162737,  6.43370581,\n",
       "        6.21122636, 10.10479613,  9.89211227,  3.97679544, 10.50278046,\n",
       "        9.62570238,  9.42185551,  7.45531844,  2.22489296,  8.56643486,\n",
       "        6.00122966,  9.0271723 ,  8.28804438,  2.57085532,  6.40633002,\n",
       "        8.88658321,  9.22716368,  7.36542686,  6.68326845,  8.18599673,\n",
       "        7.30212509,  9.95478103,  5.74804667,  6.39862452,  9.12774077,\n",
       "        5.99219423,  5.21878913,  5.89805848,  9.57936246, 10.47318995,\n",
       "        5.53865418,  5.9562023 ,  8.53504575, 10.35532528, 11.61929356,\n",
       "        7.35376057,  7.60728217,  5.92301568,  9.31667994,  5.82235035,\n",
       "        5.0864446 ,  9.51743054,  7.69090187,  5.53859651,  7.60002627,\n",
       "        6.26573341, 10.30059069,  8.70115414,  4.17127147,  5.80694137,\n",
       "        3.96510601,  5.18889277,  6.59640414,  8.05366723, 11.22862377,\n",
       "        7.1861696 ,  1.46596356,  8.22798584,  5.04784835,  9.84050084,\n",
       "        8.42887937,  9.97199472,  4.95149103,  5.79090636,  6.5039632 ,\n",
       "        9.48840465,  6.98817291, 10.5685309 ,  8.49768641,  7.78784725,\n",
       "        9.52810664, 10.51220464,  7.3293738 ,  5.35433538,  4.85001964,\n",
       "        8.60546872,  4.76861081,  6.48292874,  4.36034397,  5.96265238,\n",
       "        8.64005613,  6.77854105, 11.23671309,  2.58134708,  8.16047266,\n",
       "        9.23207785,  9.76079326,  6.89080331,  6.05102635,  7.36035835,\n",
       "        5.88337259,  8.35555934,  2.42216868,  4.3967779 ,  8.44594202,\n",
       "       10.45862428,  5.42933975,  5.14137983,  7.53235021,  9.84125907,\n",
       "        2.4160896 ,  5.5114275 ,  5.29498437,  8.89498708,  7.5477482 ,\n",
       "        7.3790236 ,  9.41767422,  8.42033093,  8.55750695,  6.28213844,\n",
       "        5.83104944,  4.95061754,  4.49165097,  5.63236179,  7.71766722,\n",
       "        8.09326635,  5.93827032,  4.38350166,  7.36322296,  5.2685653 ,\n",
       "        5.69776944,  5.9352076 ,  5.04623206,  8.90028524, 10.67898984,\n",
       "        8.00760692,  6.40959616,  4.37395855,  6.14870044,  6.22279476,\n",
       "        6.2557256 ,  7.14592453,  4.27833775, 11.08536883,  9.20945475,\n",
       "        3.67617922,  7.19552037,  5.84732049, 10.9628392 , 11.09513749,\n",
       "        6.2418316 ,  5.53037853,  8.11451903,  5.44560387,  8.63264754,\n",
       "        8.1300674 ,  9.08320839,  6.2490015 ,  7.7584374 ,  5.21717302,\n",
       "        7.55099244,  5.82231279,  9.45128945,  6.36913308,  8.488999  ,\n",
       "        7.80712389,  8.00835648,  5.79565759,  8.24161029,  8.25795321,\n",
       "        8.19683715,  9.65407548,  7.59939912,  8.84925339,  6.1294488 ,\n",
       "        6.42759221,  4.8479686 ,  8.68527758,  9.06290714,  8.01899129,\n",
       "        5.8210959 ,  7.36213328,  7.22843745,  8.49473972,  5.43341305,\n",
       "        7.62748074,  7.60791747,  8.57500697,  5.51305014, 10.28515725,\n",
       "        9.79615372,  6.18376178,  6.305241  ,  9.72321009,  6.2649368 ,\n",
       "        7.37045249,  9.68989471,  6.08176769,  7.59939912,  6.92438607,\n",
       "        6.32301631,  7.44534865,  7.82252555,  7.22169705,  2.00075912,\n",
       "        8.21954795,  5.93640133,  9.03930726,  3.77625924,  9.90387672,\n",
       "        6.7277819 ,  6.72711394,  9.23970659,  9.12696714,  9.15354689,\n",
       "        9.67978532,  7.13607763,  8.77984492,  7.92188828,  5.84756597,\n",
       "        5.81514259,  3.27566287, 10.23591779,  6.55306461,  6.53167046,\n",
       "        9.27650549,  4.84551922,  9.84740059, 10.39556005,  9.75837749,\n",
       "       10.2011247 ,  4.26976728,  6.98042782,  8.29625304,  8.37068529,\n",
       "        4.62060764,  8.24033823,  5.63185921, 10.01946493,  6.55541954,\n",
       "        4.42322418,  6.11723507,  8.32520755,  5.33941079,  6.02451666,\n",
       "        9.11889602,  9.16130553,  7.72045686,  7.36995478,  4.94248557,\n",
       "        9.84960155,  8.66784828,  7.75609279,  9.79931631,  6.15711456,\n",
       "        9.98046669,  3.85549723,  5.54734429,  8.19944812,  6.37782376,\n",
       "        7.88927463,  5.55272015,  9.41380271,  9.65760628,  9.19681653,\n",
       "       10.49587803,  7.95997691,  9.05105919,  8.19062944,  9.73862298,\n",
       "       10.5211769 ,  8.95470359, 10.41155754,  9.77421671,  7.10634463,\n",
       "        7.6007249 ,  8.58057743,  9.2016968 ,  4.42740248,  6.70102934,\n",
       "        5.66452044,  9.44289675,  5.96454873,  6.87744834,  8.4650303 ,\n",
       "        3.3223891 ,  5.52057388,  8.32277101,  6.17097111,  8.84442356,\n",
       "        8.230487  ,  8.11926193,  4.97095405,  4.62952346,  5.53288641,\n",
       "        9.58900396, 10.0303066 ,  9.63716909,  7.17443553,  5.68689431,\n",
       "        4.74536772,  7.65768621,  5.57425876,  3.5396587 ,  8.35874522,\n",
       "        6.81719191,  7.29033486,  4.39839137,  6.26638045,  9.63716909,\n",
       "        5.72407046,  6.989487  ,  8.1437747 ,  7.52290339, 10.30656254,\n",
       "        7.74256284,  4.17929253,  8.88464732,  8.56246689,  8.75679543,\n",
       "        8.61505696, 10.79633206,  9.31734911,  9.76439564,  8.13908961,\n",
       "       10.4277482 ,  7.33687983,  6.06151979,  8.24676244,  5.71251737,\n",
       "        7.8899061 ,  7.10127779,  5.82407268,  3.96510601,  7.08838508,\n",
       "        8.53382034, 11.05811838,  6.54365305,  7.94407435,  5.50805105,\n",
       "        9.32489267,  4.85270499,  5.84769251,  6.25362374,  6.97548332,\n",
       "        8.35640746,  7.69090187,  9.13235472,  4.42740248,  9.77974541,\n",
       "        9.81054073,  4.93551301,  9.11955077,  8.07266455,  9.26264864,\n",
       "        7.8899061 ,  9.94101798,  5.37003221,  6.17317786,  8.79853799,\n",
       "        8.30070773, 10.12137747,  7.93778717,  9.63737263,  6.45861656,\n",
       "        5.55991027,  8.39779955,  5.66983025,  5.39911072,  5.97352253,\n",
       "        5.28256058,  5.86937241,  6.74813234,  9.77759525,  4.530975  ,\n",
       "        6.32573365,  9.77323378,  5.80509926,  5.13294132,  4.99463612,\n",
       "       10.6652095 ,  9.68232744,  5.38754799,  5.42556235,  7.31441555,\n",
       "        5.02242405,  8.54069461,  6.00122966,  8.87566142,  9.09280544,\n",
       "       10.45862428,  5.6930141 ,  8.52368929,  7.67149522,  5.60319353,\n",
       "        2.11446126,  6.70835555,  4.7088866 ,  7.57148085, 11.25876006,\n",
       "        5.43145098,  5.45877702,  3.75709621,  4.59910189,  9.33228762,\n",
       "        8.17833812,  5.64426666, 11.6667468 ,  5.63754477,  7.73263426,\n",
       "        8.48904222,  8.06736089,  6.49776433,  5.82281949,  8.12642949,\n",
       "        5.90706985,  6.8114617 ,  6.76109153,  7.73263426,  5.92519052,\n",
       "        6.54456872,  7.40829074, 10.88815524,  7.15521135,  7.24269888,\n",
       "        3.02556537,  7.42610958,  8.97228631, 10.30639727,  8.62550706,\n",
       "        7.75052446,  8.211494  ,  7.63156322,  5.1916878 , 10.91554373,\n",
       "        4.52547909,  7.0207522 , 10.89771247,  5.48222379,  8.37256056,\n",
       "        5.84629802,  9.43424152,  8.15648744,  5.48877157,  6.22210968,\n",
       "        5.32264151,  6.00041771,  3.77684466,  8.35836148,  6.28520771,\n",
       "        5.50954773,  6.78478981,  5.84280295,  5.40791102,  7.07775969,\n",
       "        5.68577526,  9.02181285,  4.98470678,  4.26423725,  7.34399458,\n",
       "        5.74982095,  9.53128093,  8.35874522,  4.64360618, 10.98860215,\n",
       "        7.05921607,  7.09377832,  4.60910257,  8.1539134 , 10.20996862,\n",
       "        5.19029822,  7.95811226,  8.6660398 ,  9.16511889,  3.97078225,\n",
       "        7.60791747,  5.078893  ,  5.11763322,  6.73802524,  8.59109941,\n",
       "        6.23856761,  7.1047245 ,  6.13048458,  1.61402622, 10.01584391,\n",
       "        7.84254764,  8.64842691, 10.14166854, 10.89992068,  6.41047658,\n",
       "        9.70384274,  5.22472766,  4.87133864,  7.02199497, 10.55166909,\n",
       "        9.69136912,  1.75365402,  8.10784796, 10.66021673,  0.99767277,\n",
       "        3.57603758,  8.32744956,  6.12112313,  6.90506813,  9.19070618])"
      ]
     },
     "execution_count": 61,
     "metadata": {},
     "output_type": "execute_result"
    }
   ],
   "source": [
    "#predictions on test data\n",
    "cat_boost = model.predict(X_real)\n",
    "cat_boost"
   ]
  },
  {
   "cell_type": "markdown",
   "metadata": {},
   "source": [
    "."
   ]
  },
  {
   "cell_type": "markdown",
   "metadata": {},
   "source": [
    "FIGURES FOR MODELS"
   ]
  },
  {
   "cell_type": "code",
   "execution_count": 58,
   "metadata": {},
   "outputs": [
    {
     "data": {
      "image/png": "[encoded data removed]",
      "text/plain": [
       "<Figure size 1080x360 with 3 Axes>"
      ]
     },
     "metadata": {
      "needs_background": "light"
     },
     "output_type": "display_data"
    }
   ],
   "source": [
    "# Create figure and axes\n",
    "fig, ax = plt.subplots(figsize=(15,5), nrows=1, ncols=3, sharey=True)\n",
    "\n",
    "# Create list of titles and predictions to use in for loop\n",
    "pred = [dec_tree.predict(X_test), Lasso_model.predict(X_test), rand_forest.predict(X_test)]\n",
    "title = [ 'Decision Tree','Lasso Regression','Random Forest']\n",
    "\n",
    "# Loop through all axes to plot each model's results \n",
    "for i in range(3):\n",
    "    \n",
    "    rmse = round(np.sqrt(mean_squared_error(pred[i],y_test)))\n",
    "    ax[i].set_title(title[i]+\"  (RMSE: \"+str(rmse)+ \")\")\n",
    "    ax[i].set_xlabel('Actual')\n",
    "    ax[i].set_ylabel('Predicted')\n",
    "    ax[i].plot(y_test,y_test,'r')\n",
    "    ax[i].scatter(y_test,pred[i])"
   ]
  },
  {
   "cell_type": "code",
   "execution_count": 59,
   "metadata": {},
   "outputs": [],
   "source": [
    "# create submission dataframe\n",
    "# Create Dataframe of Order_No and Time from Pickup to Arrival\n",
    "submission = pd.DataFrame(\n",
    "    {'Index': test_ID,\n",
    "     'avg_price_per_kg': cat_boost\n",
    "    })\n",
    "\n",
    "#submission.to_csv(\"Cat_B_Submissions.csv\", index=False)"
   ]
  }
 ],
 "metadata": {
  "kernelspec": {
   "display_name": "Python 3",
   "language": "python",
   "name": "python3"
  },
  "language_info": {
   "codemirror_mode": {
    "name": "ipython",
    "version": 3
   },
   "file_extension": ".py",
   "mimetype": "text/x-python",
   "name": "python",
   "nbconvert_exporter": "python",
   "pygments_lexer": "ipython3",
   "version": "3.7.4"
  }
 },
 "nbformat": 4,
 "nbformat_minor": 2
}
