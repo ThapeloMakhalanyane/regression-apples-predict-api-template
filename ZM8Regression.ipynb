{
 "cells": [
  {
   "cell_type": "markdown",
   "metadata": {},
   "source": [
    "# INTRODUCTION "
   ]
  },
  {
   "cell_type": "markdown",
   "metadata": {},
   "source": [
    "On this project we created a regresssion algorithm that predicts how much kilogram of Golden Delicious Aplles will cost,\n",
    "Challenged by [**EXPLORE Data Science Academy**](https://explore-datascience.net/). The data used here is from Durban Fresh Produce Market but can be obtained [here](https://www.kaggle.com/c/edsa-apple-prices-challenge/data).\n",
    "\n",
    "In this notebook we predicted the Target numeric variable which is Avarage Price using the predictors (Stock on hand, High Price, Low Price, Total Qty Sold, etc). below is the work flow\n",
    "1. Exploratory data analysis, Data cleaning and formatting\n",
    "2. Feature engineering and variable selection\n",
    "3. Build the model using selected features\n",
    "4. Evaluate the best model on testing set"
   ]
  },
  {
   "cell_type": "markdown",
   "metadata": {},
   "source": [
    "___________________________________________________________________________________________________________________________"
   ]
  },
  {
   "cell_type": "markdown",
   "metadata": {},
   "source": [
    "Firstly we imported the needed libraries and data."
   ]
  },
  {
   "cell_type": "markdown",
   "metadata": {},
   "source": [
    "## 1. Importing Libraries"
   ]
  },
  {
   "cell_type": "code",
   "execution_count": 1,
   "metadata": {},
   "outputs": [],
   "source": [
    "import numpy as np\n",
    "import pandas as pd\n",
    "from datetime import datetime\n",
    "from scipy import stats\n",
    "\n",
    "# Visualisations\n",
    "#import missingno\n",
    "import seaborn as sns\n",
    "import matplotlib.pyplot as plt\n",
    "%matplotlib inline\n",
    "\n",
    "# Preprocessing\n",
    "from sklearn.preprocessing import LabelEncoder, StandardScaler\n",
    "\n",
    "# Regression models\n",
    "from sklearn.linear_model import LinearRegression, Ridge\n",
    "from sklearn.linear_model import Lasso\n",
    "from sklearn.tree import DecisionTreeRegressor\n",
    "from sklearn.ensemble import RandomForestRegressor\n",
    "from sklearn.svm import SVR\n",
    "from sklearn.ensemble import VotingRegressor\n",
    "from sklearn.ensemble import AdaBoostRegressor\n",
    "from catboost import CatBoostRegressor, FeaturesData, Pool\n",
    "\n",
    "# Model slection\n",
    "from sklearn.model_selection import train_test_split\n",
    "\n",
    "# Metrics\n",
    "from sklearn.metrics import r2_score\n",
    "from sklearn.metrics import mean_squared_error\n",
    "\n",
    "\n",
    "# Other\n",
    "from scipy import stats\n",
    "import math\n",
    "import pickle"
   ]
  },
  {
   "cell_type": "markdown",
   "metadata": {},
   "source": [
    "Data was downloaded from the given link above"
   ]
  },
  {
   "cell_type": "code",
   "execution_count": 2,
   "metadata": {},
   "outputs": [],
   "source": [
    "#Import Data\n",
    "train_df = pd.read_csv('df-train_set.csv')\n",
    "test_df = pd.read_csv('df-test_set.csv')\n",
    "\n",
    "test_ID = test_df['Index']\n",
    "test_df = test_df.drop('Index', axis=1)"
   ]
  },
  {
   "cell_type": "markdown",
   "metadata": {},
   "source": [
    "# Exploratory Data Analysis (EDA)"
   ]
  },
  {
   "cell_type": "markdown",
   "metadata": {},
   "source": [
    "We will only use dataset that falls under APPLE GOLDEN DELICIOUS Commodities"
   ]
  },
  {
   "cell_type": "code",
   "execution_count": 3,
   "metadata": {},
   "outputs": [],
   "source": [
    "train_df = train_df[(train_df['Commodities'] == 'APPLE GOLDEN DELICIOUS')] #create new df focusing on 'APPLE GOLDEN DELICIOUS"
   ]
  },
  {
   "cell_type": "code",
   "execution_count": 4,
   "metadata": {},
   "outputs": [
    {
     "data": {
      "text/html": [
       "<div>\n",
       "<style scoped>\n",
       "    .dataframe tbody tr th:only-of-type {\n",
       "        vertical-align: middle;\n",
       "    }\n",
       "\n",
       "    .dataframe tbody tr th {\n",
       "        vertical-align: top;\n",
       "    }\n",
       "\n",
       "    .dataframe thead th {\n",
       "        text-align: right;\n",
       "    }\n",
       "</style>\n",
       "<table border=\"1\" class=\"dataframe\">\n",
       "  <thead>\n",
       "    <tr style=\"text-align: right;\">\n",
       "      <th></th>\n",
       "      <th>Province</th>\n",
       "      <th>Container</th>\n",
       "      <th>Size_Grade</th>\n",
       "      <th>Weight_Kg</th>\n",
       "      <th>Commodities</th>\n",
       "      <th>Date</th>\n",
       "      <th>Low_Price</th>\n",
       "      <th>High_Price</th>\n",
       "      <th>Sales_Total</th>\n",
       "      <th>Total_Qty_Sold</th>\n",
       "      <th>Total_Kg_Sold</th>\n",
       "      <th>Stock_On_Hand</th>\n",
       "      <th>avg_price_per_kg</th>\n",
       "    </tr>\n",
       "  </thead>\n",
       "  <tbody>\n",
       "    <tr>\n",
       "      <th>1</th>\n",
       "      <td>CAPE</td>\n",
       "      <td>M4183</td>\n",
       "      <td>1L</td>\n",
       "      <td>18.3</td>\n",
       "      <td>APPLE GOLDEN DELICIOUS</td>\n",
       "      <td>2020-09-09</td>\n",
       "      <td>150.0</td>\n",
       "      <td>170.0</td>\n",
       "      <td>51710.0</td>\n",
       "      <td>332</td>\n",
       "      <td>6075.6</td>\n",
       "      <td>822</td>\n",
       "      <td>8.51</td>\n",
       "    </tr>\n",
       "    <tr>\n",
       "      <th>7</th>\n",
       "      <td>CAPE</td>\n",
       "      <td>JG110</td>\n",
       "      <td>2M</td>\n",
       "      <td>11.0</td>\n",
       "      <td>APPLE GOLDEN DELICIOUS</td>\n",
       "      <td>2020-04-14</td>\n",
       "      <td>50.0</td>\n",
       "      <td>50.0</td>\n",
       "      <td>16000.0</td>\n",
       "      <td>320</td>\n",
       "      <td>3520.0</td>\n",
       "      <td>0</td>\n",
       "      <td>4.55</td>\n",
       "    </tr>\n",
       "    <tr>\n",
       "      <th>24</th>\n",
       "      <td>W.CAPE-BERGRIVER ETC</td>\n",
       "      <td>JE090</td>\n",
       "      <td>2S</td>\n",
       "      <td>9.0</td>\n",
       "      <td>APPLE GOLDEN DELICIOUS</td>\n",
       "      <td>2020-04-16</td>\n",
       "      <td>55.0</td>\n",
       "      <td>55.0</td>\n",
       "      <td>990.0</td>\n",
       "      <td>18</td>\n",
       "      <td>162.0</td>\n",
       "      <td>1506</td>\n",
       "      <td>6.11</td>\n",
       "    </tr>\n",
       "    <tr>\n",
       "      <th>40</th>\n",
       "      <td>CAPE</td>\n",
       "      <td>M4183</td>\n",
       "      <td>1S</td>\n",
       "      <td>18.3</td>\n",
       "      <td>APPLE GOLDEN DELICIOUS</td>\n",
       "      <td>2020-05-04</td>\n",
       "      <td>80.0</td>\n",
       "      <td>120.0</td>\n",
       "      <td>32020.0</td>\n",
       "      <td>388</td>\n",
       "      <td>7100.4</td>\n",
       "      <td>443</td>\n",
       "      <td>4.51</td>\n",
       "    </tr>\n",
       "    <tr>\n",
       "      <th>69</th>\n",
       "      <td>EASTERN CAPE</td>\n",
       "      <td>IA400</td>\n",
       "      <td>1S</td>\n",
       "      <td>400.0</td>\n",
       "      <td>APPLE GOLDEN DELICIOUS</td>\n",
       "      <td>2020-09-28</td>\n",
       "      <td>1800.0</td>\n",
       "      <td>1800.0</td>\n",
       "      <td>1800.0</td>\n",
       "      <td>1</td>\n",
       "      <td>400.0</td>\n",
       "      <td>2</td>\n",
       "      <td>4.50</td>\n",
       "    </tr>\n",
       "  </tbody>\n",
       "</table>\n",
       "</div>"
      ],
      "text/plain": [
       "                Province Container Size_Grade  Weight_Kg  \\\n",
       "1                   CAPE     M4183         1L       18.3   \n",
       "7                   CAPE     JG110         2M       11.0   \n",
       "24  W.CAPE-BERGRIVER ETC     JE090         2S        9.0   \n",
       "40                  CAPE     M4183         1S       18.3   \n",
       "69          EASTERN CAPE     IA400         1S      400.0   \n",
       "\n",
       "               Commodities        Date  Low_Price  High_Price  Sales_Total  \\\n",
       "1   APPLE GOLDEN DELICIOUS  2020-09-09      150.0       170.0      51710.0   \n",
       "7   APPLE GOLDEN DELICIOUS  2020-04-14       50.0        50.0      16000.0   \n",
       "24  APPLE GOLDEN DELICIOUS  2020-04-16       55.0        55.0        990.0   \n",
       "40  APPLE GOLDEN DELICIOUS  2020-05-04       80.0       120.0      32020.0   \n",
       "69  APPLE GOLDEN DELICIOUS  2020-09-28     1800.0      1800.0       1800.0   \n",
       "\n",
       "    Total_Qty_Sold  Total_Kg_Sold  Stock_On_Hand  avg_price_per_kg  \n",
       "1              332         6075.6            822              8.51  \n",
       "7              320         3520.0              0              4.55  \n",
       "24              18          162.0           1506              6.11  \n",
       "40             388         7100.4            443              4.51  \n",
       "69               1          400.0              2              4.50  "
      ]
     },
     "execution_count": 4,
     "metadata": {},
     "output_type": "execute_result"
    }
   ],
   "source": [
    "train_df.head()"
   ]
  },
  {
   "cell_type": "code",
   "execution_count": 5,
   "metadata": {},
   "outputs": [
    {
     "data": {
      "text/html": [
       "<div>\n",
       "<style scoped>\n",
       "    .dataframe tbody tr th:only-of-type {\n",
       "        vertical-align: middle;\n",
       "    }\n",
       "\n",
       "    .dataframe tbody tr th {\n",
       "        vertical-align: top;\n",
       "    }\n",
       "\n",
       "    .dataframe thead th {\n",
       "        text-align: right;\n",
       "    }\n",
       "</style>\n",
       "<table border=\"1\" class=\"dataframe\">\n",
       "  <thead>\n",
       "    <tr style=\"text-align: right;\">\n",
       "      <th></th>\n",
       "      <th>Province</th>\n",
       "      <th>Container</th>\n",
       "      <th>Size_Grade</th>\n",
       "      <th>Weight_Kg</th>\n",
       "      <th>Commodities</th>\n",
       "      <th>Date</th>\n",
       "      <th>Low_Price</th>\n",
       "      <th>High_Price</th>\n",
       "      <th>Sales_Total</th>\n",
       "      <th>Total_Qty_Sold</th>\n",
       "      <th>Total_Kg_Sold</th>\n",
       "      <th>Stock_On_Hand</th>\n",
       "    </tr>\n",
       "  </thead>\n",
       "  <tbody>\n",
       "    <tr>\n",
       "      <th>0</th>\n",
       "      <td>W.CAPE-BERGRIVER ETC</td>\n",
       "      <td>EC120</td>\n",
       "      <td>1M</td>\n",
       "      <td>12.0</td>\n",
       "      <td>APPLE GOLDEN DELICIOUS</td>\n",
       "      <td>2020-07-09</td>\n",
       "      <td>128.0</td>\n",
       "      <td>136.0</td>\n",
       "      <td>5008.0</td>\n",
       "      <td>38</td>\n",
       "      <td>456.0</td>\n",
       "      <td>0</td>\n",
       "    </tr>\n",
       "    <tr>\n",
       "      <th>1</th>\n",
       "      <td>W.CAPE-BERGRIVER ETC</td>\n",
       "      <td>M4183</td>\n",
       "      <td>1X</td>\n",
       "      <td>18.3</td>\n",
       "      <td>APPLE GOLDEN DELICIOUS</td>\n",
       "      <td>2020-01-20</td>\n",
       "      <td>220.0</td>\n",
       "      <td>220.0</td>\n",
       "      <td>1760.0</td>\n",
       "      <td>8</td>\n",
       "      <td>146.4</td>\n",
       "      <td>2</td>\n",
       "    </tr>\n",
       "    <tr>\n",
       "      <th>2</th>\n",
       "      <td>W.CAPE-BERGRIVER ETC</td>\n",
       "      <td>EC120</td>\n",
       "      <td>1S</td>\n",
       "      <td>12.0</td>\n",
       "      <td>APPLE GOLDEN DELICIOUS</td>\n",
       "      <td>2020-08-19</td>\n",
       "      <td>120.0</td>\n",
       "      <td>120.0</td>\n",
       "      <td>720.0</td>\n",
       "      <td>6</td>\n",
       "      <td>72.0</td>\n",
       "      <td>45</td>\n",
       "    </tr>\n",
       "    <tr>\n",
       "      <th>3</th>\n",
       "      <td>W.CAPE-BERGRIVER ETC</td>\n",
       "      <td>M4183</td>\n",
       "      <td>1M</td>\n",
       "      <td>18.3</td>\n",
       "      <td>APPLE GOLDEN DELICIOUS</td>\n",
       "      <td>2020-05-06</td>\n",
       "      <td>160.0</td>\n",
       "      <td>160.0</td>\n",
       "      <td>160.0</td>\n",
       "      <td>1</td>\n",
       "      <td>18.3</td>\n",
       "      <td>8</td>\n",
       "    </tr>\n",
       "    <tr>\n",
       "      <th>4</th>\n",
       "      <td>W.CAPE-BERGRIVER ETC</td>\n",
       "      <td>M4183</td>\n",
       "      <td>1L</td>\n",
       "      <td>18.3</td>\n",
       "      <td>APPLE GOLDEN DELICIOUS</td>\n",
       "      <td>2020-05-04</td>\n",
       "      <td>140.0</td>\n",
       "      <td>160.0</td>\n",
       "      <td>14140.0</td>\n",
       "      <td>100</td>\n",
       "      <td>1830.0</td>\n",
       "      <td>19</td>\n",
       "    </tr>\n",
       "  </tbody>\n",
       "</table>\n",
       "</div>"
      ],
      "text/plain": [
       "               Province Container Size_Grade  Weight_Kg  \\\n",
       "0  W.CAPE-BERGRIVER ETC     EC120         1M       12.0   \n",
       "1  W.CAPE-BERGRIVER ETC     M4183         1X       18.3   \n",
       "2  W.CAPE-BERGRIVER ETC     EC120         1S       12.0   \n",
       "3  W.CAPE-BERGRIVER ETC     M4183         1M       18.3   \n",
       "4  W.CAPE-BERGRIVER ETC     M4183         1L       18.3   \n",
       "\n",
       "              Commodities        Date  Low_Price  High_Price  Sales_Total  \\\n",
       "0  APPLE GOLDEN DELICIOUS  2020-07-09      128.0       136.0       5008.0   \n",
       "1  APPLE GOLDEN DELICIOUS  2020-01-20      220.0       220.0       1760.0   \n",
       "2  APPLE GOLDEN DELICIOUS  2020-08-19      120.0       120.0        720.0   \n",
       "3  APPLE GOLDEN DELICIOUS  2020-05-06      160.0       160.0        160.0   \n",
       "4  APPLE GOLDEN DELICIOUS  2020-05-04      140.0       160.0      14140.0   \n",
       "\n",
       "   Total_Qty_Sold  Total_Kg_Sold  Stock_On_Hand  \n",
       "0              38          456.0              0  \n",
       "1               8          146.4              2  \n",
       "2               6           72.0             45  \n",
       "3               1           18.3              8  \n",
       "4             100         1830.0             19  "
      ]
     },
     "execution_count": 5,
     "metadata": {},
     "output_type": "execute_result"
    }
   ],
   "source": [
    "test_df.head() #Check the test set"
   ]
  },
  {
   "cell_type": "code",
   "execution_count": 6,
   "metadata": {},
   "outputs": [
    {
     "name": "stdout",
     "output_type": "stream",
     "text": [
      "We have 1952 training rows and 13 trianing columns.\n"
     ]
    }
   ],
   "source": [
    "print('We have {} training rows and {} trianing columns.'.format(train_df.shape[0], train_df.shape[1]))"
   ]
  },
  {
   "cell_type": "markdown",
   "metadata": {},
   "source": [
    "From the above dataframe we can't tell which columns has null values, so we will use the Pandas library (info) to help check how many null values, the datatype and the columns name for those dataframe"
   ]
  },
  {
   "cell_type": "code",
   "execution_count": 7,
   "metadata": {},
   "outputs": [
    {
     "name": "stdout",
     "output_type": "stream",
     "text": [
      "<class 'pandas.core.frame.DataFrame'>\n",
      "Int64Index: 1952 entries, 1 to 64310\n",
      "Data columns (total 13 columns):\n",
      " #   Column            Non-Null Count  Dtype  \n",
      "---  ------            --------------  -----  \n",
      " 0   Province          1952 non-null   object \n",
      " 1   Container         1952 non-null   object \n",
      " 2   Size_Grade        1952 non-null   object \n",
      " 3   Weight_Kg         1952 non-null   float64\n",
      " 4   Commodities       1952 non-null   object \n",
      " 5   Date              1952 non-null   object \n",
      " 6   Low_Price         1952 non-null   float64\n",
      " 7   High_Price        1952 non-null   float64\n",
      " 8   Sales_Total       1952 non-null   float64\n",
      " 9   Total_Qty_Sold    1952 non-null   int64  \n",
      " 10  Total_Kg_Sold     1952 non-null   float64\n",
      " 11  Stock_On_Hand     1952 non-null   int64  \n",
      " 12  avg_price_per_kg  1952 non-null   float64\n",
      "dtypes: float64(6), int64(2), object(5)\n",
      "memory usage: 213.5+ KB\n"
     ]
    }
   ],
   "source": [
    "train_df.info()"
   ]
  },
  {
   "cell_type": "markdown",
   "metadata": {},
   "source": [
    "We will check the shape of our data"
   ]
  },
  {
   "cell_type": "code",
   "execution_count": 8,
   "metadata": {},
   "outputs": [
    {
     "data": {
      "text/plain": [
       "((1952, 13), (685, 12))"
      ]
     },
     "execution_count": 8,
     "metadata": {},
     "output_type": "execute_result"
    }
   ],
   "source": [
    "train_df.shape, test_df.shape"
   ]
  },
  {
   "cell_type": "markdown",
   "metadata": {},
   "source": [
    "Table for summary statistics for our data (Mean, min, Max, Std, count, etc)"
   ]
  },
  {
   "cell_type": "code",
   "execution_count": 9,
   "metadata": {},
   "outputs": [
    {
     "data": {
      "text/html": [
       "<div>\n",
       "<style scoped>\n",
       "    .dataframe tbody tr th:only-of-type {\n",
       "        vertical-align: middle;\n",
       "    }\n",
       "\n",
       "    .dataframe tbody tr th {\n",
       "        vertical-align: top;\n",
       "    }\n",
       "\n",
       "    .dataframe thead th {\n",
       "        text-align: right;\n",
       "    }\n",
       "</style>\n",
       "<table border=\"1\" class=\"dataframe\">\n",
       "  <thead>\n",
       "    <tr style=\"text-align: right;\">\n",
       "      <th></th>\n",
       "      <th>count</th>\n",
       "      <th>mean</th>\n",
       "      <th>std</th>\n",
       "      <th>min</th>\n",
       "      <th>25%</th>\n",
       "      <th>50%</th>\n",
       "      <th>75%</th>\n",
       "      <th>max</th>\n",
       "    </tr>\n",
       "  </thead>\n",
       "  <tbody>\n",
       "    <tr>\n",
       "      <th>Weight_Kg</th>\n",
       "      <td>1952.0</td>\n",
       "      <td>40.460912</td>\n",
       "      <td>99.655169</td>\n",
       "      <td>3.00</td>\n",
       "      <td>9.00</td>\n",
       "      <td>12.00</td>\n",
       "      <td>18.300</td>\n",
       "      <td>400.00</td>\n",
       "    </tr>\n",
       "    <tr>\n",
       "      <th>Low_Price</th>\n",
       "      <td>1952.0</td>\n",
       "      <td>174.307377</td>\n",
       "      <td>373.553578</td>\n",
       "      <td>2.00</td>\n",
       "      <td>50.00</td>\n",
       "      <td>80.00</td>\n",
       "      <td>127.250</td>\n",
       "      <td>2300.00</td>\n",
       "    </tr>\n",
       "    <tr>\n",
       "      <th>High_Price</th>\n",
       "      <td>1952.0</td>\n",
       "      <td>215.648053</td>\n",
       "      <td>433.546159</td>\n",
       "      <td>5.00</td>\n",
       "      <td>60.00</td>\n",
       "      <td>108.00</td>\n",
       "      <td>160.000</td>\n",
       "      <td>3300.00</td>\n",
       "    </tr>\n",
       "    <tr>\n",
       "      <th>Sales_Total</th>\n",
       "      <td>1952.0</td>\n",
       "      <td>20053.533811</td>\n",
       "      <td>39005.069445</td>\n",
       "      <td>5.00</td>\n",
       "      <td>1325.00</td>\n",
       "      <td>5495.00</td>\n",
       "      <td>21082.500</td>\n",
       "      <td>369464.00</td>\n",
       "    </tr>\n",
       "    <tr>\n",
       "      <th>Total_Qty_Sold</th>\n",
       "      <td>1952.0</td>\n",
       "      <td>174.510758</td>\n",
       "      <td>308.810797</td>\n",
       "      <td>1.00</td>\n",
       "      <td>12.00</td>\n",
       "      <td>64.00</td>\n",
       "      <td>200.000</td>\n",
       "      <td>4237.00</td>\n",
       "    </tr>\n",
       "    <tr>\n",
       "      <th>Total_Kg_Sold</th>\n",
       "      <td>1952.0</td>\n",
       "      <td>2960.176332</td>\n",
       "      <td>6097.416527</td>\n",
       "      <td>3.00</td>\n",
       "      <td>219.60</td>\n",
       "      <td>853.50</td>\n",
       "      <td>3093.525</td>\n",
       "      <td>74000.00</td>\n",
       "    </tr>\n",
       "    <tr>\n",
       "      <th>Stock_On_Hand</th>\n",
       "      <td>1952.0</td>\n",
       "      <td>408.393955</td>\n",
       "      <td>724.450582</td>\n",
       "      <td>0.00</td>\n",
       "      <td>9.00</td>\n",
       "      <td>126.50</td>\n",
       "      <td>468.000</td>\n",
       "      <td>6400.00</td>\n",
       "    </tr>\n",
       "    <tr>\n",
       "      <th>avg_price_per_kg</th>\n",
       "      <td>1952.0</td>\n",
       "      <td>6.778893</td>\n",
       "      <td>2.248744</td>\n",
       "      <td>0.25</td>\n",
       "      <td>5.46</td>\n",
       "      <td>6.67</td>\n",
       "      <td>8.280</td>\n",
       "      <td>21.24</td>\n",
       "    </tr>\n",
       "  </tbody>\n",
       "</table>\n",
       "</div>"
      ],
      "text/plain": [
       "                   count          mean           std   min      25%      50%  \\\n",
       "Weight_Kg         1952.0     40.460912     99.655169  3.00     9.00    12.00   \n",
       "Low_Price         1952.0    174.307377    373.553578  2.00    50.00    80.00   \n",
       "High_Price        1952.0    215.648053    433.546159  5.00    60.00   108.00   \n",
       "Sales_Total       1952.0  20053.533811  39005.069445  5.00  1325.00  5495.00   \n",
       "Total_Qty_Sold    1952.0    174.510758    308.810797  1.00    12.00    64.00   \n",
       "Total_Kg_Sold     1952.0   2960.176332   6097.416527  3.00   219.60   853.50   \n",
       "Stock_On_Hand     1952.0    408.393955    724.450582  0.00     9.00   126.50   \n",
       "avg_price_per_kg  1952.0      6.778893      2.248744  0.25     5.46     6.67   \n",
       "\n",
       "                        75%        max  \n",
       "Weight_Kg            18.300     400.00  \n",
       "Low_Price           127.250    2300.00  \n",
       "High_Price          160.000    3300.00  \n",
       "Sales_Total       21082.500  369464.00  \n",
       "Total_Qty_Sold      200.000    4237.00  \n",
       "Total_Kg_Sold      3093.525   74000.00  \n",
       "Stock_On_Hand       468.000    6400.00  \n",
       "avg_price_per_kg      8.280      21.24  "
      ]
     },
     "execution_count": 9,
     "metadata": {},
     "output_type": "execute_result"
    }
   ],
   "source": [
    "# Exploring the spread of numeric variables within the dataset\n",
    "train_df.describe().T"
   ]
  },
  {
   "cell_type": "markdown",
   "metadata": {},
   "source": [
    "## 1 Future Selection "
   ]
  },
  {
   "cell_type": "markdown",
   "metadata": {},
   "source": [
    "Feature selection will help us choose the most relevant variable, in this project we have used Correlection to help use select features that are highly correleted to the target variable(have a relationship with the target), help with removing variables looking at their relationship with the target.\n",
    "But before we do that we check the distribution of our target variable."
   ]
  },
  {
   "cell_type": "markdown",
   "metadata": {},
   "source": [
    "We will look at the distribution of our target variable which is the Avarage Price Per KG"
   ]
  },
  {
   "cell_type": "code",
   "execution_count": 10,
   "metadata": {},
   "outputs": [
    {
     "data": {
      "text/plain": [
       "<matplotlib.axes._subplots.AxesSubplot at 0x23d74f8e610>"
      ]
     },
     "execution_count": 10,
     "metadata": {},
     "output_type": "execute_result"
    },
    {
     "data": {
      "image/png": "[encoded data removed]",
      "text/plain": [
       "<Figure size 432x288 with 1 Axes>"
      ]
     },
     "metadata": {
      "needs_background": "light"
     },
     "output_type": "display_data"
    }
   ],
   "source": [
    "# target variable distribution\n",
    "sns.distplot(train_df['avg_price_per_kg'],kde=True)"
   ]
  },
  {
   "cell_type": "markdown",
   "metadata": {},
   "source": [
    "Our target variable is symmetrical distributed "
   ]
  },
  {
   "cell_type": "markdown",
   "metadata": {},
   "source": [
    "_______________________________________________________________________________________________________________"
   ]
  },
  {
   "cell_type": "code",
   "execution_count": 11,
   "metadata": {},
   "outputs": [
    {
     "data": {
      "text/plain": [
       "Weight_Kg           3.328254\n",
       "Low_Price           4.222672\n",
       "High_Price          3.828819\n",
       "Sales_Total         4.250317\n",
       "Total_Qty_Sold      4.445169\n",
       "Total_Kg_Sold       5.529586\n",
       "Stock_On_Hand       3.391815\n",
       "avg_price_per_kg    0.082452\n",
       "dtype: float64"
      ]
     },
     "execution_count": 11,
     "metadata": {},
     "output_type": "execute_result"
    }
   ],
   "source": [
    "# Looking at the skewnwss or symmetry of our dataest\n",
    "train_df.skew()"
   ]
  },
  {
   "cell_type": "markdown",
   "metadata": {},
   "source": [
    "Secondly we will check for outliers"
   ]
  },
  {
   "cell_type": "code",
   "execution_count": 12,
   "metadata": {},
   "outputs": [
    {
     "data": {
      "text/plain": [
       "Weight_Kg            9.109698\n",
       "Low_Price           17.073369\n",
       "High_Price          13.630768\n",
       "Sales_Total         24.200524\n",
       "Total_Qty_Sold      32.338123\n",
       "Total_Kg_Sold       45.153801\n",
       "Stock_On_Hand       14.671224\n",
       "avg_price_per_kg     1.042921\n",
       "dtype: float64"
      ]
     },
     "execution_count": 12,
     "metadata": {},
     "output_type": "execute_result"
    }
   ],
   "source": [
    "# Checking for outliers in our dataset.\n",
    "train_df.kurtosis() #method for checking outliers"
   ]
  },
  {
   "cell_type": "markdown",
   "metadata": {},
   "source": [
    "The Kurtosis method help us determine the outliers, any value higher than 3 is an outlier, all our above numeric independent variables have large number of outliers"
   ]
  },
  {
   "cell_type": "markdown",
   "metadata": {},
   "source": [
    "________________________________________________________________________________________________________________________"
   ]
  },
  {
   "cell_type": "markdown",
   "metadata": {},
   "source": [
    "### Outliers Treatment"
   ]
  },
  {
   "cell_type": "markdown",
   "metadata": {},
   "source": [
    "Firstly we checked for outliers in our numeric training dataset., we used graphs to help us detect outliers, then we used the z-score method to remove outliers.\n",
    "The outliers influence the shapeor the slope of the line, the treatment of outliers is very important and ahould be done.\n"
   ]
  },
  {
   "cell_type": "markdown",
   "metadata": {},
   "source": [
    "We used Histogram to check for outliers"
   ]
  },
  {
   "cell_type": "code",
   "execution_count": 13,
   "metadata": {},
   "outputs": [
    {
     "data": {
      "image/png": "[encoded data removed]",
      "text/plain": [
       "<Figure size 720x720 with 9 Axes>"
      ]
     },
     "metadata": {
      "needs_background": "light"
     },
     "output_type": "display_data"
    }
   ],
   "source": [
    "df = ['Weight_Kg', 'Low_Price', 'High_Price', 'Sales_Total', 'Total_Qty_Sold', 'Total_Kg_Sold', 'Stock_On_Hand'] #list of numeric variables\n",
    "train_df[df].hist(figsize=(10,10), color = 'navy'); #assign the list to the dataframe and plot a histogram with 10,10 figure size"
   ]
  },
  {
   "cell_type": "markdown",
   "metadata": {},
   "source": [
    "From the above graphs you can see that all our plotted figures has outliers, beside the plots, we also saw with Kurtosis method above that we have too much outliers in our numeric dataset."
   ]
  },
  {
   "cell_type": "markdown",
   "metadata": {},
   "source": [
    "--------------------------------------------------------------------"
   ]
  },
  {
   "cell_type": "markdown",
   "metadata": {},
   "source": [
    "Here we will use the Z-score method to remove outliers from our dataset."
   ]
  },
  {
   "cell_type": "code",
   "execution_count": 14,
   "metadata": {},
   "outputs": [],
   "source": [
    "#calculate z\n",
    "threshold = 3 #used the threshold of 3\n",
    "lowPrice_z = np.abs(stats.zscore(train_df.Low_Price))\n",
    "lowPrice_abs_z_scores = np.abs(lowPrice_z)\n",
    "df1 = train_df[lowPrice_abs_z_scores < threshold]\n",
    "\n",
    "highPrice_z = np.abs(stats.zscore(df1.High_Price))\n",
    "highPrice_abs_z_scores = np.abs(highPrice_z)                                \n",
    "df2 = df1[highPrice_abs_z_scores < threshold]\n",
    "\n",
    "weight_z = np.abs(stats.zscore(df2.Weight_Kg))\n",
    "weight_abs_z_scores = np.abs(weight_z) \n",
    "df3 = df2[weight_abs_z_scores < threshold]\n",
    "\n",
    "salesTotal_z = np.abs(stats.zscore(df3.Sales_Total))\n",
    "salesTotal_abs_z_scores = np.abs(salesTotal_z) \n",
    "df4 = df3[salesTotal_abs_z_scores < threshold]\n",
    "\n",
    "totalQtySold_z = np.abs(stats.zscore(df4.Total_Qty_Sold))\n",
    "totalQtySold_abs_z_scores = np.abs(totalQtySold_z) \n",
    "df5 = df4[totalQtySold_abs_z_scores < threshold]\n",
    "\n",
    "totalKgSold_z = np.abs(stats.zscore(df5.Total_Kg_Sold))\n",
    "totalKgSold_abs_z_scores = np.abs(totalKgSold_z)\n",
    "df6 = df5[totalKgSold_abs_z_scores < threshold]\n",
    "\n",
    "stockOnHand_z = np.abs(stats.zscore(df6.Stock_On_Hand))\n",
    "stockOnHand_abs_z_scores = np.abs(stockOnHand_z)\n",
    "df7 = df6[stockOnHand_abs_z_scores < threshold]\n",
    "\n",
    "avgPricePerKg_z = np.abs(stats.zscore(df7.avg_price_per_kg))\n",
    "avgPricePerKg_abs_z_scores = np.abs(avgPricePerKg_z)\n",
    "trainData_df = df7[avgPricePerKg_abs_z_scores < threshold]"
   ]
  },
  {
   "cell_type": "markdown",
   "metadata": {},
   "source": [
    "After the Z_score method"
   ]
  },
  {
   "cell_type": "code",
   "execution_count": 15,
   "metadata": {},
   "outputs": [
    {
     "data": {
      "image/png": "[encoded data removed]",
      "text/plain": [
       "<Figure size 720x720 with 9 Axes>"
      ]
     },
     "metadata": {
      "needs_background": "light"
     },
     "output_type": "display_data"
    }
   ],
   "source": [
    "df = ['Weight_Kg', 'Low_Price', 'High_Price', 'Sales_Total', 'Total_Qty_Sold', 'Total_Kg_Sold', 'Stock_On_Hand'] #list of numeric variables\n",
    "trainData_df[df].hist(figsize=(10,10), color = 'navy'); #assign the list to the dataframe and plot a histogram with 10,10 figure size"
   ]
  },
  {
   "cell_type": "markdown",
   "metadata": {},
   "source": [
    "____________________________________________________________________________________________________________________________"
   ]
  },
  {
   "cell_type": "markdown",
   "metadata": {},
   "source": [
    "Now that we have removed outliers we used scatter plots to check for obvious relationships with the target variable, we check for linearity between the predictor variable and the target variable. The scatter plot that shows no linear relationship betwen the predictor variable and the target variable will be of no use as the model will be unappropiate."
   ]
  },
  {
   "cell_type": "code",
   "execution_count": 16,
   "metadata": {},
   "outputs": [
    {
     "data": {
      "image/png": "[encoded data removed]",
      "text/plain": [
       "<Figure size 1008x432 with 12 Axes>"
      ]
     },
     "metadata": {
      "needs_background": "light"
     },
     "output_type": "display_data"
    }
   ],
   "source": [
    "fig, ax = plt.subplots(2,6, figsize=(14,6),)#plot fig\n",
    "fig.subplots_adjust(hspace = 0.5, wspace=.2) #plot weight and height space\n",
    "ax = ax.ravel()\n",
    "\n",
    "for i, column in enumerate(trainData_df.columns): #looping over the columns of traindata_df dataset\n",
    "    ax[i-1].set_title(\"{} vs. Avg Price/kg\".format(column),fontsize=8) #set title\n",
    "    ax[i-1].scatter(x=trainData_df[column],y=trainData_df['avg_price_per_kg'],color='navy',edgecolor='k') #plot type & variables\n",
    "\n",
    "fig.tight_layout(pad=3)"
   ]
  },
  {
   "cell_type": "markdown",
   "metadata": {},
   "source": [
    "From the above scatter plot figures, we can conclude that Commodities has no relationship with the target variable, so we will remove it from our dataset. But atleast half of our plots shows a bit of relationship that we will explore further."
   ]
  },
  {
   "cell_type": "code",
   "execution_count": 17,
   "metadata": {},
   "outputs": [
    {
     "data": {
      "text/plain": [
       "((1643, 13), (685, 12))"
      ]
     },
     "execution_count": 17,
     "metadata": {},
     "output_type": "execute_result"
    }
   ],
   "source": [
    "trainData_df.shape, test_df.shape"
   ]
  },
  {
   "cell_type": "markdown",
   "metadata": {},
   "source": [
    "## 2 Dummy Variables"
   ]
  },
  {
   "cell_type": "markdown",
   "metadata": {},
   "source": [
    "### Preprocessing"
   ]
  },
  {
   "cell_type": "code",
   "execution_count": 18,
   "metadata": {},
   "outputs": [
    {
     "data": {
      "text/html": [
       "<div>\n",
       "<style scoped>\n",
       "    .dataframe tbody tr th:only-of-type {\n",
       "        vertical-align: middle;\n",
       "    }\n",
       "\n",
       "    .dataframe tbody tr th {\n",
       "        vertical-align: top;\n",
       "    }\n",
       "\n",
       "    .dataframe thead th {\n",
       "        text-align: right;\n",
       "    }\n",
       "</style>\n",
       "<table border=\"1\" class=\"dataframe\">\n",
       "  <thead>\n",
       "    <tr style=\"text-align: right;\">\n",
       "      <th></th>\n",
       "      <th>Weight_Kg</th>\n",
       "      <th>Low_Price</th>\n",
       "      <th>High_Price</th>\n",
       "      <th>Sales_Total</th>\n",
       "      <th>Total_Qty_Sold</th>\n",
       "      <th>Total_Kg_Sold</th>\n",
       "      <th>Stock_On_Hand</th>\n",
       "      <th>avg_price_per_kg</th>\n",
       "      <th>Province_CAPE</th>\n",
       "      <th>Province_EASTERN_CAPE</th>\n",
       "      <th>...</th>\n",
       "      <th>Date_2020-09-07</th>\n",
       "      <th>Date_2020-09-09</th>\n",
       "      <th>Date_2020-09-16</th>\n",
       "      <th>Date_2020-09-17</th>\n",
       "      <th>Date_2020-09-19</th>\n",
       "      <th>Date_2020-09-21</th>\n",
       "      <th>Date_2020-09-23</th>\n",
       "      <th>Date_2020-09-28</th>\n",
       "      <th>Date_2020-10-01</th>\n",
       "      <th>Date_2020-10-03</th>\n",
       "    </tr>\n",
       "  </thead>\n",
       "  <tbody>\n",
       "    <tr>\n",
       "      <th>1</th>\n",
       "      <td>18.3</td>\n",
       "      <td>150.0</td>\n",
       "      <td>170.0</td>\n",
       "      <td>51710.0</td>\n",
       "      <td>332</td>\n",
       "      <td>6075.6</td>\n",
       "      <td>822</td>\n",
       "      <td>8.51</td>\n",
       "      <td>1</td>\n",
       "      <td>0</td>\n",
       "      <td>...</td>\n",
       "      <td>0</td>\n",
       "      <td>1</td>\n",
       "      <td>0</td>\n",
       "      <td>0</td>\n",
       "      <td>0</td>\n",
       "      <td>0</td>\n",
       "      <td>0</td>\n",
       "      <td>0</td>\n",
       "      <td>0</td>\n",
       "      <td>0</td>\n",
       "    </tr>\n",
       "    <tr>\n",
       "      <th>7</th>\n",
       "      <td>11.0</td>\n",
       "      <td>50.0</td>\n",
       "      <td>50.0</td>\n",
       "      <td>16000.0</td>\n",
       "      <td>320</td>\n",
       "      <td>3520.0</td>\n",
       "      <td>0</td>\n",
       "      <td>4.55</td>\n",
       "      <td>1</td>\n",
       "      <td>0</td>\n",
       "      <td>...</td>\n",
       "      <td>0</td>\n",
       "      <td>0</td>\n",
       "      <td>0</td>\n",
       "      <td>0</td>\n",
       "      <td>0</td>\n",
       "      <td>0</td>\n",
       "      <td>0</td>\n",
       "      <td>0</td>\n",
       "      <td>0</td>\n",
       "      <td>0</td>\n",
       "    </tr>\n",
       "    <tr>\n",
       "      <th>24</th>\n",
       "      <td>9.0</td>\n",
       "      <td>55.0</td>\n",
       "      <td>55.0</td>\n",
       "      <td>990.0</td>\n",
       "      <td>18</td>\n",
       "      <td>162.0</td>\n",
       "      <td>1506</td>\n",
       "      <td>6.11</td>\n",
       "      <td>0</td>\n",
       "      <td>0</td>\n",
       "      <td>...</td>\n",
       "      <td>0</td>\n",
       "      <td>0</td>\n",
       "      <td>0</td>\n",
       "      <td>0</td>\n",
       "      <td>0</td>\n",
       "      <td>0</td>\n",
       "      <td>0</td>\n",
       "      <td>0</td>\n",
       "      <td>0</td>\n",
       "      <td>0</td>\n",
       "    </tr>\n",
       "    <tr>\n",
       "      <th>40</th>\n",
       "      <td>18.3</td>\n",
       "      <td>80.0</td>\n",
       "      <td>120.0</td>\n",
       "      <td>32020.0</td>\n",
       "      <td>388</td>\n",
       "      <td>7100.4</td>\n",
       "      <td>443</td>\n",
       "      <td>4.51</td>\n",
       "      <td>1</td>\n",
       "      <td>0</td>\n",
       "      <td>...</td>\n",
       "      <td>0</td>\n",
       "      <td>0</td>\n",
       "      <td>0</td>\n",
       "      <td>0</td>\n",
       "      <td>0</td>\n",
       "      <td>0</td>\n",
       "      <td>0</td>\n",
       "      <td>0</td>\n",
       "      <td>0</td>\n",
       "      <td>0</td>\n",
       "    </tr>\n",
       "    <tr>\n",
       "      <th>80</th>\n",
       "      <td>9.0</td>\n",
       "      <td>55.0</td>\n",
       "      <td>55.0</td>\n",
       "      <td>4840.0</td>\n",
       "      <td>88</td>\n",
       "      <td>792.0</td>\n",
       "      <td>181</td>\n",
       "      <td>6.11</td>\n",
       "      <td>1</td>\n",
       "      <td>0</td>\n",
       "      <td>...</td>\n",
       "      <td>0</td>\n",
       "      <td>0</td>\n",
       "      <td>0</td>\n",
       "      <td>0</td>\n",
       "      <td>0</td>\n",
       "      <td>0</td>\n",
       "      <td>0</td>\n",
       "      <td>0</td>\n",
       "      <td>0</td>\n",
       "      <td>0</td>\n",
       "    </tr>\n",
       "  </tbody>\n",
       "</table>\n",
       "<p>5 rows × 183 columns</p>\n",
       "</div>"
      ],
      "text/plain": [
       "    Weight_Kg  Low_Price  High_Price  Sales_Total  Total_Qty_Sold  \\\n",
       "1        18.3      150.0       170.0      51710.0             332   \n",
       "7        11.0       50.0        50.0      16000.0             320   \n",
       "24        9.0       55.0        55.0        990.0              18   \n",
       "40       18.3       80.0       120.0      32020.0             388   \n",
       "80        9.0       55.0        55.0       4840.0              88   \n",
       "\n",
       "    Total_Kg_Sold  Stock_On_Hand  avg_price_per_kg  Province_CAPE  \\\n",
       "1          6075.6            822              8.51              1   \n",
       "7          3520.0              0              4.55              1   \n",
       "24          162.0           1506              6.11              0   \n",
       "40         7100.4            443              4.51              1   \n",
       "80          792.0            181              6.11              1   \n",
       "\n",
       "    Province_EASTERN_CAPE  ...  Date_2020-09-07  Date_2020-09-09  \\\n",
       "1                       0  ...                0                1   \n",
       "7                       0  ...                0                0   \n",
       "24                      0  ...                0                0   \n",
       "40                      0  ...                0                0   \n",
       "80                      0  ...                0                0   \n",
       "\n",
       "    Date_2020-09-16  Date_2020-09-17  Date_2020-09-19  Date_2020-09-21  \\\n",
       "1                 0                0                0                0   \n",
       "7                 0                0                0                0   \n",
       "24                0                0                0                0   \n",
       "40                0                0                0                0   \n",
       "80                0                0                0                0   \n",
       "\n",
       "    Date_2020-09-23  Date_2020-09-28  Date_2020-10-01  Date_2020-10-03  \n",
       "1                 0                0                0                0  \n",
       "7                 0                0                0                0  \n",
       "24                0                0                0                0  \n",
       "40                0                0                0                0  \n",
       "80                0                0                0                0  \n",
       "\n",
       "[5 rows x 183 columns]"
      ]
     },
     "execution_count": 18,
     "metadata": {},
     "output_type": "execute_result"
    }
   ],
   "source": [
    "#For The TRAIN DATA (Train_df)\n",
    "train_df_d = pd.get_dummies(trainData_df) #dummy variable\n",
    "\n",
    "train_df_d.columns = [col.replace(\" \",\"_\") for col in train_df_d.columns] #replacing space with -\n",
    "#train_df_d.drop(['Commodities_APPLE_GOLDEN_DELICIOUS'], axis= 1, inplace =True) #removing Commodities\n",
    "\n",
    "train_df_d.head() "
   ]
  },
  {
   "cell_type": "code",
   "execution_count": 19,
   "metadata": {},
   "outputs": [
    {
     "data": {
      "text/html": [
       "<div>\n",
       "<style scoped>\n",
       "    .dataframe tbody tr th:only-of-type {\n",
       "        vertical-align: middle;\n",
       "    }\n",
       "\n",
       "    .dataframe tbody tr th {\n",
       "        vertical-align: top;\n",
       "    }\n",
       "\n",
       "    .dataframe thead th {\n",
       "        text-align: right;\n",
       "    }\n",
       "</style>\n",
       "<table border=\"1\" class=\"dataframe\">\n",
       "  <thead>\n",
       "    <tr style=\"text-align: right;\">\n",
       "      <th></th>\n",
       "      <th>Weight_Kg</th>\n",
       "      <th>Low_Price</th>\n",
       "      <th>High_Price</th>\n",
       "      <th>Sales_Total</th>\n",
       "      <th>Total_Qty_Sold</th>\n",
       "      <th>Total_Kg_Sold</th>\n",
       "      <th>Stock_On_Hand</th>\n",
       "      <th>Province_CAPE</th>\n",
       "      <th>Province_EASTERN_CAPE</th>\n",
       "      <th>Province_NATAL</th>\n",
       "      <th>...</th>\n",
       "      <th>Date_2020-09-03</th>\n",
       "      <th>Date_2020-09-07</th>\n",
       "      <th>Date_2020-09-09</th>\n",
       "      <th>Date_2020-09-17</th>\n",
       "      <th>Date_2020-09-19</th>\n",
       "      <th>Date_2020-09-21</th>\n",
       "      <th>Date_2020-09-23</th>\n",
       "      <th>Date_2020-09-28</th>\n",
       "      <th>Date_2020-10-01</th>\n",
       "      <th>Date_2020-10-03</th>\n",
       "    </tr>\n",
       "  </thead>\n",
       "  <tbody>\n",
       "    <tr>\n",
       "      <th>0</th>\n",
       "      <td>12.0</td>\n",
       "      <td>128.0</td>\n",
       "      <td>136.0</td>\n",
       "      <td>5008.0</td>\n",
       "      <td>38</td>\n",
       "      <td>456.0</td>\n",
       "      <td>0</td>\n",
       "      <td>0</td>\n",
       "      <td>0</td>\n",
       "      <td>0</td>\n",
       "      <td>...</td>\n",
       "      <td>0</td>\n",
       "      <td>0</td>\n",
       "      <td>0</td>\n",
       "      <td>0</td>\n",
       "      <td>0</td>\n",
       "      <td>0</td>\n",
       "      <td>0</td>\n",
       "      <td>0</td>\n",
       "      <td>0</td>\n",
       "      <td>0</td>\n",
       "    </tr>\n",
       "    <tr>\n",
       "      <th>1</th>\n",
       "      <td>18.3</td>\n",
       "      <td>220.0</td>\n",
       "      <td>220.0</td>\n",
       "      <td>1760.0</td>\n",
       "      <td>8</td>\n",
       "      <td>146.4</td>\n",
       "      <td>2</td>\n",
       "      <td>0</td>\n",
       "      <td>0</td>\n",
       "      <td>0</td>\n",
       "      <td>...</td>\n",
       "      <td>0</td>\n",
       "      <td>0</td>\n",
       "      <td>0</td>\n",
       "      <td>0</td>\n",
       "      <td>0</td>\n",
       "      <td>0</td>\n",
       "      <td>0</td>\n",
       "      <td>0</td>\n",
       "      <td>0</td>\n",
       "      <td>0</td>\n",
       "    </tr>\n",
       "    <tr>\n",
       "      <th>2</th>\n",
       "      <td>12.0</td>\n",
       "      <td>120.0</td>\n",
       "      <td>120.0</td>\n",
       "      <td>720.0</td>\n",
       "      <td>6</td>\n",
       "      <td>72.0</td>\n",
       "      <td>45</td>\n",
       "      <td>0</td>\n",
       "      <td>0</td>\n",
       "      <td>0</td>\n",
       "      <td>...</td>\n",
       "      <td>0</td>\n",
       "      <td>0</td>\n",
       "      <td>0</td>\n",
       "      <td>0</td>\n",
       "      <td>0</td>\n",
       "      <td>0</td>\n",
       "      <td>0</td>\n",
       "      <td>0</td>\n",
       "      <td>0</td>\n",
       "      <td>0</td>\n",
       "    </tr>\n",
       "    <tr>\n",
       "      <th>3</th>\n",
       "      <td>18.3</td>\n",
       "      <td>160.0</td>\n",
       "      <td>160.0</td>\n",
       "      <td>160.0</td>\n",
       "      <td>1</td>\n",
       "      <td>18.3</td>\n",
       "      <td>8</td>\n",
       "      <td>0</td>\n",
       "      <td>0</td>\n",
       "      <td>0</td>\n",
       "      <td>...</td>\n",
       "      <td>0</td>\n",
       "      <td>0</td>\n",
       "      <td>0</td>\n",
       "      <td>0</td>\n",
       "      <td>0</td>\n",
       "      <td>0</td>\n",
       "      <td>0</td>\n",
       "      <td>0</td>\n",
       "      <td>0</td>\n",
       "      <td>0</td>\n",
       "    </tr>\n",
       "    <tr>\n",
       "      <th>4</th>\n",
       "      <td>18.3</td>\n",
       "      <td>140.0</td>\n",
       "      <td>160.0</td>\n",
       "      <td>14140.0</td>\n",
       "      <td>100</td>\n",
       "      <td>1830.0</td>\n",
       "      <td>19</td>\n",
       "      <td>0</td>\n",
       "      <td>0</td>\n",
       "      <td>0</td>\n",
       "      <td>...</td>\n",
       "      <td>0</td>\n",
       "      <td>0</td>\n",
       "      <td>0</td>\n",
       "      <td>0</td>\n",
       "      <td>0</td>\n",
       "      <td>0</td>\n",
       "      <td>0</td>\n",
       "      <td>0</td>\n",
       "      <td>0</td>\n",
       "      <td>0</td>\n",
       "    </tr>\n",
       "  </tbody>\n",
       "</table>\n",
       "<p>5 rows × 179 columns</p>\n",
       "</div>"
      ],
      "text/plain": [
       "   Weight_Kg  Low_Price  High_Price  Sales_Total  Total_Qty_Sold  \\\n",
       "0       12.0      128.0       136.0       5008.0              38   \n",
       "1       18.3      220.0       220.0       1760.0               8   \n",
       "2       12.0      120.0       120.0        720.0               6   \n",
       "3       18.3      160.0       160.0        160.0               1   \n",
       "4       18.3      140.0       160.0      14140.0             100   \n",
       "\n",
       "   Total_Kg_Sold  Stock_On_Hand  Province_CAPE  Province_EASTERN_CAPE  \\\n",
       "0          456.0              0              0                      0   \n",
       "1          146.4              2              0                      0   \n",
       "2           72.0             45              0                      0   \n",
       "3           18.3              8              0                      0   \n",
       "4         1830.0             19              0                      0   \n",
       "\n",
       "   Province_NATAL  ...  Date_2020-09-03  Date_2020-09-07  Date_2020-09-09  \\\n",
       "0               0  ...                0                0                0   \n",
       "1               0  ...                0                0                0   \n",
       "2               0  ...                0                0                0   \n",
       "3               0  ...                0                0                0   \n",
       "4               0  ...                0                0                0   \n",
       "\n",
       "   Date_2020-09-17  Date_2020-09-19  Date_2020-09-21  Date_2020-09-23  \\\n",
       "0                0                0                0                0   \n",
       "1                0                0                0                0   \n",
       "2                0                0                0                0   \n",
       "3                0                0                0                0   \n",
       "4                0                0                0                0   \n",
       "\n",
       "   Date_2020-09-28  Date_2020-10-01  Date_2020-10-03  \n",
       "0                0                0                0  \n",
       "1                0                0                0  \n",
       "2                0                0                0  \n",
       "3                0                0                0  \n",
       "4                0                0                0  \n",
       "\n",
       "[5 rows x 179 columns]"
      ]
     },
     "execution_count": 19,
     "metadata": {},
     "output_type": "execute_result"
    }
   ],
   "source": [
    "#For The Test DATA (Test_df)\n",
    "#using the test data\n",
    "test_df = test_df[(test_df['Commodities'] == 'APPLE GOLDEN DELICIOUS')]\n",
    "\n",
    "X_t = pd.get_dummies(test_df)\n",
    "X_t.columns = [col.replace(\" \",\"_\") for col in X_t.columns]\n",
    "X_t.drop(['Commodities_APPLE_GOLDEN_DELICIOUS'], axis= 1, inplace =True)\n",
    "\n",
    "X_t.head()\n",
    "\n"
   ]
  },
  {
   "cell_type": "code",
   "execution_count": 20,
   "metadata": {},
   "outputs": [
    {
     "data": {
      "text/plain": [
       "((1643, 183), (685, 179))"
      ]
     },
     "execution_count": 20,
     "metadata": {},
     "output_type": "execute_result"
    }
   ],
   "source": [
    "train_df_d.shape, X_t.shape"
   ]
  },
  {
   "cell_type": "markdown",
   "metadata": {},
   "source": [
    "# 2.3 Correlation and Variable selection"
   ]
  },
  {
   "cell_type": "markdown",
   "metadata": {},
   "source": [
    "1. Check the independent variables that are highly correleted to the target variable\n",
    "2. Check those that have moderate correlection\n",
    "3. Check the weak correlected independent variables\n",
    "4. Chose variables to remove depending on their relationship with the target variable"
   ]
  },
  {
   "cell_type": "markdown",
   "metadata": {},
   "source": [
    "we will arrange the data so our target variable be the last column on the dataframe"
   ]
  },
  {
   "cell_type": "code",
   "execution_count": 21,
   "metadata": {},
   "outputs": [],
   "source": [
    "#Avarage must be the last column (dependent)\n",
    "#reorder columns\n",
    "column_titles = [col for col in train_df_d.columns if col!= 'avg_price_per_kg'] + ['avg_price_per_kg']\n",
    "train_df_d=train_df_d.reindex(columns=column_titles)"
   ]
  },
  {
   "cell_type": "markdown",
   "metadata": {},
   "source": [
    "The correlection"
   ]
  },
  {
   "cell_type": "code",
   "execution_count": 22,
   "metadata": {},
   "outputs": [
    {
     "data": {
      "text/html": [
       "<div>\n",
       "<style scoped>\n",
       "    .dataframe tbody tr th:only-of-type {\n",
       "        vertical-align: middle;\n",
       "    }\n",
       "\n",
       "    .dataframe tbody tr th {\n",
       "        vertical-align: top;\n",
       "    }\n",
       "\n",
       "    .dataframe thead th {\n",
       "        text-align: right;\n",
       "    }\n",
       "</style>\n",
       "<table border=\"1\" class=\"dataframe\">\n",
       "  <thead>\n",
       "    <tr style=\"text-align: right;\">\n",
       "      <th></th>\n",
       "      <th>Correlation</th>\n",
       "    </tr>\n",
       "  </thead>\n",
       "  <tbody>\n",
       "    <tr>\n",
       "      <th>avg_price_per_kg</th>\n",
       "      <td>1.000000</td>\n",
       "    </tr>\n",
       "    <tr>\n",
       "      <th>Low_Price</th>\n",
       "      <td>0.818317</td>\n",
       "    </tr>\n",
       "    <tr>\n",
       "      <th>High_Price</th>\n",
       "      <td>0.765937</td>\n",
       "    </tr>\n",
       "    <tr>\n",
       "      <th>Weight_Kg</th>\n",
       "      <td>0.492557</td>\n",
       "    </tr>\n",
       "    <tr>\n",
       "      <th>Container_M4183</th>\n",
       "      <td>0.380769</td>\n",
       "    </tr>\n",
       "    <tr>\n",
       "      <th>...</th>\n",
       "      <td>...</td>\n",
       "    </tr>\n",
       "    <tr>\n",
       "      <th>Province_EASTERN_CAPE</th>\n",
       "      <td>-0.229628</td>\n",
       "    </tr>\n",
       "    <tr>\n",
       "      <th>Province_NATAL</th>\n",
       "      <td>-0.337509</td>\n",
       "    </tr>\n",
       "    <tr>\n",
       "      <th>Size_Grade_2S</th>\n",
       "      <td>-0.409072</td>\n",
       "    </tr>\n",
       "    <tr>\n",
       "      <th>Container_JE090</th>\n",
       "      <td>-0.429679</td>\n",
       "    </tr>\n",
       "    <tr>\n",
       "      <th>Commodities_APPLE_GOLDEN_DELICIOUS</th>\n",
       "      <td>NaN</td>\n",
       "    </tr>\n",
       "  </tbody>\n",
       "</table>\n",
       "<p>183 rows × 1 columns</p>\n",
       "</div>"
      ],
      "text/plain": [
       "                                    Correlation\n",
       "avg_price_per_kg                       1.000000\n",
       "Low_Price                              0.818317\n",
       "High_Price                             0.765937\n",
       "Weight_Kg                              0.492557\n",
       "Container_M4183                        0.380769\n",
       "...                                         ...\n",
       "Province_EASTERN_CAPE                 -0.229628\n",
       "Province_NATAL                        -0.337509\n",
       "Size_Grade_2S                         -0.409072\n",
       "Container_JE090                       -0.429679\n",
       "Commodities_APPLE_GOLDEN_DELICIOUS          NaN\n",
       "\n",
       "[183 rows x 1 columns]"
      ]
     },
     "execution_count": 22,
     "metadata": {},
     "output_type": "execute_result"
    }
   ],
   "source": [
    "# Target correlations with features\n",
    "corrs = pd.DataFrame(train_df_d.corr()['avg_price_per_kg']).rename(columns = {'avg_price_per_kg':'Correlation'})\n",
    "corrs.sort_values(by='Correlation',ascending=False, inplace=True)\n",
    "corrs"
   ]
  },
  {
   "cell_type": "code",
   "execution_count": 23,
   "metadata": {},
   "outputs": [
    {
     "data": {
      "image/png": "[encoded data removed]",
      "text/plain": [
       "<Figure size 648x504 with 2 Axes>"
      ]
     },
     "metadata": {
      "needs_background": "light"
     },
     "output_type": "display_data"
    }
   ],
   "source": [
    "plt.figure(figsize=(9, 7))\n",
    "heatmap = sns.heatmap(trainData_df.corr(), vmin=-1, vmax=1, annot=True)\n",
    "heatmap.set_title('Correlation Heatmap', fontdict={'fontsize':15}, pad=12);"
   ]
  },
  {
   "cell_type": "code",
   "execution_count": 24,
   "metadata": {},
   "outputs": [
    {
     "name": "stdout",
     "output_type": "stream",
     "text": [
      "There is 6 strongly correlated values with Average price per kg:\n",
      "Sales_Total       0.108473\n",
      "Stock_On_Hand     0.105028\n",
      "Total_Qty_Sold    0.087536\n",
      "Low_Price        -0.141740\n",
      "High_Price       -0.164496\n",
      "Weight_Kg        -0.337886\n",
      "Name: avg_price_per_kg, dtype: float64\n"
     ]
    }
   ],
   "source": [
    "df_num_corr = train_df.corr()['avg_price_per_kg'][:-1] # -1 because the latest row is Average price per kg\n",
    "golden_features_list = df_num_corr[abs(df_num_corr) > 0.01].sort_values(ascending=False)\n",
    "print(\"There is {} strongly correlated values with Average price per kg:\\n{}\".format(len(golden_features_list), golden_features_list))"
   ]
  },
  {
   "cell_type": "markdown",
   "metadata": {},
   "source": [
    "### Train & Test Split"
   ]
  },
  {
   "cell_type": "markdown",
   "metadata": {},
   "source": [
    "For Train Data (Train_df thats in df_dummies)"
   ]
  },
  {
   "cell_type": "code",
   "execution_count": 25,
   "metadata": {},
   "outputs": [],
   "source": [
    "#spliting variables into x and y\n",
    "X = train_df_d[['Sales_Total', 'Low_Price', 'High_Price','Stock_On_Hand','Weight_Kg']].values\n",
    "Y = train_df_d['avg_price_per_kg']\n",
    "\n"
   ]
  },
  {
   "cell_type": "markdown",
   "metadata": {},
   "source": [
    "For Test Data (Test_df thats in X_t dummies)"
   ]
  },
  {
   "cell_type": "code",
   "execution_count": 26,
   "metadata": {},
   "outputs": [],
   "source": [
    "X_real = X_t[['Sales_Total', 'Low_Price', 'High_Price', 'Stock_On_Hand','Weight_Kg']].values"
   ]
  },
  {
   "cell_type": "code",
   "execution_count": 27,
   "metadata": {},
   "outputs": [
    {
     "data": {
      "text/plain": [
       "((685, 5), (1643, 5))"
      ]
     },
     "execution_count": 27,
     "metadata": {},
     "output_type": "execute_result"
    }
   ],
   "source": [
    "X_real.shape, X.shape #checking the data shape"
   ]
  },
  {
   "cell_type": "code",
   "execution_count": 28,
   "metadata": {},
   "outputs": [],
   "source": [
    "#Train/Test Split\n",
    "X_train, X_test, y_train, y_test = train_test_split(X, Y, test_size = 0.2)"
   ]
  },
  {
   "cell_type": "markdown",
   "metadata": {},
   "source": [
    "### MODELS"
   ]
  },
  {
   "cell_type": "code",
   "execution_count": 29,
   "metadata": {},
   "outputs": [],
   "source": [
    "#Function for model prediction\n",
    "def model_test(model, X, y):\n",
    "    #Predict\n",
    "    y_pred = model.predict(X)\n",
    "    r2 = r2_score(y, y_pred)\n",
    "    rmse = np.sqrt(mean_squared_error(y_pred, y))\n",
    "    print('R2 Score is : {} | Root Mean Square Error is : {}'\n",
    "          .format(r2,rmse))\n",
    "    \n",
    "    return"
   ]
  },
  {
   "cell_type": "markdown",
   "metadata": {},
   "source": [
    "#### Using The Linear Regression (Train and Test)"
   ]
  },
  {
   "cell_type": "code",
   "execution_count": 30,
   "metadata": {},
   "outputs": [
    {
     "data": {
      "text/plain": [
       "LinearRegression(n_jobs=-1)"
      ]
     },
     "execution_count": 30,
     "metadata": {},
     "output_type": "execute_result"
    }
   ],
   "source": [
    "#Function for Linear Regression\n",
    "def linearRegression(X, y):\n",
    "    global Linear_model\n",
    "    Linear_model = LinearRegression(n_jobs = -1)\n",
    "    Linear_model.fit(X, y)\n",
    "    return Linear_model\n",
    "#fitting the model\n",
    "linearRegression(X_train, y_train)"
   ]
  },
  {
   "cell_type": "code",
   "execution_count": 31,
   "metadata": {},
   "outputs": [
    {
     "name": "stdout",
     "output_type": "stream",
     "text": [
      "R2 Score is : 0.850843194208749 | Root Mean Square Error is : 0.8144069459473636\n",
      "R2 Score is : 0.8684538519892842 | Root Mean Square Error is : 0.7666980297870984\n"
     ]
    }
   ],
   "source": [
    "#making predictions\n",
    "model_test(Linear_model, X_train, y_train)\n",
    "model_test(Linear_model, X_test, y_test)"
   ]
  },
  {
   "cell_type": "markdown",
   "metadata": {},
   "source": [
    "Prediction on the test dataset"
   ]
  },
  {
   "cell_type": "code",
   "execution_count": 32,
   "metadata": {},
   "outputs": [
    {
     "data": {
      "text/plain": [
       "array([   9.87433249,   13.08520595,    9.01202349,    8.91882098,\n",
       "          8.31747314,  -53.56951095,    3.91876967,    7.40669574,\n",
       "          8.39687748,    9.62125203,    5.55300752,   -9.26605034,\n",
       "          8.28959666,    4.82679641,    5.23776033,    5.87884793,\n",
       "          7.39578878,    5.19804001,   13.44586336,    5.96411816,\n",
       "          5.7879559 ,  -43.69820354,    5.72119705,    6.9068686 ,\n",
       "          5.52680742,    5.85166072,    8.00444808,    8.36415071,\n",
       "          7.24456454,    8.66985738,    8.28572358,    5.71318264,\n",
       "         10.3820039 ,    7.54924009,  -82.47056377,   10.30810298,\n",
       "         11.73343115,   13.67262427,    6.04954517,    6.73222092,\n",
       "          9.13342713,    6.5704246 ,    4.06720056,    6.04776672,\n",
       "          5.53130706,    5.57296607,  -36.95135074,    5.53736031,\n",
       "          5.89284506,  -85.93762319, -140.40344785,    6.06425816,\n",
       "          5.9060321 ,   15.86597489,    8.40973297,    5.57159102,\n",
       "         10.67533681,    9.66070335,    7.76303996,    5.68167282,\n",
       "          7.06998583,   12.59955659,    6.05134319,    9.74399318,\n",
       "          5.64280882,    5.90195247,    6.39806199,    5.11316223,\n",
       "        -15.7319275 ,    6.84219101,    4.76463338,    5.20278749,\n",
       "          4.00307694,    7.363693  ,    6.40215453,    5.39223752,\n",
       "          5.95498849,    9.743368  ,   11.7097426 ,    6.05104607,\n",
       "          6.62667831,  -36.95135074,    6.30623577,    5.5337169 ,\n",
       "          2.7468199 ,    6.37814183,    6.8508714 ,   12.56277814,\n",
       "          4.7285541 ,    6.43574833,    8.75639016,    9.99392758,\n",
       "          6.99290221,    5.73351248,    5.68290152,    6.39710197,\n",
       "          8.65201568,    9.03870862,    6.59292221,    5.52448179,\n",
       "         12.0954121 ,    6.07420691,    6.07652017,    7.53713161,\n",
       "          7.70523706,    9.12611456,    7.97185995,    3.23378082,\n",
       "          9.00992555,  -36.66332345,    4.86021156,    6.92448057,\n",
       "          5.88452587,    4.33706755,    6.47103834,    9.01479595,\n",
       "          5.13029136,   10.7808854 ,    4.8621339 ,    6.93325185,\n",
       "          5.88638768,    4.15842393,    8.77084723,  -50.84516537,\n",
       "          9.35333559,    7.6545636 ,    4.87725589,    9.73467231,\n",
       "         10.31774635,    5.70317086,    6.70239925,    5.70112075,\n",
       "          9.70511365,    8.28076141, -140.97964676,    5.88579348,\n",
       "          6.906177  ,    7.34626354,    7.15605355,    5.82072819,\n",
       "          8.38214817,  -22.84446252,    8.21901405,    5.56136023,\n",
       "          9.29142971,    6.21617078,    5.42169498,    6.46646618,\n",
       "          4.76363835,    6.84935377,    9.01110382,    8.07438535,\n",
       "          6.36007342,    8.64728994,    6.85011812,   11.70387808,\n",
       "          4.87616449,    5.04494251,    5.72243561,    5.6995192 ,\n",
       "          7.95456866,    8.74843826,    6.72964107,    8.86237777,\n",
       "          6.7661852 ,    7.62969641,    6.90808457,    7.39564499,\n",
       "          5.17479861,    7.56248902,    8.54697119,    6.94951492,\n",
       "          4.84971034,   10.75495621,    5.88370388,    5.25790972,\n",
       "          6.99465922,    5.58376104,    5.84677387,    6.93115683,\n",
       "          4.86819249, -168.71423239,   11.57239481,    7.30535021,\n",
       "          7.05766534, -168.71378287,    6.06182774,   10.3052828 ,\n",
       "          6.95324363,    5.23487318,    5.52479977,    9.3672231 ,\n",
       "        -36.98700515,    5.2415539 ,    9.01190794,    5.90947366,\n",
       "          8.19208943,    7.1600192 ,    6.05013131,    9.28268972,\n",
       "          6.7409311 ,  -92.45600564,    7.7774826 ,    3.0932887 ,\n",
       "          6.11762483,  -60.72164615,    8.07297866,    6.9068686 ,\n",
       "          7.62955882,    8.06770307,    7.24833941,   15.92958525,\n",
       "          5.41720613,    6.22793973,    8.7820663 ,    5.52115213,\n",
       "          5.70282852,    5.28634069,    9.90991313,    7.80789488,\n",
       "          5.77438308,    5.35718216,    8.25387129,   11.72194595,\n",
       "         12.44338703,    6.54244004,    6.0617564 ,    5.31346545,\n",
       "          8.18140878,    5.52431079,    4.95703049,   11.14204181,\n",
       "          7.54483478,    5.30487789,    6.22072632,    5.86699021,\n",
       "          9.8106856 ,    8.92326446,    4.88822848,    5.80177454,\n",
       "          4.844153  ,    5.12706247,    6.01439248,    7.45517978,\n",
       "         11.69182148,    6.51507355,    6.15662016,    7.53235915,\n",
       "          5.13012132,   10.42427447,    7.81899183,    9.9803947 ,\n",
       "          5.05863584,    4.72771659,    6.21447472,  -70.04774812,\n",
       "          6.7070078 ,    9.74404197,    8.94612632,    8.59002928,\n",
       "          9.59979343,    9.56411933,    6.08379711,    5.90150395,\n",
       "          5.21247627,    7.37937734,    5.39828207,    6.19168916,\n",
       "          2.74922751,    6.21368265,    8.35819024,    6.29582419,\n",
       "         11.85887049,    2.75172597,    8.2819316 ,    9.12317439,\n",
       "        -35.56251742,    6.21576551,    5.9502895 ,    7.37714611,\n",
       "          5.35578054,    6.91275325,    6.08758061,    4.960849  ,\n",
       "          9.63444811,  -43.59052753,    5.90749292,    5.32572418,\n",
       "          8.30040565,    8.77411891,    6.07103002,    5.93437649,\n",
       "          5.6874213 , -140.97288685,    6.14682248,    6.53702272,\n",
       "          9.7580043 ,    7.49393952,    7.60808821,    6.77567716,\n",
       "          5.51960418,    5.88207355,    4.86315646,    6.38372874,\n",
       "          7.85922422,    9.34770882,    5.79865036,    4.39026222,\n",
       "          7.46866886,    6.01683203,    5.97106151,    6.39274711,\n",
       "          5.0261233 ,    8.30912028,    9.56544088,    8.93612532,\n",
       "          5.93110077,    5.92502701,    5.25339937,    6.25801309,\n",
       "          5.89133539,    6.22529661,    4.30386954,    7.73422184,\n",
       "        -36.99620905,    4.4860191 ,    6.96442235,    5.88490203,\n",
       "         11.38069928,    8.1762892 ,    5.71708392,    5.44573663,\n",
       "         10.15005216,    6.67466394,    8.22769426,    7.35210288,\n",
       "          8.39297834,    6.2138519 ,    6.9306296 ,    5.22185015,\n",
       "          6.2359331 ,    5.41827594,    8.56632668,    6.53472106,\n",
       "          8.47645213,    6.40598816,    8.28521994,    5.37142228,\n",
       "          8.13444876,    8.13484131,    7.11391513,    9.9808316 ,\n",
       "          7.53452036,   10.93478   ,    5.93259629,    6.23762937,\n",
       "          5.78857483,    8.34882539,    9.07176684,    8.59937661,\n",
       "          6.20038189,    6.05373979,    8.15779738,    9.89839459,\n",
       "          5.89936683,    6.48179489,    6.96593632,    7.84638142,\n",
       "          4.69526628,    9.35065896,  -43.61426683,    6.21407389,\n",
       "          5.8897776 ,    9.46961869,    6.50818408,    6.85193256,\n",
       "        -36.80687176,    6.30596751,    7.53452036,    6.40683789,\n",
       "          6.27222569,    6.84250216,    7.36219714,    7.81366971,\n",
       "          2.77641463,    7.92430566,    5.91214019,    7.39911216,\n",
       "          3.46903756,   10.08625369,    6.98778838,    5.81013842,\n",
       "          9.80046587,    8.18186985, -140.37647651,    9.99206408,\n",
       "          6.25366796,    6.60776369,    7.27446382,    6.67730146,\n",
       "          5.91881025,    3.97959972,    9.47232827,    6.66514404,\n",
       "          5.83351348,    9.47431459,    4.87894356,    7.30018604,\n",
       "        -43.57254664,    9.01674172,   10.00023922,    4.33706755,\n",
       "          5.74513106,    8.63532364,    9.61828066,    4.66253014,\n",
       "          8.97902839,    5.13725058,    9.0142736 ,    6.24007832,\n",
       "          3.14028966,    5.64769437,    7.69468696,    5.42601214,\n",
       "          6.08710239,    8.19140876,    8.14773538,    6.90615993,\n",
       "          7.92793987,    5.71124267,    9.30636549,    7.36780003,\n",
       "          7.46556089,   10.10997007,    6.26118411,    8.05161424,\n",
       "          4.61083157,    5.52407402,    6.67443101,    5.8849319 ,\n",
       "          6.51690259,    5.70399894,    9.01836854,    8.97546317,\n",
       "          8.39653295,   11.26824089,    6.9454787 ,    8.23989466,\n",
       "          8.26191731,    7.63236883,    9.01337709,    7.14428107,\n",
       "          9.65256529,    7.73049475,    6.20731246,    7.59457939,\n",
       "          8.26109699,    8.85732019,    4.93405747,    8.03695131,\n",
       "          5.20531214,    9.85661723,    5.5205203 ,    6.08443273,\n",
       "          7.50824997,    4.67140343,    5.67475561,    8.40407639,\n",
       "          5.63423308,    8.2508505 ,    8.26858897,    9.76321876,\n",
       "          5.97890038,    5.22944707,    5.83888954,    9.34594682,\n",
       "         10.56645394,  -61.260115  ,    6.34900388,    5.52286507,\n",
       "          5.02724655,    7.53917079,    4.57363807,    1.9864606 ,\n",
       "          8.27285791,    6.42446986,    8.35275109,    4.14570193,\n",
       "          5.66672834,  -61.26012354,    5.59022682,    6.40363497,\n",
       "          7.56725735,    7.46100229,   11.13447233,    6.35651064,\n",
       "          4.44710594,    8.46687401,    8.22684898,    9.30156157,\n",
       "          8.76932729,   13.16721124,    7.98794628,    8.18311642,\n",
       "          7.80790135,    9.02103702,    6.95557701,    6.21428384,\n",
       "          7.69304487,    5.00137164,    9.12611456,    6.83967419,\n",
       "          5.88416038,    4.844153  ,    8.01257367,    8.93563459,\n",
       "          7.42120408,    5.45318222,    7.14151053,    4.72298117,\n",
       "          8.35671963,    5.05870775,    6.01361645,    6.26351303,\n",
       "          7.36217395,    8.02340385,    7.54483478,  -92.45629594,\n",
       "          4.93405747,    8.82786716,   10.30624563,    5.56437504,\n",
       "          8.91965772,    7.22310742,    9.85430055,    9.12611456,\n",
       "          7.964214  ,    5.52503467,    6.11884362,    8.34670881,\n",
       "          7.8332708 ,  -39.60655792,    8.04423083,    8.48679604,\n",
       "          7.10269359,    6.4477381 ,    7.4843489 ,    6.04718863,\n",
       "          3.3735628 ,    5.87096019,    5.47068039,    5.6818684 ,\n",
       "          5.87313958,  -38.43618596,    5.38781803,    4.32329344,\n",
       "          9.03377133,    6.95744547,    5.8645198 ,    5.81931129,\n",
       "          9.32450514,  -50.67516054,    5.53218738,    5.53719702,\n",
       "          6.97620048,    3.40436085,    8.62666336,    6.7409311 ,\n",
       "          8.18810788,    9.35350332,  -43.59052753,    5.88427364,\n",
       "          9.28992217,    7.37287027,    4.99819684,    6.0352516 ,\n",
       "          6.06791274,    4.52706011,    6.93050153,   11.69272906,\n",
       "          5.52204887,    4.98751686,    4.14219027,    5.79793302,\n",
       "          8.35049799,    8.24514949,    6.2724266 ,   12.39017201,\n",
       "          6.08970651,    7.46884748,    7.27803528,    7.73079761,\n",
       "          6.09303061,    6.00810468,    6.69954657,    5.90751188,\n",
       "          5.97491635,    6.21752239,    6.97134153,    5.96936377,\n",
       "          6.14902288,    6.56406844,   11.43656739,    7.76342587,\n",
       "          7.1051281 ,    3.4398474 ,    8.33803427,  -61.10046144,\n",
       "          9.06104808,    9.2851748 ,    7.76338063,    8.14037942,\n",
       "          7.25636886,    5.20812092,    9.56541381,    5.09410106,\n",
       "          6.00143394,   12.34020177,    5.81753723,    7.61216639,\n",
       "          4.0870797 ,   11.58057669,    7.79831644,    5.52059738,\n",
       "          5.88823443,    4.06720056,    5.86882555,    4.61581901,\n",
       "          7.04948328,    6.65652153,    5.72036396,    6.59220976,\n",
       "          5.9308261 ,    5.69304478,    6.57430423,    5.90522192,\n",
       "          9.76378171,    5.72914292,    4.83918261,    7.35256611,\n",
       "          6.04718863,  -36.86144627,    8.27285791,    5.19931284,\n",
       "         11.71643721,    6.72042059,    6.14977518,    4.88474409,\n",
       "          9.64723442,    8.79300696,    5.89068375,    6.71108708,\n",
       "          6.65153416,    8.92213583,    5.0090366 ,    6.96593632,\n",
       "          4.75073738,    5.19899919,    6.03610275,    8.47535243,\n",
       "          5.92180932,    6.21732051,    5.87942075,    3.97368021,\n",
       "         11.89465645,    8.23270431,    7.72320671,  -39.66726605,\n",
       "         13.67262427,    6.56580921,   10.30626271,    5.56444706,\n",
       "          5.66837243,    6.58216233,   13.71082529,    9.30740273,\n",
       "          6.1681235 ,    5.99602176,    8.16024238,    2.07695896,\n",
       "          4.1462072 ,    7.15166051,    5.86842352,    7.35354567,\n",
       "          7.90866928])"
      ]
     },
     "execution_count": 32,
     "metadata": {},
     "output_type": "execute_result"
    }
   ],
   "source": [
    "test_linear = Linear_model.predict(X_real)\n",
    "test_linear"
   ]
  },
  {
   "cell_type": "markdown",
   "metadata": {},
   "source": [
    "_____________________________________________________________________________________________________________________________"
   ]
  },
  {
   "cell_type": "markdown",
   "metadata": {},
   "source": [
    "#### Using The Lasso Regression"
   ]
  },
  {
   "cell_type": "code",
   "execution_count": 33,
   "metadata": {},
   "outputs": [
    {
     "data": {
      "text/plain": [
       "Lasso(alpha=0.01, random_state=42)"
      ]
     },
     "execution_count": 33,
     "metadata": {},
     "output_type": "execute_result"
    }
   ],
   "source": [
    "#fitting the data using Lasso\n",
    "def lasso_Regression(X, y):\n",
    "    global Lasso_model\n",
    "    Lasso_model = Lasso(alpha=0.01, random_state=42)\n",
    "    Lasso_model.fit(X, y)\n",
    "    return Lasso_model\n",
    "\n",
    "lasso_Regression(X_train, y_train)"
   ]
  },
  {
   "cell_type": "code",
   "execution_count": 34,
   "metadata": {},
   "outputs": [
    {
     "name": "stdout",
     "output_type": "stream",
     "text": [
      "R2 Score is : 0.8508357378607878 | Root Mean Square Error is : 0.8144273017925077\n",
      "R2 Score is : 0.8683370452595577 | Root Mean Square Error is : 0.7670383499692838\n"
     ]
    }
   ],
   "source": [
    "model_test(Lasso_model, X_train, y_train)\n",
    "model_test(Lasso_model, X_test, y_test)"
   ]
  },
  {
   "cell_type": "markdown",
   "metadata": {},
   "source": [
    "Prediction on test set"
   ]
  },
  {
   "cell_type": "code",
   "execution_count": 35,
   "metadata": {},
   "outputs": [
    {
     "data": {
      "text/plain": [
       "array([   9.86402776,   13.07530849,    9.00499433,    8.92230214,\n",
       "          8.32186994,  -52.78564644,    3.92653171,    7.4119614 ,\n",
       "          8.39788951,    9.62256549,    5.55057896,   -8.58276701,\n",
       "          8.29177695,    4.8283666 ,    5.23770041,    5.87746504,\n",
       "          7.39477013,    5.197683  ,   13.4313233 ,    5.96206988,\n",
       "          5.78557094,  -42.90124203,    5.71866467,    6.90174013,\n",
       "          5.52637269,    5.85122294,    8.00647561,    8.36941398,\n",
       "          7.25115009,    8.68601756,    8.29013575,    5.7149397 ,\n",
       "         10.37959079,    7.55732571,  -81.65973105,   10.30713861,\n",
       "         11.72830999,   13.65837847,    6.05104621,    6.74094649,\n",
       "          9.12647221,    6.57407148,    4.08635678,    6.04498518,\n",
       "          5.53103273,    5.57083075,  -36.17819613,    5.53681749,\n",
       "          5.89138001,  -85.16636033, -139.33103602,    6.06056758,\n",
       "          5.91329844,   15.84720206,    8.40513607,    5.58113548,\n",
       "         10.66292117,    9.6590669 ,    7.76637936,    5.68536535,\n",
       "          7.07184961,   12.5915042 ,    6.04858285,    9.74422536,\n",
       "          5.64885153,    5.90366074,    6.394177  ,    5.11301158,\n",
       "        -15.04296081,    6.85241681,    4.78158333,    5.20261859,\n",
       "          4.00933524,    7.36214366,    6.39829279,    5.39156036,\n",
       "          5.9538708 ,    9.74358607,   11.70440593,    6.04832168,\n",
       "          6.62988652,  -36.17819613,    6.30200453,    5.53346559,\n",
       "          2.75509594,    6.39345076,    6.85030512,   12.55443354,\n",
       "          4.73433252,    6.43120231,    8.74959974,    9.99330451,\n",
       "          6.99141295,    5.73630125,    5.6866288 ,    6.39358879,\n",
       "          8.65621107,    9.03504664,    6.5881583 ,    5.52393271,\n",
       "         12.08855053,    6.07059929,    6.06480821,    7.54513778,\n",
       "          7.71533394,    9.13118908,    7.97034288,    3.24385814,\n",
       "          9.00288198,  -35.88795158,    4.86002123,    6.91846288,\n",
       "          5.88286803,    4.34311256,    6.46831263,    9.00780524,\n",
       "          5.13584104,   10.77489748,    4.86396757,    6.94319784,\n",
       "          5.88378105,    4.1670458 ,    8.76424815,  -50.02746506,\n",
       "          9.35344176,    7.66147408,    4.87717566,    9.73296832,\n",
       "         10.31687669,    5.7015035 ,    6.69719458,    5.70035143,\n",
       "          9.70503847,    8.27485952, -139.87105552,    5.88321598,\n",
       "          6.90102388,    7.35188438,    7.15465104,    5.81809224,\n",
       "          8.3875549 ,  -22.11422023,    8.21414632,    5.55898352,\n",
       "          9.29299964,    6.21335659,    5.42566057,    6.46928389,\n",
       "          4.78064088,    6.85227712,    9.00410225,    8.07782851,\n",
       "          6.35479548,    8.63650236,    6.86046299,   11.69865939,\n",
       "          4.88998814,    5.04478519,    5.72643107,    5.7034766 ,\n",
       "          7.9510032 ,    8.74161293,    6.72788569,    8.86301635,\n",
       "          6.76142267,    7.63233273,    6.90296423,    7.40338605,\n",
       "          5.17525279,    7.55976349,    8.53992473,    6.95452846,\n",
       "          4.85608672,   10.74315091,    5.88105063,    5.26119473,\n",
       "          6.99591952,    5.58360187,    5.84803527,    6.92943656,\n",
       "          4.87470696, -167.51614314,   11.56479326,    7.30210435,\n",
       "          7.05659393, -167.51569017,    6.05509956,   10.30428583,\n",
       "          6.95837247,    5.24460693,    5.52419913,    9.36739918,\n",
       "        -36.21411525,    5.24151852,    9.00491994,    5.91674211,\n",
       "          8.18782724,    7.15569099,    6.0383843 ,    9.26973033,\n",
       "          6.73589051,  -91.50411363,    7.77209339,    3.10044437,\n",
       "          6.11890766,  -59.89677306,    8.06717472,    6.90174013,\n",
       "          7.63692006,    8.06407951,    7.25687978,   15.91167371,\n",
       "          5.42109119,    6.23706759,    8.77556325,    5.52050322,\n",
       "          5.70122065,    5.29039116,    9.89825729,    7.80863614,\n",
       "          5.77647025,    5.35671768,    8.24837814,   11.71676757,\n",
       "         12.43410715,    6.54296936,    6.05460365,    5.31692714,\n",
       "          8.17706471,    5.52373675,    4.96125129,   11.13797116,\n",
       "          7.55288662,    5.30818439,    6.21790094,    5.86521921,\n",
       "          9.80428645,    8.92678328,    4.88884758,    5.79899187,\n",
       "          4.84584884,    5.13254535,    6.01697652,    7.45433176,\n",
       "         11.68634909,    6.51611238,    6.14595229,    7.54031846,\n",
       "          5.13564079,   10.42022343,    7.82123387,    9.97966908,\n",
       "          5.05757288,    4.73441287,    6.21156988,  -69.25216058,\n",
       "          6.70678237,    9.74270343,    8.94981609,    8.59378605,\n",
       "          9.59121712,    9.55526956,    6.08138614,    5.89899719,\n",
       "          5.21333396,    7.37865176,    5.39723171,    6.18917708,\n",
       "          2.76933705,    6.21077222,    8.35898479,    6.29355514,\n",
       "         11.85469897,    2.76004105,    8.28621866,    9.11539899,\n",
       "        -34.8192779 ,    6.21289159,    5.95603162,    7.38070771,\n",
       "          5.35522648,    6.92448185,    6.07557581,    4.9634394 ,\n",
       "          9.63591122,  -42.81303714,    5.90515248,    5.32917759,\n",
       "          8.30669857,    8.77412824,    6.0598016 ,    5.93209376,\n",
       "          5.6889116 , -139.86424331,    6.15926273,    6.53819947,\n",
       "          9.75437719,    7.49225559,    7.60206872,    6.77295952,\n",
       "          5.51892525,    5.87939992,    4.86504671,    6.3947762 ,\n",
       "          7.85609096,    9.35069951,    5.79584374,    4.39374722,\n",
       "          7.47293205,    6.01804741,    5.97169647,    6.39851822,\n",
       "          5.03202154,    8.30344845,    9.55660601,    8.93974034,\n",
       "          5.92980952,    5.92063539,    5.25604906,    6.2536652 ,\n",
       "          5.88882212,    6.22282283,    4.31210747,    7.73128103,\n",
       "        -36.22339568,    4.48874588,    6.96971573,    5.88224244,\n",
       "         11.37562672,    8.17393372,    5.71452001,    5.4452622 ,\n",
       "         10.14891145,    6.68061935,    8.23345177,    7.35055094,\n",
       "          8.39407779,    6.21096259,    6.93029852,    5.2216501 ,\n",
       "          6.23782281,    5.42217398,    8.56864149,    6.53588972,\n",
       "          8.47144622,    6.40733762,    8.27808344,    5.37129059,\n",
       "          8.12990079,    8.12952617,    7.11044854,    9.98019199,\n",
       "          7.54250389,   10.92789181,    5.93807109,    6.23492353,\n",
       "          5.78718739,    8.34224037,    9.06836759,    8.60316848,\n",
       "          6.21329745,    6.05105923,    8.15977488,    9.89175799,\n",
       "          5.90870388,    6.48302642,    6.96471056,    7.84034939,\n",
       "          4.70440954,    9.3511565 ,  -42.83695603,    6.2111925 ,\n",
       "          5.88847993,    9.46650884,    6.50449509,    6.84925457,\n",
       "        -36.03259193,    6.30176432,    7.54250389,    6.4030314 ,\n",
       "          6.2694098 ,    6.85272271,    7.37359228,    7.81993991,\n",
       "          2.78954759,    7.93075881,    5.91768162,    7.39541511,\n",
       "          3.47992738,   10.08248133,    6.99307572,    5.81237374,\n",
       "          9.80112188,    8.17754221, -139.30385792,    9.99655078,\n",
       "          6.25115651,    6.60108468,    7.28126113,    6.68516738,\n",
       "          5.91650281,    3.98360476,    9.46502051,    6.65837172,\n",
       "          5.8341285 ,    9.47601577,    4.88482337,    7.29820639,\n",
       "        -42.79491841,    9.0097449 ,    9.99967385,    4.34311256,\n",
       "          5.74687426,    8.6396221 ,    9.61957373,    4.66830867,\n",
       "          8.98112739,    5.14283904,    9.00727936,    6.23747487,\n",
       "          3.15667772,    5.64599906,    7.70131061,    5.42553583,\n",
       "          6.08362994,    8.18714948,    8.14906434,    6.9010062 ,\n",
       "          7.92482195,    5.71264731,    9.29782779,    7.36146797,\n",
       "          7.47400563,   10.10018899,    6.2568524 ,    8.04873285,\n",
       "          4.61634808,    5.52344751,    6.68749045,    5.88229475,\n",
       "          6.52010693,    5.70788962,    9.01138443,    8.96869551,\n",
       "          8.39752012,   11.26504256,    6.93868496,    8.24603049,\n",
       "          8.26464651,    7.63787639,    9.00635089,    7.14883396,\n",
       "          9.65217474,    7.72368219,    6.21624589,    7.59483652,\n",
       "          8.26507907,    8.85907801,    4.93644249,    8.04233563,\n",
       "          5.206005  ,    9.85578233,    5.51984887,    6.08097517,\n",
       "          7.50866878,    4.6738617 ,    5.67326775,    8.41585875,\n",
       "          5.63448949,    8.24533419,    8.27260793,    9.75963162,\n",
       "          5.97492986,    5.22930526,    5.84147119,    9.33763371,\n",
       "         10.56216181,  -60.40896346,    6.34513107,    5.52224578,\n",
       "          5.03217387,    7.54717922,    4.58091131,    2.01233067,\n",
       "          8.27692465,    6.43098825,    8.35564057,    4.1498017 ,\n",
       "          5.66890648,  -60.4089723 ,    5.59336001,    6.40004739,\n",
       "          7.57346058,    7.46141646,   11.13026265,    6.35674519,\n",
       "          4.4550294 ,    8.46440742,    8.23257636,    9.30421476,\n",
       "          8.76272635,   13.14268916,    7.98390574,    8.17883323,\n",
       "          7.81016564,    9.01410275,    6.95427781,    6.21140238,\n",
       "          7.68716143,    5.0070854 ,    9.13118908,    6.84987568,\n",
       "          5.88156869,    4.84584884,    8.01952307,    8.93927236,\n",
       "          7.42586604,    5.4678633 ,    7.13691034,    4.72953531,\n",
       "          8.35183952,    5.05768572,    6.02189028,    6.25896624,\n",
       "          7.36990046,    8.01446938,    7.55288662,  -91.50441428,\n",
       "          4.93644249,    8.82107932,   10.30526034,    5.56336247,\n",
       "          8.92316872,    7.23171814,    9.85553792,    9.13118908,\n",
       "          7.97162437,    5.5382506 ,    6.1165864 ,    8.3493766 ,\n",
       "          7.82979195,  -38.82614281,    8.04935892,    8.47948248,\n",
       "          7.09753448,    6.44367371,    7.48255705,    6.04860565,\n",
       "          3.39497755,    5.88404714,    5.46916866,    5.68555885,\n",
       "          5.87146327,  -37.66059098,    5.38649465,    4.3444128 ,\n",
       "          9.02691366,    6.96267128,    5.86209651,    5.81824595,\n",
       "          9.32925678,  -49.85615463,    5.53178721,    5.53989264,\n",
       "          6.98557689,    3.42601814,    8.62020547,    6.73589051,\n",
       "          8.18386677,    9.35364566,  -42.81303714,    5.88168473,\n",
       "          9.29154553,    7.37140657,    5.00379188,    6.02419229,\n",
       "          6.06526509,    4.52713776,    6.93016588,   11.68726387,\n",
       "          5.5214508 ,    4.99445465,    4.14610447,    5.79838676,\n",
       "          8.34884731,    8.25109529,    6.27166779,   12.37277561,\n",
       "          6.08636966,    7.47291918,    7.27331643,    7.73924075,\n",
       "          6.09058339,    6.00936115,    6.70130696,    5.90605772,\n",
       "          5.97711655,    6.21468846,    6.97158133,    5.97295253,\n",
       "          6.16148119,    6.56008105,   11.43191282,    7.76042332,\n",
       "          7.09846079,    3.4458834 ,    8.34302567,  -60.25823562,\n",
       "          9.05862503,    9.28671924,    7.76036363,    8.13510674,\n",
       "          7.26309722,    5.20836227,    9.55662629,    5.09796392,\n",
       "          6.00373515,   12.32246101,    5.8199552 ,    7.61693014,\n",
       "          4.10643514,   11.57711613,    7.79966097,    5.51994756,\n",
       "          5.88660502,    4.08635678,    5.86711306,    4.62137495,\n",
       "          7.04403095,    6.66000868,    5.72305193,    6.5874368 ,\n",
       "          5.92737998,    5.69466133,    6.56936845,    5.90274581,\n",
       "          9.76415579,    5.72771336,    4.84088239,    7.35095824,\n",
       "          6.04860565,  -36.08760247,    8.27692465,    5.19898423,\n",
       "         11.71116308,    6.71660298,    6.16233579,    4.88678   ,\n",
       "          9.64874705,    8.80110021,    5.88692992,    6.70914551,\n",
       "          6.66432634,    8.92571504,    5.00964403,    6.96471056,\n",
       "          4.74922621,    5.19865814,    6.04646887,    8.47039185,\n",
       "          5.9204705 ,    6.21444919,    5.87775388,    3.97359931,\n",
       "         11.89080465,    8.23848948,    7.71741124,  -38.88730436,\n",
       "         13.65837847,    6.56485876,   10.30527802,    5.5642409 ,\n",
       "          5.66754569,    6.57728655,   13.69768466,    9.29889497,\n",
       "          6.15561279,    5.99796231,    8.15794141,    2.09228268,\n",
       "          4.15030989,    7.14412737,    5.86668286,    7.36086271,\n",
       "          7.91545055])"
      ]
     },
     "execution_count": 35,
     "metadata": {},
     "output_type": "execute_result"
    }
   ],
   "source": [
    "test_lasso = Lasso_model.predict(X_real)\n",
    "test_lasso"
   ]
  },
  {
   "cell_type": "markdown",
   "metadata": {},
   "source": [
    "______________________________________________________________________________________________________________________________"
   ]
  },
  {
   "cell_type": "markdown",
   "metadata": {},
   "source": [
    "#### Using Decision Tree"
   ]
  },
  {
   "cell_type": "code",
   "execution_count": 36,
   "metadata": {},
   "outputs": [
    {
     "data": {
      "text/plain": [
       "DecisionTreeRegressor(random_state=42)"
      ]
     },
     "execution_count": 36,
     "metadata": {},
     "output_type": "execute_result"
    }
   ],
   "source": [
    "def decision_Tree(X,y):\n",
    "    global dec_tree\n",
    "    dec_tree = DecisionTreeRegressor(random_state=42)\n",
    "    dec_tree.fit(X, y)\n",
    "    return dec_tree\n",
    "\n",
    "decision_Tree(X_train, y_train)"
   ]
  },
  {
   "cell_type": "code",
   "execution_count": 37,
   "metadata": {},
   "outputs": [
    {
     "name": "stdout",
     "output_type": "stream",
     "text": [
      "R2 Score is : 1.0 | Root Mean Square Error is : 1.061040890862348e-15\n",
      "R2 Score is : 0.8915783184937655 | Root Mean Square Error is : 0.6960546654282533\n"
     ]
    }
   ],
   "source": [
    "model_test(dec_tree, X_train, y_train)\n",
    "model_test(dec_tree, X_test, y_test)"
   ]
  },
  {
   "cell_type": "markdown",
   "metadata": {},
   "source": [
    "Prediction on test set"
   ]
  },
  {
   "cell_type": "code",
   "execution_count": 38,
   "metadata": {},
   "outputs": [
    {
     "data": {
      "text/plain": [
       "array([10.82, 12.02, 10.  ,  8.74,  8.69, 11.27,  3.64,  7.26,  9.26,\n",
       "        9.29,  5.45, 12.02,  7.75,  4.44,  4.54,  6.11,  7.2 ,  4.57,\n",
       "       10.73,  6.19,  5.02, 11.14,  5.23,  7.78,  5.56,  6.91,  6.67,\n",
       "        7.97,  7.89,  7.37,  7.71,  5.57, 10.08,  7.65, 11.14,  9.84,\n",
       "       10.93, 11.96,  6.36,  7.04,  7.82,  9.44,  4.92,  6.24,  5.56,\n",
       "        5.02, 11.96,  5.56,  6.11, 11.14, 12.02,  6.24,  6.23, 11.25,\n",
       "        8.02,  7.26, 12.  ,  9.13,  6.32,  6.  ,  7.39, 11.14,  6.24,\n",
       "        9.37,  7.01,  6.22,  7.22,  4.33, 11.14,  7.1 ,  5.46,  4.46,\n",
       "        2.9 ,  8.  ,  6.73,  4.64,  6.11,  9.34, 10.93,  6.24,  6.23,\n",
       "       11.96,  5.9 ,  5.56,  1.11,  5.96,  7.52, 11.23,  5.32,  7.12,\n",
       "        9.38,  9.76,  7.28,  6.27,  6.  ,  5.69,  8.28,  8.9 ,  6.91,\n",
       "        5.56, 10.93,  6.42,  6.  ,  7.65,  7.23,  8.74,  7.73,  2.73,\n",
       "       10.  , 11.14,  4.22,  7.82,  6.11,  4.24,  7.72, 10.  ,  5.33,\n",
       "        9.31,  4.44,  5.96,  5.93,  4.17,  9.97, 11.96,  9.29,  7.25,\n",
       "        4.59,  9.15,  9.84,  5.69,  5.27,  5.78,  9.34,  8.18, 12.02,\n",
       "        6.23,  7.78,  7.39,  7.57,  5.63,  7.97, 11.96,  9.22,  5.05,\n",
       "        8.81,  6.67,  5.33,  7.96,  5.46,  8.83, 10.  ,  7.39,  4.41,\n",
       "        8.85,  7.1 , 10.93,  5.13,  4.  ,  6.  ,  6.  ,  7.98,  9.93,\n",
       "        7.08,  8.82,  6.12, 11.17,  7.78,  7.23,  5.  ,  7.33,  9.73,\n",
       "        6.66,  5.  , 12.  ,  6.23,  4.61,  6.23,  5.56,  6.27,  7.27,\n",
       "        5.  ,  5.46,  9.96,  6.82,  7.28,  5.46,  4.44,  9.84,  7.67,\n",
       "        4.5 ,  5.56,  9.12, 11.25,  4.54, 10.  ,  9.06,  9.  ,  7.29,\n",
       "        6.  ,  9.42,  7.39, 12.02,  8.11,  1.67,  6.33, 11.12,  9.08,\n",
       "        7.78,  7.78,  7.98,  7.33, 11.29,  5.33,  6.12,  9.41,  5.56,\n",
       "        5.71,  5.17, 10.16,  7.33,  5.55,  5.02,  8.87, 10.93, 11.25,\n",
       "        6.56,  4.47,  5.45,  9.  ,  5.56,  4.58, 10.73,  7.65,  5.45,\n",
       "        6.67,  6.11,  8.02,  8.74,  4.87,  5.63,  4.44,  5.44,  6.34,\n",
       "        8.  , 10.93,  7.  ,  6.  ,  7.65,  5.33,  9.36,  8.61,  9.76,\n",
       "        6.08,  4.67,  6.67, 11.14,  6.81,  8.42,  8.74,  8.69, 10.67,\n",
       "       10.67,  6.12,  6.14,  5.  ,  7.33,  5.61,  7.41,  4.38,  6.67,\n",
       "        7.39,  6.67, 10.93,  1.11,  7.71,  9.97, 11.14,  6.67,  6.  ,\n",
       "        6.33,  5.02,  6.75,  6.  ,  4.44,  9.29, 11.25,  6.27,  5.45,\n",
       "        8.2 ,  7.48,  6.  ,  5.79,  5.51, 12.02,  6.56,  7.  ,  8.14,\n",
       "        9.65,  9.96,  7.29,  5.56,  5.76,  4.44,  7.04,  8.66,  8.74,\n",
       "        5.63,  3.8 ,  8.29,  6.36,  6.11,  7.34,  5.03,  8.87, 10.67,\n",
       "        8.74,  6.11,  5.1 ,  4.76,  7.41,  6.21,  6.67,  4.67,  7.73,\n",
       "       12.02,  3.33,  7.72,  5.93, 10.08,  7.73,  5.23,  5.76,  9.32,\n",
       "        6.37,  8.2 ,  8.  ,  7.39,  6.67,  7.5 ,  4.54,  6.67,  5.33,\n",
       "        9.17,  7.  ,  9.33,  6.67,  9.48,  5.06,  7.92,  8.87,  7.06,\n",
       "        9.52,  7.65,  9.1 ,  4.76,  6.67,  5.88,  8.61,  8.9 ,  8.69,\n",
       "        6.56,  6.57,  6.32,  9.26,  5.22,  7.28,  7.63,  7.05,  5.98,\n",
       "        8.42, 11.25,  6.67,  6.11,  9.26,  7.24,  8.04, 11.14,  7.21,\n",
       "        7.65,  7.72,  5.27,  7.1 ,  7.37,  7.14,  2.5 ,  8.06,  6.  ,\n",
       "        8.77,  3.33,  9.1 ,  6.66,  6.08,  9.34,  9.  , 11.96,  8.64,\n",
       "        6.67,  7.92,  7.89,  5.47,  5.59,  2.78, 10.  ,  5.98,  6.11,\n",
       "        9.29,  4.35,  6.67, 11.12, 10.  ,  9.76,  4.24,  6.29,  8.67,\n",
       "        9.29,  4.35,  8.34,  5.33, 10.  ,  6.67,  2.68,  4.62,  8.61,\n",
       "        5.61,  5.84,  9.  ,  7.87,  7.78,  8.67,  6.84, 10.19,  7.51,\n",
       "        7.14, 10.  ,  7.41,  7.73,  4.55,  5.56,  5.96,  5.93,  7.96,\n",
       "        6.  , 10.  , 10.  ,  9.2 , 10.49,  7.65,  8.67,  7.67,  8.29,\n",
       "       10.  ,  7.28,  8.98,  8.37,  5.74,  8.  ,  8.  ,  9.07,  4.44,\n",
       "        7.19,  5.  ,  9.29,  5.56,  6.66,  8.83,  4.  ,  4.86,  8.61,\n",
       "        5.56,  8.87,  8.69,  8.14,  5.47,  5.22,  5.5 , 10.16,  8.98,\n",
       "       12.02,  7.21,  5.56,  4.85,  7.65,  4.67,  3.83,  8.  ,  7.46,\n",
       "        8.12,  2.27,  2.39, 12.02,  5.55,  6.68,  7.17,  7.87, 10.08,\n",
       "        6.86,  4.67,  6.33,  8.2 ,  8.74,  9.48, 11.67,  8.86,  9.  ,\n",
       "        8.61, 10.  ,  7.33,  6.67,  7.77,  5.17,  8.74,  7.1 ,  6.48,\n",
       "        4.44,  7.68,  8.74,  9.44,  5.68,  6.67,  4.67,  9.17,  6.3 ,\n",
       "        6.33,  6.79,  7.19,  7.51,  7.65, 12.02,  4.44,  9.8 ,  9.84,\n",
       "        6.67,  8.74,  7.16,  9.34,  8.74,  7.14,  5.9 ,  6.15,  7.75,\n",
       "        8.06, 11.14,  6.87,  9.48,  7.78,  5.69,  9.65,  6.36,  4.37,\n",
       "        6.56,  4.33,  6.  ,  6.11, 11.14,  4.46,  4.92, 10.  ,  7.72,\n",
       "        4.86,  5.95,  8.3 , 11.14,  5.56,  5.45,  7.05,  4.37,  9.25,\n",
       "        7.39,  9.  ,  9.29, 11.25,  6.48,  9.14,  8.  ,  5.17,  6.  ,\n",
       "        6.15,  2.98,  7.5 , 10.93,  5.56,  5.2 ,  3.33,  7.52,  7.94,\n",
       "        8.2 ,  6.11,  9.29,  6.67,  6.84,  9.42,  7.37,  6.14,  6.36,\n",
       "        7.01,  6.11,  6.47,  6.67,  6.84,  6.21,  6.56,  7.22, 10.08,\n",
       "        8.5 ,  6.68,  2.22,  7.97, 11.96,  8.02,  8.78,  8.5 ,  8.87,\n",
       "        7.26,  4.64, 10.67,  5.68,  6.29,  9.29,  5.52,  7.39,  4.92,\n",
       "       10.73,  8.14,  5.56,  6.11,  4.92,  6.11,  4.55,  6.12,  7.26,\n",
       "        6.27,  6.91,  5.63,  5.51,  7.22,  6.06,  8.86,  5.94,  4.44,\n",
       "        8.  ,  6.36, 11.96,  8.  ,  4.46, 10.93,  7.78,  6.56,  4.44,\n",
       "        9.29,  8.02,  5.63,  6.11,  5.96,  8.74,  4.46,  7.63,  2.11,\n",
       "        4.55,  5.14,  9.33,  6.11,  6.67,  6.11,  1.59, 10.93,  8.2 ,\n",
       "        6.82, 11.14, 11.96,  6.95,  9.84,  5.56,  4.94,  6.98, 10.89,\n",
       "       10.19,  6.67,  7.1 ,  7.73,  2.22,  2.27, 10.08,  6.11,  6.87,\n",
       "        7.43])"
      ]
     },
     "execution_count": 38,
     "metadata": {},
     "output_type": "execute_result"
    }
   ],
   "source": [
    "test_decTree = dec_tree.predict(X_real)\n",
    "test_decTree"
   ]
  },
  {
   "cell_type": "markdown",
   "metadata": {},
   "source": [
    "______________________________________________________________________________________________________________________________"
   ]
  },
  {
   "cell_type": "markdown",
   "metadata": {},
   "source": [
    "#### Using Random Forest "
   ]
  },
  {
   "cell_type": "code",
   "execution_count": 39,
   "metadata": {},
   "outputs": [
    {
     "data": {
      "text/plain": [
       "DecisionTreeRegressor(random_state=42)"
      ]
     },
     "execution_count": 39,
     "metadata": {},
     "output_type": "execute_result"
    }
   ],
   "source": [
    "def random_Forest(X,y):\n",
    "    global rand_forest\n",
    "    rand_forest = RandomForestRegressor(n_estimators=350, max_depth=450, random_state=3)\n",
    "    rand_forest.fit(X, y)\n",
    "    return dec_tree\n",
    "\n",
    "random_Forest(X_train, y_train)"
   ]
  },
  {
   "cell_type": "code",
   "execution_count": 40,
   "metadata": {},
   "outputs": [
    {
     "name": "stdout",
     "output_type": "stream",
     "text": [
      "R2 Score is : 0.9906235500848205 | Root Mean Square Error is : 0.20419220123728504\n",
      "R2 Score is : 0.9252025163076638 | Root Mean Square Error is : 0.578134349388235\n"
     ]
    }
   ],
   "source": [
    "model_test(rand_forest, X_train, y_train)\n",
    "model_test(rand_forest, X_test, y_test)"
   ]
  },
  {
   "cell_type": "markdown",
   "metadata": {},
   "source": [
    "Prediction on test set"
   ]
  },
  {
   "cell_type": "code",
   "execution_count": 41,
   "metadata": {},
   "outputs": [
    {
     "data": {
      "text/plain": [
       "array([10.75105714, 11.87545714, 10.        ,  8.74045714,  8.39197143,\n",
       "       11.58862857,  3.63951429,  7.41962857,  9.12265714,  9.29568571,\n",
       "        5.48828571, 11.8196    ,  8.73362857,  4.41777143,  4.54822857,\n",
       "        6.10974286,  7.63371429,  4.52025714, 10.72928571,  6.0172    ,\n",
       "        5.32554286, 11.48554286,  5.33674286,  7.7832    ,  5.56      ,\n",
       "        6.49922857,  7.70394286,  7.91362857,  7.2572    ,  7.26897143,\n",
       "        7.9188    ,  5.58425714,  9.91511429,  7.65      , 11.46242857,\n",
       "        9.83945714, 10.93085714, 11.43911429,  6.33394286,  6.68754286,\n",
       "        7.70631429,  8.38582857,  5.16868571,  6.2764    ,  5.56      ,\n",
       "        5.26745714, 11.69654286,  5.56317143,  6.10294286, 11.47308571,\n",
       "       11.84054286,  6.2416    ,  6.00654286, 11.69325714,  8.2762    ,\n",
       "        5.53965714, 11.65617143,  9.04062857,  7.41171429,  5.99491429,\n",
       "        7.83957143, 11.37554286,  6.34502857,  9.19162857,  6.17925714,\n",
       "        6.14794286,  6.94405714,  5.215     , 11.48711429,  7.06011429,\n",
       "        5.48745714,  4.54751429,  3.0164    ,  8.00597143,  6.90162857,\n",
       "        4.96525714,  6.1186    ,  9.15222857, 10.93588571,  6.28291429,\n",
       "        6.26617143, 11.69654286,  5.9612    ,  5.56      ,  1.24394286,\n",
       "        6.37194286,  7.181     , 11.33588571,  4.77845714,  7.25294286,\n",
       "        9.55951429,  9.60174286,  7.16614286,  5.97394286,  5.9954    ,\n",
       "        6.46385714,  8.32208571,  8.71771429,  6.8992    ,  5.56      ,\n",
       "       11.03697143,  6.41291429,  5.90485714,  7.65      ,  7.1306    ,\n",
       "        8.71942857,  7.86071429,  2.7268    , 10.        , 11.46994286,\n",
       "        4.09168571,  7.72591429,  6.10925714,  4.08882857,  6.98891429,\n",
       "       10.        ,  5.34362857,  9.27777143,  4.44028571,  6.6888    ,\n",
       "        6.00505714,  4.17691429,  9.7978    , 11.8118    ,  8.78942857,\n",
       "        7.25168571,  4.31202857,  8.89157143,  9.8536    ,  5.76682857,\n",
       "        7.27697143,  5.77968571,  9.17748571,  8.48105714, 11.8466    ,\n",
       "        6.20674286,  7.77934286,  7.4662    ,  7.68957143,  5.47108571,\n",
       "        7.90345714, 11.56351429,  8.92254286,  4.944     ,  8.95191429,\n",
       "        6.67002857,  5.48754286,  8.07105714,  5.48397143,  8.73951429,\n",
       "       10.        ,  7.81411429,  4.33568571,  7.89691429,  7.08877143,\n",
       "       11.05842857,  5.0922    ,  4.35577143,  6.0094    ,  5.99308571,\n",
       "        8.01785714,  9.90928571,  7.20048571,  8.66591429,  7.14528571,\n",
       "        8.4956    ,  7.78217143,  7.26774286,  5.00065714,  7.39057143,\n",
       "        8.78062857,  6.7706    ,  5.01305714, 11.65482857,  6.05931429,\n",
       "        4.66337143,  6.4548    ,  5.56154286,  6.1064    ,  7.03328571,\n",
       "        5.04745714,  5.46385714, 10.10028571,  7.0934    ,  7.33608571,\n",
       "        5.46697143,  4.44954286,  9.842     ,  7.35377143,  5.31868571,\n",
       "        5.56      ,  8.86305714, 11.72477143,  4.55091429,  9.99791429,\n",
       "        7.96025714,  9.00194286,  7.35568571,  6.00097143,  8.0418    ,\n",
       "        7.43557143, 11.86011429,  7.99382857,  1.67325714,  6.33911429,\n",
       "       11.70191429,  8.38688571,  7.7832    ,  7.55397143,  8.29045714,\n",
       "        7.25451429, 11.88114286,  5.42394286,  6.29077143,  9.44411429,\n",
       "        5.56      ,  5.90737143,  5.29257143, 10.21434286,  7.36071429,\n",
       "        5.6162    ,  5.01842857,  8.55291429, 10.97577143, 11.49551429,\n",
       "        6.78071429,  5.62174286,  5.44565714,  9.00811429,  5.56      ,\n",
       "        4.834     , 10.45057143,  7.65      ,  5.41785714,  6.67      ,\n",
       "        6.10951429,  8.7706    ,  8.74045714,  4.31797143,  5.41157143,\n",
       "        4.44011429,  5.29002857,  6.6914    ,  8.00542857, 10.94117143,\n",
       "        7.07994286,  5.80954286,  7.65      ,  5.3338    ,  9.30608571,\n",
       "        8.20791429,  9.65931429,  5.31951429,  4.82305714,  6.67      ,\n",
       "       11.49297143,  7.04754286,  8.65337143,  8.73862857,  8.47285714,\n",
       "       10.67171429, 10.64502857,  6.13482857,  6.09922857,  5.01417143,\n",
       "        7.4274    ,  5.08125714,  6.70288571,  4.49382857,  6.67      ,\n",
       "        8.2304    ,  6.6722    , 10.93342857,  1.48271429,  7.80922857,\n",
       "        9.95248571, 11.49445714,  6.67      ,  6.05865714,  7.62502857,\n",
       "        5.04014286,  7.003     ,  5.94934286,  4.3696    ,  9.31577143,\n",
       "       11.56548571,  6.05088571,  5.41857143,  8.20431429,  8.4824    ,\n",
       "        5.90722857,  5.81357143,  5.5142    , 11.72062857,  6.6096    ,\n",
       "        7.01162857,  8.13234286,  8.1098    ,  8.364     ,  7.34662857,\n",
       "        5.56      ,  5.9096    ,  4.44922857,  6.31522857,  8.65448571,\n",
       "        8.76668571,  5.33522857,  3.86625714,  8.2658    ,  6.32628571,\n",
       "        6.44085714,  7.43417143,  5.24422857,  8.43677143, 10.6594    ,\n",
       "        8.74017143,  6.10982857,  5.30071429,  5.3362    ,  6.94917143,\n",
       "        6.12945714,  6.67065714,  4.52662857,  7.98705714, 11.8196    ,\n",
       "        3.58625714,  7.61585714,  5.89622857, 10.52134286,  7.86762857,\n",
       "        5.41082857,  4.86682857,  9.21945714,  6.52805714,  8.22211429,\n",
       "        7.99897143,  8.00082857,  6.67      ,  7.50714286,  4.66865714,\n",
       "        6.74262857,  5.46725714,  9.0742    ,  7.00088571,  9.3416    ,\n",
       "        6.77017143,  8.99402857,  5.07474286,  7.79268571,  8.39714286,\n",
       "        7.13642857,  9.53911429,  7.65      ,  9.33545714,  5.50297143,\n",
       "        6.67      ,  5.83991429,  8.85722857,  8.73597143,  8.48382857,\n",
       "        6.72134286,  6.44991429,  6.90754286,  9.04274286,  5.86568571,\n",
       "        7.25945714,  7.58062857,  7.71411429,  5.64011429,  8.63857143,\n",
       "       11.59691429,  6.67      ,  6.10694286,  9.12214286,  7.02088571,\n",
       "        7.07728571, 11.49088571,  6.85854286,  7.65      ,  7.03242857,\n",
       "        6.60151429,  7.06728571,  7.20334286,  7.0756    ,  2.63791429,\n",
       "        7.94937143,  6.18585714,  8.5464    ,  3.3464    ,  8.83768571,\n",
       "        6.33914286,  6.22574286,  9.31811429,  9.01234286, 11.79911429,\n",
       "        8.52285714,  6.67014286,  7.3518    ,  7.40151429,  6.40891429,\n",
       "        5.8114    ,  2.88388571, 10.07568571,  5.79785714,  5.79951429,\n",
       "        9.29237143,  4.75785714,  7.89625714, 11.57488571, 10.        ,\n",
       "        9.59105714,  4.08882857,  6.15417143,  8.4578    ,  9.29165714,\n",
       "        4.5392    ,  8.4138    ,  5.34511429, 10.        ,  6.67034286,\n",
       "        3.77145714,  4.79337143,  8.36591429,  5.12462857,  6.62874286,\n",
       "        9.00757143,  7.83642857,  7.77934286,  8.69654286,  7.0778    ,\n",
       "       10.17871429,  7.72617143,  7.1426    , 10.11548571,  6.99008571,\n",
       "        8.09354286,  4.54517143,  5.56      ,  6.50574286,  5.9872    ,\n",
       "        8.27208571,  6.00042857,  9.99942857, 10.00094286,  8.94748571,\n",
       "       10.38731429,  7.4968    ,  8.38491429,  7.98368571,  8.47205714,\n",
       "       10.        ,  7.25605714,  9.12902857,  8.58194286,  6.12025714,\n",
       "        8.00842857,  8.28111429,  8.89588571,  4.44091429,  7.43417143,\n",
       "        5.00928571,  8.95474286,  5.56      ,  6.77702857,  8.61668571,\n",
       "        4.10105714,  4.80851429,  8.36591429,  5.57857143,  8.54722857,\n",
       "        8.32802857,  8.14977143,  5.63771429,  4.96325714,  5.51417143,\n",
       "       10.10697143,  9.22854286, 11.81288571,  6.92905714,  5.56      ,\n",
       "        4.67442857,  7.65      ,  4.628     ,  4.0294    ,  8.11734286,\n",
       "        6.98308571,  8.08337143,  3.23891429,  3.81774286, 11.8466    ,\n",
       "        5.61082857,  6.90002857,  7.23314286,  7.86468571, 10.32305714,\n",
       "        6.79417143,  4.54082857,  7.86991429,  8.24394286,  8.83048571,\n",
       "        9.58828571, 11.60988571,  8.81885714,  9.03614286,  8.21265714,\n",
       "        9.99942857,  7.40168571,  6.67      ,  7.533     ,  5.27451429,\n",
       "        8.71942857,  7.06311429,  6.24117143,  4.44011429,  7.73182857,\n",
       "        8.74017143,  8.52111429,  6.73      ,  7.598     ,  4.75994286,\n",
       "        9.18191429,  5.51928571,  6.63382857,  6.59957143,  7.20168571,\n",
       "        8.57354286,  7.65      , 11.84548571,  4.44091429,  9.73557143,\n",
       "        9.84014286,  5.65268571,  8.74045714,  7.26868571,  9.24454286,\n",
       "        8.71942857,  7.13834286,  5.89562857,  6.18048571,  8.68322857,\n",
       "        8.39502857, 11.47457143,  7.32925714,  9.5488    ,  7.75648571,\n",
       "        6.56825714,  8.13468571,  6.3444    ,  4.52845714,  6.63734286,\n",
       "        5.54031429,  5.99974286,  6.10994286, 11.49537143,  4.88742857,\n",
       "        5.58974286,  9.99894286,  7.55571429,  4.98588571,  5.88477143,\n",
       "        8.61662857, 11.49297143,  5.56      ,  5.58182857,  6.97857143,\n",
       "        4.45637143,  9.41788571,  7.43557143,  9.01971429,  8.85845714,\n",
       "       11.56548571,  6.24117143,  9.136     ,  8.00142857,  5.20491429,\n",
       "        5.85188571,  6.16014286,  3.01531429,  7.51117143, 10.94117143,\n",
       "        5.56      ,  5.2132    ,  3.24025714,  6.47374286,  8.36234286,\n",
       "        8.20014286,  6.93682857, 10.99951429,  6.6954    ,  7.29471429,\n",
       "        8.94265714,  7.26731429,  6.13848571,  6.34448571,  7.27608571,\n",
       "        6.10974286,  6.53968571,  6.67002857,  7.29471429,  6.01974286,\n",
       "        6.57088571,  7.29605714, 10.34785714,  8.512     ,  6.94988571,\n",
       "        2.20411429,  7.92585714, 11.81431429,  8.47591429,  8.94214286,\n",
       "        8.51188571,  8.38282857,  7.19808571,  4.86351429, 10.66811429,\n",
       "        5.5698    ,  6.45851429, 10.9476    ,  5.52171429,  7.33311429,\n",
       "        5.21542857, 10.46588571,  8.28877143,  5.56      ,  6.11097143,\n",
       "        5.16868571,  6.11065714,  4.5258    ,  6.56854286,  6.20242857,\n",
       "        5.97185714,  6.92305714,  5.30597143,  5.50162857,  7.19728571,\n",
       "        6.06474286,  8.90754286,  5.84417143,  4.46894286,  8.00854286,\n",
       "        6.3444    , 11.5992    ,  8.11734286,  4.48768571, 10.93177143,\n",
       "        7.15277143,  6.775     ,  4.44742857,  9.29894286,  8.12994286,\n",
       "        5.79365714,  7.22905714,  6.37411429,  8.74      ,  4.46014286,\n",
       "        7.58062857,  4.76857143,  4.50082857,  5.9054    ,  9.34782857,\n",
       "        6.11045714,  6.67      ,  6.10914286,  1.55657143, 10.98408571,\n",
       "        8.22654286,  7.36617143, 11.47537143, 11.43911429,  6.84634286,\n",
       "        9.84014286,  5.56317143,  5.02245714,  7.00825714, 10.73168571,\n",
       "       10.15217143,  4.95357143,  6.35828571,  7.75954286,  2.22925714,\n",
       "        3.22748571,  8.99491429,  6.10745714,  7.09468571,  7.17517143])"
      ]
     },
     "execution_count": 41,
     "metadata": {},
     "output_type": "execute_result"
    }
   ],
   "source": [
    "test_randForest= rand_forest.predict(X_real)\n",
    "test_randForest"
   ]
  },
  {
   "cell_type": "markdown",
   "metadata": {},
   "source": [
    "______________________________________________________________________________________________________________________________"
   ]
  },
  {
   "cell_type": "markdown",
   "metadata": {},
   "source": [
    "."
   ]
  },
  {
   "cell_type": "markdown",
   "metadata": {},
   "source": [
    "Using AdaBoost and Catboost to combine models and evaluate results"
   ]
  },
  {
   "cell_type": "code",
   "execution_count": 42,
   "metadata": {},
   "outputs": [],
   "source": [
    "# Instantiate Random forest regression model to use as the base model\n",
    "d_tree = RandomForestRegressor(n_estimators=300, max_depth=100, random_state=3)\n",
    "# Instantiate AdaBoostRegressor model with a decision tree as the base model\n",
    "bst_reg = AdaBoostRegressor(base_estimator = d_tree, random_state= 10 )"
   ]
  },
  {
   "cell_type": "code",
   "execution_count": 43,
   "metadata": {},
   "outputs": [
    {
     "name": "stdout",
     "output_type": "stream",
     "text": [
      "R2 Score is : 0.9073229724796323 | Root Mean Square Error is : 0.6419570606494963\n",
      "R2 Score is : 0.9958513158639279 | Root Mean Square Error is : 0.1361571539338874\n"
     ]
    }
   ],
   "source": [
    "#fitting\n",
    "bst_reg.fit(X_train, y_train)\n",
    "bst_reg.fit(X_test, y_test)\n",
    "#predictions\n",
    "model_test(bst_reg, X_train, y_train)\n",
    "model_test(bst_reg, X_test, y_test)\n"
   ]
  },
  {
   "cell_type": "code",
   "execution_count": 44,
   "metadata": {},
   "outputs": [
    {
     "data": {
      "text/plain": [
       "array([10.63553333, 11.6709    ,  9.73796667,  8.736     ,  8.36563333,\n",
       "       11.274     ,  3.6775    ,  7.6035    ,  8.51103333,  9.46183333,\n",
       "        5.06643333, 11.58786667,  8.81806667,  4.36293333,  4.6828    ,\n",
       "        6.01476667,  7.2975    ,  4.60246667, 10.3119    ,  5.94233333,\n",
       "        5.84393333, 11.1593    ,  5.29426667,  8.3125    ,  5.5852    ,\n",
       "        5.32363333,  8.0498    ,  8.07096667,  7.55303333,  7.14483333,\n",
       "        8.04846667,  5.90626667, 10.0913    ,  7.7276    , 11.07243333,\n",
       "        9.77946667, 10.79793333, 11.19383333,  6.3039    ,  7.1397    ,\n",
       "        9.663     ,  7.02163333,  5.3786    ,  6.15353333,  5.57573333,\n",
       "        5.37303333, 11.51423333,  5.33363333,  5.95936667, 11.15653333,\n",
       "       11.6436    ,  6.44656667,  5.95053333, 11.49443333,  8.17893333,\n",
       "        5.71916667, 11.38823333,  8.9551    ,  7.798     ,  6.63663333,\n",
       "        6.99966667, 11.02136667,  6.07506667,  9.19986667,  5.9149    ,\n",
       "        6.2318    ,  6.84916667,  5.06186667, 11.01623333,  7.3169    ,\n",
       "        5.9111    ,  4.68196667,  4.3225    ,  7.7746    ,  6.9714    ,\n",
       "        5.35483333,  5.98433333,  9.1698    , 11.18423333,  6.13313333,\n",
       "        5.9781    , 11.51423333,  6.37126667,  5.59206667,  1.3195    ,\n",
       "        6.78646667,  7.11376667, 11.04196667,  5.14366667,  6.6407    ,\n",
       "        9.641     ,  9.72206667,  7.29716667,  6.28753333,  6.57403333,\n",
       "        6.54843333,  8.72866667,  9.25483333,  7.06003333,  5.55703333,\n",
       "       10.81766667,  6.16363333,  5.68176667,  7.73933333,  7.90733333,\n",
       "        8.76673333,  7.96996667,  3.21916667,  9.67476667, 11.15556667,\n",
       "        4.58296667,  7.372     ,  5.87923333,  4.39663333,  6.08263333,\n",
       "        9.8997    ,  5.47443333,  9.6998    ,  4.4031    ,  7.30893333,\n",
       "        5.9404    ,  4.33436667,  9.8331    , 11.5579    ,  8.93116667,\n",
       "        7.8151    ,  4.53593333,  9.226     ,  9.6964    ,  5.61596667,\n",
       "        6.92583333,  5.5052    ,  9.2333    ,  8.36113333, 11.6436    ,\n",
       "        6.12023333,  8.1461    ,  6.85256667,  7.65493333,  5.6836    ,\n",
       "        8.08086667, 11.18366667,  8.81553333,  4.90613333,  9.02846667,\n",
       "        6.55723333,  5.70733333,  6.96293333,  5.91333333,  7.22493333,\n",
       "        9.79613333,  8.2347    ,  5.92713333,  7.96393333,  7.25583333,\n",
       "       10.81803333,  5.94873333,  4.61823333,  6.22713333,  6.1393    ,\n",
       "        8.40176667,  9.71406667,  7.05276667,  8.6031    ,  6.20496667,\n",
       "        7.2574    ,  7.65636667,  7.7048    ,  4.7623    ,  7.6678    ,\n",
       "        8.33696667,  7.4356    ,  5.33133333, 11.7598    ,  5.96956667,\n",
       "        5.24616667,  6.42986667,  5.38276667,  6.16283333,  7.22093333,\n",
       "        5.22296667,  5.69613333, 10.3       ,  7.6486    ,  7.30606667,\n",
       "        5.68633333,  5.03503333,  9.80206667,  7.28443333,  5.8409    ,\n",
       "        5.46393333,  9.09213333, 11.57343333,  4.688     ,  9.85303333,\n",
       "        6.215     ,  9.05276667,  7.4011    ,  5.4854    ,  8.2105    ,\n",
       "        7.5163    , 11.4258    ,  8.29603333,  1.9129    ,  6.45356667,\n",
       "       11.09056667,  7.93326667,  8.3125    ,  7.6156    ,  8.37656667,\n",
       "        7.6757    , 11.15386667,  5.88326667,  6.7531    ,  9.83236667,\n",
       "        5.47153333,  5.85793333,  5.9046    , 10.84943333,  7.9588    ,\n",
       "        6.18443333,  5.25396667,  8.31856667, 10.74493333, 11.3282    ,\n",
       "        7.06163333,  5.7228    ,  5.3183    ,  9.00633333,  5.5925    ,\n",
       "        5.02876667, 10.01      ,  7.707     ,  5.3801    ,  6.48463333,\n",
       "        5.93303333,  8.25736667,  8.8452    ,  4.4667    ,  5.63176667,\n",
       "        4.4167    ,  5.46243333,  6.51736667,  8.16746667, 11.04233333,\n",
       "        7.03176667,  5.42776667,  7.61883333,  5.3944    ,  9.59043333,\n",
       "        7.6086    ,  9.65216667,  4.9316    ,  5.134     ,  6.56843333,\n",
       "       11.1929    ,  7.19936667,  9.16976667,  8.85343333,  8.49203333,\n",
       "       10.5015    , 10.23073333,  6.1443    ,  5.84846667,  5.05823333,\n",
       "        7.84843333,  5.36203333,  6.33936667,  4.948     ,  6.61096667,\n",
       "        8.38156667,  6.4822    , 10.59173333,  2.33556667,  8.15426667,\n",
       "       10.1272    , 11.05816667,  6.5836    ,  6.56723333,  7.50863333,\n",
       "        5.10573333,  7.0886    ,  5.67186667,  4.40546667,  9.39873333,\n",
       "       11.48976667,  6.0245    ,  5.2788    ,  8.41066667,  8.51236667,\n",
       "        5.3516    ,  5.76646667,  5.80566667, 11.65823333,  7.33893333,\n",
       "        7.041     ,  9.28586667, 10.05186667,  7.9876    ,  6.64503333,\n",
       "        5.4255    ,  5.98546667,  4.4615    ,  6.62826667,  8.29186667,\n",
       "        8.87173333,  5.643     ,  4.14813333,  7.62503333,  6.22776667,\n",
       "        6.1484    ,  6.51253333,  5.37596667,  8.46333333, 10.2817    ,\n",
       "        8.87113333,  5.9399    ,  5.93273333,  5.33093333,  6.9375    ,\n",
       "        5.9741    ,  6.51393333,  4.73006667,  7.9917    , 11.6331    ,\n",
       "        3.89723333,  7.27093333,  5.82203333, 10.4023    ,  8.3794    ,\n",
       "        5.43073333,  5.4621    ,  9.13233333,  5.28443333,  8.16126667,\n",
       "        7.74636667,  8.3928    ,  6.58673333,  7.28056667,  4.72643333,\n",
       "        7.2368    ,  5.83756667,  8.66043333,  6.95036667,  9.6798    ,\n",
       "        6.93513333,  8.1283    ,  5.22553333,  8.03513333,  8.30286667,\n",
       "        6.98633333,  9.5832    ,  7.68083333,  9.38413333,  5.9961    ,\n",
       "        6.43103333,  5.83366667,  8.17126667,  9.17436667,  8.70463333,\n",
       "        7.39766667,  6.09873333,  7.20323333,  9.30463333,  5.74126667,\n",
       "        6.65713333,  7.4155    ,  7.97186667,  6.03203333,  8.84353333,\n",
       "       11.47643333,  6.60036667,  5.89686667,  9.17646667,  6.67843333,\n",
       "        6.87083333, 11.0218    ,  6.34896667,  7.68083333,  6.90923333,\n",
       "        5.08383333,  7.47163333,  7.15186667,  7.9212    ,  2.96316667,\n",
       "        7.79923333,  6.49466667,  7.80993333,  3.46256667,  9.38713333,\n",
       "        7.4156    ,  6.50336667,  9.08786667,  9.0441    , 11.5335    ,\n",
       "        8.7607    ,  6.4473    ,  7.16406667,  7.65473333,  7.43683333,\n",
       "        5.99726667,  3.1397    , 10.2877    ,  5.9881    ,  5.73296667,\n",
       "        9.4206    ,  5.147     ,  7.65563333, 11.4716    ,  9.8153    ,\n",
       "        9.67146667,  4.39663333,  6.1949    ,  8.48856667,  9.45196667,\n",
       "        4.99233333,  8.75533333,  5.42893333,  9.89523333,  6.45536667,\n",
       "        5.22486667,  5.18206667,  7.24076667,  5.3804    ,  6.06883333,\n",
       "        9.1057    ,  8.10663333,  8.1461    ,  8.4657    ,  6.03486667,\n",
       "       10.03453333,  7.9289    ,  7.7484    , 10.68276667,  6.9456    ,\n",
       "        8.01896667,  4.522     ,  5.4369    ,  6.70503333,  5.97003333,\n",
       "        7.02703333,  6.07833333,  9.81703333,  9.90863333,  8.50156667,\n",
       "       10.0509    ,  7.56533333,  8.11256667,  8.35433333,  7.6263    ,\n",
       "        9.77853333,  7.19243333,  9.30483333,  7.5769    ,  6.4902    ,\n",
       "        8.05226667,  8.30696667,  8.65893333,  4.40546667,  7.97533333,\n",
       "        4.9027    ,  8.98346667,  5.43053333,  5.85673333,  7.7059    ,\n",
       "        4.27903333,  5.14846667,  7.34563333,  5.51836667,  8.31856667,\n",
       "        8.37123333,  9.28586667,  5.69653333,  4.70483333,  6.28846667,\n",
       "       10.21876667,  9.55986667, 11.6331    ,  6.3915    ,  5.4704    ,\n",
       "        4.85123333,  7.77646667,  5.00973333,  3.879     ,  8.3261    ,\n",
       "        6.61956667,  8.34926667,  3.95276667,  5.934     , 11.6296    ,\n",
       "        5.9764    ,  6.98706667,  7.7087    ,  7.92983333, 10.18233333,\n",
       "        6.43556667,  4.73396667,  9.54046667,  8.23496667,  8.84453333,\n",
       "        9.82436667, 10.7445    ,  8.29626667,  9.21826667,  7.50146667,\n",
       "        9.90773333,  7.4273    ,  6.605     ,  7.73803333,  5.2517    ,\n",
       "        8.76673333,  7.22856667,  6.13303333,  4.4167    ,  7.93996667,\n",
       "        8.81123333,  7.1708    ,  6.49693333,  8.01406667,  5.04563333,\n",
       "        9.4819    ,  4.97613333,  6.28123333,  6.36386667,  7.6697    ,\n",
       "        8.7995    ,  7.707     , 11.58986667,  4.40546667,  9.7037    ,\n",
       "        9.76993333,  5.63173333,  8.6748    ,  7.42473333,  8.9319    ,\n",
       "        8.76673333,  8.1249    ,  6.37333333,  6.19686667,  8.59146667,\n",
       "        7.96313333, 11.20113333,  8.0814    ,  8.40806667,  7.45366667,\n",
       "        6.4158    ,  9.76316667,  6.35326667,  5.62746667,  7.06953333,\n",
       "        5.16783333,  6.4142    ,  5.90396667, 11.0471    ,  5.4323    ,\n",
       "        6.5076    ,  9.871     ,  7.2223    ,  5.662     ,  5.79503333,\n",
       "        8.67143333, 11.1929    ,  5.5206    ,  5.79986667,  7.54646667,\n",
       "        5.55816667,  9.24106667,  7.5163    ,  9.2346    ,  8.91183333,\n",
       "       11.48976667,  6.13596667,  8.9741    ,  7.86286667,  5.34496667,\n",
       "        5.5718    ,  6.10823333,  3.8802    ,  7.2926    , 11.0642    ,\n",
       "        5.5618    ,  5.73163333,  3.98353333,  6.404     ,  8.5735    ,\n",
       "        8.20433333,  6.4761    , 11.50363333,  6.17863333,  7.429     ,\n",
       "        7.36066667,  7.2319    ,  6.02283333,  6.25146667,  6.19713333,\n",
       "        5.875     ,  6.679     ,  6.51616667,  7.429     ,  6.2676    ,\n",
       "        7.40763333,  7.18793333, 10.3338    ,  8.16073333,  6.6578    ,\n",
       "        2.26446667,  8.08066667, 11.6205    ,  8.09333333,  9.0547    ,\n",
       "        8.17773333,  8.3036    ,  7.59226667,  4.9767    , 10.37716667,\n",
       "        5.13973333,  6.4938    , 10.8699    ,  6.2752    ,  7.8537    ,\n",
       "        5.4072    , 10.02636667,  8.35586667,  5.46443333,  5.9533    ,\n",
       "        5.3786    ,  5.97636667,  4.15903333,  7.50096667,  5.6945    ,\n",
       "        6.24246667,  7.09283333,  5.7549    ,  5.86836667,  7.31863333,\n",
       "        5.8018    ,  9.11066667,  5.68183333,  4.4856    ,  7.94226667,\n",
       "        6.35326667, 11.21603333,  8.3261    ,  4.61146667, 10.90986667,\n",
       "        7.0543    ,  6.70796667,  4.4423    ,  9.4859    ,  8.4162    ,\n",
       "        5.6899    ,  7.12336667,  6.7904    ,  8.63436667,  4.66683333,\n",
       "        7.4155    ,  4.5969    ,  4.59966667,  6.57666667,  9.62196667,\n",
       "        5.8601    ,  6.47783333,  5.7791    ,  1.30103333, 10.5235    ,\n",
       "        8.28753333,  7.9673    , 11.1303    , 11.19383333,  6.7638    ,\n",
       "        9.75716667,  5.49513333,  5.58443333,  7.21986667, 10.4088    ,\n",
       "       10.01746667,  5.3375    ,  6.26153333,  8.2291    ,  2.2303    ,\n",
       "        3.91466667,  6.60116667,  6.01813333,  8.00013333,  8.35466667])"
      ]
     },
     "execution_count": 44,
     "metadata": {},
     "output_type": "execute_result"
    }
   ],
   "source": [
    "#predictions on test set\n",
    "test_ada = bst_reg.predict(X_real)\n",
    "test_ada"
   ]
  },
  {
   "cell_type": "code",
   "execution_count": null,
   "metadata": {},
   "outputs": [],
   "source": []
  },
  {
   "cell_type": "code",
   "execution_count": 45,
   "metadata": {},
   "outputs": [
    {
     "name": "stdout",
     "output_type": "stream",
     "text": [
      "0:\tlearn: 1.2094935\ttotal: 84.8ms\tremaining: 8.39s\n",
      "1:\tlearn: 0.8936441\ttotal: 89.7ms\tremaining: 4.39s\n",
      "2:\tlearn: 0.7711009\ttotal: 94.3ms\tremaining: 3.05s\n",
      "3:\tlearn: 0.7367450\ttotal: 99.4ms\tremaining: 2.38s\n",
      "4:\tlearn: 0.6933981\ttotal: 104ms\tremaining: 1.98s\n",
      "5:\tlearn: 0.6533304\ttotal: 109ms\tremaining: 1.71s\n",
      "6:\tlearn: 0.6372212\ttotal: 114ms\tremaining: 1.51s\n",
      "7:\tlearn: 0.6184967\ttotal: 119ms\tremaining: 1.37s\n",
      "8:\tlearn: 0.5870304\ttotal: 124ms\tremaining: 1.25s\n",
      "9:\tlearn: 0.5599821\ttotal: 128ms\tremaining: 1.15s\n",
      "10:\tlearn: 0.5356112\ttotal: 133ms\tremaining: 1.08s\n",
      "11:\tlearn: 0.5236973\ttotal: 137ms\tremaining: 1.01s\n",
      "12:\tlearn: 0.5027766\ttotal: 142ms\tremaining: 950ms\n",
      "13:\tlearn: 0.4987680\ttotal: 147ms\tremaining: 901ms\n",
      "14:\tlearn: 0.4847830\ttotal: 152ms\tremaining: 861ms\n",
      "15:\tlearn: 0.4680743\ttotal: 156ms\tremaining: 821ms\n",
      "16:\tlearn: 0.4622429\ttotal: 161ms\tremaining: 785ms\n",
      "17:\tlearn: 0.4395603\ttotal: 165ms\tremaining: 754ms\n",
      "18:\tlearn: 0.4326185\ttotal: 170ms\tremaining: 725ms\n",
      "19:\tlearn: 0.4268476\ttotal: 174ms\tremaining: 697ms\n",
      "20:\tlearn: 0.4137282\ttotal: 179ms\tremaining: 675ms\n",
      "21:\tlearn: 0.4080205\ttotal: 184ms\tremaining: 653ms\n",
      "22:\tlearn: 0.4044649\ttotal: 187ms\tremaining: 627ms\n",
      "23:\tlearn: 0.3948103\ttotal: 190ms\tremaining: 603ms\n",
      "24:\tlearn: 0.3876918\ttotal: 193ms\tremaining: 580ms\n",
      "25:\tlearn: 0.3819573\ttotal: 196ms\tremaining: 558ms\n",
      "26:\tlearn: 0.3801805\ttotal: 199ms\tremaining: 538ms\n",
      "27:\tlearn: 0.3742124\ttotal: 202ms\tremaining: 519ms\n",
      "28:\tlearn: 0.3660622\ttotal: 204ms\tremaining: 500ms\n",
      "29:\tlearn: 0.3614853\ttotal: 207ms\tremaining: 484ms\n",
      "30:\tlearn: 0.3568583\ttotal: 210ms\tremaining: 468ms\n",
      "31:\tlearn: 0.3514446\ttotal: 214ms\tremaining: 454ms\n",
      "32:\tlearn: 0.3386159\ttotal: 216ms\tremaining: 439ms\n",
      "33:\tlearn: 0.3328627\ttotal: 219ms\tremaining: 425ms\n",
      "34:\tlearn: 0.3291684\ttotal: 222ms\tremaining: 411ms\n",
      "35:\tlearn: 0.3265885\ttotal: 225ms\tremaining: 400ms\n",
      "36:\tlearn: 0.3240716\ttotal: 228ms\tremaining: 388ms\n",
      "37:\tlearn: 0.3145538\ttotal: 231ms\tremaining: 377ms\n",
      "38:\tlearn: 0.3065199\ttotal: 234ms\tremaining: 366ms\n",
      "39:\tlearn: 0.3015223\ttotal: 238ms\tremaining: 356ms\n",
      "40:\tlearn: 0.2983642\ttotal: 240ms\tremaining: 346ms\n",
      "41:\tlearn: 0.2963591\ttotal: 243ms\tremaining: 336ms\n",
      "42:\tlearn: 0.2934516\ttotal: 246ms\tremaining: 326ms\n",
      "43:\tlearn: 0.2917497\ttotal: 249ms\tremaining: 317ms\n",
      "44:\tlearn: 0.2882259\ttotal: 252ms\tremaining: 308ms\n",
      "45:\tlearn: 0.2848415\ttotal: 255ms\tremaining: 299ms\n",
      "46:\tlearn: 0.2819623\ttotal: 258ms\tremaining: 290ms\n",
      "47:\tlearn: 0.2808424\ttotal: 260ms\tremaining: 282ms\n",
      "48:\tlearn: 0.2781047\ttotal: 263ms\tremaining: 274ms\n",
      "49:\tlearn: 0.2753195\ttotal: 266ms\tremaining: 266ms\n",
      "50:\tlearn: 0.2718633\ttotal: 269ms\tremaining: 258ms\n",
      "51:\tlearn: 0.2695219\ttotal: 271ms\tremaining: 251ms\n",
      "52:\tlearn: 0.2657187\ttotal: 274ms\tremaining: 243ms\n",
      "53:\tlearn: 0.2625602\ttotal: 278ms\tremaining: 236ms\n",
      "54:\tlearn: 0.2606763\ttotal: 280ms\tremaining: 229ms\n",
      "55:\tlearn: 0.2584928\ttotal: 283ms\tremaining: 222ms\n",
      "56:\tlearn: 0.2554688\ttotal: 287ms\tremaining: 216ms\n",
      "57:\tlearn: 0.2509908\ttotal: 290ms\tremaining: 210ms\n",
      "58:\tlearn: 0.2493497\ttotal: 293ms\tremaining: 203ms\n",
      "59:\tlearn: 0.2463535\ttotal: 296ms\tremaining: 197ms\n",
      "60:\tlearn: 0.2436137\ttotal: 298ms\tremaining: 191ms\n",
      "61:\tlearn: 0.2415476\ttotal: 302ms\tremaining: 185ms\n",
      "62:\tlearn: 0.2393195\ttotal: 304ms\tremaining: 179ms\n",
      "63:\tlearn: 0.2380178\ttotal: 307ms\tremaining: 173ms\n",
      "64:\tlearn: 0.2367924\ttotal: 310ms\tremaining: 167ms\n",
      "65:\tlearn: 0.2350347\ttotal: 313ms\tremaining: 161ms\n",
      "66:\tlearn: 0.2333389\ttotal: 315ms\tremaining: 155ms\n",
      "67:\tlearn: 0.2319806\ttotal: 317ms\tremaining: 149ms\n",
      "68:\tlearn: 0.2310311\ttotal: 319ms\tremaining: 143ms\n",
      "69:\tlearn: 0.2296326\ttotal: 321ms\tremaining: 138ms\n",
      "70:\tlearn: 0.2271910\ttotal: 323ms\tremaining: 132ms\n",
      "71:\tlearn: 0.2250659\ttotal: 326ms\tremaining: 127ms\n",
      "72:\tlearn: 0.2223116\ttotal: 329ms\tremaining: 122ms\n",
      "73:\tlearn: 0.2218712\ttotal: 331ms\tremaining: 116ms\n",
      "74:\tlearn: 0.2191695\ttotal: 333ms\tremaining: 111ms\n",
      "75:\tlearn: 0.2182834\ttotal: 336ms\tremaining: 106ms\n",
      "76:\tlearn: 0.2172131\ttotal: 338ms\tremaining: 101ms\n",
      "77:\tlearn: 0.2153396\ttotal: 340ms\tremaining: 96ms\n",
      "78:\tlearn: 0.2151640\ttotal: 343ms\tremaining: 91.3ms\n",
      "79:\tlearn: 0.2133795\ttotal: 346ms\tremaining: 86.5ms\n",
      "80:\tlearn: 0.2120874\ttotal: 349ms\tremaining: 81.8ms\n",
      "81:\tlearn: 0.2094530\ttotal: 351ms\tremaining: 76.9ms\n",
      "82:\tlearn: 0.2087037\ttotal: 353ms\tremaining: 72.3ms\n",
      "83:\tlearn: 0.2065241\ttotal: 356ms\tremaining: 67.8ms\n",
      "84:\tlearn: 0.2037972\ttotal: 358ms\tremaining: 63.3ms\n",
      "85:\tlearn: 0.2023604\ttotal: 361ms\tremaining: 58.8ms\n",
      "86:\tlearn: 0.2013680\ttotal: 365ms\tremaining: 54.6ms\n",
      "87:\tlearn: 0.1995959\ttotal: 368ms\tremaining: 50.2ms\n",
      "88:\tlearn: 0.1976521\ttotal: 370ms\tremaining: 45.8ms\n",
      "89:\tlearn: 0.1962467\ttotal: 373ms\tremaining: 41.4ms\n",
      "90:\tlearn: 0.1951751\ttotal: 376ms\tremaining: 37.1ms\n",
      "91:\tlearn: 0.1946917\ttotal: 378ms\tremaining: 32.9ms\n",
      "92:\tlearn: 0.1932030\ttotal: 381ms\tremaining: 28.7ms\n",
      "93:\tlearn: 0.1916430\ttotal: 383ms\tremaining: 24.5ms\n",
      "94:\tlearn: 0.1908694\ttotal: 386ms\tremaining: 20.3ms\n",
      "95:\tlearn: 0.1898732\ttotal: 389ms\tremaining: 16.2ms\n",
      "96:\tlearn: 0.1893767\ttotal: 391ms\tremaining: 12.1ms\n",
      "97:\tlearn: 0.1873856\ttotal: 393ms\tremaining: 8.03ms\n",
      "98:\tlearn: 0.1853854\ttotal: 396ms\tremaining: 4ms\n",
      "99:\tlearn: 0.1830548\ttotal: 398ms\tremaining: 0us\n",
      "0:\tlearn: 1.2242918\ttotal: 2.29ms\tremaining: 226ms\n",
      "1:\tlearn: 0.9054101\ttotal: 4.26ms\tremaining: 209ms\n",
      "2:\tlearn: 0.7939542\ttotal: 6.11ms\tremaining: 198ms\n",
      "3:\tlearn: 0.7523641\ttotal: 8.08ms\tremaining: 194ms\n",
      "4:\tlearn: 0.6553478\ttotal: 10.4ms\tremaining: 198ms\n",
      "5:\tlearn: 0.6104927\ttotal: 12.3ms\tremaining: 193ms\n",
      "6:\tlearn: 0.5788323\ttotal: 14.3ms\tremaining: 190ms\n",
      "7:\tlearn: 0.5423233\ttotal: 16.2ms\tremaining: 186ms\n",
      "8:\tlearn: 0.5132470\ttotal: 18.4ms\tremaining: 186ms\n",
      "9:\tlearn: 0.4713386\ttotal: 20.5ms\tremaining: 184ms\n",
      "10:\tlearn: 0.4228524\ttotal: 22.4ms\tremaining: 181ms\n",
      "11:\tlearn: 0.4098066\ttotal: 24.5ms\tremaining: 180ms\n",
      "12:\tlearn: 0.3913094\ttotal: 26.7ms\tremaining: 179ms\n",
      "13:\tlearn: 0.3800151\ttotal: 28.8ms\tremaining: 177ms\n",
      "14:\tlearn: 0.3619062\ttotal: 30.9ms\tremaining: 175ms\n",
      "15:\tlearn: 0.3430273\ttotal: 32.9ms\tremaining: 173ms\n",
      "16:\tlearn: 0.3278600\ttotal: 34.9ms\tremaining: 170ms\n",
      "17:\tlearn: 0.3127743\ttotal: 36.9ms\tremaining: 168ms\n",
      "18:\tlearn: 0.2989064\ttotal: 39.2ms\tremaining: 167ms\n",
      "19:\tlearn: 0.2950353\ttotal: 41.5ms\tremaining: 166ms\n",
      "20:\tlearn: 0.2783864\ttotal: 43.5ms\tremaining: 164ms\n",
      "21:\tlearn: 0.2775211\ttotal: 46ms\tremaining: 163ms\n",
      "22:\tlearn: 0.2707012\ttotal: 48ms\tremaining: 161ms\n",
      "23:\tlearn: 0.2607629\ttotal: 50.1ms\tremaining: 159ms\n",
      "24:\tlearn: 0.2549773\ttotal: 52.2ms\tremaining: 157ms\n",
      "25:\tlearn: 0.2431868\ttotal: 54.3ms\tremaining: 154ms\n",
      "26:\tlearn: 0.2414075\ttotal: 56.3ms\tremaining: 152ms\n",
      "27:\tlearn: 0.2329142\ttotal: 58.5ms\tremaining: 150ms\n",
      "28:\tlearn: 0.2270968\ttotal: 60.5ms\tremaining: 148ms\n",
      "29:\tlearn: 0.2263963\ttotal: 62.8ms\tremaining: 147ms\n",
      "30:\tlearn: 0.2227478\ttotal: 65.8ms\tremaining: 146ms\n",
      "31:\tlearn: 0.2176203\ttotal: 67.8ms\tremaining: 144ms\n",
      "32:\tlearn: 0.2100198\ttotal: 69.9ms\tremaining: 142ms\n",
      "33:\tlearn: 0.2024634\ttotal: 72ms\tremaining: 140ms\n",
      "34:\tlearn: 0.1953963\ttotal: 74.1ms\tremaining: 138ms\n",
      "35:\tlearn: 0.1898466\ttotal: 76.2ms\tremaining: 135ms\n",
      "36:\tlearn: 0.1831105\ttotal: 78.2ms\tremaining: 133ms\n",
      "37:\tlearn: 0.1783159\ttotal: 80.2ms\tremaining: 131ms\n",
      "38:\tlearn: 0.1761909\ttotal: 82.3ms\tremaining: 129ms\n",
      "39:\tlearn: 0.1699755\ttotal: 84.1ms\tremaining: 126ms\n",
      "40:\tlearn: 0.1680808\ttotal: 86ms\tremaining: 124ms\n",
      "41:\tlearn: 0.1640004\ttotal: 88ms\tremaining: 121ms\n",
      "42:\tlearn: 0.1613647\ttotal: 90.6ms\tremaining: 120ms\n",
      "43:\tlearn: 0.1546120\ttotal: 92.7ms\tremaining: 118ms\n",
      "44:\tlearn: 0.1521771\ttotal: 94.5ms\tremaining: 115ms\n",
      "45:\tlearn: 0.1494434\ttotal: 96.5ms\tremaining: 113ms\n",
      "46:\tlearn: 0.1447246\ttotal: 98.8ms\tremaining: 111ms\n",
      "47:\tlearn: 0.1400620\ttotal: 101ms\tremaining: 110ms\n",
      "48:\tlearn: 0.1386515\ttotal: 103ms\tremaining: 107ms\n",
      "49:\tlearn: 0.1325535\ttotal: 105ms\tremaining: 105ms\n",
      "50:\tlearn: 0.1291782\ttotal: 108ms\tremaining: 103ms\n",
      "51:\tlearn: 0.1273920\ttotal: 110ms\tremaining: 101ms\n",
      "52:\tlearn: 0.1245540\ttotal: 113ms\tremaining: 99.8ms\n",
      "53:\tlearn: 0.1235072\ttotal: 115ms\tremaining: 97.8ms\n",
      "54:\tlearn: 0.1216770\ttotal: 117ms\tremaining: 95.6ms\n",
      "55:\tlearn: 0.1194328\ttotal: 119ms\tremaining: 93.5ms\n",
      "56:\tlearn: 0.1158290\ttotal: 121ms\tremaining: 91.4ms\n",
      "57:\tlearn: 0.1116137\ttotal: 123ms\tremaining: 89.2ms\n",
      "58:\tlearn: 0.1085252\ttotal: 125ms\tremaining: 87ms\n",
      "59:\tlearn: 0.1038990\ttotal: 127ms\tremaining: 84.9ms\n",
      "60:\tlearn: 0.1019516\ttotal: 129ms\tremaining: 82.7ms\n",
      "61:\tlearn: 0.1015430\ttotal: 131ms\tremaining: 80.3ms\n",
      "62:\tlearn: 0.0976163\ttotal: 133ms\tremaining: 78.2ms\n",
      "63:\tlearn: 0.0961919\ttotal: 135ms\tremaining: 76ms\n",
      "64:\tlearn: 0.0932782\ttotal: 137ms\tremaining: 73.9ms\n",
      "65:\tlearn: 0.0919199\ttotal: 139ms\tremaining: 71.8ms\n",
      "66:\tlearn: 0.0893536\ttotal: 142ms\tremaining: 69.7ms\n",
      "67:\tlearn: 0.0869014\ttotal: 144ms\tremaining: 67.6ms\n",
      "68:\tlearn: 0.0864104\ttotal: 146ms\tremaining: 65.5ms\n",
      "69:\tlearn: 0.0842289\ttotal: 148ms\tremaining: 63.5ms\n",
      "70:\tlearn: 0.0828174\ttotal: 150ms\tremaining: 61.4ms\n",
      "71:\tlearn: 0.0825927\ttotal: 152ms\tremaining: 59.1ms\n",
      "72:\tlearn: 0.0811770\ttotal: 154ms\tremaining: 56.9ms\n",
      "73:\tlearn: 0.0803198\ttotal: 156ms\tremaining: 54.8ms\n",
      "74:\tlearn: 0.0785307\ttotal: 158ms\tremaining: 52.8ms\n",
      "75:\tlearn: 0.0763158\ttotal: 161ms\tremaining: 50.8ms\n",
      "76:\tlearn: 0.0754207\ttotal: 164ms\tremaining: 49ms\n",
      "77:\tlearn: 0.0739917\ttotal: 166ms\tremaining: 46.9ms\n",
      "78:\tlearn: 0.0729432\ttotal: 169ms\tremaining: 44.9ms\n",
      "79:\tlearn: 0.0720345\ttotal: 171ms\tremaining: 42.8ms\n",
      "80:\tlearn: 0.0717692\ttotal: 173ms\tremaining: 40.6ms\n",
      "81:\tlearn: 0.0700472\ttotal: 175ms\tremaining: 38.5ms\n",
      "82:\tlearn: 0.0692167\ttotal: 177ms\tremaining: 36.3ms\n",
      "83:\tlearn: 0.0687165\ttotal: 179ms\tremaining: 34.2ms\n"
     ]
    },
    {
     "name": "stdout",
     "output_type": "stream",
     "text": [
      "84:\tlearn: 0.0677521\ttotal: 183ms\tremaining: 32.3ms\n",
      "85:\tlearn: 0.0649051\ttotal: 185ms\tremaining: 30.2ms\n",
      "86:\tlearn: 0.0642107\ttotal: 187ms\tremaining: 28ms\n",
      "87:\tlearn: 0.0628804\ttotal: 190ms\tremaining: 25.9ms\n",
      "88:\tlearn: 0.0625165\ttotal: 192ms\tremaining: 23.8ms\n",
      "89:\tlearn: 0.0611329\ttotal: 195ms\tremaining: 21.6ms\n",
      "90:\tlearn: 0.0604828\ttotal: 198ms\tremaining: 19.5ms\n",
      "91:\tlearn: 0.0589968\ttotal: 200ms\tremaining: 17.4ms\n",
      "92:\tlearn: 0.0572829\ttotal: 202ms\tremaining: 15.2ms\n",
      "93:\tlearn: 0.0564521\ttotal: 204ms\tremaining: 13ms\n",
      "94:\tlearn: 0.0549106\ttotal: 206ms\tremaining: 10.9ms\n",
      "95:\tlearn: 0.0539810\ttotal: 209ms\tremaining: 8.69ms\n",
      "96:\tlearn: 0.0529537\ttotal: 211ms\tremaining: 6.51ms\n",
      "97:\tlearn: 0.0525875\ttotal: 212ms\tremaining: 4.34ms\n",
      "98:\tlearn: 0.0513803\ttotal: 214ms\tremaining: 2.17ms\n",
      "99:\tlearn: 0.0509283\ttotal: 216ms\tremaining: 0us\n",
      "R2 Score is : 0.8461256833335008 | Root Mean Square Error is : 0.827185666842778\n",
      "R2 Score is : 0.9994195725157906 | Root Mean Square Error is : 0.05092830989530217\n"
     ]
    }
   ],
   "source": [
    "#model \n",
    "model = CatBoostRegressor(iterations=100, learning_rate=1, depth=5)\n",
    "# Fit model\n",
    "model.fit( X_train, y_train)\n",
    "model.fit( X_test, y_test)\n",
    "#predictions\n",
    "model_test(model, X_train, y_train)\n",
    "model_test(model, X_test, y_test)\n"
   ]
  },
  {
   "cell_type": "code",
   "execution_count": 46,
   "metadata": {},
   "outputs": [
    {
     "data": {
      "text/plain": [
       "array([11.0060494 , 11.97346109, 10.2924812 ,  8.91961672,  8.62595358,\n",
       "       11.25895834,  3.29778695,  6.9700372 ,  8.21514715,  9.38998023,\n",
       "        4.16593826, 11.6243002 ,  8.78978123,  4.59193891,  4.57801355,\n",
       "        6.2214742 ,  8.19407037,  4.06060652,  9.54491053,  5.68392083,\n",
       "        4.6896627 , 10.59875005,  5.36454844,  7.71113219,  5.33065615,\n",
       "        4.83152729,  8.13219965,  7.6612138 ,  7.46186098,  7.86117231,\n",
       "        7.5152037 ,  5.67806047, 10.29426074,  7.55826187, 10.2792056 ,\n",
       "        9.43218646, 10.99686915, 10.54305447,  6.21360558,  8.01935449,\n",
       "        9.47486116,  4.85853597,  5.3543426 ,  6.3152442 ,  5.58914926,\n",
       "        4.45818231, 11.36207755,  5.66055847,  6.38591195, 10.24064073,\n",
       "       11.78499935,  6.4346394 ,  5.91495514, 11.30274818,  8.30284397,\n",
       "        4.4275065 , 11.74019034,  9.77053569,  7.36131314,  6.23831476,\n",
       "        6.40349702, 10.96717692,  6.38044655,  8.55036279,  5.2233551 ,\n",
       "        5.86711725,  6.96221942,  5.44367085, 10.46623515,  7.75079251,\n",
       "        5.57317956,  4.01390954,  4.31377839,  7.9862261 ,  7.18592493,\n",
       "        5.30231592,  6.02970477,  8.54201597, 11.48029673,  6.6939015 ,\n",
       "        6.3263833 , 11.36207755,  6.41362407,  6.1586498 ,  0.90680238,\n",
       "        8.38893114,  6.66403361, 10.17894924,  5.67046845,  7.01598752,\n",
       "        9.24810828,  9.64495164,  6.58679661,  5.80643512,  6.6796659 ,\n",
       "        6.15128807,  9.06926489, 10.94258383,  7.38098195,  5.54252336,\n",
       "       10.96015457,  6.08256382,  4.09670373,  7.84286149,  9.36260472,\n",
       "        9.26390789,  8.12809127,  1.8504879 , 10.00272427, 10.42465253,\n",
       "        4.45706533,  7.84847109,  6.19985332,  4.22965776,  5.57615148,\n",
       "       10.0020158 ,  5.25978695, 10.09304897,  4.40318099,  9.04232692,\n",
       "        5.89660588,  4.73188285,  9.8454588 , 11.73967946,  8.84492078,\n",
       "        7.65805983,  4.87179138, 10.13992737,  9.26223382,  6.01357678,\n",
       "        5.18678876,  5.46862535,  9.67669325,  8.93571456, 11.83970522,\n",
       "        5.64587688,  7.34611865,  6.55404006,  8.09723397,  4.80496388,\n",
       "        7.99871564, 10.43667183,  9.6223377 ,  4.71722244,  9.15803893,\n",
       "        6.31342077,  6.08520948,  5.59368716,  5.91909125,  4.79932382,\n",
       "        9.79772764,  7.8913167 ,  5.16677882,  7.54612098,  7.19955073,\n",
       "       10.7502694 ,  5.58722289,  4.62889528,  6.33478657,  5.83037926,\n",
       "        8.64788483,  9.18125534,  6.4062042 ,  9.33590807,  5.88296663,\n",
       "        8.09506078,  7.5797447 ,  8.63497082,  5.05687654,  7.76805396,\n",
       "        8.20426797,  7.58003087,  4.8055368 , 11.60009443,  5.30964314,\n",
       "        4.95981351,  5.62252987,  6.54417616,  5.84125311,  8.40856223,\n",
       "        5.27966841,  5.50225456, 10.74853626,  7.72424554,  7.37254873,\n",
       "        5.41111003,  7.11171282, 10.02592294,  6.99559109,  4.4805985 ,\n",
       "        5.66068326,  9.78420112, 11.76067238,  4.40091029,  9.9569223 ,\n",
       "        6.91636272,  9.33962147,  7.88186686,  6.40650067,  7.97871966,\n",
       "        7.34623453, 11.54157435,  7.84433591,  2.13417777,  6.64650712,\n",
       "       10.04089732,  7.95613968,  7.71113219,  7.33988711,  8.30823389,\n",
       "        7.33008576, 10.23172124,  6.38106148,  6.89033357,  9.17114884,\n",
       "        5.6670844 ,  5.41384121,  6.05113907, 10.81646387,  8.23845727,\n",
       "        6.41836495,  5.35135553,  8.23933768, 11.1568116 , 11.58356292,\n",
       "        7.27953318,  4.47766027,  5.8692208 ,  9.33526654,  6.0211532 ,\n",
       "        5.59532311,  9.17784585,  7.64468737,  5.7061304 ,  6.47802477,\n",
       "        5.88072902, 10.04629985,  9.04505859,  5.07301112,  5.02839324,\n",
       "        4.62394725,  5.22206764,  5.44625432,  8.74628712, 11.50310645,\n",
       "        7.01896372,  6.07229419,  7.96799001,  5.28097145,  9.8926629 ,\n",
       "        7.76404322,  9.66227007,  4.25142284,  5.01105412,  6.6256156 ,\n",
       "       10.48729427,  6.83954343, 10.03804469,  8.81953171,  8.66689393,\n",
       "       10.79766052, 10.52535645,  6.45392528,  5.91956174,  5.99744843,\n",
       "        7.36553466,  4.49948581,  6.35721567,  2.59976557,  6.53284759,\n",
       "        8.40685533,  6.42658263, 10.25185994,  1.31242463,  7.83417723,\n",
       "        9.61607248, 10.36058497,  6.73857077,  6.59128994,  7.27984531,\n",
       "        5.46592744,  7.18117009,  4.79122317,  4.14844065,  9.44208229,\n",
       "       10.86327707,  5.72802512,  5.57665633,  8.48390085,  9.45261038,\n",
       "        5.64763037,  5.61671211,  5.97861993, 11.45775437,  7.31298529,\n",
       "        6.9461758 , 10.09488001,  8.10365656,  6.28444512,  7.78053366,\n",
       "        5.51551521,  5.78717685,  4.43196546,  7.5996739 ,  8.53723628,\n",
       "        9.21343701,  5.36853502,  4.84928215,  6.68320609,  6.35783868,\n",
       "        5.64582913,  5.74016419,  5.56248554,  8.32799907, 10.44255961,\n",
       "        8.82126435,  6.68013482,  5.6221317 ,  5.13678543,  6.60981355,\n",
       "        5.57581602,  7.4828811 ,  4.12481622,  7.0800255 , 11.46191418,\n",
       "        3.88785616,  5.79710088,  5.55957088, 10.98014728,  7.86206496,\n",
       "        5.34612646,  5.53732729,  9.20968995,  6.04263133,  8.90541116,\n",
       "        8.07215819,  8.41834808,  6.64101021,  7.98216623,  4.65441917,\n",
       "        6.570059  ,  5.85149978,  8.24747256,  6.96011428,  9.82042781,\n",
       "        6.96090777,  9.23921093,  5.65920812,  9.07985904,  8.93201919,\n",
       "        5.84554444,  9.4430446 ,  7.75722588,  9.43654197,  5.6761894 ,\n",
       "        6.31584047,  5.30633818,  8.69416976, 10.56011899,  8.55354069,\n",
       "        7.13712643,  6.47913078,  7.31247279,  9.29946382,  6.45282914,\n",
       "        6.52546745,  6.70017824,  6.86004552,  6.63499859,  9.13937117,\n",
       "       11.52318069,  6.64663942,  6.21735865,  9.38351127,  7.08715959,\n",
       "        6.09006534, 10.45951023,  6.71643442,  7.75722588,  7.08227258,\n",
       "        5.07091158,  7.45515684,  7.94449396,  7.99554508,  3.18748386,\n",
       "        7.49242499,  6.42882374,  8.75778719,  4.01864824, 10.25214069,\n",
       "        7.23413843,  6.15672893,  9.15024358,  9.51686347, 11.5630772 ,\n",
       "        9.44470474,  6.4431456 ,  7.06795302,  7.77743801,  8.33458502,\n",
       "        5.99318647,  2.58246914, 10.013982  ,  5.77397626,  5.96786335,\n",
       "        9.73799584,  5.01499283,  7.69527548, 10.74455216,  9.95714595,\n",
       "        9.59075878,  4.22965776,  6.22626854,  7.75292663,  9.73134114,\n",
       "        4.60352315,  9.09404099,  5.16366958,  9.90697861,  6.67941786,\n",
       "        2.15592483,  4.63279106,  8.01939984,  4.68643384,  6.32327422,\n",
       "        9.48006819,  7.62768715,  7.53798121,  9.08441674,  5.23061783,\n",
       "       10.16482233,  7.40182003,  7.69292548,  9.58173497,  6.39946972,\n",
       "        8.56384503,  4.41909732,  5.67677971,  8.61032084,  6.15634899,\n",
       "        5.05265523,  6.59061998, 10.0663639 ,  9.86351795,  8.29693619,\n",
       "        9.93113965,  7.63070937,  8.28453149,  8.05444384,  7.34829124,\n",
       "        9.9102311 ,  7.15334153,  9.20355412,  8.66169331,  6.43665726,\n",
       "        8.31357025,  8.50552249,  8.18839533,  4.43269247,  8.00476128,\n",
       "        5.2567082 ,  9.73491776,  5.58102709,  5.71389766,  8.19403332,\n",
       "        4.0833384 ,  4.95812146,  7.99899651,  6.77278769,  7.59610447,\n",
       "        8.13901791,  9.9950127 ,  4.70373561,  4.7161412 ,  6.11613847,\n",
       "       10.57179058, 10.73806876, 11.75552875,  6.66298486,  5.65845838,\n",
       "        5.61582631,  7.79431805,  5.11533794,  2.88900783,  8.41940638,\n",
       "        6.74301004,  8.42184807,  3.61160276,  4.05916073, 11.74722311,\n",
       "        6.72487114,  7.25071192,  8.32173976,  7.75891974,  9.30895535,\n",
       "        6.39098044,  4.08000336,  9.36079247,  8.97925809,  8.8920049 ,\n",
       "        9.43044619, 10.11864485,  8.37255995,  9.45521114,  7.01660778,\n",
       "        9.84125736,  6.65418947,  6.43507136,  7.30118968,  5.34015071,\n",
       "        9.26390789,  7.38090304,  5.665389  ,  4.62394725,  8.50423058,\n",
       "        8.53838753,  7.20025138,  6.64122603,  7.2691566 ,  5.00355972,\n",
       "        9.68734558,  4.76225056,  7.72601806,  6.60929896,  8.09805775,\n",
       "        9.67869128,  7.64468737, 11.83650811,  4.43269247,  9.701627  ,\n",
       "        9.95377829,  6.01155991,  9.01166306,  7.37165812,  8.31386107,\n",
       "        9.26390789,  8.70034978,  5.65311037,  6.05454942,  9.08355442,\n",
       "        7.75094951, 10.41630571,  7.90378374,  9.73745717,  8.27985729,\n",
       "        6.92654656,  8.85427934,  6.36142072,  3.9536277 ,  7.6527773 ,\n",
       "        4.65338997,  6.40880188,  6.43527578, 10.44355572,  5.31981911,\n",
       "        8.61939473, 10.25676735,  6.84605529,  5.06273512,  4.95432936,\n",
       "        8.66185538, 10.48676607,  5.61943183,  5.96367165,  7.49935102,\n",
       "        3.93345891,  9.94284386,  7.34623453,  9.27340769,  8.70505161,\n",
       "       10.86327707,  5.47304522,  9.27650973,  7.91769193,  5.35645807,\n",
       "        5.85771961,  6.25679456,  3.16490392,  7.744541  , 11.50432938,\n",
       "        5.44743626,  5.35778126,  3.35918842,  5.54106154,  9.31778991,\n",
       "        8.43976515,  6.08872126,  9.72028695,  6.21181546,  7.22052077,\n",
       "        7.73101503,  7.47004661,  6.21605917,  6.16334472,  5.33291617,\n",
       "        6.51084303,  6.53303577,  7.00721945,  7.22052077,  7.02572685,\n",
       "        7.13902706,  7.09586721, 10.02631222,  8.10127117,  7.49906043,\n",
       "        2.19359687,  7.33626093, 11.69554171,  9.8132167 ,  9.03682971,\n",
       "        8.17824612,  8.65694178,  7.95591717,  4.99158822, 10.50048195,\n",
       "        5.31607936,  6.34084423,  9.09578184,  6.32048005,  7.88489413,\n",
       "        5.62988382,  9.6330066 ,  8.13216984,  5.22662916,  6.21394842,\n",
       "        5.3543426 ,  6.13087002,  4.57518145,  6.69230738,  5.58993069,\n",
       "        6.0380433 ,  7.24306079,  5.66134301,  5.64344838,  7.14555938,\n",
       "        5.89958766,  8.52476072,  5.98435367,  4.32494123,  8.07027673,\n",
       "        6.36142072, 10.13237672,  8.41940638,  4.48490233, 11.18692443,\n",
       "        7.35590702,  6.55570706,  4.98353483,  9.36930919,  9.7395101 ,\n",
       "        5.07144872,  6.51167068,  8.5919285 ,  8.56844307,  4.04047659,\n",
       "        6.70017824,  3.18114076,  4.55644197,  7.60445974,  9.52192742,\n",
       "        6.80788243,  6.7122502 ,  6.19341104,  3.06075767, 10.26047093,\n",
       "        8.79928613,  7.50300383, 10.22473261, 10.54305447,  6.08362622,\n",
       "        9.95377829,  5.77479102,  5.13224994,  7.11172184, 10.39689782,\n",
       "        9.79482552,  5.88471291,  4.84846991,  8.91289029,  2.02454516,\n",
       "        3.61160276,  5.38621473,  6.24841405,  8.20481792,  9.21950982])"
      ]
     },
     "execution_count": 46,
     "metadata": {},
     "output_type": "execute_result"
    }
   ],
   "source": [
    "#predictions on test data\n",
    "cat_boost = model.predict(X_real)\n",
    "cat_boost"
   ]
  },
  {
   "cell_type": "code",
   "execution_count": null,
   "metadata": {},
   "outputs": [],
   "source": []
  },
  {
   "cell_type": "markdown",
   "metadata": {},
   "source": [
    "."
   ]
  },
  {
   "cell_type": "markdown",
   "metadata": {},
   "source": [
    "FIGURES FOR MODELS"
   ]
  },
  {
   "cell_type": "code",
   "execution_count": 47,
   "metadata": {},
   "outputs": [
    {
     "data": {
      "image/png": "[encoded data removed]",
      "text/plain": [
       "<Figure size 1080x360 with 3 Axes>"
      ]
     },
     "metadata": {
      "needs_background": "light"
     },
     "output_type": "display_data"
    }
   ],
   "source": [
    "# Create figure and axes\n",
    "fig, ax = plt.subplots(figsize=(15,5), nrows=1, ncols=3, sharey=True)\n",
    "\n",
    "# Create list of titles and predictions to use in for loop\n",
    "pred = [dec_tree.predict(X_test), Lasso_model.predict(X_test), rand_forest.predict(X_test)]\n",
    "title = [ 'Decision Tree','Lasso Regression','Random Forest']\n",
    "\n",
    "# Loop through all axes to plot each model's results \n",
    "for i in range(3):\n",
    "    \n",
    "    rmse = round(np.sqrt(mean_squared_error(pred[i],y_test)))\n",
    "    ax[i].set_title(title[i]+\"  (RMSE: \"+str(rmse)+ \")\")\n",
    "    ax[i].set_xlabel('Actual')\n",
    "    ax[i].set_ylabel('Predicted')\n",
    "    ax[i].plot(y_test,y_test,'r')\n",
    "    ax[i].scatter(y_test,pred[i])"
   ]
  },
  {
   "cell_type": "code",
   "execution_count": 48,
   "metadata": {},
   "outputs": [],
   "source": [
    "# create submission dataframe\n",
    "# Create Dataframe of Order_No and Time from Pickup to Arrival\n",
    "submission = pd.DataFrame(\n",
    "    {'Index': test_ID,\n",
    "     'avg_price_per_kg': cat_boost\n",
    "    })\n",
    "\n",
    "submission.to_csv(\"Cat_B_Submissions.csv\", index=False)"
   ]
  },
  {
   "cell_type": "code",
   "execution_count": null,
   "metadata": {},
   "outputs": [],
   "source": []
  }
 ],
 "metadata": {
  "kernelspec": {
   "display_name": "Python 3",
   "language": "python",
   "name": "python3"
  },
  "language_info": {
   "codemirror_mode": {
    "name": "ipython",
    "version": 3
   },
   "file_extension": ".py",
   "mimetype": "text/x-python",
   "name": "python",
   "nbconvert_exporter": "python",
   "pygments_lexer": "ipython3",
   "version": "3.8.3"
  }
 },
 "nbformat": 4,
 "nbformat_minor": 2
}
