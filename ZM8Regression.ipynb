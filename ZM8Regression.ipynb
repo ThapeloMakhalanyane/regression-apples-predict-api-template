{
 "cells": [
  {
   "cell_type": "code",
   "execution_count": null,
   "metadata": {},
   "outputs": [],
   "source": []
  },
  {
   "cell_type": "markdown",
   "metadata": {},
   "source": [
    "# INTRODUCTION "
   ]
  },
  {
   "cell_type": "markdown",
   "metadata": {},
   "source": [
    "On this project we created a regresssion algorithm that predicts how much kilogram of Golden Delicious Aplles will cost,\n",
    "Challenged by [**EXPLORE Data Science Academy**](https://explore-datascience.net/). The data used here is from Durban Fresh Produce Market but can be obtained [here](https://www.kaggle.com/c/edsa-apple-prices-challenge/data).\n",
    "\n",
    "In this notebook we predicted the Target numeric variable which is Avarage Price using the predictors (Stock on hand, High Price, Low Price, Total Qty Sold, etc). below is the work flow\n",
    "1. Exploratory data analysis, Data cleaning and formatting\n",
    "2. Feature engineering and variable selection\n",
    "3. Build the model using selected features\n",
    "4. Evaluate the best model on testing set"
   ]
  },
  {
   "cell_type": "markdown",
   "metadata": {},
   "source": [
    "___________________________________________________________________________________________________________________________"
   ]
  },
  {
   "cell_type": "markdown",
   "metadata": {},
   "source": [
    "Firstly we imported the needed libraries and data."
   ]
  },
  {
   "cell_type": "markdown",
   "metadata": {},
   "source": [
    "## 1. Importing Libraries"
   ]
  },
  {
   "cell_type": "code",
   "execution_count": 163,
   "metadata": {},
   "outputs": [],
   "source": [
    "import numpy as np\n",
    "import pandas as pd\n",
    "from datetime import datetime\n",
    "from scipy import stats\n",
    "\n",
    "# Visualisations\n",
    "#import missingno\n",
    "import seaborn as sns\n",
    "import matplotlib.pyplot as plt\n",
    "%matplotlib inline\n",
    "\n",
    "# Preprocessing\n",
    "from sklearn.preprocessing import LabelEncoder, StandardScaler\n",
    "\n",
    "# Regression models\n",
    "from sklearn.linear_model import LinearRegression, Ridge\n",
    "from sklearn.linear_model import Lasso\n",
    "from sklearn.tree import DecisionTreeRegressor\n",
    "from sklearn.ensemble import RandomForestRegressor\n",
    "from sklearn.svm import SVR\n",
    "from sklearn.ensemble import VotingRegressor\n",
    "from sklearn.ensemble import AdaBoostRegressor\n",
    "from catboost import CatBoostRegressor, FeaturesData, Pool\n",
    "\n",
    "# Model slection\n",
    "from sklearn.model_selection import train_test_split\n",
    "\n",
    "# Metrics\n",
    "from sklearn.metrics import r2_score\n",
    "from sklearn.metrics import mean_squared_error\n",
    "\n",
    "\n",
    "# Other\n",
    "from scipy import stats\n",
    "import math\n",
    "import pickle"
   ]
  },
  {
   "cell_type": "markdown",
   "metadata": {},
   "source": [
    "Data was downloaded from the given link above"
   ]
  },
  {
   "cell_type": "code",
   "execution_count": 4,
   "metadata": {},
   "outputs": [],
   "source": [
    "#Import Data\n",
    "train_df = pd.read_csv('df-train_set.csv')\n",
    "test_df = pd.read_csv('df-test_set.csv')\n",
    "\n",
    "test_ID = test_df['Index']\n",
    "test_df = test_df.drop('Index', axis=1)"
   ]
  },
  {
   "cell_type": "markdown",
   "metadata": {},
   "source": [
    "# Exploratory Data Analysis (EDA)"
   ]
  },
  {
   "cell_type": "markdown",
   "metadata": {},
   "source": [
    "We will only use dataset that falls under APPLE GOLDEN DELICIOUS Commodities"
   ]
  },
  {
   "cell_type": "code",
   "execution_count": 5,
   "metadata": {},
   "outputs": [],
   "source": [
    "train_df = train_df[(train_df['Commodities'] == 'APPLE GOLDEN DELICIOUS')] #create new df focusing on 'APPLE GOLDEN DELICIOUS"
   ]
  },
  {
   "cell_type": "code",
   "execution_count": 6,
   "metadata": {},
   "outputs": [
    {
     "data": {
      "text/html": [
       "<div>\n",
       "<style scoped>\n",
       "    .dataframe tbody tr th:only-of-type {\n",
       "        vertical-align: middle;\n",
       "    }\n",
       "\n",
       "    .dataframe tbody tr th {\n",
       "        vertical-align: top;\n",
       "    }\n",
       "\n",
       "    .dataframe thead th {\n",
       "        text-align: right;\n",
       "    }\n",
       "</style>\n",
       "<table border=\"1\" class=\"dataframe\">\n",
       "  <thead>\n",
       "    <tr style=\"text-align: right;\">\n",
       "      <th></th>\n",
       "      <th>Province</th>\n",
       "      <th>Container</th>\n",
       "      <th>Size_Grade</th>\n",
       "      <th>Weight_Kg</th>\n",
       "      <th>Commodities</th>\n",
       "      <th>Date</th>\n",
       "      <th>Low_Price</th>\n",
       "      <th>High_Price</th>\n",
       "      <th>Sales_Total</th>\n",
       "      <th>Total_Qty_Sold</th>\n",
       "      <th>Total_Kg_Sold</th>\n",
       "      <th>Stock_On_Hand</th>\n",
       "      <th>avg_price_per_kg</th>\n",
       "    </tr>\n",
       "  </thead>\n",
       "  <tbody>\n",
       "    <tr>\n",
       "      <td>1</td>\n",
       "      <td>CAPE</td>\n",
       "      <td>M4183</td>\n",
       "      <td>1L</td>\n",
       "      <td>18.3</td>\n",
       "      <td>APPLE GOLDEN DELICIOUS</td>\n",
       "      <td>2020-09-09</td>\n",
       "      <td>150.0</td>\n",
       "      <td>170.0</td>\n",
       "      <td>51710.0</td>\n",
       "      <td>332</td>\n",
       "      <td>6075.6</td>\n",
       "      <td>822</td>\n",
       "      <td>8.51</td>\n",
       "    </tr>\n",
       "    <tr>\n",
       "      <td>7</td>\n",
       "      <td>CAPE</td>\n",
       "      <td>JG110</td>\n",
       "      <td>2M</td>\n",
       "      <td>11.0</td>\n",
       "      <td>APPLE GOLDEN DELICIOUS</td>\n",
       "      <td>2020-04-14</td>\n",
       "      <td>50.0</td>\n",
       "      <td>50.0</td>\n",
       "      <td>16000.0</td>\n",
       "      <td>320</td>\n",
       "      <td>3520.0</td>\n",
       "      <td>0</td>\n",
       "      <td>4.55</td>\n",
       "    </tr>\n",
       "    <tr>\n",
       "      <td>24</td>\n",
       "      <td>W.CAPE-BERGRIVER ETC</td>\n",
       "      <td>JE090</td>\n",
       "      <td>2S</td>\n",
       "      <td>9.0</td>\n",
       "      <td>APPLE GOLDEN DELICIOUS</td>\n",
       "      <td>2020-04-16</td>\n",
       "      <td>55.0</td>\n",
       "      <td>55.0</td>\n",
       "      <td>990.0</td>\n",
       "      <td>18</td>\n",
       "      <td>162.0</td>\n",
       "      <td>1506</td>\n",
       "      <td>6.11</td>\n",
       "    </tr>\n",
       "    <tr>\n",
       "      <td>40</td>\n",
       "      <td>CAPE</td>\n",
       "      <td>M4183</td>\n",
       "      <td>1S</td>\n",
       "      <td>18.3</td>\n",
       "      <td>APPLE GOLDEN DELICIOUS</td>\n",
       "      <td>2020-05-04</td>\n",
       "      <td>80.0</td>\n",
       "      <td>120.0</td>\n",
       "      <td>32020.0</td>\n",
       "      <td>388</td>\n",
       "      <td>7100.4</td>\n",
       "      <td>443</td>\n",
       "      <td>4.51</td>\n",
       "    </tr>\n",
       "    <tr>\n",
       "      <td>69</td>\n",
       "      <td>EASTERN CAPE</td>\n",
       "      <td>IA400</td>\n",
       "      <td>1S</td>\n",
       "      <td>400.0</td>\n",
       "      <td>APPLE GOLDEN DELICIOUS</td>\n",
       "      <td>2020-09-28</td>\n",
       "      <td>1800.0</td>\n",
       "      <td>1800.0</td>\n",
       "      <td>1800.0</td>\n",
       "      <td>1</td>\n",
       "      <td>400.0</td>\n",
       "      <td>2</td>\n",
       "      <td>4.50</td>\n",
       "    </tr>\n",
       "  </tbody>\n",
       "</table>\n",
       "</div>"
      ],
      "text/plain": [
       "                Province Container Size_Grade  Weight_Kg  \\\n",
       "1                   CAPE     M4183         1L       18.3   \n",
       "7                   CAPE     JG110         2M       11.0   \n",
       "24  W.CAPE-BERGRIVER ETC     JE090         2S        9.0   \n",
       "40                  CAPE     M4183         1S       18.3   \n",
       "69          EASTERN CAPE     IA400         1S      400.0   \n",
       "\n",
       "               Commodities        Date  Low_Price  High_Price  Sales_Total  \\\n",
       "1   APPLE GOLDEN DELICIOUS  2020-09-09      150.0       170.0      51710.0   \n",
       "7   APPLE GOLDEN DELICIOUS  2020-04-14       50.0        50.0      16000.0   \n",
       "24  APPLE GOLDEN DELICIOUS  2020-04-16       55.0        55.0        990.0   \n",
       "40  APPLE GOLDEN DELICIOUS  2020-05-04       80.0       120.0      32020.0   \n",
       "69  APPLE GOLDEN DELICIOUS  2020-09-28     1800.0      1800.0       1800.0   \n",
       "\n",
       "    Total_Qty_Sold  Total_Kg_Sold  Stock_On_Hand  avg_price_per_kg  \n",
       "1              332         6075.6            822              8.51  \n",
       "7              320         3520.0              0              4.55  \n",
       "24              18          162.0           1506              6.11  \n",
       "40             388         7100.4            443              4.51  \n",
       "69               1          400.0              2              4.50  "
      ]
     },
     "execution_count": 6,
     "metadata": {},
     "output_type": "execute_result"
    }
   ],
   "source": [
    "train_df.head()"
   ]
  },
  {
   "cell_type": "code",
   "execution_count": 7,
   "metadata": {},
   "outputs": [
    {
     "data": {
      "text/html": [
       "<div>\n",
       "<style scoped>\n",
       "    .dataframe tbody tr th:only-of-type {\n",
       "        vertical-align: middle;\n",
       "    }\n",
       "\n",
       "    .dataframe tbody tr th {\n",
       "        vertical-align: top;\n",
       "    }\n",
       "\n",
       "    .dataframe thead th {\n",
       "        text-align: right;\n",
       "    }\n",
       "</style>\n",
       "<table border=\"1\" class=\"dataframe\">\n",
       "  <thead>\n",
       "    <tr style=\"text-align: right;\">\n",
       "      <th></th>\n",
       "      <th>Province</th>\n",
       "      <th>Container</th>\n",
       "      <th>Size_Grade</th>\n",
       "      <th>Weight_Kg</th>\n",
       "      <th>Commodities</th>\n",
       "      <th>Date</th>\n",
       "      <th>Low_Price</th>\n",
       "      <th>High_Price</th>\n",
       "      <th>Sales_Total</th>\n",
       "      <th>Total_Qty_Sold</th>\n",
       "      <th>Total_Kg_Sold</th>\n",
       "      <th>Stock_On_Hand</th>\n",
       "    </tr>\n",
       "  </thead>\n",
       "  <tbody>\n",
       "    <tr>\n",
       "      <td>0</td>\n",
       "      <td>W.CAPE-BERGRIVER ETC</td>\n",
       "      <td>EC120</td>\n",
       "      <td>1M</td>\n",
       "      <td>12.0</td>\n",
       "      <td>APPLE GOLDEN DELICIOUS</td>\n",
       "      <td>2020-07-09</td>\n",
       "      <td>128.0</td>\n",
       "      <td>136.0</td>\n",
       "      <td>5008.0</td>\n",
       "      <td>38</td>\n",
       "      <td>456.0</td>\n",
       "      <td>0</td>\n",
       "    </tr>\n",
       "    <tr>\n",
       "      <td>1</td>\n",
       "      <td>W.CAPE-BERGRIVER ETC</td>\n",
       "      <td>M4183</td>\n",
       "      <td>1X</td>\n",
       "      <td>18.3</td>\n",
       "      <td>APPLE GOLDEN DELICIOUS</td>\n",
       "      <td>2020-01-20</td>\n",
       "      <td>220.0</td>\n",
       "      <td>220.0</td>\n",
       "      <td>1760.0</td>\n",
       "      <td>8</td>\n",
       "      <td>146.4</td>\n",
       "      <td>2</td>\n",
       "    </tr>\n",
       "    <tr>\n",
       "      <td>2</td>\n",
       "      <td>W.CAPE-BERGRIVER ETC</td>\n",
       "      <td>EC120</td>\n",
       "      <td>1S</td>\n",
       "      <td>12.0</td>\n",
       "      <td>APPLE GOLDEN DELICIOUS</td>\n",
       "      <td>2020-08-19</td>\n",
       "      <td>120.0</td>\n",
       "      <td>120.0</td>\n",
       "      <td>720.0</td>\n",
       "      <td>6</td>\n",
       "      <td>72.0</td>\n",
       "      <td>45</td>\n",
       "    </tr>\n",
       "    <tr>\n",
       "      <td>3</td>\n",
       "      <td>W.CAPE-BERGRIVER ETC</td>\n",
       "      <td>M4183</td>\n",
       "      <td>1M</td>\n",
       "      <td>18.3</td>\n",
       "      <td>APPLE GOLDEN DELICIOUS</td>\n",
       "      <td>2020-05-06</td>\n",
       "      <td>160.0</td>\n",
       "      <td>160.0</td>\n",
       "      <td>160.0</td>\n",
       "      <td>1</td>\n",
       "      <td>18.3</td>\n",
       "      <td>8</td>\n",
       "    </tr>\n",
       "    <tr>\n",
       "      <td>4</td>\n",
       "      <td>W.CAPE-BERGRIVER ETC</td>\n",
       "      <td>M4183</td>\n",
       "      <td>1L</td>\n",
       "      <td>18.3</td>\n",
       "      <td>APPLE GOLDEN DELICIOUS</td>\n",
       "      <td>2020-05-04</td>\n",
       "      <td>140.0</td>\n",
       "      <td>160.0</td>\n",
       "      <td>14140.0</td>\n",
       "      <td>100</td>\n",
       "      <td>1830.0</td>\n",
       "      <td>19</td>\n",
       "    </tr>\n",
       "  </tbody>\n",
       "</table>\n",
       "</div>"
      ],
      "text/plain": [
       "               Province Container Size_Grade  Weight_Kg  \\\n",
       "0  W.CAPE-BERGRIVER ETC     EC120         1M       12.0   \n",
       "1  W.CAPE-BERGRIVER ETC     M4183         1X       18.3   \n",
       "2  W.CAPE-BERGRIVER ETC     EC120         1S       12.0   \n",
       "3  W.CAPE-BERGRIVER ETC     M4183         1M       18.3   \n",
       "4  W.CAPE-BERGRIVER ETC     M4183         1L       18.3   \n",
       "\n",
       "              Commodities        Date  Low_Price  High_Price  Sales_Total  \\\n",
       "0  APPLE GOLDEN DELICIOUS  2020-07-09      128.0       136.0       5008.0   \n",
       "1  APPLE GOLDEN DELICIOUS  2020-01-20      220.0       220.0       1760.0   \n",
       "2  APPLE GOLDEN DELICIOUS  2020-08-19      120.0       120.0        720.0   \n",
       "3  APPLE GOLDEN DELICIOUS  2020-05-06      160.0       160.0        160.0   \n",
       "4  APPLE GOLDEN DELICIOUS  2020-05-04      140.0       160.0      14140.0   \n",
       "\n",
       "   Total_Qty_Sold  Total_Kg_Sold  Stock_On_Hand  \n",
       "0              38          456.0              0  \n",
       "1               8          146.4              2  \n",
       "2               6           72.0             45  \n",
       "3               1           18.3              8  \n",
       "4             100         1830.0             19  "
      ]
     },
     "execution_count": 7,
     "metadata": {},
     "output_type": "execute_result"
    }
   ],
   "source": [
    "test_df.head() #Check the test set"
   ]
  },
  {
   "cell_type": "code",
   "execution_count": 8,
   "metadata": {},
   "outputs": [
    {
     "name": "stdout",
     "output_type": "stream",
     "text": [
      "We have 1952 training rows and 13 trianing columns.\n"
     ]
    }
   ],
   "source": [
    "print('We have {} training rows and {} trianing columns.'.format(train_df.shape[0], train_df.shape[1]))"
   ]
  },
  {
   "cell_type": "markdown",
   "metadata": {},
   "source": [
    "From the above dataframe we can't tell which columns has null values, so we will use the Pandas library (info) to help check how many null values, the datatype and the columns name for those dataframe"
   ]
  },
  {
   "cell_type": "code",
   "execution_count": 9,
   "metadata": {},
   "outputs": [
    {
     "name": "stdout",
     "output_type": "stream",
     "text": [
      "<class 'pandas.core.frame.DataFrame'>\n",
      "Int64Index: 1952 entries, 1 to 64310\n",
      "Data columns (total 13 columns):\n",
      "Province            1952 non-null object\n",
      "Container           1952 non-null object\n",
      "Size_Grade          1952 non-null object\n",
      "Weight_Kg           1952 non-null float64\n",
      "Commodities         1952 non-null object\n",
      "Date                1952 non-null object\n",
      "Low_Price           1952 non-null float64\n",
      "High_Price          1952 non-null float64\n",
      "Sales_Total         1952 non-null float64\n",
      "Total_Qty_Sold      1952 non-null int64\n",
      "Total_Kg_Sold       1952 non-null float64\n",
      "Stock_On_Hand       1952 non-null int64\n",
      "avg_price_per_kg    1952 non-null float64\n",
      "dtypes: float64(6), int64(2), object(5)\n",
      "memory usage: 213.5+ KB\n"
     ]
    }
   ],
   "source": [
    "train_df.info()"
   ]
  },
  {
   "cell_type": "markdown",
   "metadata": {},
   "source": [
    "We will check the shape of our data"
   ]
  },
  {
   "cell_type": "code",
   "execution_count": 11,
   "metadata": {},
   "outputs": [
    {
     "data": {
      "text/plain": [
       "((1952, 13), (685, 12))"
      ]
     },
     "execution_count": 11,
     "metadata": {},
     "output_type": "execute_result"
    }
   ],
   "source": [
    "train_df.shape, test_df.shape"
   ]
  },
  {
   "cell_type": "markdown",
   "metadata": {},
   "source": [
    "Table for summary statistics for our data (Mean, min, Max, Std, count, etc)"
   ]
  },
  {
   "cell_type": "code",
   "execution_count": 12,
   "metadata": {},
   "outputs": [
    {
     "data": {
      "text/html": [
       "<div>\n",
       "<style scoped>\n",
       "    .dataframe tbody tr th:only-of-type {\n",
       "        vertical-align: middle;\n",
       "    }\n",
       "\n",
       "    .dataframe tbody tr th {\n",
       "        vertical-align: top;\n",
       "    }\n",
       "\n",
       "    .dataframe thead th {\n",
       "        text-align: right;\n",
       "    }\n",
       "</style>\n",
       "<table border=\"1\" class=\"dataframe\">\n",
       "  <thead>\n",
       "    <tr style=\"text-align: right;\">\n",
       "      <th></th>\n",
       "      <th>count</th>\n",
       "      <th>mean</th>\n",
       "      <th>std</th>\n",
       "      <th>min</th>\n",
       "      <th>25%</th>\n",
       "      <th>50%</th>\n",
       "      <th>75%</th>\n",
       "      <th>max</th>\n",
       "    </tr>\n",
       "  </thead>\n",
       "  <tbody>\n",
       "    <tr>\n",
       "      <td>Weight_Kg</td>\n",
       "      <td>1952.0</td>\n",
       "      <td>40.460912</td>\n",
       "      <td>99.655169</td>\n",
       "      <td>3.00</td>\n",
       "      <td>9.00</td>\n",
       "      <td>12.00</td>\n",
       "      <td>18.300</td>\n",
       "      <td>400.00</td>\n",
       "    </tr>\n",
       "    <tr>\n",
       "      <td>Low_Price</td>\n",
       "      <td>1952.0</td>\n",
       "      <td>174.307377</td>\n",
       "      <td>373.553578</td>\n",
       "      <td>2.00</td>\n",
       "      <td>50.00</td>\n",
       "      <td>80.00</td>\n",
       "      <td>127.250</td>\n",
       "      <td>2300.00</td>\n",
       "    </tr>\n",
       "    <tr>\n",
       "      <td>High_Price</td>\n",
       "      <td>1952.0</td>\n",
       "      <td>215.648053</td>\n",
       "      <td>433.546159</td>\n",
       "      <td>5.00</td>\n",
       "      <td>60.00</td>\n",
       "      <td>108.00</td>\n",
       "      <td>160.000</td>\n",
       "      <td>3300.00</td>\n",
       "    </tr>\n",
       "    <tr>\n",
       "      <td>Sales_Total</td>\n",
       "      <td>1952.0</td>\n",
       "      <td>20053.533811</td>\n",
       "      <td>39005.069445</td>\n",
       "      <td>5.00</td>\n",
       "      <td>1325.00</td>\n",
       "      <td>5495.00</td>\n",
       "      <td>21082.500</td>\n",
       "      <td>369464.00</td>\n",
       "    </tr>\n",
       "    <tr>\n",
       "      <td>Total_Qty_Sold</td>\n",
       "      <td>1952.0</td>\n",
       "      <td>174.510758</td>\n",
       "      <td>308.810797</td>\n",
       "      <td>1.00</td>\n",
       "      <td>12.00</td>\n",
       "      <td>64.00</td>\n",
       "      <td>200.000</td>\n",
       "      <td>4237.00</td>\n",
       "    </tr>\n",
       "    <tr>\n",
       "      <td>Total_Kg_Sold</td>\n",
       "      <td>1952.0</td>\n",
       "      <td>2960.176332</td>\n",
       "      <td>6097.416527</td>\n",
       "      <td>3.00</td>\n",
       "      <td>219.60</td>\n",
       "      <td>853.50</td>\n",
       "      <td>3093.525</td>\n",
       "      <td>74000.00</td>\n",
       "    </tr>\n",
       "    <tr>\n",
       "      <td>Stock_On_Hand</td>\n",
       "      <td>1952.0</td>\n",
       "      <td>408.393955</td>\n",
       "      <td>724.450582</td>\n",
       "      <td>0.00</td>\n",
       "      <td>9.00</td>\n",
       "      <td>126.50</td>\n",
       "      <td>468.000</td>\n",
       "      <td>6400.00</td>\n",
       "    </tr>\n",
       "    <tr>\n",
       "      <td>avg_price_per_kg</td>\n",
       "      <td>1952.0</td>\n",
       "      <td>6.778893</td>\n",
       "      <td>2.248744</td>\n",
       "      <td>0.25</td>\n",
       "      <td>5.46</td>\n",
       "      <td>6.67</td>\n",
       "      <td>8.280</td>\n",
       "      <td>21.24</td>\n",
       "    </tr>\n",
       "  </tbody>\n",
       "</table>\n",
       "</div>"
      ],
      "text/plain": [
       "                   count          mean           std   min      25%      50%  \\\n",
       "Weight_Kg         1952.0     40.460912     99.655169  3.00     9.00    12.00   \n",
       "Low_Price         1952.0    174.307377    373.553578  2.00    50.00    80.00   \n",
       "High_Price        1952.0    215.648053    433.546159  5.00    60.00   108.00   \n",
       "Sales_Total       1952.0  20053.533811  39005.069445  5.00  1325.00  5495.00   \n",
       "Total_Qty_Sold    1952.0    174.510758    308.810797  1.00    12.00    64.00   \n",
       "Total_Kg_Sold     1952.0   2960.176332   6097.416527  3.00   219.60   853.50   \n",
       "Stock_On_Hand     1952.0    408.393955    724.450582  0.00     9.00   126.50   \n",
       "avg_price_per_kg  1952.0      6.778893      2.248744  0.25     5.46     6.67   \n",
       "\n",
       "                        75%        max  \n",
       "Weight_Kg            18.300     400.00  \n",
       "Low_Price           127.250    2300.00  \n",
       "High_Price          160.000    3300.00  \n",
       "Sales_Total       21082.500  369464.00  \n",
       "Total_Qty_Sold      200.000    4237.00  \n",
       "Total_Kg_Sold      3093.525   74000.00  \n",
       "Stock_On_Hand       468.000    6400.00  \n",
       "avg_price_per_kg      8.280      21.24  "
      ]
     },
     "execution_count": 12,
     "metadata": {},
     "output_type": "execute_result"
    }
   ],
   "source": [
    "# Exploring the spread of numeric variables within the dataset\n",
    "train_df.describe().T"
   ]
  },
  {
   "cell_type": "markdown",
   "metadata": {},
   "source": [
    "## 1 Future Selection "
   ]
  },
  {
   "cell_type": "markdown",
   "metadata": {},
   "source": [
    "Feature selection will help us choose the most relevant variable, in this project we have used Correlection to help use select features that are highly correleted to the target variable(have a relationship with the target), help with removing variables looking at their relationship with the target.\n",
    "But before we do that we check the distribution of our target variable."
   ]
  },
  {
   "cell_type": "markdown",
   "metadata": {},
   "source": [
    "We will look at the distribution of our target variable which is the Avarage Price Per KG"
   ]
  },
  {
   "cell_type": "code",
   "execution_count": 13,
   "metadata": {},
   "outputs": [
    {
     "data": {
      "text/plain": [
       "<matplotlib.axes._subplots.AxesSubplot at 0x2a52c3d8e08>"
      ]
     },
     "execution_count": 13,
     "metadata": {},
     "output_type": "execute_result"
    },
    {
     "data": {
      "image/png": "[encoded data removed]",
      "text/plain": [
       "<Figure size 432x288 with 1 Axes>"
      ]
     },
     "metadata": {
      "needs_background": "light"
     },
     "output_type": "display_data"
    }
   ],
   "source": [
    "# target variable distribution\n",
    "sns.distplot(train_df['avg_price_per_kg'],kde=True)"
   ]
  },
  {
   "cell_type": "markdown",
   "metadata": {},
   "source": [
    "Our target variable is symmetrical distributed "
   ]
  },
  {
   "cell_type": "markdown",
   "metadata": {},
   "source": [
    "_______________________________________________________________________________________________________________"
   ]
  },
  {
   "cell_type": "code",
   "execution_count": 14,
   "metadata": {},
   "outputs": [
    {
     "data": {
      "text/plain": [
       "Weight_Kg           3.328254\n",
       "Low_Price           4.222672\n",
       "High_Price          3.828819\n",
       "Sales_Total         4.250317\n",
       "Total_Qty_Sold      4.445169\n",
       "Total_Kg_Sold       5.529586\n",
       "Stock_On_Hand       3.391815\n",
       "avg_price_per_kg    0.082452\n",
       "dtype: float64"
      ]
     },
     "execution_count": 14,
     "metadata": {},
     "output_type": "execute_result"
    }
   ],
   "source": [
    "# Looking at the skewnwss or symmetry of our dataest\n",
    "train_df.skew()"
   ]
  },
  {
   "cell_type": "markdown",
   "metadata": {},
   "source": [
    "Secondly we will check for outliers"
   ]
  },
  {
   "cell_type": "code",
   "execution_count": 15,
   "metadata": {},
   "outputs": [
    {
     "data": {
      "text/plain": [
       "Weight_Kg            9.109698\n",
       "Low_Price           17.073369\n",
       "High_Price          13.630768\n",
       "Sales_Total         24.200524\n",
       "Total_Qty_Sold      32.338123\n",
       "Total_Kg_Sold       45.153801\n",
       "Stock_On_Hand       14.671224\n",
       "avg_price_per_kg     1.042921\n",
       "dtype: float64"
      ]
     },
     "execution_count": 15,
     "metadata": {},
     "output_type": "execute_result"
    }
   ],
   "source": [
    "# Checking for outliers in our dataset.\n",
    "train_df.kurtosis() #method for checking outliers"
   ]
  },
  {
   "cell_type": "markdown",
   "metadata": {},
   "source": [
    "The Kurtosis method help us determine the outliers, any value higher than 3 is an outlier, all our above numeric independent variables have large number of outliers"
   ]
  },
  {
   "cell_type": "markdown",
   "metadata": {},
   "source": [
    "________________________________________________________________________________________________________________________"
   ]
  },
  {
   "cell_type": "markdown",
   "metadata": {},
   "source": [
    "### Outliers Treatment"
   ]
  },
  {
   "cell_type": "markdown",
   "metadata": {},
   "source": [
    "Firstly we checked for outliers in our numeric training dataset., we used graphs to help us detect outliers, then we used the z-score method to remove outliers.\n",
    "The outliers influence the shapeor the slope of the line, the treatment of outliers is very important and ahould be done.\n"
   ]
  },
  {
   "cell_type": "markdown",
   "metadata": {},
   "source": [
    "We used Histogram to check for outliers"
   ]
  },
  {
   "cell_type": "code",
   "execution_count": 26,
   "metadata": {},
   "outputs": [
    {
     "data": {
      "image/png": "[encoded data removed]",
      "text/plain": [
       "<Figure size 720x720 with 9 Axes>"
      ]
     },
     "metadata": {
      "needs_background": "light"
     },
     "output_type": "display_data"
    }
   ],
   "source": [
    "df = ['Weight_Kg', 'Low_Price', 'High_Price', 'Sales_Total', 'Total_Qty_Sold', 'Total_Kg_Sold', 'Stock_On_Hand'] #list of numeric variables\n",
    "train_df[df].hist(figsize=(10,10), color = 'navy'); #assign the list to the dataframe and plot a histogram with 10,10 figure size"
   ]
  },
  {
   "cell_type": "markdown",
   "metadata": {},
   "source": [
    "From the above graphs you can see that all our plotted figures has outliers, beside the plots, we also saw with Kurtosis method above that we have too much outliers in our numeric dataset."
   ]
  },
  {
   "cell_type": "markdown",
   "metadata": {},
   "source": [
    "--------------------------------------------------------------------"
   ]
  },
  {
   "cell_type": "markdown",
   "metadata": {},
   "source": [
    "Here we will use the Z-score method to remove outliers from our dataset."
   ]
  },
  {
   "cell_type": "code",
   "execution_count": 19,
   "metadata": {},
   "outputs": [],
   "source": [
    "#calculate z\n",
    "threshold = 3 #used the threshold of 3\n",
    "lowPrice_z = np.abs(stats.zscore(train_df.Low_Price))\n",
    "lowPrice_abs_z_scores = np.abs(lowPrice_z)\n",
    "df1 = train_df[lowPrice_abs_z_scores < threshold]\n",
    "\n",
    "highPrice_z = np.abs(stats.zscore(df1.High_Price))\n",
    "highPrice_abs_z_scores = np.abs(highPrice_z)                                \n",
    "df2 = df1[highPrice_abs_z_scores < threshold]\n",
    "\n",
    "weight_z = np.abs(stats.zscore(df2.Weight_Kg))\n",
    "weight_abs_z_scores = np.abs(weight_z) \n",
    "df3 = df2[weight_abs_z_scores < threshold]\n",
    "\n",
    "salesTotal_z = np.abs(stats.zscore(df3.Sales_Total))\n",
    "salesTotal_abs_z_scores = np.abs(salesTotal_z) \n",
    "df4 = df3[salesTotal_abs_z_scores < threshold]\n",
    "\n",
    "totalQtySold_z = np.abs(stats.zscore(df4.Total_Qty_Sold))\n",
    "totalQtySold_abs_z_scores = np.abs(totalQtySold_z) \n",
    "df5 = df4[totalQtySold_abs_z_scores < threshold]\n",
    "\n",
    "totalKgSold_z = np.abs(stats.zscore(df5.Total_Kg_Sold))\n",
    "totalKgSold_abs_z_scores = np.abs(totalKgSold_z)\n",
    "df6 = df5[totalKgSold_abs_z_scores < threshold]\n",
    "\n",
    "stockOnHand_z = np.abs(stats.zscore(df6.Stock_On_Hand))\n",
    "stockOnHand_abs_z_scores = np.abs(stockOnHand_z)\n",
    "df7 = df6[stockOnHand_abs_z_scores < threshold]\n",
    "\n",
    "avgPricePerKg_z = np.abs(stats.zscore(df7.avg_price_per_kg))\n",
    "avgPricePerKg_abs_z_scores = np.abs(avgPricePerKg_z)\n",
    "trainData_df = df7[avgPricePerKg_abs_z_scores < threshold]"
   ]
  },
  {
   "cell_type": "markdown",
   "metadata": {},
   "source": [
    "____________________________________________________________________________________________________________________________"
   ]
  },
  {
   "cell_type": "markdown",
   "metadata": {},
   "source": [
    "Now that we have removed outliers we used scatter plots to check for obvious relationships with the target variable, we check for linearity between the predictor variable and the target variable. The scatter plot that shows no linear relationship betwen the predictor variable and the target variable will be of no use as the model will be unappropiate."
   ]
  },
  {
   "cell_type": "code",
   "execution_count": 27,
   "metadata": {},
   "outputs": [
    {
     "data": {
      "image/png": "[encoded data removed]",
      "text/plain": [
       "<Figure size 1008x432 with 12 Axes>"
      ]
     },
     "metadata": {
      "needs_background": "light"
     },
     "output_type": "display_data"
    }
   ],
   "source": [
    "fig, ax = plt.subplots(2,6, figsize=(14,6),)#plot fig\n",
    "fig.subplots_adjust(hspace = 0.5, wspace=.2) #plot weight and height space\n",
    "ax = ax.ravel()\n",
    "\n",
    "for i, column in enumerate(trainData_df.columns): #looping over the columns of traindata_df dataset\n",
    "    ax[i-1].set_title(\"{} vs. Avg Price/kg\".format(column),fontsize=8) #set title\n",
    "    ax[i-1].scatter(x=trainData_df[column],y=trainData_df['avg_price_per_kg'],color='navy',edgecolor='k') #plot type & variables\n",
    "\n",
    "fig.tight_layout(pad=3)"
   ]
  },
  {
   "cell_type": "markdown",
   "metadata": {},
   "source": [
    "From the above scatter plot figures, we can conclude that Commodities has no relationship with the target variable, so we will remove it from our dataset. But atleast half of our plots shows a bit of relationship that we will explore further."
   ]
  },
  {
   "cell_type": "code",
   "execution_count": 31,
   "metadata": {},
   "outputs": [
    {
     "data": {
      "text/plain": [
       "((1643, 12), (685, 12))"
      ]
     },
     "execution_count": 31,
     "metadata": {},
     "output_type": "execute_result"
    }
   ],
   "source": [
    "trainData_df.shape, test_df.shape"
   ]
  },
  {
   "cell_type": "markdown",
   "metadata": {},
   "source": [
    "## 2 Dummy Variables"
   ]
  },
  {
   "cell_type": "markdown",
   "metadata": {},
   "source": [
    "### Preprocessing"
   ]
  },
  {
   "cell_type": "code",
   "execution_count": 39,
   "metadata": {},
   "outputs": [
    {
     "data": {
      "text/html": [
       "<div>\n",
       "<style scoped>\n",
       "    .dataframe tbody tr th:only-of-type {\n",
       "        vertical-align: middle;\n",
       "    }\n",
       "\n",
       "    .dataframe tbody tr th {\n",
       "        vertical-align: top;\n",
       "    }\n",
       "\n",
       "    .dataframe thead th {\n",
       "        text-align: right;\n",
       "    }\n",
       "</style>\n",
       "<table border=\"1\" class=\"dataframe\">\n",
       "  <thead>\n",
       "    <tr style=\"text-align: right;\">\n",
       "      <th></th>\n",
       "      <th>Weight_Kg</th>\n",
       "      <th>Low_Price</th>\n",
       "      <th>High_Price</th>\n",
       "      <th>Sales_Total</th>\n",
       "      <th>Total_Qty_Sold</th>\n",
       "      <th>Total_Kg_Sold</th>\n",
       "      <th>Stock_On_Hand</th>\n",
       "      <th>avg_price_per_kg</th>\n",
       "      <th>Province_CAPE</th>\n",
       "      <th>Province_EASTERN_CAPE</th>\n",
       "      <th>...</th>\n",
       "      <th>Date_2020-09-07</th>\n",
       "      <th>Date_2020-09-09</th>\n",
       "      <th>Date_2020-09-16</th>\n",
       "      <th>Date_2020-09-17</th>\n",
       "      <th>Date_2020-09-19</th>\n",
       "      <th>Date_2020-09-21</th>\n",
       "      <th>Date_2020-09-23</th>\n",
       "      <th>Date_2020-09-28</th>\n",
       "      <th>Date_2020-10-01</th>\n",
       "      <th>Date_2020-10-03</th>\n",
       "    </tr>\n",
       "  </thead>\n",
       "  <tbody>\n",
       "    <tr>\n",
       "      <td>1</td>\n",
       "      <td>18.3</td>\n",
       "      <td>150.0</td>\n",
       "      <td>170.0</td>\n",
       "      <td>51710.0</td>\n",
       "      <td>332</td>\n",
       "      <td>6075.6</td>\n",
       "      <td>822</td>\n",
       "      <td>8.51</td>\n",
       "      <td>1</td>\n",
       "      <td>0</td>\n",
       "      <td>...</td>\n",
       "      <td>0</td>\n",
       "      <td>1</td>\n",
       "      <td>0</td>\n",
       "      <td>0</td>\n",
       "      <td>0</td>\n",
       "      <td>0</td>\n",
       "      <td>0</td>\n",
       "      <td>0</td>\n",
       "      <td>0</td>\n",
       "      <td>0</td>\n",
       "    </tr>\n",
       "    <tr>\n",
       "      <td>7</td>\n",
       "      <td>11.0</td>\n",
       "      <td>50.0</td>\n",
       "      <td>50.0</td>\n",
       "      <td>16000.0</td>\n",
       "      <td>320</td>\n",
       "      <td>3520.0</td>\n",
       "      <td>0</td>\n",
       "      <td>4.55</td>\n",
       "      <td>1</td>\n",
       "      <td>0</td>\n",
       "      <td>...</td>\n",
       "      <td>0</td>\n",
       "      <td>0</td>\n",
       "      <td>0</td>\n",
       "      <td>0</td>\n",
       "      <td>0</td>\n",
       "      <td>0</td>\n",
       "      <td>0</td>\n",
       "      <td>0</td>\n",
       "      <td>0</td>\n",
       "      <td>0</td>\n",
       "    </tr>\n",
       "    <tr>\n",
       "      <td>24</td>\n",
       "      <td>9.0</td>\n",
       "      <td>55.0</td>\n",
       "      <td>55.0</td>\n",
       "      <td>990.0</td>\n",
       "      <td>18</td>\n",
       "      <td>162.0</td>\n",
       "      <td>1506</td>\n",
       "      <td>6.11</td>\n",
       "      <td>0</td>\n",
       "      <td>0</td>\n",
       "      <td>...</td>\n",
       "      <td>0</td>\n",
       "      <td>0</td>\n",
       "      <td>0</td>\n",
       "      <td>0</td>\n",
       "      <td>0</td>\n",
       "      <td>0</td>\n",
       "      <td>0</td>\n",
       "      <td>0</td>\n",
       "      <td>0</td>\n",
       "      <td>0</td>\n",
       "    </tr>\n",
       "    <tr>\n",
       "      <td>40</td>\n",
       "      <td>18.3</td>\n",
       "      <td>80.0</td>\n",
       "      <td>120.0</td>\n",
       "      <td>32020.0</td>\n",
       "      <td>388</td>\n",
       "      <td>7100.4</td>\n",
       "      <td>443</td>\n",
       "      <td>4.51</td>\n",
       "      <td>1</td>\n",
       "      <td>0</td>\n",
       "      <td>...</td>\n",
       "      <td>0</td>\n",
       "      <td>0</td>\n",
       "      <td>0</td>\n",
       "      <td>0</td>\n",
       "      <td>0</td>\n",
       "      <td>0</td>\n",
       "      <td>0</td>\n",
       "      <td>0</td>\n",
       "      <td>0</td>\n",
       "      <td>0</td>\n",
       "    </tr>\n",
       "    <tr>\n",
       "      <td>80</td>\n",
       "      <td>9.0</td>\n",
       "      <td>55.0</td>\n",
       "      <td>55.0</td>\n",
       "      <td>4840.0</td>\n",
       "      <td>88</td>\n",
       "      <td>792.0</td>\n",
       "      <td>181</td>\n",
       "      <td>6.11</td>\n",
       "      <td>1</td>\n",
       "      <td>0</td>\n",
       "      <td>...</td>\n",
       "      <td>0</td>\n",
       "      <td>0</td>\n",
       "      <td>0</td>\n",
       "      <td>0</td>\n",
       "      <td>0</td>\n",
       "      <td>0</td>\n",
       "      <td>0</td>\n",
       "      <td>0</td>\n",
       "      <td>0</td>\n",
       "      <td>0</td>\n",
       "    </tr>\n",
       "  </tbody>\n",
       "</table>\n",
       "<p>5 rows × 182 columns</p>\n",
       "</div>"
      ],
      "text/plain": [
       "    Weight_Kg  Low_Price  High_Price  Sales_Total  Total_Qty_Sold  \\\n",
       "1        18.3      150.0       170.0      51710.0             332   \n",
       "7        11.0       50.0        50.0      16000.0             320   \n",
       "24        9.0       55.0        55.0        990.0              18   \n",
       "40       18.3       80.0       120.0      32020.0             388   \n",
       "80        9.0       55.0        55.0       4840.0              88   \n",
       "\n",
       "    Total_Kg_Sold  Stock_On_Hand  avg_price_per_kg  Province_CAPE  \\\n",
       "1          6075.6            822              8.51              1   \n",
       "7          3520.0              0              4.55              1   \n",
       "24          162.0           1506              6.11              0   \n",
       "40         7100.4            443              4.51              1   \n",
       "80          792.0            181              6.11              1   \n",
       "\n",
       "    Province_EASTERN_CAPE  ...  Date_2020-09-07  Date_2020-09-09  \\\n",
       "1                       0  ...                0                1   \n",
       "7                       0  ...                0                0   \n",
       "24                      0  ...                0                0   \n",
       "40                      0  ...                0                0   \n",
       "80                      0  ...                0                0   \n",
       "\n",
       "    Date_2020-09-16  Date_2020-09-17  Date_2020-09-19  Date_2020-09-21  \\\n",
       "1                 0                0                0                0   \n",
       "7                 0                0                0                0   \n",
       "24                0                0                0                0   \n",
       "40                0                0                0                0   \n",
       "80                0                0                0                0   \n",
       "\n",
       "    Date_2020-09-23  Date_2020-09-28  Date_2020-10-01  Date_2020-10-03  \n",
       "1                 0                0                0                0  \n",
       "7                 0                0                0                0  \n",
       "24                0                0                0                0  \n",
       "40                0                0                0                0  \n",
       "80                0                0                0                0  \n",
       "\n",
       "[5 rows x 182 columns]"
      ]
     },
     "execution_count": 39,
     "metadata": {},
     "output_type": "execute_result"
    }
   ],
   "source": [
    "#For The TRAIN DATA (Train_df)\n",
    "train_df_d = pd.get_dummies(trainData_df) #dummy variable\n",
    "\n",
    "train_df_d.columns = [col.replace(\" \",\"_\") for col in train_df_d.columns] #replacing space with -\n",
    "#train_df_d.drop(['Commodities_APPLE_GOLDEN_DELICIOUS'], axis= 1, inplace =True) #removing Commodities\n",
    "\n",
    "train_df_d.head() "
   ]
  },
  {
   "cell_type": "code",
   "execution_count": 40,
   "metadata": {},
   "outputs": [
    {
     "data": {
      "text/html": [
       "<div>\n",
       "<style scoped>\n",
       "    .dataframe tbody tr th:only-of-type {\n",
       "        vertical-align: middle;\n",
       "    }\n",
       "\n",
       "    .dataframe tbody tr th {\n",
       "        vertical-align: top;\n",
       "    }\n",
       "\n",
       "    .dataframe thead th {\n",
       "        text-align: right;\n",
       "    }\n",
       "</style>\n",
       "<table border=\"1\" class=\"dataframe\">\n",
       "  <thead>\n",
       "    <tr style=\"text-align: right;\">\n",
       "      <th></th>\n",
       "      <th>Weight_Kg</th>\n",
       "      <th>Low_Price</th>\n",
       "      <th>High_Price</th>\n",
       "      <th>Sales_Total</th>\n",
       "      <th>Total_Qty_Sold</th>\n",
       "      <th>Total_Kg_Sold</th>\n",
       "      <th>Stock_On_Hand</th>\n",
       "      <th>Province_CAPE</th>\n",
       "      <th>Province_EASTERN_CAPE</th>\n",
       "      <th>Province_NATAL</th>\n",
       "      <th>...</th>\n",
       "      <th>Date_2020-09-03</th>\n",
       "      <th>Date_2020-09-07</th>\n",
       "      <th>Date_2020-09-09</th>\n",
       "      <th>Date_2020-09-17</th>\n",
       "      <th>Date_2020-09-19</th>\n",
       "      <th>Date_2020-09-21</th>\n",
       "      <th>Date_2020-09-23</th>\n",
       "      <th>Date_2020-09-28</th>\n",
       "      <th>Date_2020-10-01</th>\n",
       "      <th>Date_2020-10-03</th>\n",
       "    </tr>\n",
       "  </thead>\n",
       "  <tbody>\n",
       "    <tr>\n",
       "      <td>0</td>\n",
       "      <td>12.0</td>\n",
       "      <td>128.0</td>\n",
       "      <td>136.0</td>\n",
       "      <td>5008.0</td>\n",
       "      <td>38</td>\n",
       "      <td>456.0</td>\n",
       "      <td>0</td>\n",
       "      <td>0</td>\n",
       "      <td>0</td>\n",
       "      <td>0</td>\n",
       "      <td>...</td>\n",
       "      <td>0</td>\n",
       "      <td>0</td>\n",
       "      <td>0</td>\n",
       "      <td>0</td>\n",
       "      <td>0</td>\n",
       "      <td>0</td>\n",
       "      <td>0</td>\n",
       "      <td>0</td>\n",
       "      <td>0</td>\n",
       "      <td>0</td>\n",
       "    </tr>\n",
       "    <tr>\n",
       "      <td>1</td>\n",
       "      <td>18.3</td>\n",
       "      <td>220.0</td>\n",
       "      <td>220.0</td>\n",
       "      <td>1760.0</td>\n",
       "      <td>8</td>\n",
       "      <td>146.4</td>\n",
       "      <td>2</td>\n",
       "      <td>0</td>\n",
       "      <td>0</td>\n",
       "      <td>0</td>\n",
       "      <td>...</td>\n",
       "      <td>0</td>\n",
       "      <td>0</td>\n",
       "      <td>0</td>\n",
       "      <td>0</td>\n",
       "      <td>0</td>\n",
       "      <td>0</td>\n",
       "      <td>0</td>\n",
       "      <td>0</td>\n",
       "      <td>0</td>\n",
       "      <td>0</td>\n",
       "    </tr>\n",
       "    <tr>\n",
       "      <td>2</td>\n",
       "      <td>12.0</td>\n",
       "      <td>120.0</td>\n",
       "      <td>120.0</td>\n",
       "      <td>720.0</td>\n",
       "      <td>6</td>\n",
       "      <td>72.0</td>\n",
       "      <td>45</td>\n",
       "      <td>0</td>\n",
       "      <td>0</td>\n",
       "      <td>0</td>\n",
       "      <td>...</td>\n",
       "      <td>0</td>\n",
       "      <td>0</td>\n",
       "      <td>0</td>\n",
       "      <td>0</td>\n",
       "      <td>0</td>\n",
       "      <td>0</td>\n",
       "      <td>0</td>\n",
       "      <td>0</td>\n",
       "      <td>0</td>\n",
       "      <td>0</td>\n",
       "    </tr>\n",
       "    <tr>\n",
       "      <td>3</td>\n",
       "      <td>18.3</td>\n",
       "      <td>160.0</td>\n",
       "      <td>160.0</td>\n",
       "      <td>160.0</td>\n",
       "      <td>1</td>\n",
       "      <td>18.3</td>\n",
       "      <td>8</td>\n",
       "      <td>0</td>\n",
       "      <td>0</td>\n",
       "      <td>0</td>\n",
       "      <td>...</td>\n",
       "      <td>0</td>\n",
       "      <td>0</td>\n",
       "      <td>0</td>\n",
       "      <td>0</td>\n",
       "      <td>0</td>\n",
       "      <td>0</td>\n",
       "      <td>0</td>\n",
       "      <td>0</td>\n",
       "      <td>0</td>\n",
       "      <td>0</td>\n",
       "    </tr>\n",
       "    <tr>\n",
       "      <td>4</td>\n",
       "      <td>18.3</td>\n",
       "      <td>140.0</td>\n",
       "      <td>160.0</td>\n",
       "      <td>14140.0</td>\n",
       "      <td>100</td>\n",
       "      <td>1830.0</td>\n",
       "      <td>19</td>\n",
       "      <td>0</td>\n",
       "      <td>0</td>\n",
       "      <td>0</td>\n",
       "      <td>...</td>\n",
       "      <td>0</td>\n",
       "      <td>0</td>\n",
       "      <td>0</td>\n",
       "      <td>0</td>\n",
       "      <td>0</td>\n",
       "      <td>0</td>\n",
       "      <td>0</td>\n",
       "      <td>0</td>\n",
       "      <td>0</td>\n",
       "      <td>0</td>\n",
       "    </tr>\n",
       "  </tbody>\n",
       "</table>\n",
       "<p>5 rows × 179 columns</p>\n",
       "</div>"
      ],
      "text/plain": [
       "   Weight_Kg  Low_Price  High_Price  Sales_Total  Total_Qty_Sold  \\\n",
       "0       12.0      128.0       136.0       5008.0              38   \n",
       "1       18.3      220.0       220.0       1760.0               8   \n",
       "2       12.0      120.0       120.0        720.0               6   \n",
       "3       18.3      160.0       160.0        160.0               1   \n",
       "4       18.3      140.0       160.0      14140.0             100   \n",
       "\n",
       "   Total_Kg_Sold  Stock_On_Hand  Province_CAPE  Province_EASTERN_CAPE  \\\n",
       "0          456.0              0              0                      0   \n",
       "1          146.4              2              0                      0   \n",
       "2           72.0             45              0                      0   \n",
       "3           18.3              8              0                      0   \n",
       "4         1830.0             19              0                      0   \n",
       "\n",
       "   Province_NATAL  ...  Date_2020-09-03  Date_2020-09-07  Date_2020-09-09  \\\n",
       "0               0  ...                0                0                0   \n",
       "1               0  ...                0                0                0   \n",
       "2               0  ...                0                0                0   \n",
       "3               0  ...                0                0                0   \n",
       "4               0  ...                0                0                0   \n",
       "\n",
       "   Date_2020-09-17  Date_2020-09-19  Date_2020-09-21  Date_2020-09-23  \\\n",
       "0                0                0                0                0   \n",
       "1                0                0                0                0   \n",
       "2                0                0                0                0   \n",
       "3                0                0                0                0   \n",
       "4                0                0                0                0   \n",
       "\n",
       "   Date_2020-09-28  Date_2020-10-01  Date_2020-10-03  \n",
       "0                0                0                0  \n",
       "1                0                0                0  \n",
       "2                0                0                0  \n",
       "3                0                0                0  \n",
       "4                0                0                0  \n",
       "\n",
       "[5 rows x 179 columns]"
      ]
     },
     "execution_count": 40,
     "metadata": {},
     "output_type": "execute_result"
    }
   ],
   "source": [
    "#For The Test DATA (Test_df)\n",
    "#using the test data\n",
    "test_df = test_df[(test_df['Commodities'] == 'APPLE GOLDEN DELICIOUS')]\n",
    "\n",
    "X_t = pd.get_dummies(test_df)\n",
    "X_t.columns = [col.replace(\" \",\"_\") for col in X_t.columns]\n",
    "X_t.drop(['Commodities_APPLE_GOLDEN_DELICIOUS'], axis= 1, inplace =True)\n",
    "\n",
    "X_t.head()\n",
    "\n"
   ]
  },
  {
   "cell_type": "code",
   "execution_count": 41,
   "metadata": {},
   "outputs": [
    {
     "data": {
      "text/plain": [
       "((1643, 182), (685, 179))"
      ]
     },
     "execution_count": 41,
     "metadata": {},
     "output_type": "execute_result"
    }
   ],
   "source": [
    "train_df_d.shape, X_t.shape"
   ]
  },
  {
   "cell_type": "markdown",
   "metadata": {},
   "source": [
    "# 2.3 Correlation and Variable selection"
   ]
  },
  {
   "cell_type": "markdown",
   "metadata": {},
   "source": [
    "1. Check the independent variables that are highly correleted to the target variable\n",
    "2. Check those that have moderate correlection\n",
    "3. Check the weak correlected independent variables\n",
    "4. Chose variables to remove depending on their relationship with the target variable"
   ]
  },
  {
   "cell_type": "markdown",
   "metadata": {},
   "source": [
    "we will arrange the data so our target variable be the last column on the dataframe"
   ]
  },
  {
   "cell_type": "code",
   "execution_count": 42,
   "metadata": {},
   "outputs": [],
   "source": [
    "#Avarage must be the last column (dependent)\n",
    "#reorder columns\n",
    "column_titles = [col for col in train_df_d.columns if col!= 'avg_price_per_kg'] + ['avg_price_per_kg']\n",
    "train_df_d=train_df_d.reindex(columns=column_titles)"
   ]
  },
  {
   "cell_type": "markdown",
   "metadata": {},
   "source": [
    "The correlection"
   ]
  },
  {
   "cell_type": "code",
   "execution_count": 43,
   "metadata": {},
   "outputs": [
    {
     "data": {
      "text/html": [
       "<div>\n",
       "<style scoped>\n",
       "    .dataframe tbody tr th:only-of-type {\n",
       "        vertical-align: middle;\n",
       "    }\n",
       "\n",
       "    .dataframe tbody tr th {\n",
       "        vertical-align: top;\n",
       "    }\n",
       "\n",
       "    .dataframe thead th {\n",
       "        text-align: right;\n",
       "    }\n",
       "</style>\n",
       "<table border=\"1\" class=\"dataframe\">\n",
       "  <thead>\n",
       "    <tr style=\"text-align: right;\">\n",
       "      <th></th>\n",
       "      <th>Correlation</th>\n",
       "    </tr>\n",
       "  </thead>\n",
       "  <tbody>\n",
       "    <tr>\n",
       "      <td>avg_price_per_kg</td>\n",
       "      <td>1.000000</td>\n",
       "    </tr>\n",
       "    <tr>\n",
       "      <td>Low_Price</td>\n",
       "      <td>0.818317</td>\n",
       "    </tr>\n",
       "    <tr>\n",
       "      <td>High_Price</td>\n",
       "      <td>0.765937</td>\n",
       "    </tr>\n",
       "    <tr>\n",
       "      <td>Weight_Kg</td>\n",
       "      <td>0.492557</td>\n",
       "    </tr>\n",
       "    <tr>\n",
       "      <td>Container_M4183</td>\n",
       "      <td>0.380769</td>\n",
       "    </tr>\n",
       "    <tr>\n",
       "      <td>...</td>\n",
       "      <td>...</td>\n",
       "    </tr>\n",
       "    <tr>\n",
       "      <td>Size_Grade_2M</td>\n",
       "      <td>-0.187072</td>\n",
       "    </tr>\n",
       "    <tr>\n",
       "      <td>Province_EASTERN_CAPE</td>\n",
       "      <td>-0.229628</td>\n",
       "    </tr>\n",
       "    <tr>\n",
       "      <td>Province_NATAL</td>\n",
       "      <td>-0.337509</td>\n",
       "    </tr>\n",
       "    <tr>\n",
       "      <td>Size_Grade_2S</td>\n",
       "      <td>-0.409072</td>\n",
       "    </tr>\n",
       "    <tr>\n",
       "      <td>Container_JE090</td>\n",
       "      <td>-0.429679</td>\n",
       "    </tr>\n",
       "  </tbody>\n",
       "</table>\n",
       "<p>182 rows × 1 columns</p>\n",
       "</div>"
      ],
      "text/plain": [
       "                       Correlation\n",
       "avg_price_per_kg          1.000000\n",
       "Low_Price                 0.818317\n",
       "High_Price                0.765937\n",
       "Weight_Kg                 0.492557\n",
       "Container_M4183           0.380769\n",
       "...                            ...\n",
       "Size_Grade_2M            -0.187072\n",
       "Province_EASTERN_CAPE    -0.229628\n",
       "Province_NATAL           -0.337509\n",
       "Size_Grade_2S            -0.409072\n",
       "Container_JE090          -0.429679\n",
       "\n",
       "[182 rows x 1 columns]"
      ]
     },
     "execution_count": 43,
     "metadata": {},
     "output_type": "execute_result"
    }
   ],
   "source": [
    "# Target correlations with features\n",
    "corrs = pd.DataFrame(train_df_d.corr()['avg_price_per_kg']).rename(columns = {'avg_price_per_kg':'Correlation'})\n",
    "corrs.sort_values(by='Correlation',ascending=False, inplace=True)\n",
    "corrs"
   ]
  },
  {
   "cell_type": "code",
   "execution_count": 47,
   "metadata": {},
   "outputs": [
    {
     "data": {
      "image/png": "[encoded data removed]",
      "text/plain": [
       "<Figure size 648x504 with 2 Axes>"
      ]
     },
     "metadata": {
      "needs_background": "light"
     },
     "output_type": "display_data"
    }
   ],
   "source": [
    "plt.figure(figsize=(9, 7))\n",
    "heatmap = sns.heatmap(trainData_df.corr(), vmin=-1, vmax=1, annot=True)\n",
    "heatmap.set_title('Correlation Heatmap', fontdict={'fontsize':15}, pad=12);"
   ]
  },
  {
   "cell_type": "code",
   "execution_count": null,
   "metadata": {},
   "outputs": [],
   "source": []
  },
  {
   "cell_type": "code",
   "execution_count": 134,
   "metadata": {},
   "outputs": [
    {
     "name": "stdout",
     "output_type": "stream",
     "text": [
      "There is 6 strongly correlated values with Average price per kg:\n",
      "Sales_Total       0.108473\n",
      "Stock_On_Hand     0.105028\n",
      "Total_Qty_Sold    0.087536\n",
      "Low_Price        -0.141740\n",
      "High_Price       -0.164496\n",
      "Weight_Kg        -0.337886\n",
      "Name: avg_price_per_kg, dtype: float64\n"
     ]
    }
   ],
   "source": [
    "df_num_corr = train_df.corr()['avg_price_per_kg'][:-1] # -1 because the latest row is Average price per kg\n",
    "golden_features_list = df_num_corr[abs(df_num_corr) > 0.01].sort_values(ascending=False)\n",
    "print(\"There is {} strongly correlated values with Average price per kg:\\n{}\".format(len(golden_features_list), golden_features_list))"
   ]
  },
  {
   "cell_type": "code",
   "execution_count": null,
   "metadata": {},
   "outputs": [],
   "source": []
  },
  {
   "cell_type": "markdown",
   "metadata": {},
   "source": []
  },
  {
   "cell_type": "markdown",
   "metadata": {},
   "source": [
    "### Train & Test Split"
   ]
  },
  {
   "cell_type": "markdown",
   "metadata": {},
   "source": [
    "For Train Data (Train_df thats in df_dummies)"
   ]
  },
  {
   "cell_type": "code",
   "execution_count": 138,
   "metadata": {},
   "outputs": [],
   "source": [
    "#spliting variables into x and y\n",
    "X = train_df_d[['Sales_Total', 'Low_Price', 'High_Price','Stock_On_Hand','Weight_Kg']].values\n",
    "Y = train_df_d['avg_price_per_kg']\n",
    "\n"
   ]
  },
  {
   "cell_type": "markdown",
   "metadata": {},
   "source": [
    "For Test Data (Test_df thats in X_t dummies)"
   ]
  },
  {
   "cell_type": "code",
   "execution_count": 139,
   "metadata": {},
   "outputs": [],
   "source": [
    "X_real = X_t[['Sales_Total', 'Low_Price', 'High_Price', 'Stock_On_Hand','Weight_Kg']].values"
   ]
  },
  {
   "cell_type": "code",
   "execution_count": 141,
   "metadata": {},
   "outputs": [
    {
     "data": {
      "text/plain": [
       "((685, 5), (1643, 5))"
      ]
     },
     "execution_count": 141,
     "metadata": {},
     "output_type": "execute_result"
    }
   ],
   "source": [
    "X_real.shape, X.shape #checking the data shape"
   ]
  },
  {
   "cell_type": "code",
   "execution_count": 142,
   "metadata": {},
   "outputs": [],
   "source": [
    "#Train/Test Split\n",
    "X_train, X_test, y_train, y_test = train_test_split(X, Y, test_size = 0.2)"
   ]
  },
  {
   "cell_type": "markdown",
   "metadata": {},
   "source": [
    "### MODELS"
   ]
  },
  {
   "cell_type": "code",
   "execution_count": 143,
   "metadata": {},
   "outputs": [],
   "source": [
    "#Function for model prediction\n",
    "def model_test(model, X, y):\n",
    "    #Predict\n",
    "    y_pred = model.predict(X)\n",
    "    r2 = r2_score(y, y_pred)\n",
    "    rmse = np.sqrt(mean_squared_error(y_pred, y))\n",
    "    print('R2 Score is : {} | Root Mean Square Error is : {}'\n",
    "          .format(r2,rmse))\n",
    "    \n",
    "    return"
   ]
  },
  {
   "cell_type": "markdown",
   "metadata": {},
   "source": [
    "#### Using The Linear Regression (Train and Test)"
   ]
  },
  {
   "cell_type": "code",
   "execution_count": 146,
   "metadata": {},
   "outputs": [
    {
     "data": {
      "text/plain": [
       "LinearRegression(copy_X=True, fit_intercept=True, n_jobs=-1, normalize=False)"
      ]
     },
     "execution_count": 146,
     "metadata": {},
     "output_type": "execute_result"
    }
   ],
   "source": [
    "#Function for Linear Regression\n",
    "def linearRegression(X, y):\n",
    "    global Linear_model\n",
    "    Linear_model = LinearRegression(n_jobs = -1)\n",
    "    Linear_model.fit(X, y)\n",
    "    return Linear_model\n",
    "#fitting the model\n",
    "linearRegression(X_train, y_train)"
   ]
  },
  {
   "cell_type": "code",
   "execution_count": 147,
   "metadata": {},
   "outputs": [
    {
     "name": "stdout",
     "output_type": "stream",
     "text": [
      "R2 Score is : 0.8530650498978803 | Root Mean Square Error is : 0.8073784101739777\n",
      "R2 Score is : 0.8604839429823115 | Root Mean Square Error is : 0.793508656348998\n"
     ]
    }
   ],
   "source": [
    "#making predictions\n",
    "model_test(Linear_model, X_train, y_train)\n",
    "model_test(Linear_model, X_test, y_test)"
   ]
  },
  {
   "cell_type": "markdown",
   "metadata": {},
   "source": [
    "Prediction on the test dataset"
   ]
  },
  {
   "cell_type": "code",
   "execution_count": 149,
   "metadata": {},
   "outputs": [
    {
     "data": {
      "text/plain": [
       "array([   9.91418042,   13.14006595,    9.05534656,    8.96261034,\n",
       "          8.34094418,  -53.9744877 ,    3.94823738,    7.40407506,\n",
       "          8.39365804,    9.66582559,    5.57542552,   -9.28428651,\n",
       "          8.30876415,    4.85878666,    5.25867021,    5.89463552,\n",
       "          7.43448841,    5.22364246,   13.38856362,    5.98296289,\n",
       "          5.76523087,  -43.84481683,    5.74706305,    6.94397094,\n",
       "          5.54963078,    5.85905382,    7.87275572,    8.35282817,\n",
       "          7.26051151,    8.45761592,    8.29863718,    5.72883605,\n",
       "         10.4121409 ,    7.58700174,  -83.5458118 ,   10.35493847,\n",
       "         11.77797078,   13.6816046 ,    6.07482798,    6.68571588,\n",
       "          9.10588903,    6.50575383,    4.09709791,    6.07988463,\n",
       "          5.54642571,    5.58487864,  -37.0542529 ,    5.5695208 ,\n",
       "          5.91755358,  -87.18118819, -140.99940487,    6.09223497,\n",
       "          5.90500281,   15.92671099,    8.38961766,    5.56831922,\n",
       "         10.72408118,    9.62804467,    7.74943173,    5.71591704,\n",
       "          7.04366783,   12.61680191,    6.08335238,    9.76597497,\n",
       "          5.6169694 ,    5.92421943,    6.43140029,    5.09431711,\n",
       "        -15.89484243,    6.87931656,    4.79597169,    5.21919305,\n",
       "          4.01438938,    7.40088347,    6.43542587,    5.38084834,\n",
       "          5.979001  ,    9.76595757,   11.75925079,    6.08093012,\n",
       "          6.61773941,  -37.0542529 ,    6.32427988,    5.54826852,\n",
       "          2.77332068,    6.30848897,    6.84794147,   12.585338  ,\n",
       "          4.72052654,    6.45737733,    8.79419636,   10.03307836,\n",
       "          6.93456444,    5.75760047,    5.71555438,    6.40223534,\n",
       "          8.68146976,    9.03838506,    6.62109346,    5.55306698,\n",
       "         12.12016667,    6.10052479,    6.10633621,    7.57569434,\n",
       "          7.66303447,    9.1429833 ,    7.9018286 ,    3.25943542,\n",
       "          9.05342396,  -36.80382004,    4.88079469,    6.95666211,\n",
       "          5.91760642,    4.35486674,    6.43093264,    9.0567887 ,\n",
       "          5.16017177,   10.78507406,    4.88999562,    6.8790209 ,\n",
       "          5.91311296,    4.18860996,    8.80223628,  -50.98394448,\n",
       "          9.37074187,    7.66973049,    4.89680834,    9.74214736,\n",
       "         10.36216447,    5.73520082,    6.69019514,    5.72882302,\n",
       "          9.73262629,    8.29514582, -141.37418764,    5.91068875,\n",
       "          6.94446356,    7.32660163,    7.18607389,    5.82220701,\n",
       "          8.3681985 ,  -22.93890882,    8.25302024,    5.58339287,\n",
       "          9.3283446 ,    6.24777443,    5.44715496,    6.41699948,\n",
       "          4.79169739,    6.80324507,    9.05258468,    8.06391072,\n",
       "          6.35505695,    8.62180284,    6.88292435,   11.74491957,\n",
       "          4.87598826,    5.06627698,    5.75197479,    5.72421939,\n",
       "          7.96317942,    8.78579401,    6.69477914,    8.77985944,\n",
       "          6.74842243,    7.63668931,    6.94509803,    7.39229769,\n",
       "          5.20802042,    7.53292433,    8.54312487,    6.95065631,\n",
       "          4.88168214,   10.79345412,    5.91224835,    5.27003532,\n",
       "          6.97950903,    5.60836811,    5.87749405,    6.95715746,\n",
       "          4.89798858, -169.1873535 ,   11.5731918 ,    7.31826367,\n",
       "          6.99544146, -169.18696183,    6.09659849,   10.35310321,\n",
       "          6.94899699,    5.22564139,    5.55639981,    9.38491089,\n",
       "        -37.0858056 ,    5.26223248,    9.05286615,    5.73616676,\n",
       "          8.23210591,    7.10784048,    6.07387861,    9.25926416,\n",
       "          6.77617506,  -92.71225895,    7.7812791 ,    3.12079921,\n",
       "          6.14678628,  -61.05512675,    8.0829156 ,    6.94397094,\n",
       "          7.61158532,    8.07112515,    7.27604543,   15.96098808,\n",
       "          5.44585337,    6.23352718,    8.81144364,    5.55437089,\n",
       "          5.73138704,    5.30869396,    9.94009155,    7.74850843,\n",
       "          5.79002973,    5.38367863,    8.25841785,   11.76621942,\n",
       "         12.48244747,    6.54438134,    6.03556034,    5.3394144 ,\n",
       "          8.22279978,    5.55425658,    4.97675665,   11.16166885,\n",
       "          7.58316335,    5.3369889 ,    6.25435328,    5.9011241 ,\n",
       "          9.7280863 ,    8.96627916,    4.87155192,    5.8057737 ,\n",
       "          4.87432874,    5.15973814,    6.02990763,    7.48059655,\n",
       "         11.74354133,    6.55032341,    6.15178985,    7.57211747,\n",
       "          5.16165967,   10.43876837,    7.78482225,   10.02121946,\n",
       "          5.07478311,    4.74735804,    6.25069101,  -70.76943982,\n",
       "          6.73238393,    9.73369374,    8.98644224,    8.62539184,\n",
       "          9.64103961,    9.60995653,    6.10593731,    5.92718979,\n",
       "          5.23435908,    7.36374231,    5.4098581 ,    6.19185465,\n",
       "          2.75299909,    6.24997383,    8.35547408,    6.32088179,\n",
       "         11.88794301,    2.77751425,    8.3007687 ,    9.14565581,\n",
       "        -35.97339019,    6.25062582,    5.95050547,    7.36220921,\n",
       "          5.38691937,    6.87262096,    6.12053303,    4.97600678,\n",
       "          9.67457864,  -43.81472431,    5.92559336,    5.35588256,\n",
       "          8.33259857,    8.7002817 ,    6.07180611,    5.95741383,\n",
       "          5.71031115, -141.36832473,    6.18267409,    6.57116506,\n",
       "          9.7601969 ,    7.44778966,    7.58212508,    6.7369381 ,\n",
       "          5.55404976,    5.91127403,    4.88812827,    6.32821708,\n",
       "          7.88977297,    9.38200933,    5.80305158,    4.4025486 ,\n",
       "          7.44195362,    6.04829887,    5.95417813,    6.32862945,\n",
       "          5.04749088,    8.31913849,    9.61083757,    8.97762013,\n",
       "          5.95764661,    5.94332356,    5.26948583,    6.26794424,\n",
       "          5.91428703,    6.2404199 ,    4.32767257,    7.69375161,\n",
       "        -37.093487  ,    4.51668632,    6.95427511,    5.91417118,\n",
       "         11.42235389,    8.13008715,    5.74347925,    5.43919883,\n",
       "         10.14489973,    6.64613138,    8.26800069,    7.3859038 ,\n",
       "          8.38362182,    6.24899904,    6.96846983,    5.24583516,\n",
       "          6.27234529,    5.44651508,    8.54108398,    6.56861876,\n",
       "          8.51083476,    6.43337154,    8.29809267,    5.38343037,\n",
       "          8.11356298,    8.13599217,    7.09690948,   10.01692182,\n",
       "          7.57356788,   10.91563977,    5.91982464,    6.26964891,\n",
       "          5.80932358,    8.3796411 ,    9.06666159,    8.63560497,\n",
       "          6.22567655,    6.08196563,    8.1344842 ,    9.8712674 ,\n",
       "          5.90035285,    6.4040057 ,    6.99244027,    7.86458177,\n",
       "          4.6485544 ,    9.34509926,  -43.83554374,    6.24884092,\n",
       "          5.90407749,    9.46203804,    6.50341391,    6.87184541,\n",
       "        -36.92936793,    6.32234249,    7.57356788,    6.4384113 ,\n",
       "          6.26805198,    6.88002035,    7.27084323,    7.79238406,\n",
       "          2.80206423,    7.94016566,    5.9120736 ,    7.3311925 ,\n",
       "          3.49674711,   10.08933049,    6.98511297,    5.8368119 ,\n",
       "          9.81569383,    8.22247137, -140.97590455,    9.83522387,\n",
       "          6.27958063,    6.62760769,    7.28755   ,    6.66268898,\n",
       "          5.93849649,    4.00526272,    9.48888605,    6.65480012,\n",
       "          5.82927855,    9.51935602,    4.89944291,    7.22337663,\n",
       "        -43.79905743,    9.05967392,   10.03805041,    4.35486674,\n",
       "          5.76357284,    8.65385093,    9.66310141,    4.687224  ,\n",
       "          8.99817335,    5.16706018,    9.05630653,    6.2670503 ,\n",
       "          3.12402736,    5.65750768,    7.60335122,    5.41356204,\n",
       "          6.1097055 ,    8.23105312,    8.13655468,    6.94447572,\n",
       "          7.95708917,    5.67901672,    9.34188828,    7.38493068,\n",
       "          7.44372406,   10.09509438,    6.27116689,    7.99713246,\n",
       "          4.64232327,    5.55691676,    6.59375814,    5.91293974,\n",
       "          6.46094508,    5.73384205,    9.06107786,    9.01433034,\n",
       "          8.39461531,   11.2770084 ,    6.96736846,    8.26251379,\n",
       "          8.26307358,    7.58518148,    9.05694511,    7.02716837,\n",
       "          9.6818918 ,    7.6655277 ,    6.21760971,    7.59998767,\n",
       "          8.2908362 ,    8.84489541,    4.95266313,    8.02643481,\n",
       "          5.23433664,    9.85211713,    5.55482094,    6.10537828,\n",
       "          7.46870388,    4.69446369,    5.68108633,    8.23725339,\n",
       "          5.65072221,    8.25578581,    8.29852683,    9.7647403 ,\n",
       "          5.98980408,    5.25245442,    5.84623466,    9.38083775,\n",
       "         10.58422766,  -61.42652526,    6.35981333,    5.55493043,\n",
       "          5.05103034,    7.57822828,    4.60510636,    2.0101825 ,\n",
       "          8.30139456,    6.39522991,    8.35105414,    4.16293957,\n",
       "          5.62442177,  -61.42651917,    5.60484946,    6.42184254,\n",
       "          7.59580981,    7.45976247,   11.15965717,    6.38064933,\n",
       "          4.4704127 ,    8.43940524,    8.26860278,    9.34088147,\n",
       "          8.80035758,   13.18604228,    8.01762491,    8.22158343,\n",
       "          7.76908804,    9.06173983,    6.9830761 ,    6.24911849,\n",
       "          7.7059081 ,    5.02562712,    9.1429833 ,    6.87740758,\n",
       "          5.90936047,    4.87432874,    8.02728265,    8.97569171,\n",
       "          7.34369688,    5.48679381,    7.12158882,    4.7492219 ,\n",
       "          8.39044711,    5.0725607 ,    5.98839815,    6.28637921,\n",
       "          7.34943723,    8.05163124,    7.58316335,  -92.71205217,\n",
       "          4.95266313,    8.86583854,   10.35369874,    5.57074493,\n",
       "          8.96201433,    7.2391333 ,    9.85305444,    9.1429833 ,\n",
       "          7.92433858,    5.54225196,    6.14297725,    8.35571397,\n",
       "          7.84846292,  -39.85558834,    8.0504361 ,    8.50669979,\n",
       "          7.13403714,    6.45377003,    7.44138033,    6.07650653,\n",
       "          3.40021924,    5.89353392,    5.4698388 ,    5.71629027,\n",
       "          5.90379139,  -38.59278975,    5.41165227,    4.32023342,\n",
       "          9.07402518,    6.94899386,    5.86732634,    5.83120982,\n",
       "          9.29894627,  -50.83595329,    5.55469697,    5.56040198,\n",
       "          6.98104973,    3.42668872,    8.64906454,    6.77617506,\n",
       "          8.22571618,    9.36891392,  -43.81472431,    5.90935098,\n",
       "          9.32335332,    7.40801434,    5.02820174,    6.02628938,\n",
       "          6.09860082,    4.53831722,    6.96856105,   11.7443186 ,\n",
       "          5.55266434,    5.01789231,    4.16885787,    5.75448051,\n",
       "          8.32855958,    8.28012674,    6.24339123,   12.43709873,\n",
       "          6.10543026,    7.27303133,    7.23099766,    7.66874745,\n",
       "          6.12004   ,    6.03458312,    6.6735418 ,    5.93607936,\n",
       "          6.00010899,    6.25065576,    6.84057854,    5.95952565,\n",
       "          6.18452371,    6.60010808,   11.47161357,    7.80309319,\n",
       "          7.09410056,    3.46835607,    8.33412908,  -61.3192068 ,\n",
       "          8.97665882,    9.32162367,    7.80385152,    8.14081757,\n",
       "          7.26783556,    5.20293644,    9.60812329,    5.10728954,\n",
       "          6.02900099,   12.39136889,    5.82763024,    7.61464943,\n",
       "          4.1117686 ,   11.59199241,    7.82410354,    5.55369824,\n",
       "          5.92083771,    4.09709791,    5.90020832,    4.64660126,\n",
       "          7.04970681,    6.64090258,    5.74614407,    6.62067552,\n",
       "          5.92963209,    5.71050557,    6.60652106,    5.93030759,\n",
       "          9.78377122,    5.75564004,    4.86761828,    7.38967418,\n",
       "          6.07650653,  -36.97591851,    8.30139456,    5.22369684,\n",
       "         11.76444835,    6.73394144,    6.17971666,    4.90805998,\n",
       "          9.68846423,    8.75238659,    5.89465578,    6.68110082,\n",
       "          6.58458974,    8.96138817,    5.03675377,    6.99244027,\n",
       "          4.74517787,    5.22399144,    6.0205735 ,    8.50683433,\n",
       "          5.94821232,    6.25250803,    5.91145463,    4.00378318,\n",
       "         11.91655455,    8.27297443,    7.73343378,  -39.90915981,\n",
       "         13.6816046 ,    6.58363534,   10.35368658,    5.58582026,\n",
       "          5.6353398 ,    6.6133814 ,   13.65517668,    9.3415481 ,\n",
       "          6.20384912,    5.9601439 ,    8.10605924,    2.10142793,\n",
       "          4.16343391,    7.13383716,    5.90127774,    7.36134922,\n",
       "          7.88744856])"
      ]
     },
     "execution_count": 149,
     "metadata": {},
     "output_type": "execute_result"
    }
   ],
   "source": [
    "test_linear = Linear_model.predict(X_real)\n",
    "test_linear"
   ]
  },
  {
   "cell_type": "markdown",
   "metadata": {},
   "source": [
    "_____________________________________________________________________________________________________________________________"
   ]
  },
  {
   "cell_type": "markdown",
   "metadata": {},
   "source": [
    "#### Using The Lasso Regression"
   ]
  },
  {
   "cell_type": "code",
   "execution_count": 151,
   "metadata": {},
   "outputs": [
    {
     "data": {
      "text/plain": [
       "Lasso(alpha=0.01, copy_X=True, fit_intercept=True, max_iter=1000,\n",
       "      normalize=False, positive=False, precompute=False, random_state=42,\n",
       "      selection='cyclic', tol=0.0001, warm_start=False)"
      ]
     },
     "execution_count": 151,
     "metadata": {},
     "output_type": "execute_result"
    }
   ],
   "source": [
    "#fitting the data using Lasso\n",
    "def lasso_Regression(X, y):\n",
    "    global Lasso_model\n",
    "    Lasso_model = Lasso(alpha=0.01, random_state=42)\n",
    "    Lasso_model.fit(X, y)\n",
    "    return Lasso_model\n",
    "\n",
    "lasso_Regression(X_train, y_train)"
   ]
  },
  {
   "cell_type": "code",
   "execution_count": 152,
   "metadata": {},
   "outputs": [
    {
     "name": "stdout",
     "output_type": "stream",
     "text": [
      "R2 Score is : 0.8530581105458541 | Root Mean Square Error is : 0.8073974751304576\n",
      "R2 Score is : 0.8604028348766128 | Root Mean Square Error is : 0.7937392772326975\n"
     ]
    }
   ],
   "source": [
    "model_test(Lasso_model, X_train, y_train)\n",
    "model_test(Lasso_model, X_test, y_test)"
   ]
  },
  {
   "cell_type": "markdown",
   "metadata": {},
   "source": [
    "Prediction on test set"
   ]
  },
  {
   "cell_type": "code",
   "execution_count": 153,
   "metadata": {},
   "outputs": [
    {
     "data": {
      "text/plain": [
       "array([   9.9044746 ,   13.13055994,    9.04863615,    8.96558791,\n",
       "          8.34497458,  -53.24922047,    3.95536778,    7.40897208,\n",
       "          8.39462054,    9.66680193,    5.57310453,   -8.65383132,\n",
       "          8.31059175,    4.86016777,    5.25867276,    5.89318988,\n",
       "          7.43337616,    5.22325862,   13.37526435,    5.98119719,\n",
       "          5.7628992 ,  -43.1075099 ,    5.74464733,    6.93908849,\n",
       "          5.54909819,    5.8586581 ,    7.87716813,    8.35763035,\n",
       "          7.26644294,    8.47604678,    8.30251401,    5.73045127,\n",
       "         10.40975964,    7.59432814,  -82.79135837,   10.35376595,\n",
       "         11.77301056,   13.66855976,    6.07622393,    6.69390904,\n",
       "          9.09936862,    6.50969097,    4.11472762,    6.07720359,\n",
       "          5.54601473,    5.5828402 ,  -36.33969083,    5.56897601,\n",
       "          5.91612935,  -86.4649156 , -140.00471234,    6.08873111,\n",
       "          5.91163596,   15.90892576,    8.38560226,    5.57712176,\n",
       "         10.7123392 ,    9.62710558,    7.7524879 ,    5.7192192 ,\n",
       "          7.04549679,   12.60951356,    6.08070273,    9.76621899,\n",
       "          5.62259016,    5.92587938,    6.42770187,    5.09416948,\n",
       "        -15.25831446,    6.88860359,    4.81155083,    5.21894911,\n",
       "          4.02015264,    7.3993389 ,    6.43176275,    5.38002121,\n",
       "          5.97810916,    9.76618972,   11.75403659,    6.07830102,\n",
       "          6.62060542,  -36.33969083,    6.32044264,    5.54788404,\n",
       "          2.78097023,    6.32388213,    6.84723006,   12.57768137,\n",
       "          4.72597071,    6.45311722,    8.78775128,   10.03229138,\n",
       "          6.9336135 ,    5.7603029 ,    5.71888418,    6.39930561,\n",
       "          8.6853051 ,    9.03479754,    6.61661202,    5.55245223,\n",
       "         12.11350867,    6.09712296,    6.09555868,    7.58290979,\n",
       "          7.67348752,    9.1480037 ,    7.90175005,    3.26874723,\n",
       "          9.04669394,  -36.08641748,    4.88056771,    6.95097477,\n",
       "          5.91602108,    4.36042482,    6.42833197,    9.05011615,\n",
       "          5.16520468,   10.77935946,    4.89171996,    6.88899571,\n",
       "          5.91060527,    4.1965268 ,    8.79598294,  -50.22783114,\n",
       "          9.37069176,    7.67617751,    4.8967365 ,    9.74045602,\n",
       "         10.36109962,    5.73357301,    6.68526998,    5.72812463,\n",
       "          9.73248194,    8.28966682, -140.34626561,    5.9081959 ,\n",
       "          6.93956242,    7.3317643 ,    7.18462681,    5.81988948,\n",
       "          8.37318119,  -22.26380095,    8.24841808,    5.58114661,\n",
       "          9.32957404,    6.24504347,    5.45072121,    6.41989365,\n",
       "          4.80730371,    6.80638096,    9.0458865 ,    8.06719794,\n",
       "          6.3501182 ,    8.61203649,    6.8923252 ,   11.73974773,\n",
       "          4.88882317,    5.06612423,    5.75567227,    5.72777583,\n",
       "          7.96016608,    8.77928667,    6.69352621,    8.78158569,\n",
       "          6.7440963 ,    7.63898687,    6.94022682,    7.39971444,\n",
       "          5.20836465,    7.53056057,    8.53689569,    6.95519801,\n",
       "          4.88749274,   10.78249576,    5.90969826,    5.27328413,\n",
       "          6.98058063,    5.60829716,    5.87859625,    6.95558138,\n",
       "          4.90397889, -168.07580687,   11.5662736 ,    7.31525513,\n",
       "          6.99507965, -168.07541078,    6.09030247,   10.35189618,\n",
       "          6.95362864,    5.23462037,    5.55575503,    9.38497501,\n",
       "        -36.37158916,    5.26226957,    9.04618044,    5.74521315,\n",
       "          8.22801676,    7.10405077,    6.06294407,    9.2475077 ,\n",
       "          6.77138911,  -91.8307887 ,    7.77639338,    3.12740135,\n",
       "          6.14786191,  -60.2916469 ,    8.07750334,    6.93908849,\n",
       "          7.61818078,    8.06794138,    7.28389521,   15.94405839,\n",
       "          5.44934712,    6.24186575,    8.80530688,    5.55367773,\n",
       "          5.72979401,    5.312333  ,    9.9291799 ,    7.7505287 ,\n",
       "          5.79216189,    5.38315137,    8.2534096 ,   11.76116509,\n",
       "         12.47360346,    6.54522375,    6.02906579,    5.34251167,\n",
       "          8.21860552,    5.55362562,    4.98059853,   11.15789543,\n",
       "          7.59044639,    5.33994678,    6.25163884,    5.89937923,\n",
       "          9.72347146,    8.96930267,    4.87196588,    5.80326875,\n",
       "          4.87587612,    5.16471344,    6.03224734,    7.47995239,\n",
       "         11.73815179,    6.55114301,    6.14206477,    7.57927964,\n",
       "          5.16667315,   10.43489979,    7.78715111,   10.02030002,\n",
       "          5.07379526,    4.75345436,    6.24789567,  -70.03212682,\n",
       "          6.7321382 ,    9.73227493,    8.98968811,    8.62863956,\n",
       "          9.63297567,    9.60154148,    6.10366884,    5.92482105,\n",
       "          5.23514457,    7.3636566 ,    5.40883283,    6.1897288 ,\n",
       "          2.77160344,    6.24717099,    8.35610439,    6.31889458,\n",
       "         11.88421004,    2.78521297,    8.30454922,    9.13849904,\n",
       "        -35.28403823,    6.2478561 ,    5.95644549,    7.36556734,\n",
       "          5.38632989,    6.88428373,    6.10941862,    4.97870268,\n",
       "          9.67571463,  -43.09580683,    5.92335751,    5.35903769,\n",
       "          8.33840426,    8.70116836,    6.06129734,    5.95535146,\n",
       "          5.71163027, -140.34033587,    6.19402732,    6.57218205,\n",
       "          9.75674585,    7.44643066,    7.57707312,    6.73519691,\n",
       "          5.55333022,    5.90870305,    4.88989261,    6.33853437,\n",
       "          7.88673649,    9.38474948,    5.80051588,    4.40589708,\n",
       "          7.44621252,    6.04935144,    5.95505425,    6.33455184,\n",
       "          5.05291862,    8.31394636,    9.60243847,    8.98076875,\n",
       "          5.95652554,    5.93921959,    5.27189451,    6.26378777,\n",
       "          5.91186208,    6.23794485,    4.33526511,    7.69193641,\n",
       "        -36.37936481,    4.5191663 ,    6.95906521,    5.91162334,\n",
       "         11.41740151,    8.12911211,    5.74102305,    5.43877089,\n",
       "         10.14389798,    6.65162934,    8.27310425,    7.38429812,\n",
       "          8.38461798,    6.24621005,    6.96801583,    5.24566997,\n",
       "          6.27396484,    5.4500223 ,    8.54371655,    6.56961897,\n",
       "          8.50603829,    6.43453743,    8.29145928,    5.38318059,\n",
       "          8.10959544,    8.13119771,    7.09357651,   10.01605744,\n",
       "          7.58075601,   10.90946397,    5.92479548,    6.26709467,\n",
       "          5.80794836,    8.37337641,    9.06340515,    8.63892224,\n",
       "          6.23759667,    6.07937727,    8.13660111,    9.86529204,\n",
       "          5.9089219 ,    6.40588047,    6.99119903,    7.85893942,\n",
       "          4.65727981,    9.34527576,  -43.11685843,    6.24605792,\n",
       "          5.90274031,    9.459213  ,    6.50005203,    6.86928382,\n",
       "        -36.21337303,    6.31852109,    7.58075601,    6.43480615,\n",
       "          6.26537016,    6.88930574,    7.28247912,    7.79855631,\n",
       "          2.81420875,    7.94592775,    5.91769449,    7.32878036,\n",
       "          3.50679372,   10.08568655,    6.99001933,    5.83878325,\n",
       "          9.81648808,    8.21828956, -139.98094657,    9.8404449 ,\n",
       "          6.27722811,    6.62132788,    7.29376499,    6.67007224,\n",
       "          5.93633902,    4.00896035,    9.48237792,    6.64851998,\n",
       "          5.83011177,    9.52067134,    4.90481927,    7.22242784,\n",
       "        -43.07996298,    9.05300761,   10.03733127,    4.36042482,\n",
       "          5.76516553,    8.65766387,    9.66404996,    4.69250043,\n",
       "          8.99991276,    5.17215263,    9.04962913,    6.26457151,\n",
       "          3.13916816,    5.65612315,    7.61022019,    5.41303167,\n",
       "          6.10645289,    8.22696226,    8.13786386,    6.93957413,\n",
       "          7.95405712,    5.68082056,    9.33377271,    7.37918816,\n",
       "          7.45193193,   10.08636121,    6.26703664,    7.99519432,\n",
       "          4.64735141,    5.55625236,    6.6068036 ,    5.91040584,\n",
       "          6.46433564,    5.73738053,    9.0544277 ,    9.00795063,\n",
       "          8.39556078,   11.27441864,    6.9609631 ,    8.26791232,\n",
       "          8.26545397,    7.59104507,    9.05024348,    7.03253841,\n",
       "          9.68128397,    7.6599187 ,    6.22572296,    7.60073794,\n",
       "          8.29432247,    8.84689096,    4.95509535,    8.0314204 ,\n",
       "          5.23498412,    9.85158562,    5.55411071,    6.10212111,\n",
       "          7.46940816,    4.69680545,    5.67996814,    8.25093267,\n",
       "          5.65116562,    8.25074783,    8.30207421,    9.76134057,\n",
       "          5.98623532,    5.25236399,    5.84900169,    9.37306333,\n",
       "         10.5800465 ,  -60.63919491,    6.35641579,    5.55426426,\n",
       "          5.05569641,    7.58545558,    4.61176091,    2.03408167,\n",
       "          8.3049932 ,    6.40157805,    8.35364152,    4.16665369,\n",
       "          5.62639509,  -60.63918906,    5.60792224,    6.41835538,\n",
       "          7.60137423,    7.46063896,   11.15575951,    6.38081523,\n",
       "          4.4776722 ,    8.4371939 ,    8.2736835 ,    9.34317742,\n",
       "          8.79409529,   13.16290385,    8.01369717,    8.21743532,\n",
       "          7.77137363,    9.05513398,    6.98173657,    6.24633654,\n",
       "          7.70035996,    5.03081448,    9.1480037 ,    6.88666676,\n",
       "          5.90685052,    4.87587612,    8.0338027 ,    8.97885178,\n",
       "          7.34904753,    5.50023831,    7.11750041,    4.75520662,\n",
       "          8.38582876,    5.07159835,    5.99620238,    6.28212882,\n",
       "          7.35667319,    8.0433801 ,    7.59044639,  -91.83058977,\n",
       "          4.95509535,    8.85940423,   10.35250383,    5.56970113,\n",
       "          8.96501451,    7.24689672,    9.85448212,    9.1480037 ,\n",
       "          7.93198398,    5.55446712,    6.14098314,    8.35813419,\n",
       "          7.84515938,  -39.13230993,    8.05530172,    8.4999192 ,\n",
       "          7.12928601,    6.45026428,    7.43990581,    6.0778388 ,\n",
       "          3.41995111,    5.90565695,    5.46855268,    5.71959215,\n",
       "          5.90213624,  -37.87540752,    5.4104056 ,    4.34038361,\n",
       "          9.06753175,    6.95370663,    5.86536424,    5.83019022,\n",
       "          9.30408851,  -50.0781653 ,    5.55421322,    5.56293376,\n",
       "          6.98980471,    3.44672768,    8.64287323,    6.77138911,\n",
       "          8.22161954,    9.36888689,  -43.09580683,    5.90684332,\n",
       "          9.32460784,    7.40656949,    5.0332999 ,    6.01587967,\n",
       "          6.09610544,    4.53833333,    6.9681036 ,   11.73893813,\n",
       "          5.55200701,    5.0242692 ,    4.17244   ,    5.75515047,\n",
       "          8.32803937,    8.28543555,    6.24296873,   12.42083886,\n",
       "          6.10227429,    7.2795272 ,    7.22733636,    7.67761768,\n",
       "          6.11779667,    6.03561611,    6.67519434,    5.93473713,\n",
       "          6.00201028,    6.24791961,    6.84216679,    5.96358107,\n",
       "          6.19589932,    6.5963046 ,   11.46720473,    7.80014262,\n",
       "          7.08799711,    3.47391169,    8.33863021,  -60.54003055,\n",
       "          8.9760481 ,    9.32280534,    7.80089185,    8.13607762,\n",
       "          7.2739153 ,    5.20297182,    9.59975311,    5.11086911,\n",
       "          6.03110047,   12.37464097,    5.83018712,    7.61886195,\n",
       "          4.12962273,   11.58905623,    7.8254788 ,    5.55300168,\n",
       "          5.91928888,    4.11472762,    5.8985088 ,    4.65167922,\n",
       "          7.04462258,    6.64409312,    5.74871708,    6.61618486,\n",
       "          5.92667526,    5.7119311 ,    6.60183848,    5.92797677,\n",
       "          9.78420399,    5.75429161,    4.86914256,    7.38803653,\n",
       "          6.0778388 ,  -36.2604716 ,    8.3049932 ,    5.22333698,\n",
       "         11.75930694,    6.73069576,    6.19115895,    4.91002461,\n",
       "          9.68969629,    8.76112861,    5.89130387,    6.67963827,\n",
       "          6.59744654,    8.96444297,    5.03723556,    6.99119903,\n",
       "          4.7437737 ,    5.22362233,    6.03047658,    8.50206006,\n",
       "          5.94701432,    6.24974789,    5.90983754,    4.00367769,\n",
       "         11.91320166,    8.2781207 ,    7.72801988,  -39.18647155,\n",
       "         13.66855976,    6.58265562,   10.35249213,    5.5856213 ,\n",
       "          5.63459484,    6.60877601,   13.64409723,    9.33345624,\n",
       "          6.19219608,    5.96187299,    8.10503528,    2.11560311,\n",
       "          4.16715241,    7.1268037 ,    5.89955886,    7.36828942,\n",
       "          7.89442243])"
      ]
     },
     "execution_count": 153,
     "metadata": {},
     "output_type": "execute_result"
    }
   ],
   "source": [
    "test_lasso = Lasso_model.predict(X_real)\n",
    "test_lasso"
   ]
  },
  {
   "cell_type": "markdown",
   "metadata": {},
   "source": [
    "______________________________________________________________________________________________________________________________"
   ]
  },
  {
   "cell_type": "markdown",
   "metadata": {},
   "source": [
    "#### Using Decision Tree"
   ]
  },
  {
   "cell_type": "code",
   "execution_count": 154,
   "metadata": {},
   "outputs": [
    {
     "data": {
      "text/plain": [
       "DecisionTreeRegressor(criterion='mse', max_depth=None, max_features=None,\n",
       "                      max_leaf_nodes=None, min_impurity_decrease=0.0,\n",
       "                      min_impurity_split=None, min_samples_leaf=1,\n",
       "                      min_samples_split=2, min_weight_fraction_leaf=0.0,\n",
       "                      presort=False, random_state=42, splitter='best')"
      ]
     },
     "execution_count": 154,
     "metadata": {},
     "output_type": "execute_result"
    }
   ],
   "source": [
    "def decision_Tree(X,y):\n",
    "    global dec_tree\n",
    "    dec_tree = DecisionTreeRegressor(random_state=42)\n",
    "    dec_tree.fit(X, y)\n",
    "    return dec_tree\n",
    "\n",
    "decision_Tree(X_train, y_train)"
   ]
  },
  {
   "cell_type": "code",
   "execution_count": 155,
   "metadata": {},
   "outputs": [
    {
     "name": "stdout",
     "output_type": "stream",
     "text": [
      "R2 Score is : 1.0 | Root Mean Square Error is : 1.2522444642328787e-15\n",
      "R2 Score is : 0.8745379432682919 | Root Mean Square Error is : 0.7524814067318897\n"
     ]
    }
   ],
   "source": [
    "model_test(dec_tree, X_train, y_train)\n",
    "model_test(dec_tree, X_test, y_test)"
   ]
  },
  {
   "cell_type": "markdown",
   "metadata": {},
   "source": [
    "Prediction on test set"
   ]
  },
  {
   "cell_type": "code",
   "execution_count": 156,
   "metadata": {},
   "outputs": [
    {
     "data": {
      "text/plain": [
       "array([10.68, 12.02, 10.  ,  8.74,  8.19, 11.12,  3.64,  7.24,  9.26,\n",
       "        9.29,  6.17, 11.96,  9.02,  4.44,  4.55,  6.11,  8.  ,  4.57,\n",
       "       10.89,  6.16,  5.34, 11.39,  5.23,  7.78,  5.56,  6.91,  7.86,\n",
       "        8.07,  7.05,  7.37,  7.92,  5.57, 10.08,  7.65, 11.12,  9.84,\n",
       "       10.93, 11.39,  6.36,  5.96,  6.04,  8.82,  4.92,  6.19,  5.56,\n",
       "        5.61, 11.39,  5.56,  6.11, 11.39, 12.02,  6.42,  4.64, 11.96,\n",
       "        8.16,  7.19, 12.  ,  9.13,  6.32,  6.  ,  7.24, 11.23,  6.19,\n",
       "        9.58,  6.55,  6.19,  6.69,  4.51, 11.12,  7.1 ,  5.46,  4.46,\n",
       "        2.9 ,  8.  ,  6.94,  4.02,  6.11,  9.26, 10.93,  6.24,  4.5 ,\n",
       "       11.39,  5.9 ,  5.56,  1.11,  6.07,  6.82, 11.23,  4.55,  7.72,\n",
       "        9.38,  9.4 ,  7.32,  6.27,  6.  ,  5.69,  8.21,  8.9 ,  6.91,\n",
       "        5.56, 10.93,  6.42,  6.  ,  7.65,  6.64,  8.74,  6.83,  2.73,\n",
       "       10.  , 11.39,  4.23,  7.82,  6.11,  4.24,  4.42, 10.  ,  5.33,\n",
       "        9.36,  4.44,  6.62,  5.95,  4.17,  9.97, 11.39,  9.29,  7.25,\n",
       "        4.32,  9.15,  9.84,  5.69,  6.67,  5.88,  9.26,  8.18, 12.02,\n",
       "        6.17,  7.78,  7.37,  7.85,  5.63,  8.07, 11.39,  8.67,  4.65,\n",
       "        9.27,  6.67,  5.38,  7.96,  5.46,  9.65, 10.  ,  7.67,  4.41,\n",
       "        8.07,  7.1 , 10.93,  5.13,  4.32,  6.  ,  6.  ,  7.98,  9.93,\n",
       "        7.88,  8.72,  6.67,  9.15,  7.78,  7.51,  5.  ,  7.32,  9.48,\n",
       "        7.67,  5.  , 12.  ,  5.93,  4.57,  4.5 ,  5.56,  6.27,  6.81,\n",
       "        5.  ,  5.46, 10.01,  7.86,  7.32,  5.46,  4.44,  9.84,  7.7 ,\n",
       "        3.57,  5.56,  9.12, 11.96,  4.55, 10.  ,  2.68,  9.  ,  6.72,\n",
       "        6.  ,  8.07,  7.39, 12.02,  7.82,  1.67,  6.33, 11.12,  9.08,\n",
       "        7.78,  7.6 ,  8.7 ,  7.33, 12.02,  5.44,  6.12,  9.41,  5.56,\n",
       "        5.71,  5.17, 10.16,  7.04,  5.78,  5.  ,  8.18, 10.93, 11.23,\n",
       "        6.37,  5.89,  5.45,  9.  ,  5.56,  4.87, 10.73,  7.65,  5.45,\n",
       "        6.67,  6.11,  8.02,  8.74,  4.02,  5.55,  4.44,  5.33,  6.34,\n",
       "        8.  , 10.93,  7.  ,  5.67,  7.65,  5.33,  9.36,  7.96,  9.68,\n",
       "        5.57,  4.67,  6.67, 11.39,  6.81,  8.42,  8.74,  8.69, 10.67,\n",
       "       10.4 ,  6.12,  6.04,  5.  ,  6.85,  5.61,  6.33,  6.91,  6.67,\n",
       "        7.67,  6.67, 10.93,  1.11,  7.74,  9.97, 11.12,  6.67,  6.  ,\n",
       "        6.33,  5.  ,  7.6 ,  6.  ,  4.44,  9.29, 11.39,  5.67,  5.45,\n",
       "        8.2 ,  8.72,  5.67,  5.76,  5.51, 11.96,  6.56,  7.  ,  8.14,\n",
       "        9.44,  8.35,  7.12,  5.56,  5.83,  4.44,  6.45,  8.67,  8.88,\n",
       "        5.55,  4.  ,  8.29,  6.36,  6.79,  7.34,  5.02,  8.18, 10.67,\n",
       "        8.74,  6.11,  6.11,  4.87,  7.41,  6.21,  6.67,  4.87,  6.83,\n",
       "       12.02,  3.89,  7.62,  5.97, 10.08,  6.83,  5.23,  5.55,  9.32,\n",
       "        5.22,  8.2 ,  8.  ,  7.67,  6.67,  7.5 ,  4.54,  6.47,  5.44,\n",
       "        9.13,  7.  ,  9.33,  6.75,  9.48,  5.  ,  8.96,  8.87,  7.06,\n",
       "        9.52,  7.65,  9.15,  5.1 ,  6.67,  5.81,  8.61,  9.26,  8.69,\n",
       "        6.77,  6.24,  6.7 ,  9.26,  3.57,  4.42,  7.63,  6.12,  2.68,\n",
       "        8.42, 11.39,  6.67,  6.11,  9.26,  7.24,  6.88, 11.12,  7.21,\n",
       "        7.65,  7.08,  4.42,  7.1 ,  7.6 ,  7.39,  2.5 ,  8.06,  6.  ,\n",
       "        8.37,  3.33,  8.34,  6.49,  6.34,  9.26,  9.  , 11.39,  8.44,\n",
       "        6.67,  7.85,  7.26,  6.71,  5.59,  3.33, 10.  ,  4.76,  4.61,\n",
       "        9.29,  5.27,  7.73, 11.39, 10.  ,  9.4 ,  4.24,  6.65,  8.21,\n",
       "        9.29,  5.68,  8.3 ,  5.33, 10.  ,  6.67,  9.28,  4.62,  8.61,\n",
       "        4.51,  5.61,  9.  ,  8.74,  7.78,  8.67,  7.52, 10.05,  7.51,\n",
       "        7.6 , 10.  ,  7.41,  7.73,  4.55,  5.56,  6.45,  5.93,  7.96,\n",
       "        6.  , 10.  , 10.  ,  8.08, 10.49,  7.65,  8.2 ,  7.39,  8.26,\n",
       "       10.  ,  6.82,  9.65,  8.37,  5.87,  8.  ,  8.  ,  8.08,  4.44,\n",
       "        7.39,  5.  ,  9.29,  5.56,  5.61,  9.65,  4.  ,  4.91,  8.61,\n",
       "        5.56,  8.18,  8.47,  8.14,  5.47,  5.22,  6.26, 10.16,  8.98,\n",
       "       12.02,  7.21,  5.56,  5.78,  7.65,  4.67,  3.83,  8.  ,  6.24,\n",
       "        8.12,  2.27,  2.68, 12.02,  5.69,  6.85,  7.17,  7.76, 10.08,\n",
       "        6.45,  4.17, 10.75,  8.2 ,  9.27,  9.97, 11.67,  8.67,  9.  ,\n",
       "        8.61, 10.  ,  7.33,  6.67,  6.12,  5.17,  8.74,  7.1 ,  6.48,\n",
       "        4.44,  7.68,  8.74,  8.9 ,  6.56,  8.04,  4.67,  9.24,  6.08,\n",
       "        6.93,  5.63,  7.6 ,  9.2 ,  7.65, 12.02,  4.44,  9.8 ,  9.84,\n",
       "        5.18,  8.74,  7.86,  9.34,  8.74,  7.39,  5.9 ,  6.15,  9.26,\n",
       "        8.7 , 11.39,  7.25, 10.41,  7.78,  5.84, 10.45,  6.36,  4.37,\n",
       "        6.56,  5.63,  6.  ,  6.11, 11.12,  5.57,  4.92, 10.  ,  7.7 ,\n",
       "        4.91,  5.9 ,  8.51, 11.39,  5.56,  5.64,  7.19,  4.37, 10.29,\n",
       "        7.39,  9.  ,  9.29, 11.39,  6.48,  8.99,  8.  ,  5.17,  6.  ,\n",
       "        6.13,  2.98,  7.5 , 10.93,  5.56,  5.69,  2.5 ,  7.52,  8.7 ,\n",
       "        8.2 ,  4.42, 12.  ,  6.62,  6.26,  9.42,  7.37,  6.14,  6.36,\n",
       "        6.88,  6.11,  6.47,  6.67,  6.26,  6.21,  6.56,  7.22, 10.08,\n",
       "        8.5 ,  6.68,  2.22,  8.07, 11.39,  8.02,  8.99,  8.5 ,  8.87,\n",
       "        7.1 ,  4.58, 10.4 ,  4.87,  6.34, 11.67,  5.52,  7.86,  4.92,\n",
       "       10.73,  8.14,  5.56,  6.11,  4.92,  6.11,  4.55,  6.12,  5.44,\n",
       "        6.27,  6.91,  5.63,  5.51,  7.22,  6.12,  8.86,  5.88,  4.25,\n",
       "        8.  ,  6.36, 11.39,  8.  ,  4.46, 10.93,  7.78,  7.05,  4.44,\n",
       "        9.29,  7.67,  5.63,  7.88,  6.45,  8.74,  4.58,  7.63,  5.61,\n",
       "        4.55,  5.14,  9.33,  6.11,  6.67,  6.11,  1.59, 10.93,  8.2 ,\n",
       "        6.12, 11.39, 11.39,  6.95,  9.84,  5.56,  4.04,  7.22, 10.89,\n",
       "       10.05,  6.67,  9.7 ,  6.83,  2.22,  2.27, 10.08,  6.11,  7.23,\n",
       "        6.87])"
      ]
     },
     "execution_count": 156,
     "metadata": {},
     "output_type": "execute_result"
    }
   ],
   "source": [
    "test_decTree = dec_tree.predict(X_real)\n",
    "test_decTree"
   ]
  },
  {
   "cell_type": "markdown",
   "metadata": {},
   "source": [
    "______________________________________________________________________________________________________________________________"
   ]
  },
  {
   "cell_type": "markdown",
   "metadata": {},
   "source": [
    "#### Using Random Forest "
   ]
  },
  {
   "cell_type": "code",
   "execution_count": 157,
   "metadata": {},
   "outputs": [
    {
     "data": {
      "text/plain": [
       "DecisionTreeRegressor(criterion='mse', max_depth=None, max_features=None,\n",
       "                      max_leaf_nodes=None, min_impurity_decrease=0.0,\n",
       "                      min_impurity_split=None, min_samples_leaf=1,\n",
       "                      min_samples_split=2, min_weight_fraction_leaf=0.0,\n",
       "                      presort=False, random_state=42, splitter='best')"
      ]
     },
     "execution_count": 157,
     "metadata": {},
     "output_type": "execute_result"
    }
   ],
   "source": [
    "def random_Forest(X,y):\n",
    "    global rand_forest\n",
    "    rand_forest = RandomForestRegressor(n_estimators=350, max_depth=450, random_state=3)\n",
    "    rand_forest.fit(X, y)\n",
    "    return dec_tree\n",
    "\n",
    "random_Forest(X_train, y_train)"
   ]
  },
  {
   "cell_type": "code",
   "execution_count": 158,
   "metadata": {},
   "outputs": [
    {
     "name": "stdout",
     "output_type": "stream",
     "text": [
      "R2 Score is : 0.9897969346690734 | Root Mean Square Error is : 0.21275506633929164\n",
      "R2 Score is : 0.9537957866568972 | Root Mean Square Error is : 0.45664674062856375\n"
     ]
    }
   ],
   "source": [
    "model_test(rand_forest, X_train, y_train)\n",
    "model_test(rand_forest, X_test, y_test)"
   ]
  },
  {
   "cell_type": "markdown",
   "metadata": {},
   "source": [
    "Prediction on test set"
   ]
  },
  {
   "cell_type": "code",
   "execution_count": 159,
   "metadata": {},
   "outputs": [
    {
     "data": {
      "text/plain": [
       "array([10.67365714, 11.96045714, 10.00145714,  8.74177143,  8.44157143,\n",
       "       11.35365714,  3.61828571,  7.247     ,  8.44434286,  9.30368571,\n",
       "        5.38108571, 11.77725714,  8.79217143,  4.41448571,  4.61645714,\n",
       "        6.10977143,  7.71328571,  4.54094286, 10.82742857,  6.01571429,\n",
       "        5.38568571, 11.4266    ,  5.29365714,  7.92422857,  5.56114286,\n",
       "        6.3924    ,  7.75548571,  7.99717143,  7.37742857,  7.351     ,\n",
       "        8.00077143,  5.59548571, 10.01248571,  7.65      , 11.2954    ,\n",
       "        9.83945714, 10.92877143, 11.50414286,  6.34848571,  6.16265714,\n",
       "        8.06908571,  8.2012    ,  4.96048571,  6.199     ,  5.56      ,\n",
       "        5.21277143, 11.46194286,  5.55731429,  6.11002857, 11.3514    ,\n",
       "       11.79771429,  6.33657143,  6.22825714, 11.70571429,  8.33225714,\n",
       "        5.74591429, 11.80802857,  9.02511429,  7.11208571,  5.96651429,\n",
       "        7.81068571, 11.51505714,  6.19194286,  9.21934286,  6.1274    ,\n",
       "        6.15828571,  6.80317143,  5.21948571, 11.33165714,  7.07511429,\n",
       "        5.46168571,  4.5748    ,  3.0662    ,  7.99885714,  6.95371429,\n",
       "        4.88622857,  6.11514286,  9.07045714, 10.92857143,  6.21605714,\n",
       "        6.18802857, 11.46194286,  5.9534    ,  5.56      ,  1.12211429,\n",
       "        6.4158    ,  7.2044    , 11.47677143,  4.70025714,  7.24914286,\n",
       "        9.41031429,  9.47128571,  7.21268571,  6.08491429,  5.98022857,\n",
       "        6.28788571,  8.38362857,  8.60802857,  6.90277143,  5.56      ,\n",
       "       10.93322857,  6.24702857,  5.94608571,  7.65      ,  7.1076    ,\n",
       "        8.69628571,  7.91654286,  2.79265714, 10.00351429, 11.3514    ,\n",
       "        4.27805714,  7.70294286,  6.11      ,  4.22217143,  6.73931429,\n",
       "       10.        ,  5.33105714,  9.36345714,  4.44      ,  6.77985714,\n",
       "        5.9482    ,  4.2214    ,  9.91711429, 11.54985714,  8.90651429,\n",
       "        7.244     ,  4.58714286,  8.91114286,  9.85888571,  5.72905714,\n",
       "        7.45674286,  5.69988571,  9.08737143,  8.43771429, 11.79771429,\n",
       "        5.97682857,  7.9126    ,  7.3976    ,  7.74457143,  5.47228571,\n",
       "        7.97162857, 11.4058    ,  8.73491429,  4.89914286,  9.11862857,\n",
       "        6.67051429,  5.4126    ,  8.08742857,  5.47268571,  8.43791429,\n",
       "       10.00114286,  7.76882857,  4.45205714,  7.91197143,  7.06208571,\n",
       "       10.96762857,  5.2868    ,  4.43368571,  6.07602857,  6.01431429,\n",
       "        8.03491429,  9.90817143,  7.15314286,  8.87094286,  6.7096    ,\n",
       "        8.01577143,  7.78314286,  7.2954    ,  5.00925714,  7.35411429,\n",
       "        8.64634286,  7.12254286,  5.0264    , 11.81754286,  5.90074286,\n",
       "        4.83042857,  6.85611429,  5.57525714,  6.10845714,  6.99108571,\n",
       "        5.02148571,  5.45742857, 10.15305714,  7.57082857,  7.35837143,\n",
       "        5.45742857,  4.45345714,  9.84722857,  7.52217143,  5.90202857,\n",
       "        5.56      ,  8.92062857, 11.73714286,  4.63905714, 10.00114286,\n",
       "        6.83228571,  9.04494286,  7.365     ,  6.00191429,  8.06068571,\n",
       "        7.44325714, 11.76077143,  8.15314286,  1.6518    ,  6.35108571,\n",
       "       11.54468571,  8.51671429,  7.92422857,  7.5816    ,  8.43171429,\n",
       "        7.29791429, 11.78411429,  5.41217143,  6.38188571,  9.45042857,\n",
       "        5.56      ,  5.90165714,  5.27731429, 10.39345714,  7.43228571,\n",
       "        5.70237143,  5.09211429,  8.53874286, 10.94408571, 11.58414286,\n",
       "        6.6598    ,  5.40502857,  5.4448    ,  9.04168571,  5.56      ,\n",
       "        4.91702857, 10.46802857,  7.65      ,  5.44108571,  6.67      ,\n",
       "        6.11      ,  8.49668571,  8.74134286,  4.39562857,  5.47991429,\n",
       "        4.4402    ,  5.3102    ,  6.53542857,  8.003     , 10.94557143,\n",
       "        7.0768    ,  5.77065714,  7.65      ,  5.34082857,  9.31962857,\n",
       "        8.18048571,  9.6124    ,  5.4222    ,  4.92228571,  6.67      ,\n",
       "       11.44891429,  6.99645714,  8.63985714,  8.74177143,  8.57045714,\n",
       "       10.66588571, 10.56648571,  6.12777143,  6.00408571,  5.11737143,\n",
       "        7.46657143,  5.27097143,  6.53954286,  4.31328571,  6.67      ,\n",
       "        8.11145714,  6.67471429, 10.93      ,  1.36174286,  7.95885714,\n",
       "        9.94865714, 11.37745714,  6.67      ,  6.12094286,  7.17211429,\n",
       "        5.07705714,  7.3198    ,  6.01077143,  4.41308571,  9.29645714,\n",
       "       11.4286    ,  5.94057143,  5.4294    ,  8.2176    ,  8.76257143,\n",
       "        5.85425714,  5.82868571,  5.54368571, 11.77185714,  6.6304    ,\n",
       "        7.00837143,  8.20934286,  8.97334286,  8.33397143,  7.05842857,\n",
       "        5.56      ,  5.88491429,  4.46002857,  6.15914286,  8.57611429,\n",
       "        8.81588571,  5.47237143,  3.90617143,  8.28077143,  6.25831429,\n",
       "        6.4728    ,  7.36751429,  5.2174    ,  8.39222857, 10.63202857,\n",
       "        8.74097143,  6.10882857,  5.23997143,  5.18334286,  6.88151429,\n",
       "        6.0644    ,  6.69368571,  4.46531429,  7.9432    , 11.79257143,\n",
       "        3.73948571,  7.60357143,  5.93217143, 10.51314286,  7.82977143,\n",
       "        5.48714286,  5.32197143,  9.13354286,  5.8956    ,  8.25857143,\n",
       "        8.00077143,  7.81588571,  6.67      ,  7.50074286,  4.6792    ,\n",
       "        6.77294286,  5.41254286,  8.8518    ,  7.00714286,  9.3744    ,\n",
       "        6.80928571,  8.96554286,  5.14608571,  8.05017143,  8.31708571,\n",
       "        7.19      ,  9.53928571,  7.65      ,  9.37717143,  6.07445714,\n",
       "        6.67      ,  5.86911429,  8.82262857,  8.63908571,  8.52737143,\n",
       "        6.70928571,  6.21325714,  7.18311429,  8.89065714,  5.93731429,\n",
       "        7.02208571,  7.50931429,  8.28194286,  4.81057143,  8.66591429,\n",
       "       11.46294286,  6.67      ,  6.11      ,  9.12857143,  7.2126    ,\n",
       "        6.77702857, 11.34534286,  6.39402857,  7.65      ,  7.02045714,\n",
       "        6.01274286,  7.06842857,  7.38314286,  7.2772    ,  2.66808571,\n",
       "        7.88345714,  6.12597143,  8.55877143,  3.33802857,  8.88577143,\n",
       "        6.35431429,  6.29328571,  9.13465714,  9.05542857, 11.5452    ,\n",
       "        8.54742857,  6.67005714,  7.33948571,  7.30685714,  6.35302857,\n",
       "        5.80834286,  2.99077143, 10.13108571,  5.91308571,  5.52525714,\n",
       "        9.29077143,  4.97657143,  7.90365714, 11.45517143, 10.00054286,\n",
       "        9.48851429,  4.22217143,  6.13077143,  8.38731429,  9.3048    ,\n",
       "        4.85605714,  8.43637143,  5.33637143, 10.        ,  6.67094286,\n",
       "        3.95871429,  4.80494286,  8.327     ,  5.28445714,  6.12534286,\n",
       "        9.0602    ,  7.59514286,  7.9126    ,  8.64822857,  6.42817143,\n",
       "       10.09502857,  7.97282857,  7.35928571, 10.33125714,  6.911     ,\n",
       "        8.03571429,  4.53431429,  5.56      ,  6.44097143,  5.92751429,\n",
       "        8.05288571,  5.99988571, 10.00054286, 10.00045714,  8.31574286,\n",
       "       10.37788571,  7.70988571,  8.30182857,  7.90857143,  8.53194286,\n",
       "       10.00054286,  7.09862857,  9.30277143,  8.67831429,  6.25717143,\n",
       "        7.9852    ,  8.331     ,  8.7126    ,  4.44111429,  7.54042857,\n",
       "        5.0056    ,  9.03748571,  5.56      ,  5.97531429,  8.54931429,\n",
       "        4.114     ,  4.84811429,  8.327     ,  5.60802857,  8.53802857,\n",
       "        8.39902857,  8.20331429,  5.50677143,  4.95714286,  5.9228    ,\n",
       "       10.09828571,  9.3146    , 11.79771429,  6.81908571,  5.56      ,\n",
       "        4.78428571,  7.65      ,  4.73568571,  3.62088571,  8.21448571,\n",
       "        6.20405714,  8.08805714,  3.11671429,  5.09222857, 11.79771429,\n",
       "        5.68122857,  6.93048571,  7.24231429,  7.89231429, 10.30017143,\n",
       "        6.64125714,  4.53288571,  8.56045714,  8.25905714,  8.94782857,\n",
       "        9.67548571, 11.66374286,  8.66945714,  9.10731429,  8.13602857,\n",
       "       10.        ,  7.362     ,  6.67      ,  8.26394286,  5.25682857,\n",
       "        8.69628571,  7.06848571,  6.07634286,  4.4402    ,  7.69468571,\n",
       "        8.74328571,  8.44051429,  7.1394    ,  7.38168571,  4.84045714,\n",
       "        9.32937143,  5.57188571,  6.45671429,  6.23931429,  7.47751429,\n",
       "        8.92674286,  7.65      , 11.79771429,  4.44111429,  9.66882857,\n",
       "        9.83991429,  5.32325714,  8.74465714,  7.56688571,  9.2602    ,\n",
       "        8.69628571,  7.24925714,  5.7888    ,  6.14614286,  8.82991429,\n",
       "        8.43005714, 11.4058    ,  7.34268571,  9.16588571,  7.77362857,\n",
       "        6.59445714,  8.70922857,  6.36408571,  4.43468571,  6.72142857,\n",
       "        5.46754286,  5.99782857,  6.11      , 11.35682857,  5.30817143,\n",
       "        5.21885714, 10.00054286,  7.57434286,  5.05657143,  5.80905714,\n",
       "        8.56514286, 11.44137143,  5.56114286,  5.5968    ,  7.20091429,\n",
       "        4.5522    ,  9.35028571,  7.44325714,  9.10291429,  8.94668571,\n",
       "       11.4286    ,  6.07497143,  9.0958    ,  7.99894286,  5.19511429,\n",
       "        5.80377143,  6.13497143,  3.28908571,  7.50074286, 10.94245714,\n",
       "        5.56      ,  5.35494286,  3.12862857,  6.25045714,  8.33005714,\n",
       "        8.20082857,  6.69345714, 11.3052    ,  6.4304    ,  6.46597143,\n",
       "        8.68585714,  7.31848571,  6.13571429,  6.27331429,  7.25411429,\n",
       "        6.11002857,  6.7794    ,  6.67051429,  6.46597143,  6.17548571,\n",
       "        6.62902857,  7.29454286, 10.41291429,  8.51405714,  6.80614286,\n",
       "        2.20922857,  7.99008571, 11.552     ,  8.31231429,  9.08142857,\n",
       "        8.5124    ,  8.2838    ,  7.24565714,  4.79077143, 10.57771429,\n",
       "        5.19728571,  6.36551429, 11.18848571,  5.60668571,  7.73108571,\n",
       "        4.98791429, 10.50211429,  8.20525714,  5.56      ,  6.11      ,\n",
       "        4.96048571,  6.11      ,  4.52831429,  6.752     ,  5.99177143,\n",
       "        6.09337143,  6.92462857,  5.44674286,  5.54725714,  7.20625714,\n",
       "        6.02837143,  8.90305714,  5.808     ,  4.46234286,  8.02125714,\n",
       "        6.36408571, 11.44891429,  8.21448571,  4.47708571, 10.9244    ,\n",
       "        7.30828571,  6.8992    ,  4.44531429,  9.29985714,  8.08645714,\n",
       "        5.71914286,  7.17057143,  6.49822857,  8.74034286,  4.50442857,\n",
       "        7.50931429,  4.53185714,  4.49974286,  5.83411429,  9.3882    ,\n",
       "        6.10954286,  6.67      ,  6.11      ,  1.5146    , 10.94797143,\n",
       "        8.25562857,  7.95731429, 11.3514    , 11.50414286,  6.74131429,\n",
       "        9.83991429,  5.56365714,  5.14171429,  7.17625714, 10.85834286,\n",
       "       10.09274286,  5.81611429,  7.54105714,  7.83642857,  2.22605714,\n",
       "        3.10474286,  8.96034286,  6.11      ,  7.10648571,  7.0772    ])"
      ]
     },
     "execution_count": 159,
     "metadata": {},
     "output_type": "execute_result"
    }
   ],
   "source": [
    "test_randForest= rand_forest.predict(X_real)\n",
    "test_randForest"
   ]
  },
  {
   "cell_type": "markdown",
   "metadata": {},
   "source": [
    "______________________________________________________________________________________________________________________________"
   ]
  },
  {
   "cell_type": "markdown",
   "metadata": {},
   "source": [
    "."
   ]
  },
  {
   "cell_type": "markdown",
   "metadata": {},
   "source": [
    "Using AdaBoost and Catboost to combine models and evaluate results"
   ]
  },
  {
   "cell_type": "code",
   "execution_count": 160,
   "metadata": {},
   "outputs": [],
   "source": [
    "# Instantiate Random forest regression model to use as the base model\n",
    "d_tree = RandomForestRegressor(n_estimators=300, max_depth=100, random_state=3)\n",
    "# Instantiate AdaBoostRegressor model with a decision tree as the base model\n",
    "bst_reg = AdaBoostRegressor(base_estimator = d_tree, random_state= 10 )"
   ]
  },
  {
   "cell_type": "code",
   "execution_count": 161,
   "metadata": {},
   "outputs": [
    {
     "name": "stdout",
     "output_type": "stream",
     "text": [
      "R2 Score is : 0.8978262508188143 | Root Mean Square Error is : 0.6732622154863762\n",
      "R2 Score is : 0.9959807074782725 | Root Mean Square Error is : 0.1346834955428158\n"
     ]
    }
   ],
   "source": [
    "#fitting\n",
    "bst_reg.fit(X_train, y_train)\n",
    "bst_reg.fit(X_test, y_test)\n",
    "#predictions\n",
    "model_test(bst_reg, X_train, y_train)\n",
    "model_test(bst_reg, X_test, y_test)\n"
   ]
  },
  {
   "cell_type": "code",
   "execution_count": 162,
   "metadata": {},
   "outputs": [],
   "source": [
    "#predictions on test set\n",
    "test_ada = bst_reg.predict(X_real)\n",
    "test_ada"
   ]
  },
  {
   "cell_type": "code",
   "execution_count": null,
   "metadata": {},
   "outputs": [],
   "source": []
  },
  {
   "cell_type": "code",
   "execution_count": 167,
   "metadata": {},
   "outputs": [
    {
     "name": "stdout",
     "output_type": "stream",
     "text": [
      "0:\tlearn: 1.1479784\ttotal: 1.79ms\tremaining: 178ms\n",
      "1:\tlearn: 0.8604480\ttotal: 3.54ms\tremaining: 173ms\n",
      "2:\tlearn: 0.7828713\ttotal: 4.66ms\tremaining: 151ms\n",
      "3:\tlearn: 0.7236441\ttotal: 5.8ms\tremaining: 139ms\n",
      "4:\tlearn: 0.6756399\ttotal: 7.06ms\tremaining: 134ms\n",
      "5:\tlearn: 0.6306682\ttotal: 8.15ms\tremaining: 128ms\n",
      "6:\tlearn: 0.6054520\ttotal: 9.34ms\tremaining: 124ms\n",
      "7:\tlearn: 0.5817908\ttotal: 10.5ms\tremaining: 121ms\n",
      "8:\tlearn: 0.5482421\ttotal: 11.6ms\tremaining: 118ms\n",
      "9:\tlearn: 0.5289393\ttotal: 13ms\tremaining: 117ms\n",
      "10:\tlearn: 0.5192660\ttotal: 14.5ms\tremaining: 117ms\n",
      "11:\tlearn: 0.4999218\ttotal: 15.6ms\tremaining: 115ms\n",
      "12:\tlearn: 0.4917594\ttotal: 16.7ms\tremaining: 112ms\n",
      "13:\tlearn: 0.4756032\ttotal: 18.1ms\tremaining: 111ms\n",
      "14:\tlearn: 0.4694069\ttotal: 19.4ms\tremaining: 110ms\n",
      "15:\tlearn: 0.4496351\ttotal: 20.4ms\tremaining: 107ms\n",
      "16:\tlearn: 0.4433149\ttotal: 21.6ms\tremaining: 106ms\n",
      "17:\tlearn: 0.4387338\ttotal: 22.8ms\tremaining: 104ms\n",
      "18:\tlearn: 0.4297900\ttotal: 24.3ms\tremaining: 104ms\n",
      "19:\tlearn: 0.4207612\ttotal: 25.7ms\tremaining: 103ms\n",
      "20:\tlearn: 0.4149950\ttotal: 27.1ms\tremaining: 102ms\n",
      "21:\tlearn: 0.4074371\ttotal: 28.3ms\tremaining: 100ms\n",
      "22:\tlearn: 0.4006643\ttotal: 29.4ms\tremaining: 98.4ms\n",
      "23:\tlearn: 0.3943301\ttotal: 30.6ms\tremaining: 96.8ms\n",
      "24:\tlearn: 0.3896989\ttotal: 31.8ms\tremaining: 95.4ms\n",
      "25:\tlearn: 0.3805833\ttotal: 33ms\tremaining: 93.9ms\n",
      "26:\tlearn: 0.3732639\ttotal: 34.1ms\tremaining: 92.3ms\n",
      "27:\tlearn: 0.3682748\ttotal: 35.3ms\tremaining: 90.7ms\n",
      "28:\tlearn: 0.3649863\ttotal: 36.5ms\tremaining: 89.3ms\n",
      "29:\tlearn: 0.3594751\ttotal: 37.7ms\tremaining: 87.9ms\n",
      "30:\tlearn: 0.3510369\ttotal: 39ms\tremaining: 86.9ms\n",
      "31:\tlearn: 0.3450527\ttotal: 40.1ms\tremaining: 85.2ms\n",
      "32:\tlearn: 0.3394670\ttotal: 41.3ms\tremaining: 83.9ms\n",
      "33:\tlearn: 0.3348558\ttotal: 42.6ms\tremaining: 82.7ms\n",
      "34:\tlearn: 0.3309833\ttotal: 43.9ms\tremaining: 81.5ms\n",
      "35:\tlearn: 0.3262813\ttotal: 45.1ms\tremaining: 80.2ms\n",
      "36:\tlearn: 0.3181832\ttotal: 46.6ms\tremaining: 79.3ms\n",
      "37:\tlearn: 0.3089204\ttotal: 48.7ms\tremaining: 79.4ms\n",
      "38:\tlearn: 0.3046189\ttotal: 50.4ms\tremaining: 78.8ms\n",
      "39:\tlearn: 0.3025147\ttotal: 51.9ms\tremaining: 77.8ms\n",
      "40:\tlearn: 0.3007026\ttotal: 53.7ms\tremaining: 77.2ms\n",
      "41:\tlearn: 0.2955078\ttotal: 55.1ms\tremaining: 76ms\n",
      "42:\tlearn: 0.2921082\ttotal: 56.4ms\tremaining: 74.8ms\n",
      "43:\tlearn: 0.2874026\ttotal: 57.8ms\tremaining: 73.6ms\n",
      "44:\tlearn: 0.2860423\ttotal: 59.1ms\tremaining: 72.2ms\n",
      "45:\tlearn: 0.2827467\ttotal: 61ms\tremaining: 71.6ms\n",
      "46:\tlearn: 0.2793484\ttotal: 62.2ms\tremaining: 70.1ms\n",
      "47:\tlearn: 0.2773546\ttotal: 63.5ms\tremaining: 68.8ms\n",
      "48:\tlearn: 0.2748423\ttotal: 66.2ms\tremaining: 68.9ms\n",
      "49:\tlearn: 0.2714636\ttotal: 67.5ms\tremaining: 67.5ms\n",
      "50:\tlearn: 0.2701478\ttotal: 68.7ms\tremaining: 66ms\n",
      "51:\tlearn: 0.2684460\ttotal: 69.8ms\tremaining: 64.4ms\n",
      "52:\tlearn: 0.2660702\ttotal: 71.1ms\tremaining: 63.1ms\n",
      "53:\tlearn: 0.2648706\ttotal: 72.3ms\tremaining: 61.5ms\n",
      "54:\tlearn: 0.2618787\ttotal: 73.3ms\tremaining: 60ms\n",
      "55:\tlearn: 0.2607503\ttotal: 74.5ms\tremaining: 58.5ms\n",
      "56:\tlearn: 0.2591400\ttotal: 75.9ms\tremaining: 57.3ms\n",
      "57:\tlearn: 0.2560621\ttotal: 77.7ms\tremaining: 56.3ms\n",
      "58:\tlearn: 0.2536541\ttotal: 78.8ms\tremaining: 54.7ms\n",
      "59:\tlearn: 0.2523819\ttotal: 79.9ms\tremaining: 53.3ms\n",
      "60:\tlearn: 0.2499585\ttotal: 81ms\tremaining: 51.8ms\n",
      "61:\tlearn: 0.2487642\ttotal: 82.1ms\tremaining: 50.3ms\n",
      "62:\tlearn: 0.2465167\ttotal: 83.3ms\tremaining: 48.9ms\n",
      "63:\tlearn: 0.2446906\ttotal: 84.4ms\tremaining: 47.5ms\n",
      "64:\tlearn: 0.2423782\ttotal: 85.4ms\tremaining: 46ms\n",
      "65:\tlearn: 0.2406472\ttotal: 86.5ms\tremaining: 44.6ms\n",
      "66:\tlearn: 0.2367318\ttotal: 87.9ms\tremaining: 43.3ms\n",
      "67:\tlearn: 0.2348010\ttotal: 89ms\tremaining: 41.9ms\n",
      "68:\tlearn: 0.2330540\ttotal: 90.1ms\tremaining: 40.5ms\n",
      "69:\tlearn: 0.2326060\ttotal: 91.1ms\tremaining: 39ms\n",
      "70:\tlearn: 0.2308245\ttotal: 92.1ms\tremaining: 37.6ms\n",
      "71:\tlearn: 0.2290951\ttotal: 93.1ms\tremaining: 36.2ms\n",
      "72:\tlearn: 0.2277802\ttotal: 94.2ms\tremaining: 34.8ms\n",
      "73:\tlearn: 0.2263738\ttotal: 95.2ms\tremaining: 33.4ms\n",
      "74:\tlearn: 0.2245335\ttotal: 96.2ms\tremaining: 32.1ms\n",
      "75:\tlearn: 0.2226064\ttotal: 97.2ms\tremaining: 30.7ms\n",
      "76:\tlearn: 0.2207537\ttotal: 98.2ms\tremaining: 29.3ms\n",
      "77:\tlearn: 0.2183473\ttotal: 99.3ms\tremaining: 28ms\n",
      "78:\tlearn: 0.2162160\ttotal: 100ms\tremaining: 26.7ms\n",
      "79:\tlearn: 0.2156904\ttotal: 101ms\tremaining: 25.3ms\n",
      "80:\tlearn: 0.2127448\ttotal: 102ms\tremaining: 24ms\n",
      "81:\tlearn: 0.2105163\ttotal: 103ms\tremaining: 22.7ms\n",
      "82:\tlearn: 0.2088436\ttotal: 104ms\tremaining: 21.4ms\n",
      "83:\tlearn: 0.2069044\ttotal: 105ms\tremaining: 20.1ms\n",
      "84:\tlearn: 0.2051779\ttotal: 106ms\tremaining: 18.8ms\n",
      "85:\tlearn: 0.2040100\ttotal: 107ms\tremaining: 17.5ms\n",
      "86:\tlearn: 0.2027968\ttotal: 108ms\tremaining: 16.2ms\n",
      "87:\tlearn: 0.2004924\ttotal: 109ms\tremaining: 14.9ms\n",
      "88:\tlearn: 0.1993109\ttotal: 110ms\tremaining: 13.6ms\n",
      "89:\tlearn: 0.1978159\ttotal: 111ms\tremaining: 12.4ms\n",
      "90:\tlearn: 0.1974375\ttotal: 112ms\tremaining: 11.1ms\n",
      "91:\tlearn: 0.1955831\ttotal: 113ms\tremaining: 9.87ms\n",
      "92:\tlearn: 0.1928534\ttotal: 115ms\tremaining: 8.62ms\n",
      "93:\tlearn: 0.1918783\ttotal: 116ms\tremaining: 7.38ms\n",
      "94:\tlearn: 0.1902254\ttotal: 117ms\tremaining: 6.13ms\n",
      "95:\tlearn: 0.1885636\ttotal: 118ms\tremaining: 4.9ms\n",
      "96:\tlearn: 0.1876508\ttotal: 119ms\tremaining: 3.67ms\n",
      "97:\tlearn: 0.1858036\ttotal: 120ms\tremaining: 2.44ms\n",
      "98:\tlearn: 0.1849410\ttotal: 121ms\tremaining: 1.22ms\n",
      "99:\tlearn: 0.1846820\ttotal: 122ms\tremaining: 0us\n",
      "0:\tlearn: 1.1930392\ttotal: 2.81ms\tremaining: 278ms\n",
      "1:\tlearn: 0.9548164\ttotal: 4.64ms\tremaining: 228ms\n",
      "2:\tlearn: 0.8369799\ttotal: 6.32ms\tremaining: 204ms\n",
      "3:\tlearn: 0.7020691\ttotal: 8.09ms\tremaining: 194ms\n",
      "4:\tlearn: 0.6366725\ttotal: 9.34ms\tremaining: 178ms\n",
      "5:\tlearn: 0.6167053\ttotal: 10.7ms\tremaining: 167ms\n",
      "6:\tlearn: 0.5521320\ttotal: 12.1ms\tremaining: 160ms\n",
      "7:\tlearn: 0.5080950\ttotal: 13.3ms\tremaining: 153ms\n",
      "8:\tlearn: 0.4743867\ttotal: 14.5ms\tremaining: 146ms\n",
      "9:\tlearn: 0.4439165\ttotal: 15.5ms\tremaining: 140ms\n",
      "10:\tlearn: 0.4169686\ttotal: 16.7ms\tremaining: 135ms\n",
      "11:\tlearn: 0.3893398\ttotal: 17.8ms\tremaining: 131ms\n",
      "12:\tlearn: 0.3731996\ttotal: 18.7ms\tremaining: 125ms\n",
      "13:\tlearn: 0.3489915\ttotal: 19.7ms\tremaining: 121ms\n",
      "14:\tlearn: 0.3240129\ttotal: 20.6ms\tremaining: 117ms\n",
      "15:\tlearn: 0.3138635\ttotal: 21.6ms\tremaining: 113ms\n",
      "16:\tlearn: 0.3039917\ttotal: 22.4ms\tremaining: 109ms\n",
      "17:\tlearn: 0.2874071\ttotal: 23.3ms\tremaining: 106ms\n",
      "18:\tlearn: 0.2857944\ttotal: 24.1ms\tremaining: 103ms\n",
      "19:\tlearn: 0.2766534\ttotal: 25.3ms\tremaining: 101ms\n",
      "20:\tlearn: 0.2694914\ttotal: 26.1ms\tremaining: 98.1ms\n",
      "21:\tlearn: 0.2619011\ttotal: 27ms\tremaining: 95.6ms\n",
      "22:\tlearn: 0.2522037\ttotal: 27.8ms\tremaining: 93.1ms\n",
      "23:\tlearn: 0.2400584\ttotal: 28.6ms\tremaining: 90.6ms\n",
      "24:\tlearn: 0.2339556\ttotal: 29.5ms\tremaining: 88.4ms\n",
      "25:\tlearn: 0.2261273\ttotal: 30.2ms\tremaining: 86ms\n",
      "26:\tlearn: 0.2213097\ttotal: 31ms\tremaining: 83.8ms\n",
      "27:\tlearn: 0.2139689\ttotal: 31.8ms\tremaining: 81.9ms\n",
      "28:\tlearn: 0.2061414\ttotal: 32.6ms\tremaining: 79.8ms\n",
      "29:\tlearn: 0.1954745\ttotal: 33.4ms\tremaining: 77.9ms\n",
      "30:\tlearn: 0.1893147\ttotal: 34.1ms\tremaining: 76ms\n",
      "31:\tlearn: 0.1822676\ttotal: 35ms\tremaining: 74.4ms\n",
      "32:\tlearn: 0.1808213\ttotal: 35.9ms\tremaining: 72.8ms\n",
      "33:\tlearn: 0.1733821\ttotal: 36.7ms\tremaining: 71.2ms\n",
      "34:\tlearn: 0.1684668\ttotal: 37.5ms\tremaining: 69.6ms\n",
      "35:\tlearn: 0.1649477\ttotal: 38.3ms\tremaining: 68ms\n",
      "36:\tlearn: 0.1609935\ttotal: 39.1ms\tremaining: 66.5ms\n",
      "37:\tlearn: 0.1568979\ttotal: 39.9ms\tremaining: 65.2ms\n",
      "38:\tlearn: 0.1508770\ttotal: 40.8ms\tremaining: 63.9ms\n",
      "39:\tlearn: 0.1482050\ttotal: 41.7ms\tremaining: 62.5ms\n",
      "40:\tlearn: 0.1446620\ttotal: 42.6ms\tremaining: 61.3ms\n",
      "41:\tlearn: 0.1410409\ttotal: 43.5ms\tremaining: 60ms\n",
      "42:\tlearn: 0.1363232\ttotal: 44.3ms\tremaining: 58.8ms\n",
      "43:\tlearn: 0.1328388\ttotal: 45.2ms\tremaining: 57.6ms\n",
      "44:\tlearn: 0.1315656\ttotal: 46.4ms\tremaining: 56.7ms\n",
      "45:\tlearn: 0.1247631\ttotal: 47.7ms\tremaining: 56.1ms\n",
      "46:\tlearn: 0.1221776\ttotal: 48.7ms\tremaining: 54.9ms\n",
      "47:\tlearn: 0.1187237\ttotal: 49.5ms\tremaining: 53.6ms\n",
      "48:\tlearn: 0.1157605\ttotal: 50.2ms\tremaining: 52.2ms\n",
      "49:\tlearn: 0.1126123\ttotal: 51ms\tremaining: 51ms\n",
      "50:\tlearn: 0.1099692\ttotal: 51.7ms\tremaining: 49.7ms\n",
      "51:\tlearn: 0.1050288\ttotal: 52.6ms\tremaining: 48.5ms\n",
      "52:\tlearn: 0.1034654\ttotal: 53.4ms\tremaining: 47.4ms\n",
      "53:\tlearn: 0.0987185\ttotal: 54.2ms\tremaining: 46.2ms\n",
      "54:\tlearn: 0.0966325\ttotal: 54.9ms\tremaining: 45ms\n",
      "55:\tlearn: 0.0919540\ttotal: 55.7ms\tremaining: 43.8ms\n",
      "56:\tlearn: 0.0916379\ttotal: 56.5ms\tremaining: 42.6ms\n",
      "57:\tlearn: 0.0905156\ttotal: 57.5ms\tremaining: 41.6ms\n",
      "58:\tlearn: 0.0890125\ttotal: 58.8ms\tremaining: 40.9ms\n",
      "59:\tlearn: 0.0870280\ttotal: 59.6ms\tremaining: 39.7ms\n",
      "60:\tlearn: 0.0833674\ttotal: 60.4ms\tremaining: 38.6ms\n",
      "61:\tlearn: 0.0795856\ttotal: 61.1ms\tremaining: 37.5ms\n",
      "62:\tlearn: 0.0785087\ttotal: 61.9ms\tremaining: 36.3ms\n",
      "63:\tlearn: 0.0758043\ttotal: 62.7ms\tremaining: 35.3ms\n",
      "64:\tlearn: 0.0735217\ttotal: 63.4ms\tremaining: 34.1ms\n",
      "65:\tlearn: 0.0707049\ttotal: 64.1ms\tremaining: 33ms\n",
      "66:\tlearn: 0.0688835\ttotal: 65ms\tremaining: 32ms\n",
      "67:\tlearn: 0.0677792\ttotal: 65.7ms\tremaining: 30.9ms\n",
      "68:\tlearn: 0.0645803\ttotal: 66.5ms\tremaining: 29.9ms\n",
      "69:\tlearn: 0.0643142\ttotal: 67.3ms\tremaining: 28.8ms\n",
      "70:\tlearn: 0.0631345\ttotal: 68.1ms\tremaining: 27.8ms\n",
      "71:\tlearn: 0.0617574\ttotal: 68.9ms\tremaining: 26.8ms\n",
      "72:\tlearn: 0.0600665\ttotal: 69.6ms\tremaining: 25.8ms\n",
      "73:\tlearn: 0.0580899\ttotal: 70.4ms\tremaining: 24.7ms\n",
      "74:\tlearn: 0.0566187\ttotal: 71.2ms\tremaining: 23.7ms\n",
      "75:\tlearn: 0.0549194\ttotal: 71.9ms\tremaining: 22.7ms\n",
      "76:\tlearn: 0.0547871\ttotal: 72.7ms\tremaining: 21.7ms\n",
      "77:\tlearn: 0.0542295\ttotal: 73.4ms\tremaining: 20.7ms\n",
      "78:\tlearn: 0.0523832\ttotal: 74.2ms\tremaining: 19.7ms\n",
      "79:\tlearn: 0.0512314\ttotal: 75ms\tremaining: 18.7ms\n",
      "80:\tlearn: 0.0494735\ttotal: 75.8ms\tremaining: 17.8ms\n",
      "81:\tlearn: 0.0493315\ttotal: 76.6ms\tremaining: 16.8ms\n",
      "82:\tlearn: 0.0487540\ttotal: 77.3ms\tremaining: 15.8ms\n",
      "83:\tlearn: 0.0465877\ttotal: 78.8ms\tremaining: 15ms\n",
      "84:\tlearn: 0.0450154\ttotal: 79.7ms\tremaining: 14.1ms\n",
      "85:\tlearn: 0.0445421\ttotal: 80.4ms\tremaining: 13.1ms\n",
      "86:\tlearn: 0.0437804\ttotal: 81.2ms\tremaining: 12.1ms\n",
      "87:\tlearn: 0.0435546\ttotal: 82.1ms\tremaining: 11.2ms\n",
      "88:\tlearn: 0.0424149\ttotal: 82.9ms\tremaining: 10.2ms\n",
      "89:\tlearn: 0.0413968\ttotal: 83.6ms\tremaining: 9.29ms\n",
      "90:\tlearn: 0.0404854\ttotal: 84.4ms\tremaining: 8.35ms\n",
      "91:\tlearn: 0.0396802\ttotal: 85.2ms\tremaining: 7.41ms\n",
      "92:\tlearn: 0.0388446\ttotal: 86ms\tremaining: 6.47ms\n",
      "93:\tlearn: 0.0387175\ttotal: 86.8ms\tremaining: 5.54ms\n",
      "94:\tlearn: 0.0379549\ttotal: 87.6ms\tremaining: 4.61ms\n",
      "95:\tlearn: 0.0373785\ttotal: 88.3ms\tremaining: 3.68ms\n",
      "96:\tlearn: 0.0370476\ttotal: 89ms\tremaining: 2.75ms\n",
      "97:\tlearn: 0.0359775\ttotal: 89.8ms\tremaining: 1.83ms\n",
      "98:\tlearn: 0.0353940\ttotal: 90.7ms\tremaining: 915us\n",
      "99:\tlearn: 0.0342450\ttotal: 91.4ms\tremaining: 0us\n",
      "R2 Score is : 0.8758712651458981 | Root Mean Square Error is : 0.7420800248435063\n",
      "R2 Score is : 0.9997401549291806 | Root Mean Square Error is : 0.03424497183202712\n"
     ]
    }
   ],
   "source": [
    "#model \n",
    "model = CatBoostRegressor(iterations=100, learning_rate=1, depth=5)\n",
    "# Fit model\n",
    "model.fit( X_train, y_train)\n",
    "model.fit( X_test, y_test)\n",
    "#predictions\n",
    "model_test(model, X_train, y_train)\n",
    "model_test(model, X_test, y_test)\n"
   ]
  },
  {
   "cell_type": "code",
   "execution_count": 173,
   "metadata": {},
   "outputs": [
    {
     "data": {
      "text/plain": [
       "array([10.19919333, 11.69787213,  9.87084376,  8.68059824,  8.25223785,\n",
       "       11.72610837,  3.57280494,  8.21117318,  9.865548  ,  8.90283936,\n",
       "        4.62933825, 11.92789453,  9.14661135,  4.60745965,  4.42011249,\n",
       "        6.16977452,  7.24250904,  4.77760631, 10.51446164,  5.75588132,\n",
       "        5.12630313, 11.09293466,  5.76811441,  7.73471867,  5.54255906,\n",
       "        6.16280266,  8.57228406,  8.00395286,  8.39455074,  7.79901855,\n",
       "        8.11968583,  5.67407663,  9.87771429,  7.38568115, 11.84333738,\n",
       "        9.79391049, 10.79066659, 10.49831451,  6.59932759,  6.96647635,\n",
       "        9.08282329,  8.72463352,  5.49662726,  6.36732468,  5.5662088 ,\n",
       "        5.15083806, 10.42703684,  5.96920391,  5.44865792, 11.71360048,\n",
       "       11.49823481,  6.22947519,  5.49138855, 12.20414386,  8.24612988,\n",
       "        5.60034569,  8.83793139, 10.24985748,  8.11225883,  6.00771996,\n",
       "        7.7514341 , 11.45886255,  6.60859498,  9.29732153,  5.97845338,\n",
       "        6.13130959,  6.63371613,  4.22397078, 11.67146843,  6.8906507 ,\n",
       "        5.19972225,  4.66653001,  2.40879162,  8.02593194,  6.52680755,\n",
       "        4.7029381 ,  5.96884797,  9.28998934,  9.75076526,  6.60325641,\n",
       "        5.59764812, 10.42703684,  7.97541182,  5.60611241,  1.96899561,\n",
       "        6.34629419,  7.02684342, 11.66153455,  4.82711558,  7.56897531,\n",
       "        9.92493485,  9.06038329,  8.12371799,  5.75788485,  6.02917032,\n",
       "        6.88179308,  8.12409563, 10.08566676,  7.45761922,  5.6502721 ,\n",
       "        9.26679345,  6.0474552 ,  3.55525045,  7.62674832,  8.67869182,\n",
       "        8.25632882,  8.52852781,  2.72080037,  9.93737756, 11.78404986,\n",
       "        3.09471402,  7.18464665,  6.1099287 ,  3.52553071,  6.61909311,\n",
       "       10.09281474,  5.1788578 ,  8.89827046,  4.5647764 ,  7.51464076,\n",
       "        6.19204628,  4.5030076 , 10.21837494, 10.73581897,  9.56240344,\n",
       "        8.53287471,  3.64245129,  9.02500501, 10.23135156,  5.9382158 ,\n",
       "        6.99111069,  5.69112661,  9.59616209,  9.3857361 , 11.45690666,\n",
       "        6.44585626,  7.72790946,  6.91350795,  7.7074249 ,  4.53471928,\n",
       "        7.99527397, 11.08599557,  8.80938741,  4.72579988,  9.23502213,\n",
       "        6.82995855,  5.57521586,  7.04218439,  5.91483872,  8.25524935,\n",
       "        9.87484715,  7.56625058,  5.65032668,  8.35165647,  6.81613962,\n",
       "        9.95706386,  5.85286119,  4.45132909,  6.00292852,  5.98660264,\n",
       "        8.28463452, 10.32826071,  6.88955863,  8.37495397,  7.09825087,\n",
       "        8.12339482,  7.60682336,  7.28093778,  5.91637413,  6.99673712,\n",
       "        8.74858295,  7.63308931,  5.15942418, 10.89215182,  6.24826991,\n",
       "        5.49820661,  7.14844112,  6.67445469,  5.82852147,  7.52508217,\n",
       "        5.07004224,  5.17135258, 10.44322236,  7.79283293,  7.83981583,\n",
       "        5.29948246,  4.08296263, 10.15942076,  7.2372327 ,  5.69684936,\n",
       "        5.61477267,  9.52278025, 11.63501292,  4.52948861, 10.1802867 ,\n",
       "        7.39316853,  9.06466742,  6.99337241,  5.99146683,  9.02309396,\n",
       "        7.34421003, 11.56875259,  8.24956887,  2.0399387 ,  6.5811563 ,\n",
       "       11.56278793,  9.02970658,  7.73471867,  7.45338648,  7.73173399,\n",
       "        7.10149818, 10.61470696,  5.05028378,  6.54649278, 10.33424597,\n",
       "        5.39963275,  6.02446093,  5.48803972,  9.93864068,  7.68581377,\n",
       "        5.590562  ,  5.64892046,  8.29787862, 10.55154361, 11.37198589,\n",
       "        7.09620761,  4.38324083,  5.36700917,  9.03303735,  5.64267143,\n",
       "        4.81282581, 10.67883742,  7.6159293 ,  5.39124338,  6.52000723,\n",
       "        6.00722058,  9.76259603,  8.64772873,  3.45671802,  5.3802877 ,\n",
       "        4.41610859,  5.05275441,  6.39080163,  7.35261012, 10.80548599,\n",
       "        6.96622774,  5.45996901,  7.98189139,  4.90861899,  9.76589447,\n",
       "        7.68813147,  9.63994554,  3.9958316 ,  4.73731087,  6.4839942 ,\n",
       "       11.21592558,  6.79726912,  9.19751524,  8.09503145,  8.33819927,\n",
       "       10.42603179, 10.19312481,  6.62863756,  6.43862136,  5.73440834,\n",
       "        7.59428932,  4.67516032,  5.91322491,  3.28400481,  6.59869775,\n",
       "        9.30794128,  6.62552574, 10.69117355,  2.18596433,  7.72008748,\n",
       "        9.94039949, 11.85682367,  6.26980121,  5.95442955,  7.92113597,\n",
       "        5.84269223,  6.64343024,  3.5726729 ,  4.02322029,  9.0940963 ,\n",
       "       11.02859253,  6.05871409,  5.47509452,  8.52042714,  8.44324215,\n",
       "        4.77177978,  5.946751  ,  6.0301782 , 11.38627584,  6.45656501,\n",
       "        7.86621436,  9.41875655,  7.26424522,  8.37767981,  7.50431317,\n",
       "        5.66138865,  5.97184944,  4.41871314,  6.28733422,  8.17149412,\n",
       "        8.53506991,  6.16746146,  3.15790955,  7.47157903,  6.56529841,\n",
       "        6.11966291,  7.24252952,  5.74843102,  8.11487347, 10.24276854,\n",
       "        8.02154116,  6.66591787,  5.90489743,  5.58512374,  7.01300141,\n",
       "        6.27759829,  6.6486274 ,  4.18219412,  7.96894202, 11.97635798,\n",
       "        3.8829257 ,  7.17368317,  6.20891657, 10.72572914,  8.35542669,\n",
       "        6.02817719,  5.52846997,  8.69376863,  6.6536723 ,  8.21290557,\n",
       "        7.79832561,  8.89653688,  6.6710064 ,  7.96983242,  4.6483245 ,\n",
       "        6.3303087 ,  5.45361219,  9.14202712,  7.32447799,  9.2584512 ,\n",
       "        6.99168451,  9.22344086,  5.35650389,  7.17014504,  8.20344668,\n",
       "        7.44284022,  9.94515325,  7.63002229,  9.72310813,  6.40292776,\n",
       "        6.26514244,  5.72205162,  9.08426844,  9.34289627,  8.16574692,\n",
       "        7.673934  ,  6.62203023,  7.62244851,  9.24843327,  6.67887009,\n",
       "        8.2503536 ,  7.55943496,  7.64761326,  6.04612049,  9.44419641,\n",
       "       11.4529854 ,  6.71928929,  5.75908869,  9.88704501,  6.3709983 ,\n",
       "        7.59752647, 11.90502392,  7.84146177,  7.63002229,  6.44714135,\n",
       "        6.76008677,  6.62187246,  8.27116577,  7.34055978,  2.6551898 ,\n",
       "        7.86620231,  6.26536692,  8.28869153,  3.13087773,  8.86490643,\n",
       "        7.6526438 ,  5.80603956,  9.37585641,  9.35878931, 10.82843492,\n",
       "       10.46239723,  6.97479173,  6.05381251,  8.66323076,  6.48826036,\n",
       "        6.43264838,  2.10257815,  9.30469905,  5.77143436,  5.82599233,\n",
       "        9.20306598,  5.05987494,  8.62755042, 11.86676528, 10.24149623,\n",
       "        9.42732995,  3.52553071,  6.15117915,  8.0550041 ,  8.913075  ,\n",
       "        4.64187457,  8.79040309,  5.05133233, 10.19776188,  6.41394516,\n",
       "        2.43016548,  4.94151547,  8.3397587 ,  4.50623382,  6.29887907,\n",
       "        9.14691366,  9.15415083,  7.70082896,  8.87836357,  6.03035217,\n",
       "       10.16280319,  8.40252792,  7.50600562,  8.71924288,  7.12262189,\n",
       "        8.44668008,  4.55749288,  5.52181595,  7.42110247,  6.35083442,\n",
       "        7.43671312,  6.17068018, 10.08591824,  9.85667253,  9.22336496,\n",
       "        9.86596073,  6.59073789,  8.53879032,  8.72790124,  8.11966184,\n",
       "        9.98278026,  7.3234905 , 10.16527724,  8.4736665 ,  6.62368109,\n",
       "        7.53383744,  8.17607315,  9.7313902 ,  4.07315071,  7.36845466,\n",
       "        5.93814189,  9.16246307,  5.66050893,  6.57740751,  7.61267333,\n",
       "        3.92291276,  4.91817651,  8.11319589,  6.46482069,  8.29787862,\n",
       "        8.22336669,  9.56017696,  6.44565258,  4.43407703,  5.4805214 ,\n",
       "        9.75515722,  9.693637  , 11.93779803,  7.14196102,  5.91981982,\n",
       "        5.87831839,  7.65999778,  5.01212086,  3.07391186,  8.42804573,\n",
       "        7.19396856,  8.30083592,  3.60513645,  5.22094955, 11.70829739,\n",
       "        6.24623972,  6.82019617,  8.29252402,  7.50326064, 10.17652751,\n",
       "        6.51021434,  5.00662102,  7.49737774,  8.38510667,  9.27870113,\n",
       "       10.25144409,  8.2451618 ,  8.83111715,  9.44232564,  7.50933033,\n",
       "       10.00737166,  6.96889615,  6.62789509,  7.96898562,  5.16918834,\n",
       "        8.25632882,  6.75857824,  6.27845021,  4.41610859,  7.70375626,\n",
       "        8.40567356,  8.44087738,  5.75521746,  7.44409728,  4.99904393,\n",
       "        9.24212875,  4.61262745,  6.59603424,  7.12269043,  7.21908048,\n",
       "        8.315533  ,  7.6159293 , 12.03137504,  4.07315071, 10.1164757 ,\n",
       "       10.01019061,  5.3833656 ,  8.5018979 ,  8.11417354,  9.04952987,\n",
       "        8.25632882,  8.32105556,  6.62408971,  6.50864692,  9.15774596,\n",
       "        8.63201241, 11.6379309 ,  9.1026456 ,  8.50634206,  7.77996116,\n",
       "        7.03860093,  7.28778097,  6.31814597,  3.9033126 ,  6.57932199,\n",
       "        4.42477625,  6.14557842,  6.24311346, 11.64327924,  4.96426206,\n",
       "        6.22849569,  9.87292189,  7.1363494 ,  5.10084823,  5.92530103,\n",
       "        8.81620491, 11.21007366,  5.49297878,  6.08021085,  6.67033068,\n",
       "        6.05934076,  9.52111438,  7.34421003,  9.29672944,  9.30699489,\n",
       "       11.02859253,  6.26993849,  9.77668736,  7.92444685,  5.10827206,\n",
       "        4.63491048,  6.53467115,  2.29983286,  7.75914571, 10.7819957 ,\n",
       "        5.60637525,  5.23355153,  3.75875308,  6.08889043,  8.16441552,\n",
       "        8.72268218,  6.94709573, 10.57172266,  6.1164425 ,  8.61727174,\n",
       "        8.28601989,  7.50551563,  6.30129768,  6.25485076,  7.61310838,\n",
       "        6.06005218,  6.43650358,  6.59499194,  8.61727174,  5.87808862,\n",
       "        6.5438192 ,  6.43826401, 10.75232417,  8.61959102,  7.39727449,\n",
       "        2.24038856,  8.04977978, 10.59375041,  8.43259828,  9.09633245,\n",
       "        8.55349814,  8.82316731,  7.6882787 ,  4.55675549, 10.49150504,\n",
       "        5.3256499 ,  6.78297578,  9.81012297,  5.55113113,  8.88824354,\n",
       "        7.38409967,  9.34973573,  9.55692503,  5.5309501 ,  5.78077986,\n",
       "        5.49662726,  6.17515712,  4.7604879 ,  7.20181252,  6.13040929,\n",
       "        6.30564054,  7.47606202,  5.79916472,  5.48635992,  7.21105663,\n",
       "        6.229298  ,  9.02547044,  5.75922979,  4.36219657,  7.96699812,\n",
       "        6.31814597, 10.61915466,  8.42804573,  4.59870941, 10.23978632,\n",
       "        7.00937544,  6.52498202,  4.4602987 ,  8.74580985,  9.09331195,\n",
       "        6.14419241,  7.33672871,  7.10765875,  8.73854789,  4.5427081 ,\n",
       "        7.55943496,  4.13105614,  4.93587072,  6.36042351,  9.93967387,\n",
       "        6.18230579,  6.28017073,  6.10932112,  1.58460337, 10.47605456,\n",
       "        8.70552862,  7.92356181, 11.72214628, 10.49831451,  6.50803683,\n",
       "       10.19128525,  5.46398391,  4.9669706 ,  7.16129109, 11.0623055 ,\n",
       "        9.99219186,  4.05129139,  6.55323118,  8.43674495,  1.94002514,\n",
       "        3.43955079,  6.39714482,  6.16981964,  7.44206768,  7.88386988])"
      ]
     },
     "execution_count": 173,
     "metadata": {},
     "output_type": "execute_result"
    }
   ],
   "source": [
    "#predictions on test data\n",
    "cat_boost = model.predict(X_real)\n",
    "cat_boost"
   ]
  },
  {
   "cell_type": "code",
   "execution_count": null,
   "metadata": {},
   "outputs": [],
   "source": []
  },
  {
   "cell_type": "markdown",
   "metadata": {},
   "source": [
    "."
   ]
  },
  {
   "cell_type": "markdown",
   "metadata": {},
   "source": [
    "FIGURES FOR MODELS"
   ]
  },
  {
   "cell_type": "code",
   "execution_count": 176,
   "metadata": {},
   "outputs": [
    {
     "data": {
      "image/png": "[encoded data removed]",
      "text/plain": [
       "<Figure size 1080x360 with 3 Axes>"
      ]
     },
     "metadata": {
      "needs_background": "light"
     },
     "output_type": "display_data"
    }
   ],
   "source": [
    "# Create figure and axes\n",
    "fig, ax = plt.subplots(figsize=(15,5), nrows=1, ncols=3, sharey=True)\n",
    "\n",
    "# Create list of titles and predictions to use in for loop\n",
    "pred = [dec_tree.predict(X_test), Lasso_model.predict(X_test), rand_forest.predict(X_test)]\n",
    "title = [ 'Decision Tree','Lasso Regression','Random Forest']\n",
    "\n",
    "# Loop through all axes to plot each model's results \n",
    "for i in range(3):\n",
    "    \n",
    "    rmse = round(np.sqrt(mean_squared_error(pred[i],y_test)))\n",
    "    ax[i].set_title(title[i]+\"  (RMSE: \"+str(rmse)+ \")\")\n",
    "    ax[i].set_xlabel('Actual')\n",
    "    ax[i].set_ylabel('Predicted')\n",
    "    ax[i].plot(y_test,y_test,'r')\n",
    "    ax[i].scatter(y_test,pred[i])"
   ]
  },
  {
   "cell_type": "code",
   "execution_count": 174,
   "metadata": {},
   "outputs": [],
   "source": [
    "# create submission dataframe\n",
    "# Create Dataframe of Order_No and Time from Pickup to Arrival\n",
    "submission = pd.DataFrame(\n",
    "    {'Index': test_ID,\n",
    "     'avg_price_per_kg': cat_boost\n",
    "    })\n",
    "\n",
    "submission.to_csv(\"Cat_B_Submissions.csv\", index=False)"
   ]
  },
  {
   "cell_type": "code",
   "execution_count": null,
   "metadata": {},
   "outputs": [],
   "source": []
  }
 ],
 "metadata": {
  "kernelspec": {
   "display_name": "Python 3",
   "language": "python",
   "name": "python3"
  },
  "language_info": {
   "codemirror_mode": {
    "name": "ipython",
    "version": 3
   },
   "file_extension": ".py",
   "mimetype": "text/x-python",
   "name": "python",
   "nbconvert_exporter": "python",
   "pygments_lexer": "ipython3",
   "version": "3.7.4"
  }
 },
 "nbformat": 4,
 "nbformat_minor": 2
}
